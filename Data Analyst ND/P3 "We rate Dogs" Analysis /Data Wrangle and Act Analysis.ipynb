{
 "cells": [
  {
   "cell_type": "markdown",
   "metadata": {},
   "source": [
    "# WeRateDogs Twitter "
   ]
  },
  {
   "cell_type": "markdown",
   "metadata": {},
   "source": [
    "---"
   ]
  },
  {
   "cell_type": "markdown",
   "metadata": {},
   "source": [
    "## Table of Contents\n",
    "<ul>\n",
    "<li><a href=\"#intro\">Introduction</a></li>\n",
    "<li><a href=\"#question\">Questions</a></li>    \n",
    "<li><a href=\"#gathering\">Data Gathering</a></li>\n",
    "<li><a href=\"#assessing\">Data Assessment</a></li>\n",
    "<li><a href=\"#cleaning\">Data Cleaning</a></li>\n",
    "<li><a href=\"#analyzevisualize\">Data Analysis and Visualisations</a></li>\n",
    "<li><a href=\"#report\">Final Report</a></li>\n",
    "</ul>"
   ]
  },
  {
   "cell_type": "markdown",
   "metadata": {},
   "source": [
    "---"
   ]
  },
  {
   "cell_type": "markdown",
   "metadata": {},
   "source": [
    "<a id='intro'></a>\n",
    "## Introduction"
   ]
  },
  {
   "cell_type": "markdown",
   "metadata": {},
   "source": [
    "The dataset that is used in this work is the tweet archive of Twitter user @dog_rates, also known as WeRateDogs. WeRateDogs is a Twitter account that rates people's dogs with a humorous comment about the dog. These ratings almost always have a denominator of 10. The numerators, though? Almost always greater than 10. 11/10, 12/10, 13/10, etc. Why? Because \"they're good dogs Brent.\" WeRateDogs has over 4 million followers and has received international media coverage.\n",
    "\n",
    "\n",
    "The goal is to create interesting and trustworthy analysis and visualizations. Here is a list of activities that are going to be performed here: \n",
    "* Gathering data from 3 different sources (abbreviation used DF1, DF2, DF3).\n",
    "* Assessing data to identify quality and tidiness issues. \n",
    "* Cleaning data, that includes activities: definition, coding, testing. \n",
    "* Storing, analysing, and visualising interesting insights.\n",
    "* Reporting on wrangling and data analysis efforts. "
   ]
  },
  {
   "cell_type": "markdown",
   "metadata": {},
   "source": [
    "---"
   ]
  },
  {
   "cell_type": "markdown",
   "metadata": {},
   "source": [
    "<a id='question'></a>\n",
    "## Questions"
   ]
  },
  {
   "cell_type": "markdown",
   "metadata": {},
   "source": [
    "The goal is to create interesting and trustworthy analysis and visualizations and search for the answers that could answer the following questions:\n",
    "* **What are the outcomes of image prediction algorithm?**\n",
    "* **How did the follower count change over the years?**\n",
    "* **How did twitting and retweeting likes change over the years?**\n",
    "* **Which tweet characteristics predict likes and retweeting?**"
   ]
  },
  {
   "cell_type": "markdown",
   "metadata": {},
   "source": [
    "---"
   ]
  },
  {
   "cell_type": "markdown",
   "metadata": {},
   "source": [
    "<a id='gathering'></a>\n",
    "## Data Gathering"
   ]
  },
  {
   "cell_type": "code",
   "execution_count": 1,
   "metadata": {},
   "outputs": [],
   "source": [
    "# import all packages and set plots to be embedded inline\n",
    "import pandas as pd\n",
    "from pandas import DataFrame as df\n",
    "import numpy as np\n",
    "import os\n",
    "import requests\n",
    "import json\n",
    "import tweepy\n",
    "from tweepy import OAuthHandler\n",
    "from timeit import default_timer as timer\n",
    "import seaborn as sb\n",
    "import matplotlib.pyplot as plt"
   ]
  },
  {
   "cell_type": "markdown",
   "metadata": {},
   "source": [
    "### DF1 - Load Image prediction data (tsv format)"
   ]
  },
  {
   "cell_type": "markdown",
   "metadata": {},
   "source": [
    "The tweet image predictions, i.e., what breed of dog (or other object, animal, etc.) is present in each tweet according to a neural network. This file is hosted on Udacity's servers and is downloaded programmatically using the Requests library and the following [URL](https://d17h27t6h515a5.cloudfront.net/topher/2017/August/599fd2ad_image-predictions/image-predictions.tsv).\n",
    "\n",
    "Dictionary of the attributes:\n",
    "* p1 is the algorithm's #1 prediction for the image in the tweet → golden retriever\n",
    "* p1_conf is how confident the algorithm is in its #1 prediction → 95%\n",
    "* p1_dog is whether or not the #1 prediction is a breed of dog → TRUE\n",
    "* p2 is the algorithm's second most likely prediction → Labrador retriever\n",
    "* p2_conf is how confident the algorithm is in its #2 prediction → 1%\n",
    "* p2_dog is whether or not the #2 prediction is a breed of dog → TRUE\n",
    "etc."
   ]
  },
  {
   "cell_type": "code",
   "execution_count": 2,
   "metadata": {},
   "outputs": [],
   "source": [
    "# Create a folder if it's not craeted\n",
    "folder_name = 'Dataset'\n",
    "if not os.path.exists(folder_name):\n",
    "    os.makedirs('Dataset')"
   ]
  },
  {
   "cell_type": "code",
   "execution_count": 3,
   "metadata": {},
   "outputs": [],
   "source": [
    "# Save link\n",
    "url='https://d17h27t6h515a5.cloudfront.net/topher/2017/August/599fd2ad_image-predictions/image-predictions.tsv'\n",
    "r = requests.get(url)"
   ]
  },
  {
   "cell_type": "code",
   "execution_count": 4,
   "metadata": {},
   "outputs": [],
   "source": [
    "# Save the content from the saved link\n",
    "with open(os.path.join(folder_name, url.split(\"/\")[-1]), mode = 'wb') as file:\n",
    "    file.write(r.content)"
   ]
  },
  {
   "cell_type": "code",
   "execution_count": 5,
   "metadata": {},
   "outputs": [
    {
     "data": {
      "text/plain": [
       "['twitter-archive-enhanced.csv',\n",
       " '.DS_Store',\n",
       " 'image-predictions.tsv',\n",
       " 'tweet_json.txt']"
      ]
     },
     "execution_count": 5,
     "metadata": {},
     "output_type": "execute_result"
    }
   ],
   "source": [
    "# Check Dataset repository\n",
    "os.listdir(folder_name)"
   ]
  },
  {
   "cell_type": "code",
   "execution_count": 6,
   "metadata": {},
   "outputs": [
    {
     "data": {
      "text/html": [
       "<div>\n",
       "<style scoped>\n",
       "    .dataframe tbody tr th:only-of-type {\n",
       "        vertical-align: middle;\n",
       "    }\n",
       "\n",
       "    .dataframe tbody tr th {\n",
       "        vertical-align: top;\n",
       "    }\n",
       "\n",
       "    .dataframe thead th {\n",
       "        text-align: right;\n",
       "    }\n",
       "</style>\n",
       "<table border=\"1\" class=\"dataframe\">\n",
       "  <thead>\n",
       "    <tr style=\"text-align: right;\">\n",
       "      <th></th>\n",
       "      <th>tweet_id</th>\n",
       "      <th>jpg_url</th>\n",
       "      <th>img_num</th>\n",
       "      <th>p1</th>\n",
       "      <th>p1_conf</th>\n",
       "      <th>p1_dog</th>\n",
       "      <th>p2</th>\n",
       "      <th>p2_conf</th>\n",
       "      <th>p2_dog</th>\n",
       "      <th>p3</th>\n",
       "      <th>p3_conf</th>\n",
       "      <th>p3_dog</th>\n",
       "    </tr>\n",
       "  </thead>\n",
       "  <tbody>\n",
       "    <tr>\n",
       "      <th>847</th>\n",
       "      <td>695409464418041856</td>\n",
       "      <td>https://pbs.twimg.com/media/CaaXN5LUYAEzAh-.jpg</td>\n",
       "      <td>1</td>\n",
       "      <td>pug</td>\n",
       "      <td>0.997445</td>\n",
       "      <td>True</td>\n",
       "      <td>bull_mastiff</td>\n",
       "      <td>0.001749</td>\n",
       "      <td>True</td>\n",
       "      <td>Pekinese</td>\n",
       "      <td>0.000304</td>\n",
       "      <td>True</td>\n",
       "    </tr>\n",
       "    <tr>\n",
       "      <th>1255</th>\n",
       "      <td>748346686624440324</td>\n",
       "      <td>https://pbs.twimg.com/media/CmKpVtlWAAEnyHm.jpg</td>\n",
       "      <td>1</td>\n",
       "      <td>borzoi</td>\n",
       "      <td>0.596455</td>\n",
       "      <td>True</td>\n",
       "      <td>whippet</td>\n",
       "      <td>0.231428</td>\n",
       "      <td>True</td>\n",
       "      <td>Saluki</td>\n",
       "      <td>0.058261</td>\n",
       "      <td>True</td>\n",
       "    </tr>\n",
       "    <tr>\n",
       "      <th>413</th>\n",
       "      <td>673956914389192708</td>\n",
       "      <td>https://pbs.twimg.com/media/CVpgPGwWoAEV7gG.jpg</td>\n",
       "      <td>1</td>\n",
       "      <td>pug</td>\n",
       "      <td>0.586161</td>\n",
       "      <td>True</td>\n",
       "      <td>Brabancon_griffon</td>\n",
       "      <td>0.082744</td>\n",
       "      <td>True</td>\n",
       "      <td>Chihuahua</td>\n",
       "      <td>0.045878</td>\n",
       "      <td>True</td>\n",
       "    </tr>\n",
       "    <tr>\n",
       "      <th>1952</th>\n",
       "      <td>863553081350529029</td>\n",
       "      <td>https://pbs.twimg.com/ext_tw_video_thumb/86355...</td>\n",
       "      <td>1</td>\n",
       "      <td>Eskimo_dog</td>\n",
       "      <td>0.413330</td>\n",
       "      <td>True</td>\n",
       "      <td>malamute</td>\n",
       "      <td>0.347646</td>\n",
       "      <td>True</td>\n",
       "      <td>Siberian_husky</td>\n",
       "      <td>0.149536</td>\n",
       "      <td>True</td>\n",
       "    </tr>\n",
       "    <tr>\n",
       "      <th>1152</th>\n",
       "      <td>732585889486888962</td>\n",
       "      <td>https://pbs.twimg.com/media/Ciqq-VFUUAANlWm.jpg</td>\n",
       "      <td>2</td>\n",
       "      <td>Staffordshire_bullterrier</td>\n",
       "      <td>0.843359</td>\n",
       "      <td>True</td>\n",
       "      <td>American_Staffordshire_terrier</td>\n",
       "      <td>0.028290</td>\n",
       "      <td>True</td>\n",
       "      <td>miniature_pinscher</td>\n",
       "      <td>0.016793</td>\n",
       "      <td>True</td>\n",
       "    </tr>\n",
       "  </tbody>\n",
       "</table>\n",
       "</div>"
      ],
      "text/plain": [
       "                tweet_id                                            jpg_url  \\\n",
       "847   695409464418041856    https://pbs.twimg.com/media/CaaXN5LUYAEzAh-.jpg   \n",
       "1255  748346686624440324    https://pbs.twimg.com/media/CmKpVtlWAAEnyHm.jpg   \n",
       "413   673956914389192708    https://pbs.twimg.com/media/CVpgPGwWoAEV7gG.jpg   \n",
       "1952  863553081350529029  https://pbs.twimg.com/ext_tw_video_thumb/86355...   \n",
       "1152  732585889486888962    https://pbs.twimg.com/media/Ciqq-VFUUAANlWm.jpg   \n",
       "\n",
       "      img_num                         p1   p1_conf  p1_dog  \\\n",
       "847         1                        pug  0.997445    True   \n",
       "1255        1                     borzoi  0.596455    True   \n",
       "413         1                        pug  0.586161    True   \n",
       "1952        1                 Eskimo_dog  0.413330    True   \n",
       "1152        2  Staffordshire_bullterrier  0.843359    True   \n",
       "\n",
       "                                  p2   p2_conf  p2_dog                  p3  \\\n",
       "847                     bull_mastiff  0.001749    True            Pekinese   \n",
       "1255                         whippet  0.231428    True              Saluki   \n",
       "413                Brabancon_griffon  0.082744    True           Chihuahua   \n",
       "1952                        malamute  0.347646    True      Siberian_husky   \n",
       "1152  American_Staffordshire_terrier  0.028290    True  miniature_pinscher   \n",
       "\n",
       "       p3_conf  p3_dog  \n",
       "847   0.000304    True  \n",
       "1255  0.058261    True  \n",
       "413   0.045878    True  \n",
       "1952  0.149536    True  \n",
       "1152  0.016793    True  "
      ]
     },
     "execution_count": 6,
     "metadata": {},
     "output_type": "execute_result"
    }
   ],
   "source": [
    "# Load Image Prediction into Pandas DataFrame\n",
    "df1=pd.read_csv('Dataset/image-predictions.tsv', sep='\\t')\n",
    "df1.sample(5)"
   ]
  },
  {
   "cell_type": "markdown",
   "metadata": {},
   "source": [
    "### DF2 - Load Twitter Archive data (csv format)"
   ]
  },
  {
   "cell_type": "markdown",
   "metadata": {},
   "source": [
    "The WeRateDogs Twitter archive data file is given, therefore I'm downloading file manually and uploading into the pandas DataFrame."
   ]
  },
  {
   "cell_type": "code",
   "execution_count": 7,
   "metadata": {},
   "outputs": [
    {
     "data": {
      "text/html": [
       "<div>\n",
       "<style scoped>\n",
       "    .dataframe tbody tr th:only-of-type {\n",
       "        vertical-align: middle;\n",
       "    }\n",
       "\n",
       "    .dataframe tbody tr th {\n",
       "        vertical-align: top;\n",
       "    }\n",
       "\n",
       "    .dataframe thead th {\n",
       "        text-align: right;\n",
       "    }\n",
       "</style>\n",
       "<table border=\"1\" class=\"dataframe\">\n",
       "  <thead>\n",
       "    <tr style=\"text-align: right;\">\n",
       "      <th></th>\n",
       "      <th>tweet_id</th>\n",
       "      <th>in_reply_to_status_id</th>\n",
       "      <th>in_reply_to_user_id</th>\n",
       "      <th>timestamp</th>\n",
       "      <th>source</th>\n",
       "      <th>text</th>\n",
       "      <th>retweeted_status_id</th>\n",
       "      <th>retweeted_status_user_id</th>\n",
       "      <th>retweeted_status_timestamp</th>\n",
       "      <th>expanded_urls</th>\n",
       "      <th>rating_numerator</th>\n",
       "      <th>rating_denominator</th>\n",
       "      <th>name</th>\n",
       "      <th>doggo</th>\n",
       "      <th>floofer</th>\n",
       "      <th>pupper</th>\n",
       "      <th>puppo</th>\n",
       "    </tr>\n",
       "  </thead>\n",
       "  <tbody>\n",
       "    <tr>\n",
       "      <th>1245</th>\n",
       "      <td>711732680602345472</td>\n",
       "      <td>NaN</td>\n",
       "      <td>NaN</td>\n",
       "      <td>2016-03-21 01:54:29 +0000</td>\n",
       "      <td>&lt;a href=\"http://twitter.com/download/iphone\" r...</td>\n",
       "      <td>I want to hear the joke this dog was just told...</td>\n",
       "      <td>NaN</td>\n",
       "      <td>NaN</td>\n",
       "      <td>NaN</td>\n",
       "      <td>https://twitter.com/dog_rates/status/711732680...</td>\n",
       "      <td>10</td>\n",
       "      <td>10</td>\n",
       "      <td>None</td>\n",
       "      <td>None</td>\n",
       "      <td>None</td>\n",
       "      <td>None</td>\n",
       "      <td>None</td>\n",
       "    </tr>\n",
       "  </tbody>\n",
       "</table>\n",
       "</div>"
      ],
      "text/plain": [
       "                tweet_id  in_reply_to_status_id  in_reply_to_user_id  \\\n",
       "1245  711732680602345472                    NaN                  NaN   \n",
       "\n",
       "                      timestamp  \\\n",
       "1245  2016-03-21 01:54:29 +0000   \n",
       "\n",
       "                                                 source  \\\n",
       "1245  <a href=\"http://twitter.com/download/iphone\" r...   \n",
       "\n",
       "                                                   text  retweeted_status_id  \\\n",
       "1245  I want to hear the joke this dog was just told...                  NaN   \n",
       "\n",
       "      retweeted_status_user_id retweeted_status_timestamp  \\\n",
       "1245                       NaN                        NaN   \n",
       "\n",
       "                                          expanded_urls  rating_numerator  \\\n",
       "1245  https://twitter.com/dog_rates/status/711732680...                10   \n",
       "\n",
       "      rating_denominator  name doggo floofer pupper puppo  \n",
       "1245                  10  None  None    None   None  None  "
      ]
     },
     "execution_count": 7,
     "metadata": {},
     "output_type": "execute_result"
    }
   ],
   "source": [
    "df2=pd.read_csv('Dataset/twitter-archive-enhanced.csv')\n",
    "df2.sample()"
   ]
  },
  {
   "cell_type": "markdown",
   "metadata": {},
   "source": [
    "### DF3 - Load Twitter API data (json format)"
   ]
  },
  {
   "cell_type": "markdown",
   "metadata": {},
   "source": [
    "Using the tweet IDs in the WeRateDogs Twitter archive, I'm query the Twitter API for each tweet's JSON data using Python's Tweepy library and store each tweet's entire set of JSON data in a file called tweet_json.txt file. Each tweet's JSON data should be written to its own line. Then read this .txt file line by line into a pandas DataFrame with (at minimum) tweet ID, retweet count, and favorite count. \n",
    "\n",
    "Additional information: [pandas API reference](https://pandas.pydata.org/pandas-docs/stable/api.html) for detailed usage information."
   ]
  },
  {
   "cell_type": "markdown",
   "metadata": {},
   "source": [
    "#### Query via API and save respond to txt"
   ]
  },
  {
   "cell_type": "code",
   "execution_count": null,
   "metadata": {},
   "outputs": [],
   "source": [
    "# Query Twitter API for each tweet in the Twitter archive and save JSON in a text file\n",
    "# These are hidden to comply with Twitter's API terms and conditions\n",
    "consumer_key = 'HIDDEN'\n",
    "consumer_secret = 'HIDDEN'\n",
    "access_token = 'HIDDEN'\n",
    "access_secret = 'HIDDEN'\n",
    "\n",
    "auth = OAuthHandler(consumer_key, consumer_secret)\n",
    "auth.set_access_token(access_token, access_secret)\n",
    "\n",
    "api = tweepy.API(auth, wait_on_rate_limit=True)\n",
    "\n",
    "tweet_ids = df2.tweet_id.values\n",
    "len(tweet_ids)\n",
    "\n",
    "# Query Twitter's API for JSON data for each tweet ID in the Twitter archive\n",
    "count = 0\n",
    "fails_dict = {}\n",
    "start = timer()\n",
    "# Save each tweet's returned JSON as a new line in a .txt file\n",
    "with open('Dataset/tweet_json.txt', 'w') as outfile:\n",
    "    # This loop will likely take 20-30 minutes to run because of Twitter's rate limit\n",
    "    for tweet_id in tweet_ids:\n",
    "        count += 1\n",
    "        print(str(count) + \": \" + str(tweet_id))\n",
    "        try:\n",
    "            tweet = api.get_status(tweet_id, tweet_mode='extended')\n",
    "            print(\"Success\")\n",
    "            json.dump(tweet_json, outfile)\n",
    "            outfile.write('\\n')\n",
    "        except tweepy.TweepError as e:\n",
    "            print(\"Fail\")\n",
    "            fails_dict[tweet_id] = e\n",
    "            pass\n",
    "end = timer()\n",
    "print(end - start)\n",
    "print(fails_dict)"
   ]
  },
  {
   "cell_type": "markdown",
   "metadata": {},
   "source": [
    "#### Read API data line by line\n",
    "\n",
    "Here we read the txt file line by line and store values into a list object. "
   ]
  },
  {
   "cell_type": "code",
   "execution_count": 8,
   "metadata": {},
   "outputs": [
    {
     "name": "stdout",
     "output_type": "stream",
     "text": [
      "Failed:0\n"
     ]
    }
   ],
   "source": [
    "# Read line by line and save into a list\n",
    "count=0\n",
    "tweets_data = []\n",
    "inputfile=open('Dataset/tweet_json.txt', \"r\")\n",
    "for line in inputfile:\n",
    "    try:\n",
    "        tweet = json.loads(line)\n",
    "        tweets_data.append(tweet)\n",
    "    except: \n",
    "        count+=1\n",
    "        continue\n",
    "print('Failed:{}'.format(count))"
   ]
  },
  {
   "cell_type": "markdown",
   "metadata": {},
   "source": [
    "#### Check json structure\n",
    "Pandas DataFrame function allows me to load the list object and to have a quick overview of the data structure and data types. \n",
    "However this data load approach does not comply with the data tidiness requirements, that are :\n",
    "* Each variable forms a column\n",
    "* Each observation forms a row\n",
    "* Each observational unit forms a table"
   ]
  },
  {
   "cell_type": "code",
   "execution_count": 9,
   "metadata": {},
   "outputs": [],
   "source": [
    "review=pd.DataFrame(tweets_data)"
   ]
  },
  {
   "cell_type": "code",
   "execution_count": 10,
   "metadata": {},
   "outputs": [
    {
     "data": {
      "text/html": [
       "<div>\n",
       "<style scoped>\n",
       "    .dataframe tbody tr th:only-of-type {\n",
       "        vertical-align: middle;\n",
       "    }\n",
       "\n",
       "    .dataframe tbody tr th {\n",
       "        vertical-align: top;\n",
       "    }\n",
       "\n",
       "    .dataframe thead th {\n",
       "        text-align: right;\n",
       "    }\n",
       "</style>\n",
       "<table border=\"1\" class=\"dataframe\">\n",
       "  <thead>\n",
       "    <tr style=\"text-align: right;\">\n",
       "      <th></th>\n",
       "      <th>contributors</th>\n",
       "      <th>coordinates</th>\n",
       "      <th>created_at</th>\n",
       "      <th>display_text_range</th>\n",
       "      <th>entities</th>\n",
       "      <th>extended_entities</th>\n",
       "      <th>favorite_count</th>\n",
       "      <th>favorited</th>\n",
       "      <th>full_text</th>\n",
       "      <th>geo</th>\n",
       "      <th>...</th>\n",
       "      <th>possibly_sensitive_appealable</th>\n",
       "      <th>quoted_status</th>\n",
       "      <th>quoted_status_id</th>\n",
       "      <th>quoted_status_id_str</th>\n",
       "      <th>retweet_count</th>\n",
       "      <th>retweeted</th>\n",
       "      <th>retweeted_status</th>\n",
       "      <th>source</th>\n",
       "      <th>truncated</th>\n",
       "      <th>user</th>\n",
       "    </tr>\n",
       "  </thead>\n",
       "  <tbody>\n",
       "    <tr>\n",
       "      <th>0</th>\n",
       "      <td>None</td>\n",
       "      <td>None</td>\n",
       "      <td>Tue Aug 01 16:23:56 +0000 2017</td>\n",
       "      <td>[0, 85]</td>\n",
       "      <td>{'hashtags': [], 'symbols': [], 'user_mentions...</td>\n",
       "      <td>{'media': [{'id': 892420639486877696, 'id_str'...</td>\n",
       "      <td>39467</td>\n",
       "      <td>False</td>\n",
       "      <td>This is Phineas. He's a mystical boy. Only eve...</td>\n",
       "      <td>None</td>\n",
       "      <td>...</td>\n",
       "      <td>False</td>\n",
       "      <td>NaN</td>\n",
       "      <td>NaN</td>\n",
       "      <td>NaN</td>\n",
       "      <td>8853</td>\n",
       "      <td>False</td>\n",
       "      <td>NaN</td>\n",
       "      <td>&lt;a href=\"http://twitter.com/download/iphone\" r...</td>\n",
       "      <td>False</td>\n",
       "      <td>{'id': 4196983835, 'id_str': '4196983835', 'na...</td>\n",
       "    </tr>\n",
       "    <tr>\n",
       "      <th>1</th>\n",
       "      <td>None</td>\n",
       "      <td>None</td>\n",
       "      <td>Tue Aug 01 00:17:27 +0000 2017</td>\n",
       "      <td>[0, 138]</td>\n",
       "      <td>{'hashtags': [], 'symbols': [], 'user_mentions...</td>\n",
       "      <td>{'media': [{'id': 892177413194625024, 'id_str'...</td>\n",
       "      <td>33819</td>\n",
       "      <td>False</td>\n",
       "      <td>This is Tilly. She's just checking pup on you....</td>\n",
       "      <td>None</td>\n",
       "      <td>...</td>\n",
       "      <td>False</td>\n",
       "      <td>NaN</td>\n",
       "      <td>NaN</td>\n",
       "      <td>NaN</td>\n",
       "      <td>6514</td>\n",
       "      <td>False</td>\n",
       "      <td>NaN</td>\n",
       "      <td>&lt;a href=\"http://twitter.com/download/iphone\" r...</td>\n",
       "      <td>False</td>\n",
       "      <td>{'id': 4196983835, 'id_str': '4196983835', 'na...</td>\n",
       "    </tr>\n",
       "  </tbody>\n",
       "</table>\n",
       "<p>2 rows × 31 columns</p>\n",
       "</div>"
      ],
      "text/plain": [
       "  contributors coordinates                      created_at display_text_range  \\\n",
       "0         None        None  Tue Aug 01 16:23:56 +0000 2017            [0, 85]   \n",
       "1         None        None  Tue Aug 01 00:17:27 +0000 2017           [0, 138]   \n",
       "\n",
       "                                            entities  \\\n",
       "0  {'hashtags': [], 'symbols': [], 'user_mentions...   \n",
       "1  {'hashtags': [], 'symbols': [], 'user_mentions...   \n",
       "\n",
       "                                   extended_entities  favorite_count  \\\n",
       "0  {'media': [{'id': 892420639486877696, 'id_str'...           39467   \n",
       "1  {'media': [{'id': 892177413194625024, 'id_str'...           33819   \n",
       "\n",
       "   favorited                                          full_text   geo  \\\n",
       "0      False  This is Phineas. He's a mystical boy. Only eve...  None   \n",
       "1      False  This is Tilly. She's just checking pup on you....  None   \n",
       "\n",
       "                         ...                          \\\n",
       "0                        ...                           \n",
       "1                        ...                           \n",
       "\n",
       "   possibly_sensitive_appealable quoted_status quoted_status_id  \\\n",
       "0                          False           NaN              NaN   \n",
       "1                          False           NaN              NaN   \n",
       "\n",
       "   quoted_status_id_str retweet_count  retweeted retweeted_status  \\\n",
       "0                   NaN          8853      False              NaN   \n",
       "1                   NaN          6514      False              NaN   \n",
       "\n",
       "                                              source truncated  \\\n",
       "0  <a href=\"http://twitter.com/download/iphone\" r...     False   \n",
       "1  <a href=\"http://twitter.com/download/iphone\" r...     False   \n",
       "\n",
       "                                                user  \n",
       "0  {'id': 4196983835, 'id_str': '4196983835', 'na...  \n",
       "1  {'id': 4196983835, 'id_str': '4196983835', 'na...  \n",
       "\n",
       "[2 rows x 31 columns]"
      ]
     },
     "execution_count": 10,
     "metadata": {},
     "output_type": "execute_result"
    }
   ],
   "source": [
    "# Have an overview of data structure and data types\n",
    "review.head(2)"
   ]
  },
  {
   "cell_type": "code",
   "execution_count": 11,
   "metadata": {},
   "outputs": [
    {
     "data": {
      "text/plain": [
       "{'hashtags': [],\n",
       " 'symbols': [],\n",
       " 'user_mentions': [],\n",
       " 'urls': [],\n",
       " 'media': [{'id': 892420639486877696,\n",
       "   'id_str': '892420639486877696',\n",
       "   'indices': [86, 109],\n",
       "   'media_url': 'http://pbs.twimg.com/media/DGKD1-bXoAAIAUK.jpg',\n",
       "   'media_url_https': 'https://pbs.twimg.com/media/DGKD1-bXoAAIAUK.jpg',\n",
       "   'url': 'https://t.co/MgUWQ76dJU',\n",
       "   'display_url': 'pic.twitter.com/MgUWQ76dJU',\n",
       "   'expanded_url': 'https://twitter.com/dog_rates/status/892420643555336193/photo/1',\n",
       "   'type': 'photo',\n",
       "   'sizes': {'large': {'w': 540, 'h': 528, 'resize': 'fit'},\n",
       "    'thumb': {'w': 150, 'h': 150, 'resize': 'crop'},\n",
       "    'small': {'w': 540, 'h': 528, 'resize': 'fit'},\n",
       "    'medium': {'w': 540, 'h': 528, 'resize': 'fit'}}}]}"
      ]
     },
     "execution_count": 11,
     "metadata": {},
     "output_type": "execute_result"
    }
   ],
   "source": [
    "# An overview of a specific variable\n",
    "review.entities[0]"
   ]
  },
  {
   "cell_type": "markdown",
   "metadata": {},
   "source": [
    "#### Select the attributes and save into DF3\n",
    "\n",
    "Here I'm specifying the attributes of my interest and loading into pandas DataFrame."
   ]
  },
  {
   "cell_type": "code",
   "execution_count": 12,
   "metadata": {},
   "outputs": [],
   "source": [
    "# Had to add a dummy dictionary for the empty list, so that I could grab Hashtags when it has a value.\n",
    "for tweet in tweets_data:\n",
    "    if tweet['entities']['hashtags'] == []:\n",
    "        tweet['entities']['hashtags'] = [{'text': '', 'indices':[]}]"
   ]
  },
  {
   "cell_type": "code",
   "execution_count": 13,
   "metadata": {},
   "outputs": [
    {
     "data": {
      "text/html": [
       "<div>\n",
       "<style scoped>\n",
       "    .dataframe tbody tr th:only-of-type {\n",
       "        vertical-align: middle;\n",
       "    }\n",
       "\n",
       "    .dataframe tbody tr th {\n",
       "        vertical-align: top;\n",
       "    }\n",
       "\n",
       "    .dataframe thead th {\n",
       "        text-align: right;\n",
       "    }\n",
       "</style>\n",
       "<table border=\"1\" class=\"dataframe\">\n",
       "  <thead>\n",
       "    <tr style=\"text-align: right;\">\n",
       "      <th></th>\n",
       "      <th>retweet_count</th>\n",
       "      <th>retweeted</th>\n",
       "      <th>tweet_favourite_count</th>\n",
       "      <th>tweet_hashtags</th>\n",
       "      <th>tweet_id</th>\n",
       "      <th>user_favourites_count</th>\n",
       "      <th>user_followers_count</th>\n",
       "      <th>user_friends_count</th>\n",
       "      <th>user_id</th>\n",
       "      <th>user_listed_count</th>\n",
       "      <th>user_statuses_count</th>\n",
       "    </tr>\n",
       "  </thead>\n",
       "  <tbody>\n",
       "    <tr>\n",
       "      <th>0</th>\n",
       "      <td>8853</td>\n",
       "      <td>False</td>\n",
       "      <td>39467</td>\n",
       "      <td></td>\n",
       "      <td>892420643555336193</td>\n",
       "      <td>114031</td>\n",
       "      <td>3200889</td>\n",
       "      <td>104</td>\n",
       "      <td>4196983835</td>\n",
       "      <td>2784</td>\n",
       "      <td>5288</td>\n",
       "    </tr>\n",
       "    <tr>\n",
       "      <th>1</th>\n",
       "      <td>6514</td>\n",
       "      <td>False</td>\n",
       "      <td>33819</td>\n",
       "      <td></td>\n",
       "      <td>892177421306343426</td>\n",
       "      <td>114031</td>\n",
       "      <td>3200889</td>\n",
       "      <td>104</td>\n",
       "      <td>4196983835</td>\n",
       "      <td>2784</td>\n",
       "      <td>5288</td>\n",
       "    </tr>\n",
       "  </tbody>\n",
       "</table>\n",
       "</div>"
      ],
      "text/plain": [
       "   retweet_count  retweeted  tweet_favourite_count tweet_hashtags  \\\n",
       "0           8853      False                  39467                  \n",
       "1           6514      False                  33819                  \n",
       "\n",
       "             tweet_id  user_favourites_count  user_followers_count  \\\n",
       "0  892420643555336193                 114031               3200889   \n",
       "1  892177421306343426                 114031               3200889   \n",
       "\n",
       "   user_friends_count     user_id  user_listed_count  user_statuses_count  \n",
       "0                 104  4196983835               2784                 5288  \n",
       "1                 104  4196983835               2784                 5288  "
      ]
     },
     "execution_count": 13,
     "metadata": {},
     "output_type": "execute_result"
    }
   ],
   "source": [
    "# Grab the specified attributes and load into pandas DataFrame\n",
    "d = []\n",
    "for tweet in tweets_data:\n",
    "    d.append({\n",
    "        'tweet_id': tweet['id'],\n",
    "        'tweet_favourite_count' : tweet['favorite_count'],\n",
    "        'tweet_hashtags' : tweet['entities']['hashtags'][0]['text'],\n",
    "        'retweet_count' : tweet['retweet_count'],\n",
    "        'retweeted' : tweet['retweeted'],\n",
    "        'user_id': tweet['user']['id'],\n",
    "        'user_followers_count': tweet['user']['followers_count'],\n",
    "        'user_friends_count': tweet['user']['friends_count'],\n",
    "        'user_listed_count': tweet['user']['listed_count'],\n",
    "        'user_favourites_count': tweet['user']['favourites_count'],\n",
    "        'user_statuses_count': tweet['user']['statuses_count'],\n",
    "    })\n",
    "\n",
    "df3=pd.DataFrame(d)\n",
    "df3.head(2)"
   ]
  },
  {
   "cell_type": "markdown",
   "metadata": {},
   "source": [
    "### Data Gathering Summary \n",
    "> * All 3 data sources are loaded\n",
    "> * DataFrames are named accorfingly DF1, DF2, DF3. "
   ]
  },
  {
   "cell_type": "markdown",
   "metadata": {},
   "source": [
    "---"
   ]
  },
  {
   "cell_type": "markdown",
   "metadata": {},
   "source": [
    "<a id='assessing'></a>\n",
    "## Data Assessment"
   ]
  },
  {
   "cell_type": "markdown",
   "metadata": {},
   "source": [
    "After gathering each of the above pieces of data, requires assessment that is done visually and programmatically. \n",
    "There are two types of unclean data concepts:\n",
    "* **Dirty data**, also known as **low quality data**. Low quality data has **content issues**.\n",
    "* **Messy data**, also known as **untidy data**. Untidy data has **structural issues**.\n",
    "\n",
    "Identified quality and tidiness issues are documented in the summaries. "
   ]
  },
  {
   "cell_type": "markdown",
   "metadata": {},
   "source": [
    "### DF1 - Image prediction DataFrame"
   ]
  },
  {
   "cell_type": "code",
   "execution_count": 14,
   "metadata": {
    "scrolled": true
   },
   "outputs": [
    {
     "data": {
      "text/html": [
       "<div>\n",
       "<style scoped>\n",
       "    .dataframe tbody tr th:only-of-type {\n",
       "        vertical-align: middle;\n",
       "    }\n",
       "\n",
       "    .dataframe tbody tr th {\n",
       "        vertical-align: top;\n",
       "    }\n",
       "\n",
       "    .dataframe thead th {\n",
       "        text-align: right;\n",
       "    }\n",
       "</style>\n",
       "<table border=\"1\" class=\"dataframe\">\n",
       "  <thead>\n",
       "    <tr style=\"text-align: right;\">\n",
       "      <th></th>\n",
       "      <th>tweet_id</th>\n",
       "      <th>jpg_url</th>\n",
       "      <th>img_num</th>\n",
       "      <th>p1</th>\n",
       "      <th>p1_conf</th>\n",
       "      <th>p1_dog</th>\n",
       "      <th>p2</th>\n",
       "      <th>p2_conf</th>\n",
       "      <th>p2_dog</th>\n",
       "      <th>p3</th>\n",
       "      <th>p3_conf</th>\n",
       "      <th>p3_dog</th>\n",
       "    </tr>\n",
       "  </thead>\n",
       "  <tbody>\n",
       "    <tr>\n",
       "      <th>1785</th>\n",
       "      <td>829374341691346946</td>\n",
       "      <td>https://pbs.twimg.com/media/C4KHj-nWQAA3poV.jpg</td>\n",
       "      <td>1</td>\n",
       "      <td>Staffordshire_bullterrier</td>\n",
       "      <td>0.757547</td>\n",
       "      <td>True</td>\n",
       "      <td>American_Staffordshire_terrier</td>\n",
       "      <td>0.149950</td>\n",
       "      <td>True</td>\n",
       "      <td>Chesapeake_Bay_retriever</td>\n",
       "      <td>0.047523</td>\n",
       "      <td>True</td>\n",
       "    </tr>\n",
       "    <tr>\n",
       "      <th>792</th>\n",
       "      <td>690728923253055490</td>\n",
       "      <td>https://pbs.twimg.com/media/CZX2SxaXEAEcnR6.jpg</td>\n",
       "      <td>1</td>\n",
       "      <td>kuvasz</td>\n",
       "      <td>0.422806</td>\n",
       "      <td>True</td>\n",
       "      <td>golden_retriever</td>\n",
       "      <td>0.291586</td>\n",
       "      <td>True</td>\n",
       "      <td>Great_Pyrenees</td>\n",
       "      <td>0.076189</td>\n",
       "      <td>True</td>\n",
       "    </tr>\n",
       "    <tr>\n",
       "      <th>204</th>\n",
       "      <td>669753178989142016</td>\n",
       "      <td>https://pbs.twimg.com/media/CUtw9SAVEAAtFUN.jpg</td>\n",
       "      <td>1</td>\n",
       "      <td>Pembroke</td>\n",
       "      <td>0.858494</td>\n",
       "      <td>True</td>\n",
       "      <td>hamster</td>\n",
       "      <td>0.026319</td>\n",
       "      <td>False</td>\n",
       "      <td>Shetland_sheepdog</td>\n",
       "      <td>0.022405</td>\n",
       "      <td>True</td>\n",
       "    </tr>\n",
       "  </tbody>\n",
       "</table>\n",
       "</div>"
      ],
      "text/plain": [
       "                tweet_id                                          jpg_url  \\\n",
       "1785  829374341691346946  https://pbs.twimg.com/media/C4KHj-nWQAA3poV.jpg   \n",
       "792   690728923253055490  https://pbs.twimg.com/media/CZX2SxaXEAEcnR6.jpg   \n",
       "204   669753178989142016  https://pbs.twimg.com/media/CUtw9SAVEAAtFUN.jpg   \n",
       "\n",
       "      img_num                         p1   p1_conf  p1_dog  \\\n",
       "1785        1  Staffordshire_bullterrier  0.757547    True   \n",
       "792         1                     kuvasz  0.422806    True   \n",
       "204         1                   Pembroke  0.858494    True   \n",
       "\n",
       "                                  p2   p2_conf  p2_dog  \\\n",
       "1785  American_Staffordshire_terrier  0.149950    True   \n",
       "792                 golden_retriever  0.291586    True   \n",
       "204                          hamster  0.026319   False   \n",
       "\n",
       "                            p3   p3_conf  p3_dog  \n",
       "1785  Chesapeake_Bay_retriever  0.047523    True  \n",
       "792             Great_Pyrenees  0.076189    True  \n",
       "204          Shetland_sheepdog  0.022405    True  "
      ]
     },
     "execution_count": 14,
     "metadata": {},
     "output_type": "execute_result"
    }
   ],
   "source": [
    "# Assessing data visually\n",
    "df1.sample(3)"
   ]
  },
  {
   "cell_type": "code",
   "execution_count": 15,
   "metadata": {},
   "outputs": [
    {
     "name": "stdout",
     "output_type": "stream",
     "text": [
      "<class 'pandas.core.frame.DataFrame'>\n",
      "RangeIndex: 2075 entries, 0 to 2074\n",
      "Data columns (total 12 columns):\n",
      "tweet_id    2075 non-null int64\n",
      "jpg_url     2075 non-null object\n",
      "img_num     2075 non-null int64\n",
      "p1          2075 non-null object\n",
      "p1_conf     2075 non-null float64\n",
      "p1_dog      2075 non-null bool\n",
      "p2          2075 non-null object\n",
      "p2_conf     2075 non-null float64\n",
      "p2_dog      2075 non-null bool\n",
      "p3          2075 non-null object\n",
      "p3_conf     2075 non-null float64\n",
      "p3_dog      2075 non-null bool\n",
      "dtypes: bool(3), float64(3), int64(2), object(4)\n",
      "memory usage: 152.1+ KB\n"
     ]
    }
   ],
   "source": [
    "# Assessing data programatically\n",
    "df1.info()"
   ]
  },
  {
   "cell_type": "code",
   "execution_count": 16,
   "metadata": {},
   "outputs": [
    {
     "data": {
      "text/plain": [
       "tweet_id    2075\n",
       "jpg_url     2009\n",
       "img_num        4\n",
       "p1           378\n",
       "p1_conf     2006\n",
       "p1_dog         2\n",
       "p2           405\n",
       "p2_conf     2004\n",
       "p2_dog         2\n",
       "p3           408\n",
       "p3_conf     2006\n",
       "p3_dog         2\n",
       "dtype: int64"
      ]
     },
     "execution_count": 16,
     "metadata": {},
     "output_type": "execute_result"
    }
   ],
   "source": [
    "# Counting unique values\n",
    "df1.nunique()"
   ]
  },
  {
   "cell_type": "code",
   "execution_count": 17,
   "metadata": {},
   "outputs": [
    {
     "data": {
      "text/html": [
       "<div>\n",
       "<style scoped>\n",
       "    .dataframe tbody tr th:only-of-type {\n",
       "        vertical-align: middle;\n",
       "    }\n",
       "\n",
       "    .dataframe tbody tr th {\n",
       "        vertical-align: top;\n",
       "    }\n",
       "\n",
       "    .dataframe thead th {\n",
       "        text-align: right;\n",
       "    }\n",
       "</style>\n",
       "<table border=\"1\" class=\"dataframe\">\n",
       "  <thead>\n",
       "    <tr style=\"text-align: right;\">\n",
       "      <th></th>\n",
       "      <th>tweet_id</th>\n",
       "      <th>img_num</th>\n",
       "      <th>p1_conf</th>\n",
       "      <th>p2_conf</th>\n",
       "      <th>p3_conf</th>\n",
       "    </tr>\n",
       "  </thead>\n",
       "  <tbody>\n",
       "    <tr>\n",
       "      <th>count</th>\n",
       "      <td>2.075000e+03</td>\n",
       "      <td>2075.000000</td>\n",
       "      <td>2075.000000</td>\n",
       "      <td>2.075000e+03</td>\n",
       "      <td>2.075000e+03</td>\n",
       "    </tr>\n",
       "    <tr>\n",
       "      <th>mean</th>\n",
       "      <td>7.384514e+17</td>\n",
       "      <td>1.203855</td>\n",
       "      <td>0.594548</td>\n",
       "      <td>1.345886e-01</td>\n",
       "      <td>6.032417e-02</td>\n",
       "    </tr>\n",
       "    <tr>\n",
       "      <th>std</th>\n",
       "      <td>6.785203e+16</td>\n",
       "      <td>0.561875</td>\n",
       "      <td>0.271174</td>\n",
       "      <td>1.006657e-01</td>\n",
       "      <td>5.090593e-02</td>\n",
       "    </tr>\n",
       "    <tr>\n",
       "      <th>min</th>\n",
       "      <td>6.660209e+17</td>\n",
       "      <td>1.000000</td>\n",
       "      <td>0.044333</td>\n",
       "      <td>1.011300e-08</td>\n",
       "      <td>1.740170e-10</td>\n",
       "    </tr>\n",
       "    <tr>\n",
       "      <th>25%</th>\n",
       "      <td>6.764835e+17</td>\n",
       "      <td>1.000000</td>\n",
       "      <td>0.364412</td>\n",
       "      <td>5.388625e-02</td>\n",
       "      <td>1.622240e-02</td>\n",
       "    </tr>\n",
       "    <tr>\n",
       "      <th>50%</th>\n",
       "      <td>7.119988e+17</td>\n",
       "      <td>1.000000</td>\n",
       "      <td>0.588230</td>\n",
       "      <td>1.181810e-01</td>\n",
       "      <td>4.944380e-02</td>\n",
       "    </tr>\n",
       "    <tr>\n",
       "      <th>75%</th>\n",
       "      <td>7.932034e+17</td>\n",
       "      <td>1.000000</td>\n",
       "      <td>0.843855</td>\n",
       "      <td>1.955655e-01</td>\n",
       "      <td>9.180755e-02</td>\n",
       "    </tr>\n",
       "    <tr>\n",
       "      <th>max</th>\n",
       "      <td>8.924206e+17</td>\n",
       "      <td>4.000000</td>\n",
       "      <td>1.000000</td>\n",
       "      <td>4.880140e-01</td>\n",
       "      <td>2.734190e-01</td>\n",
       "    </tr>\n",
       "  </tbody>\n",
       "</table>\n",
       "</div>"
      ],
      "text/plain": [
       "           tweet_id      img_num      p1_conf       p2_conf       p3_conf\n",
       "count  2.075000e+03  2075.000000  2075.000000  2.075000e+03  2.075000e+03\n",
       "mean   7.384514e+17     1.203855     0.594548  1.345886e-01  6.032417e-02\n",
       "std    6.785203e+16     0.561875     0.271174  1.006657e-01  5.090593e-02\n",
       "min    6.660209e+17     1.000000     0.044333  1.011300e-08  1.740170e-10\n",
       "25%    6.764835e+17     1.000000     0.364412  5.388625e-02  1.622240e-02\n",
       "50%    7.119988e+17     1.000000     0.588230  1.181810e-01  4.944380e-02\n",
       "75%    7.932034e+17     1.000000     0.843855  1.955655e-01  9.180755e-02\n",
       "max    8.924206e+17     4.000000     1.000000  4.880140e-01  2.734190e-01"
      ]
     },
     "execution_count": 17,
     "metadata": {},
     "output_type": "execute_result"
    }
   ],
   "source": [
    "# Checking quantitative information\n",
    "df1.describe()"
   ]
  },
  {
   "cell_type": "markdown",
   "metadata": {},
   "source": [
    "#### Summary for DF1 Assessing :\n",
    "> **Overview:**\n",
    " * At least 75% of the records have only 1 image. \n",
    " * P1 confidence level is very high in comparison with others. \n",
    "\n",
    "> **Quality issues:** \n",
    "* It could be interested to analyse against the Image format which is currently imbedded in the image link.\n",
    "\n",
    ">**Tidiness issues:** \n",
    "* Prediction columns repeating per each prediction. "
   ]
  },
  {
   "cell_type": "markdown",
   "metadata": {},
   "source": [
    "### DF2 - Twitter Archive DataFrame"
   ]
  },
  {
   "cell_type": "code",
   "execution_count": 18,
   "metadata": {},
   "outputs": [
    {
     "data": {
      "text/html": [
       "<div>\n",
       "<style scoped>\n",
       "    .dataframe tbody tr th:only-of-type {\n",
       "        vertical-align: middle;\n",
       "    }\n",
       "\n",
       "    .dataframe tbody tr th {\n",
       "        vertical-align: top;\n",
       "    }\n",
       "\n",
       "    .dataframe thead th {\n",
       "        text-align: right;\n",
       "    }\n",
       "</style>\n",
       "<table border=\"1\" class=\"dataframe\">\n",
       "  <thead>\n",
       "    <tr style=\"text-align: right;\">\n",
       "      <th></th>\n",
       "      <th>tweet_id</th>\n",
       "      <th>in_reply_to_status_id</th>\n",
       "      <th>in_reply_to_user_id</th>\n",
       "      <th>timestamp</th>\n",
       "      <th>source</th>\n",
       "      <th>text</th>\n",
       "      <th>retweeted_status_id</th>\n",
       "      <th>retweeted_status_user_id</th>\n",
       "      <th>retweeted_status_timestamp</th>\n",
       "      <th>expanded_urls</th>\n",
       "      <th>rating_numerator</th>\n",
       "      <th>rating_denominator</th>\n",
       "      <th>name</th>\n",
       "      <th>doggo</th>\n",
       "      <th>floofer</th>\n",
       "      <th>pupper</th>\n",
       "      <th>puppo</th>\n",
       "    </tr>\n",
       "  </thead>\n",
       "  <tbody>\n",
       "    <tr>\n",
       "      <th>1939</th>\n",
       "      <td>673887867907739649</td>\n",
       "      <td>NaN</td>\n",
       "      <td>NaN</td>\n",
       "      <td>2015-12-07 15:32:42 +0000</td>\n",
       "      <td>&lt;a href=\"http://twitter.com/download/iphone\" r...</td>\n",
       "      <td>When you're having a great time sleeping and y...</td>\n",
       "      <td>NaN</td>\n",
       "      <td>NaN</td>\n",
       "      <td>NaN</td>\n",
       "      <td>https://twitter.com/dog_rates/status/673887867...</td>\n",
       "      <td>10</td>\n",
       "      <td>10</td>\n",
       "      <td>None</td>\n",
       "      <td>None</td>\n",
       "      <td>None</td>\n",
       "      <td>None</td>\n",
       "      <td>None</td>\n",
       "    </tr>\n",
       "    <tr>\n",
       "      <th>206</th>\n",
       "      <td>852672615818899456</td>\n",
       "      <td>NaN</td>\n",
       "      <td>NaN</td>\n",
       "      <td>2017-04-13 23:59:28 +0000</td>\n",
       "      <td>&lt;a href=\"http://twitter.com/download/iphone\" r...</td>\n",
       "      <td>This is Aspen. She's never tasted a stick so s...</td>\n",
       "      <td>NaN</td>\n",
       "      <td>NaN</td>\n",
       "      <td>NaN</td>\n",
       "      <td>https://twitter.com/dog_rates/status/852672615...</td>\n",
       "      <td>12</td>\n",
       "      <td>10</td>\n",
       "      <td>Aspen</td>\n",
       "      <td>None</td>\n",
       "      <td>None</td>\n",
       "      <td>None</td>\n",
       "      <td>None</td>\n",
       "    </tr>\n",
       "    <tr>\n",
       "      <th>588</th>\n",
       "      <td>799422933579902976</td>\n",
       "      <td>NaN</td>\n",
       "      <td>NaN</td>\n",
       "      <td>2016-11-18 01:24:14 +0000</td>\n",
       "      <td>&lt;a href=\"http://twitter.com/download/iphone\" r...</td>\n",
       "      <td>This is Longfellow (prolly sophisticated). He'...</td>\n",
       "      <td>NaN</td>\n",
       "      <td>NaN</td>\n",
       "      <td>NaN</td>\n",
       "      <td>https://twitter.com/dog_rates/status/799422933...</td>\n",
       "      <td>12</td>\n",
       "      <td>10</td>\n",
       "      <td>Longfellow</td>\n",
       "      <td>None</td>\n",
       "      <td>None</td>\n",
       "      <td>None</td>\n",
       "      <td>None</td>\n",
       "    </tr>\n",
       "  </tbody>\n",
       "</table>\n",
       "</div>"
      ],
      "text/plain": [
       "                tweet_id  in_reply_to_status_id  in_reply_to_user_id  \\\n",
       "1939  673887867907739649                    NaN                  NaN   \n",
       "206   852672615818899456                    NaN                  NaN   \n",
       "588   799422933579902976                    NaN                  NaN   \n",
       "\n",
       "                      timestamp  \\\n",
       "1939  2015-12-07 15:32:42 +0000   \n",
       "206   2017-04-13 23:59:28 +0000   \n",
       "588   2016-11-18 01:24:14 +0000   \n",
       "\n",
       "                                                 source  \\\n",
       "1939  <a href=\"http://twitter.com/download/iphone\" r...   \n",
       "206   <a href=\"http://twitter.com/download/iphone\" r...   \n",
       "588   <a href=\"http://twitter.com/download/iphone\" r...   \n",
       "\n",
       "                                                   text  retweeted_status_id  \\\n",
       "1939  When you're having a great time sleeping and y...                  NaN   \n",
       "206   This is Aspen. She's never tasted a stick so s...                  NaN   \n",
       "588   This is Longfellow (prolly sophisticated). He'...                  NaN   \n",
       "\n",
       "      retweeted_status_user_id retweeted_status_timestamp  \\\n",
       "1939                       NaN                        NaN   \n",
       "206                        NaN                        NaN   \n",
       "588                        NaN                        NaN   \n",
       "\n",
       "                                          expanded_urls  rating_numerator  \\\n",
       "1939  https://twitter.com/dog_rates/status/673887867...                10   \n",
       "206   https://twitter.com/dog_rates/status/852672615...                12   \n",
       "588   https://twitter.com/dog_rates/status/799422933...                12   \n",
       "\n",
       "      rating_denominator        name doggo floofer pupper puppo  \n",
       "1939                  10        None  None    None   None  None  \n",
       "206                   10       Aspen  None    None   None  None  \n",
       "588                   10  Longfellow  None    None   None  None  "
      ]
     },
     "execution_count": 18,
     "metadata": {},
     "output_type": "execute_result"
    }
   ],
   "source": [
    "# Assessing data visually\n",
    "df2.sample(3)"
   ]
  },
  {
   "cell_type": "code",
   "execution_count": 19,
   "metadata": {},
   "outputs": [
    {
     "name": "stdout",
     "output_type": "stream",
     "text": [
      "<class 'pandas.core.frame.DataFrame'>\n",
      "RangeIndex: 2356 entries, 0 to 2355\n",
      "Data columns (total 17 columns):\n",
      "tweet_id                      2356 non-null int64\n",
      "in_reply_to_status_id         78 non-null float64\n",
      "in_reply_to_user_id           78 non-null float64\n",
      "timestamp                     2356 non-null object\n",
      "source                        2356 non-null object\n",
      "text                          2356 non-null object\n",
      "retweeted_status_id           181 non-null float64\n",
      "retweeted_status_user_id      181 non-null float64\n",
      "retweeted_status_timestamp    181 non-null object\n",
      "expanded_urls                 2297 non-null object\n",
      "rating_numerator              2356 non-null int64\n",
      "rating_denominator            2356 non-null int64\n",
      "name                          2356 non-null object\n",
      "doggo                         2356 non-null object\n",
      "floofer                       2356 non-null object\n",
      "pupper                        2356 non-null object\n",
      "puppo                         2356 non-null object\n",
      "dtypes: float64(4), int64(3), object(10)\n",
      "memory usage: 313.0+ KB\n"
     ]
    }
   ],
   "source": [
    "# Assessing data programatically\n",
    "df2.info()"
   ]
  },
  {
   "cell_type": "code",
   "execution_count": 20,
   "metadata": {},
   "outputs": [
    {
     "data": {
      "text/plain": [
       "tweet_id                      2356\n",
       "in_reply_to_status_id           77\n",
       "in_reply_to_user_id             31\n",
       "timestamp                     2356\n",
       "source                           4\n",
       "text                          2356\n",
       "retweeted_status_id            181\n",
       "retweeted_status_user_id        25\n",
       "retweeted_status_timestamp     181\n",
       "expanded_urls                 2218\n",
       "rating_numerator                40\n",
       "rating_denominator              18\n",
       "name                           957\n",
       "doggo                            2\n",
       "floofer                          2\n",
       "pupper                           2\n",
       "puppo                            2\n",
       "dtype: int64"
      ]
     },
     "execution_count": 20,
     "metadata": {},
     "output_type": "execute_result"
    }
   ],
   "source": [
    "# Counting unique values\n",
    "df2.nunique()"
   ]
  },
  {
   "cell_type": "code",
   "execution_count": 21,
   "metadata": {},
   "outputs": [
    {
     "data": {
      "text/plain": [
       "array(['<a href=\"http://twitter.com/download/iphone\" rel=\"nofollow\">Twitter for iPhone</a>',\n",
       "       '<a href=\"http://twitter.com\" rel=\"nofollow\">Twitter Web Client</a>',\n",
       "       '<a href=\"http://vine.co\" rel=\"nofollow\">Vine - Make a Scene</a>',\n",
       "       '<a href=\"https://about.twitter.com/products/tweetdeck\" rel=\"nofollow\">TweetDeck</a>'],\n",
       "      dtype=object)"
      ]
     },
     "execution_count": 21,
     "metadata": {},
     "output_type": "execute_result"
    }
   ],
   "source": [
    "# Listing source categories\n",
    "df2.source.unique()"
   ]
  },
  {
   "cell_type": "code",
   "execution_count": 22,
   "metadata": {},
   "outputs": [
    {
     "data": {
      "text/html": [
       "<div>\n",
       "<style scoped>\n",
       "    .dataframe tbody tr th:only-of-type {\n",
       "        vertical-align: middle;\n",
       "    }\n",
       "\n",
       "    .dataframe tbody tr th {\n",
       "        vertical-align: top;\n",
       "    }\n",
       "\n",
       "    .dataframe thead th {\n",
       "        text-align: right;\n",
       "    }\n",
       "</style>\n",
       "<table border=\"1\" class=\"dataframe\">\n",
       "  <thead>\n",
       "    <tr style=\"text-align: right;\">\n",
       "      <th></th>\n",
       "      <th>tweet_id</th>\n",
       "      <th>in_reply_to_status_id</th>\n",
       "      <th>in_reply_to_user_id</th>\n",
       "      <th>retweeted_status_id</th>\n",
       "      <th>retweeted_status_user_id</th>\n",
       "      <th>rating_numerator</th>\n",
       "      <th>rating_denominator</th>\n",
       "    </tr>\n",
       "  </thead>\n",
       "  <tbody>\n",
       "    <tr>\n",
       "      <th>count</th>\n",
       "      <td>2.356000e+03</td>\n",
       "      <td>7.800000e+01</td>\n",
       "      <td>7.800000e+01</td>\n",
       "      <td>1.810000e+02</td>\n",
       "      <td>1.810000e+02</td>\n",
       "      <td>2356.000000</td>\n",
       "      <td>2356.000000</td>\n",
       "    </tr>\n",
       "    <tr>\n",
       "      <th>mean</th>\n",
       "      <td>7.427716e+17</td>\n",
       "      <td>7.455079e+17</td>\n",
       "      <td>2.014171e+16</td>\n",
       "      <td>7.720400e+17</td>\n",
       "      <td>1.241698e+16</td>\n",
       "      <td>13.126486</td>\n",
       "      <td>10.455433</td>\n",
       "    </tr>\n",
       "    <tr>\n",
       "      <th>std</th>\n",
       "      <td>6.856705e+16</td>\n",
       "      <td>7.582492e+16</td>\n",
       "      <td>1.252797e+17</td>\n",
       "      <td>6.236928e+16</td>\n",
       "      <td>9.599254e+16</td>\n",
       "      <td>45.876648</td>\n",
       "      <td>6.745237</td>\n",
       "    </tr>\n",
       "    <tr>\n",
       "      <th>min</th>\n",
       "      <td>6.660209e+17</td>\n",
       "      <td>6.658147e+17</td>\n",
       "      <td>1.185634e+07</td>\n",
       "      <td>6.661041e+17</td>\n",
       "      <td>7.832140e+05</td>\n",
       "      <td>0.000000</td>\n",
       "      <td>0.000000</td>\n",
       "    </tr>\n",
       "    <tr>\n",
       "      <th>25%</th>\n",
       "      <td>6.783989e+17</td>\n",
       "      <td>6.757419e+17</td>\n",
       "      <td>3.086374e+08</td>\n",
       "      <td>7.186315e+17</td>\n",
       "      <td>4.196984e+09</td>\n",
       "      <td>10.000000</td>\n",
       "      <td>10.000000</td>\n",
       "    </tr>\n",
       "    <tr>\n",
       "      <th>50%</th>\n",
       "      <td>7.196279e+17</td>\n",
       "      <td>7.038708e+17</td>\n",
       "      <td>4.196984e+09</td>\n",
       "      <td>7.804657e+17</td>\n",
       "      <td>4.196984e+09</td>\n",
       "      <td>11.000000</td>\n",
       "      <td>10.000000</td>\n",
       "    </tr>\n",
       "    <tr>\n",
       "      <th>75%</th>\n",
       "      <td>7.993373e+17</td>\n",
       "      <td>8.257804e+17</td>\n",
       "      <td>4.196984e+09</td>\n",
       "      <td>8.203146e+17</td>\n",
       "      <td>4.196984e+09</td>\n",
       "      <td>12.000000</td>\n",
       "      <td>10.000000</td>\n",
       "    </tr>\n",
       "    <tr>\n",
       "      <th>max</th>\n",
       "      <td>8.924206e+17</td>\n",
       "      <td>8.862664e+17</td>\n",
       "      <td>8.405479e+17</td>\n",
       "      <td>8.874740e+17</td>\n",
       "      <td>7.874618e+17</td>\n",
       "      <td>1776.000000</td>\n",
       "      <td>170.000000</td>\n",
       "    </tr>\n",
       "  </tbody>\n",
       "</table>\n",
       "</div>"
      ],
      "text/plain": [
       "           tweet_id  in_reply_to_status_id  in_reply_to_user_id  \\\n",
       "count  2.356000e+03           7.800000e+01         7.800000e+01   \n",
       "mean   7.427716e+17           7.455079e+17         2.014171e+16   \n",
       "std    6.856705e+16           7.582492e+16         1.252797e+17   \n",
       "min    6.660209e+17           6.658147e+17         1.185634e+07   \n",
       "25%    6.783989e+17           6.757419e+17         3.086374e+08   \n",
       "50%    7.196279e+17           7.038708e+17         4.196984e+09   \n",
       "75%    7.993373e+17           8.257804e+17         4.196984e+09   \n",
       "max    8.924206e+17           8.862664e+17         8.405479e+17   \n",
       "\n",
       "       retweeted_status_id  retweeted_status_user_id  rating_numerator  \\\n",
       "count         1.810000e+02              1.810000e+02       2356.000000   \n",
       "mean          7.720400e+17              1.241698e+16         13.126486   \n",
       "std           6.236928e+16              9.599254e+16         45.876648   \n",
       "min           6.661041e+17              7.832140e+05          0.000000   \n",
       "25%           7.186315e+17              4.196984e+09         10.000000   \n",
       "50%           7.804657e+17              4.196984e+09         11.000000   \n",
       "75%           8.203146e+17              4.196984e+09         12.000000   \n",
       "max           8.874740e+17              7.874618e+17       1776.000000   \n",
       "\n",
       "       rating_denominator  \n",
       "count         2356.000000  \n",
       "mean            10.455433  \n",
       "std              6.745237  \n",
       "min              0.000000  \n",
       "25%             10.000000  \n",
       "50%             10.000000  \n",
       "75%             10.000000  \n",
       "max            170.000000  "
      ]
     },
     "execution_count": 22,
     "metadata": {},
     "output_type": "execute_result"
    }
   ],
   "source": [
    "# Checking quantitative information\n",
    "df2.describe()"
   ]
  },
  {
   "cell_type": "markdown",
   "metadata": {},
   "source": [
    "#### Summary for DF2 Assessing : \n",
    "> **Overview:**\n",
    " * There are 2356 tweets and tweet_id is unique identificator.\n",
    " * There are 4 source categories. \n",
    " * rating_numerator and rating_denominator values have outliers.\n",
    "\n",
    "> **Quality issues:** \n",
    "* Source information is presented by a link. \n",
    "* It was mentioned that rating_numerator and rating_denominator values might have arrors.\n",
    "* It was mentioned that Dogtionary attributes might have have errors. \n",
    "* Since I'm interested to have at leats one plot with the timeline I need to have a user friendly date format.\n",
    "\n",
    ">**Tidiness issues:** \n",
    "* Dogtionary types are listed in the columns."
   ]
  },
  {
   "cell_type": "markdown",
   "metadata": {},
   "source": [
    "### DF3 - Twitter API DataFrame"
   ]
  },
  {
   "cell_type": "code",
   "execution_count": 23,
   "metadata": {},
   "outputs": [
    {
     "data": {
      "text/html": [
       "<div>\n",
       "<style scoped>\n",
       "    .dataframe tbody tr th:only-of-type {\n",
       "        vertical-align: middle;\n",
       "    }\n",
       "\n",
       "    .dataframe tbody tr th {\n",
       "        vertical-align: top;\n",
       "    }\n",
       "\n",
       "    .dataframe thead th {\n",
       "        text-align: right;\n",
       "    }\n",
       "</style>\n",
       "<table border=\"1\" class=\"dataframe\">\n",
       "  <thead>\n",
       "    <tr style=\"text-align: right;\">\n",
       "      <th></th>\n",
       "      <th>retweet_count</th>\n",
       "      <th>retweeted</th>\n",
       "      <th>tweet_favourite_count</th>\n",
       "      <th>tweet_hashtags</th>\n",
       "      <th>tweet_id</th>\n",
       "      <th>user_favourites_count</th>\n",
       "      <th>user_followers_count</th>\n",
       "      <th>user_friends_count</th>\n",
       "      <th>user_id</th>\n",
       "      <th>user_listed_count</th>\n",
       "      <th>user_statuses_count</th>\n",
       "    </tr>\n",
       "  </thead>\n",
       "  <tbody>\n",
       "    <tr>\n",
       "      <th>627</th>\n",
       "      <td>2697</td>\n",
       "      <td>False</td>\n",
       "      <td>11492</td>\n",
       "      <td></td>\n",
       "      <td>794926597468000259</td>\n",
       "      <td>114031</td>\n",
       "      <td>3200900</td>\n",
       "      <td>104</td>\n",
       "      <td>4196983835</td>\n",
       "      <td>2788</td>\n",
       "      <td>5288</td>\n",
       "    </tr>\n",
       "    <tr>\n",
       "      <th>979</th>\n",
       "      <td>1904</td>\n",
       "      <td>False</td>\n",
       "      <td>6721</td>\n",
       "      <td></td>\n",
       "      <td>749417653287129088</td>\n",
       "      <td>114031</td>\n",
       "      <td>3200943</td>\n",
       "      <td>104</td>\n",
       "      <td>4196983835</td>\n",
       "      <td>2802</td>\n",
       "      <td>5288</td>\n",
       "    </tr>\n",
       "    <tr>\n",
       "      <th>2227</th>\n",
       "      <td>523</td>\n",
       "      <td>False</td>\n",
       "      <td>1056</td>\n",
       "      <td></td>\n",
       "      <td>668248472370458624</td>\n",
       "      <td>114031</td>\n",
       "      <td>3201015</td>\n",
       "      <td>104</td>\n",
       "      <td>4196983835</td>\n",
       "      <td>2812</td>\n",
       "      <td>5288</td>\n",
       "    </tr>\n",
       "  </tbody>\n",
       "</table>\n",
       "</div>"
      ],
      "text/plain": [
       "      retweet_count  retweeted  tweet_favourite_count tweet_hashtags  \\\n",
       "627            2697      False                  11492                  \n",
       "979            1904      False                   6721                  \n",
       "2227            523      False                   1056                  \n",
       "\n",
       "                tweet_id  user_favourites_count  user_followers_count  \\\n",
       "627   794926597468000259                 114031               3200900   \n",
       "979   749417653287129088                 114031               3200943   \n",
       "2227  668248472370458624                 114031               3201015   \n",
       "\n",
       "      user_friends_count     user_id  user_listed_count  user_statuses_count  \n",
       "627                  104  4196983835               2788                 5288  \n",
       "979                  104  4196983835               2802                 5288  \n",
       "2227                 104  4196983835               2812                 5288  "
      ]
     },
     "execution_count": 23,
     "metadata": {},
     "output_type": "execute_result"
    }
   ],
   "source": [
    "# Assessing data visually\n",
    "df3.sample(3)"
   ]
  },
  {
   "cell_type": "code",
   "execution_count": 24,
   "metadata": {},
   "outputs": [
    {
     "name": "stdout",
     "output_type": "stream",
     "text": [
      "<class 'pandas.core.frame.DataFrame'>\n",
      "RangeIndex: 2354 entries, 0 to 2353\n",
      "Data columns (total 11 columns):\n",
      "retweet_count            2354 non-null int64\n",
      "retweeted                2354 non-null bool\n",
      "tweet_favourite_count    2354 non-null int64\n",
      "tweet_hashtags           2354 non-null object\n",
      "tweet_id                 2354 non-null int64\n",
      "user_favourites_count    2354 non-null int64\n",
      "user_followers_count     2354 non-null int64\n",
      "user_friends_count       2354 non-null int64\n",
      "user_id                  2354 non-null int64\n",
      "user_listed_count        2354 non-null int64\n",
      "user_statuses_count      2354 non-null int64\n",
      "dtypes: bool(1), int64(9), object(1)\n",
      "memory usage: 186.3+ KB\n"
     ]
    }
   ],
   "source": [
    "# Assessing data programatically\n",
    "df3.info()"
   ]
  },
  {
   "cell_type": "code",
   "execution_count": 25,
   "metadata": {},
   "outputs": [
    {
     "data": {
      "text/plain": [
       "retweet_count            1724\n",
       "retweeted                   1\n",
       "tweet_favourite_count    2007\n",
       "tweet_hashtags             18\n",
       "tweet_id                 2354\n",
       "user_favourites_count       2\n",
       "user_followers_count       66\n",
       "user_friends_count          1\n",
       "user_id                     1\n",
       "user_listed_count          20\n",
       "user_statuses_count         1\n",
       "dtype: int64"
      ]
     },
     "execution_count": 25,
     "metadata": {},
     "output_type": "execute_result"
    }
   ],
   "source": [
    "# Counting unique values\n",
    "df3.nunique()"
   ]
  },
  {
   "cell_type": "code",
   "execution_count": 26,
   "metadata": {},
   "outputs": [
    {
     "data": {
      "text/html": [
       "<div>\n",
       "<style scoped>\n",
       "    .dataframe tbody tr th:only-of-type {\n",
       "        vertical-align: middle;\n",
       "    }\n",
       "\n",
       "    .dataframe tbody tr th {\n",
       "        vertical-align: top;\n",
       "    }\n",
       "\n",
       "    .dataframe thead th {\n",
       "        text-align: right;\n",
       "    }\n",
       "</style>\n",
       "<table border=\"1\" class=\"dataframe\">\n",
       "  <thead>\n",
       "    <tr style=\"text-align: right;\">\n",
       "      <th></th>\n",
       "      <th>retweet_count</th>\n",
       "      <th>tweet_favourite_count</th>\n",
       "      <th>tweet_id</th>\n",
       "      <th>user_favourites_count</th>\n",
       "      <th>user_followers_count</th>\n",
       "      <th>user_friends_count</th>\n",
       "      <th>user_id</th>\n",
       "      <th>user_listed_count</th>\n",
       "      <th>user_statuses_count</th>\n",
       "    </tr>\n",
       "  </thead>\n",
       "  <tbody>\n",
       "    <tr>\n",
       "      <th>count</th>\n",
       "      <td>2354.000000</td>\n",
       "      <td>2354.000000</td>\n",
       "      <td>2.354000e+03</td>\n",
       "      <td>2354.000000</td>\n",
       "      <td>2.354000e+03</td>\n",
       "      <td>2354.0</td>\n",
       "      <td>2.354000e+03</td>\n",
       "      <td>2354.000000</td>\n",
       "      <td>2354.0</td>\n",
       "    </tr>\n",
       "    <tr>\n",
       "      <th>mean</th>\n",
       "      <td>3164.797366</td>\n",
       "      <td>8080.968564</td>\n",
       "      <td>7.426978e+17</td>\n",
       "      <td>114031.010195</td>\n",
       "      <td>3.200942e+06</td>\n",
       "      <td>104.0</td>\n",
       "      <td>4.196984e+09</td>\n",
       "      <td>2799.480884</td>\n",
       "      <td>5288.0</td>\n",
       "    </tr>\n",
       "    <tr>\n",
       "      <th>std</th>\n",
       "      <td>5284.770364</td>\n",
       "      <td>11814.771334</td>\n",
       "      <td>6.852812e+16</td>\n",
       "      <td>0.100478</td>\n",
       "      <td>4.457302e+01</td>\n",
       "      <td>0.0</td>\n",
       "      <td>0.000000e+00</td>\n",
       "      <td>11.178223</td>\n",
       "      <td>0.0</td>\n",
       "    </tr>\n",
       "    <tr>\n",
       "      <th>min</th>\n",
       "      <td>0.000000</td>\n",
       "      <td>0.000000</td>\n",
       "      <td>6.660209e+17</td>\n",
       "      <td>114031.000000</td>\n",
       "      <td>3.200799e+06</td>\n",
       "      <td>104.0</td>\n",
       "      <td>4.196984e+09</td>\n",
       "      <td>2724.000000</td>\n",
       "      <td>5288.0</td>\n",
       "    </tr>\n",
       "    <tr>\n",
       "      <th>25%</th>\n",
       "      <td>624.500000</td>\n",
       "      <td>1415.000000</td>\n",
       "      <td>6.783975e+17</td>\n",
       "      <td>114031.000000</td>\n",
       "      <td>3.200898e+06</td>\n",
       "      <td>104.0</td>\n",
       "      <td>4.196984e+09</td>\n",
       "      <td>2788.000000</td>\n",
       "      <td>5288.0</td>\n",
       "    </tr>\n",
       "    <tr>\n",
       "      <th>50%</th>\n",
       "      <td>1473.500000</td>\n",
       "      <td>3603.500000</td>\n",
       "      <td>7.194596e+17</td>\n",
       "      <td>114031.000000</td>\n",
       "      <td>3.200945e+06</td>\n",
       "      <td>104.0</td>\n",
       "      <td>4.196984e+09</td>\n",
       "      <td>2803.000000</td>\n",
       "      <td>5288.0</td>\n",
       "    </tr>\n",
       "    <tr>\n",
       "      <th>75%</th>\n",
       "      <td>3652.000000</td>\n",
       "      <td>10122.250000</td>\n",
       "      <td>7.993058e+17</td>\n",
       "      <td>114031.000000</td>\n",
       "      <td>3.200953e+06</td>\n",
       "      <td>104.0</td>\n",
       "      <td>4.196984e+09</td>\n",
       "      <td>2805.000000</td>\n",
       "      <td>5288.0</td>\n",
       "    </tr>\n",
       "    <tr>\n",
       "      <th>max</th>\n",
       "      <td>79515.000000</td>\n",
       "      <td>132810.000000</td>\n",
       "      <td>8.924206e+17</td>\n",
       "      <td>114032.000000</td>\n",
       "      <td>3.201018e+06</td>\n",
       "      <td>104.0</td>\n",
       "      <td>4.196984e+09</td>\n",
       "      <td>2846.000000</td>\n",
       "      <td>5288.0</td>\n",
       "    </tr>\n",
       "  </tbody>\n",
       "</table>\n",
       "</div>"
      ],
      "text/plain": [
       "       retweet_count  tweet_favourite_count      tweet_id  \\\n",
       "count    2354.000000            2354.000000  2.354000e+03   \n",
       "mean     3164.797366            8080.968564  7.426978e+17   \n",
       "std      5284.770364           11814.771334  6.852812e+16   \n",
       "min         0.000000               0.000000  6.660209e+17   \n",
       "25%       624.500000            1415.000000  6.783975e+17   \n",
       "50%      1473.500000            3603.500000  7.194596e+17   \n",
       "75%      3652.000000           10122.250000  7.993058e+17   \n",
       "max     79515.000000          132810.000000  8.924206e+17   \n",
       "\n",
       "       user_favourites_count  user_followers_count  user_friends_count  \\\n",
       "count            2354.000000          2.354000e+03              2354.0   \n",
       "mean           114031.010195          3.200942e+06               104.0   \n",
       "std                 0.100478          4.457302e+01                 0.0   \n",
       "min            114031.000000          3.200799e+06               104.0   \n",
       "25%            114031.000000          3.200898e+06               104.0   \n",
       "50%            114031.000000          3.200945e+06               104.0   \n",
       "75%            114031.000000          3.200953e+06               104.0   \n",
       "max            114032.000000          3.201018e+06               104.0   \n",
       "\n",
       "            user_id  user_listed_count  user_statuses_count  \n",
       "count  2.354000e+03        2354.000000               2354.0  \n",
       "mean   4.196984e+09        2799.480884               5288.0  \n",
       "std    0.000000e+00          11.178223                  0.0  \n",
       "min    4.196984e+09        2724.000000               5288.0  \n",
       "25%    4.196984e+09        2788.000000               5288.0  \n",
       "50%    4.196984e+09        2803.000000               5288.0  \n",
       "75%    4.196984e+09        2805.000000               5288.0  \n",
       "max    4.196984e+09        2846.000000               5288.0  "
      ]
     },
     "execution_count": 26,
     "metadata": {},
     "output_type": "execute_result"
    }
   ],
   "source": [
    "# Checking quantitative information\n",
    "df3.describe()"
   ]
  },
  {
   "cell_type": "markdown",
   "metadata": {},
   "source": [
    "#### Summary for DF3 Assessing :\n",
    "> **Quality issues:** \n",
    "* Retweet value is always False, which is wrong.  \n",
    "* user_friends_count and user_statuses_count have always the same value, therefore I'm not interested in this columns.\n",
    "\n",
    ">**Tidiness issues:** \n",
    "* User information should be separated from the Twitter data, since the user is always the same. "
   ]
  },
  {
   "cell_type": "markdown",
   "metadata": {},
   "source": [
    "### Check duplicated columns"
   ]
  },
  {
   "cell_type": "code",
   "execution_count": 27,
   "metadata": {},
   "outputs": [
    {
     "data": {
      "text/plain": [
       "12    tweet_id\n",
       "33    tweet_id\n",
       "dtype: object"
      ]
     },
     "execution_count": 27,
     "metadata": {},
     "output_type": "execute_result"
    }
   ],
   "source": [
    "# Check the column duplicates within all 3 DataFrames\n",
    "all_columns = pd.Series(list(df1) + list(df2) + list(df3))\n",
    "all_columns[all_columns.duplicated()]"
   ]
  },
  {
   "cell_type": "markdown",
   "metadata": {},
   "source": [
    "---"
   ]
  },
  {
   "cell_type": "markdown",
   "metadata": {},
   "source": [
    "<a id='cleaning'></a>\n",
    "## Data Cleaning"
   ]
  },
  {
   "cell_type": "markdown",
   "metadata": {},
   "source": [
    "The data cleaning activities are performed that includes: \n",
    "* Define\n",
    "* Code\n",
    "* Test"
   ]
  },
  {
   "cell_type": "markdown",
   "metadata": {},
   "source": [
    "### Create a working copy"
   ]
  },
  {
   "cell_type": "code",
   "execution_count": 28,
   "metadata": {},
   "outputs": [],
   "source": [
    "df1_c = df1.copy() # For the Image prediction\n",
    "df2_c = df2.copy() # For the Archived Twitter\n",
    "df3_c = df3.copy() # For the Twitter API data"
   ]
  },
  {
   "cell_type": "markdown",
   "metadata": {},
   "source": [
    "### Join Twitter Archive and Twitter API Data "
   ]
  },
  {
   "cell_type": "markdown",
   "metadata": {},
   "source": [
    "#### 1. Join Twitter DataFrames ( Tidiness )\n",
    "\n",
    "Join both DataFrames on the attribute twitter_id. The Twitter id is a unique record identifier. I'm using inner join type because I'm interested only in the records that are in both DataFrames."
   ]
  },
  {
   "cell_type": "code",
   "execution_count": 29,
   "metadata": {},
   "outputs": [],
   "source": [
    "# Code, i.e. join the DataFrames\n",
    "t_merge = df2_c.merge(df3_c, left_on='tweet_id', right_on='tweet_id')\n",
    "t_merge = pd.DataFrame(t_merge)"
   ]
  },
  {
   "cell_type": "code",
   "execution_count": 30,
   "metadata": {},
   "outputs": [
    {
     "data": {
      "text/html": [
       "<div>\n",
       "<style scoped>\n",
       "    .dataframe tbody tr th:only-of-type {\n",
       "        vertical-align: middle;\n",
       "    }\n",
       "\n",
       "    .dataframe tbody tr th {\n",
       "        vertical-align: top;\n",
       "    }\n",
       "\n",
       "    .dataframe thead th {\n",
       "        text-align: right;\n",
       "    }\n",
       "</style>\n",
       "<table border=\"1\" class=\"dataframe\">\n",
       "  <thead>\n",
       "    <tr style=\"text-align: right;\">\n",
       "      <th></th>\n",
       "      <th>tweet_id</th>\n",
       "      <th>in_reply_to_status_id</th>\n",
       "      <th>in_reply_to_user_id</th>\n",
       "      <th>timestamp</th>\n",
       "      <th>source</th>\n",
       "      <th>text</th>\n",
       "      <th>retweeted_status_id</th>\n",
       "      <th>retweeted_status_user_id</th>\n",
       "      <th>retweeted_status_timestamp</th>\n",
       "      <th>expanded_urls</th>\n",
       "      <th>...</th>\n",
       "      <th>retweet_count</th>\n",
       "      <th>retweeted</th>\n",
       "      <th>tweet_favourite_count</th>\n",
       "      <th>tweet_hashtags</th>\n",
       "      <th>user_favourites_count</th>\n",
       "      <th>user_followers_count</th>\n",
       "      <th>user_friends_count</th>\n",
       "      <th>user_id</th>\n",
       "      <th>user_listed_count</th>\n",
       "      <th>user_statuses_count</th>\n",
       "    </tr>\n",
       "  </thead>\n",
       "  <tbody>\n",
       "    <tr>\n",
       "      <th>0</th>\n",
       "      <td>892420643555336193</td>\n",
       "      <td>NaN</td>\n",
       "      <td>NaN</td>\n",
       "      <td>2017-08-01 16:23:56 +0000</td>\n",
       "      <td>&lt;a href=\"http://twitter.com/download/iphone\" r...</td>\n",
       "      <td>This is Phineas. He's a mystical boy. Only eve...</td>\n",
       "      <td>NaN</td>\n",
       "      <td>NaN</td>\n",
       "      <td>NaN</td>\n",
       "      <td>https://twitter.com/dog_rates/status/892420643...</td>\n",
       "      <td>...</td>\n",
       "      <td>8853</td>\n",
       "      <td>False</td>\n",
       "      <td>39467</td>\n",
       "      <td></td>\n",
       "      <td>114031</td>\n",
       "      <td>3200889</td>\n",
       "      <td>104</td>\n",
       "      <td>4196983835</td>\n",
       "      <td>2784</td>\n",
       "      <td>5288</td>\n",
       "    </tr>\n",
       "    <tr>\n",
       "      <th>1</th>\n",
       "      <td>892177421306343426</td>\n",
       "      <td>NaN</td>\n",
       "      <td>NaN</td>\n",
       "      <td>2017-08-01 00:17:27 +0000</td>\n",
       "      <td>&lt;a href=\"http://twitter.com/download/iphone\" r...</td>\n",
       "      <td>This is Tilly. She's just checking pup on you....</td>\n",
       "      <td>NaN</td>\n",
       "      <td>NaN</td>\n",
       "      <td>NaN</td>\n",
       "      <td>https://twitter.com/dog_rates/status/892177421...</td>\n",
       "      <td>...</td>\n",
       "      <td>6514</td>\n",
       "      <td>False</td>\n",
       "      <td>33819</td>\n",
       "      <td></td>\n",
       "      <td>114031</td>\n",
       "      <td>3200889</td>\n",
       "      <td>104</td>\n",
       "      <td>4196983835</td>\n",
       "      <td>2784</td>\n",
       "      <td>5288</td>\n",
       "    </tr>\n",
       "    <tr>\n",
       "      <th>2</th>\n",
       "      <td>891815181378084864</td>\n",
       "      <td>NaN</td>\n",
       "      <td>NaN</td>\n",
       "      <td>2017-07-31 00:18:03 +0000</td>\n",
       "      <td>&lt;a href=\"http://twitter.com/download/iphone\" r...</td>\n",
       "      <td>This is Archie. He is a rare Norwegian Pouncin...</td>\n",
       "      <td>NaN</td>\n",
       "      <td>NaN</td>\n",
       "      <td>NaN</td>\n",
       "      <td>https://twitter.com/dog_rates/status/891815181...</td>\n",
       "      <td>...</td>\n",
       "      <td>4328</td>\n",
       "      <td>False</td>\n",
       "      <td>25461</td>\n",
       "      <td></td>\n",
       "      <td>114031</td>\n",
       "      <td>3200889</td>\n",
       "      <td>104</td>\n",
       "      <td>4196983835</td>\n",
       "      <td>2784</td>\n",
       "      <td>5288</td>\n",
       "    </tr>\n",
       "  </tbody>\n",
       "</table>\n",
       "<p>3 rows × 27 columns</p>\n",
       "</div>"
      ],
      "text/plain": [
       "             tweet_id  in_reply_to_status_id  in_reply_to_user_id  \\\n",
       "0  892420643555336193                    NaN                  NaN   \n",
       "1  892177421306343426                    NaN                  NaN   \n",
       "2  891815181378084864                    NaN                  NaN   \n",
       "\n",
       "                   timestamp  \\\n",
       "0  2017-08-01 16:23:56 +0000   \n",
       "1  2017-08-01 00:17:27 +0000   \n",
       "2  2017-07-31 00:18:03 +0000   \n",
       "\n",
       "                                              source  \\\n",
       "0  <a href=\"http://twitter.com/download/iphone\" r...   \n",
       "1  <a href=\"http://twitter.com/download/iphone\" r...   \n",
       "2  <a href=\"http://twitter.com/download/iphone\" r...   \n",
       "\n",
       "                                                text  retweeted_status_id  \\\n",
       "0  This is Phineas. He's a mystical boy. Only eve...                  NaN   \n",
       "1  This is Tilly. She's just checking pup on you....                  NaN   \n",
       "2  This is Archie. He is a rare Norwegian Pouncin...                  NaN   \n",
       "\n",
       "   retweeted_status_user_id retweeted_status_timestamp  \\\n",
       "0                       NaN                        NaN   \n",
       "1                       NaN                        NaN   \n",
       "2                       NaN                        NaN   \n",
       "\n",
       "                                       expanded_urls         ...           \\\n",
       "0  https://twitter.com/dog_rates/status/892420643...         ...            \n",
       "1  https://twitter.com/dog_rates/status/892177421...         ...            \n",
       "2  https://twitter.com/dog_rates/status/891815181...         ...            \n",
       "\n",
       "   retweet_count  retweeted tweet_favourite_count tweet_hashtags  \\\n",
       "0           8853      False                 39467                  \n",
       "1           6514      False                 33819                  \n",
       "2           4328      False                 25461                  \n",
       "\n",
       "  user_favourites_count user_followers_count user_friends_count     user_id  \\\n",
       "0                114031              3200889                104  4196983835   \n",
       "1                114031              3200889                104  4196983835   \n",
       "2                114031              3200889                104  4196983835   \n",
       "\n",
       "   user_listed_count  user_statuses_count  \n",
       "0               2784                 5288  \n",
       "1               2784                 5288  \n",
       "2               2784                 5288  \n",
       "\n",
       "[3 rows x 27 columns]"
      ]
     },
     "execution_count": 30,
     "metadata": {},
     "output_type": "execute_result"
    }
   ],
   "source": [
    "# Test visually\n",
    "t_merge.head(3)"
   ]
  },
  {
   "cell_type": "code",
   "execution_count": 31,
   "metadata": {},
   "outputs": [
    {
     "name": "stdout",
     "output_type": "stream",
     "text": [
      "Count of records in Twitter Archive is : 2356\n",
      "Count of records in Twitter API is : 2354\n",
      "Count of records in the merged file is : 2354\n"
     ]
    }
   ],
   "source": [
    "# Test by counting the records\n",
    "print('Count of records in Twitter Archive is : {}'.format(df2_c['tweet_id'].count()))\n",
    "print('Count of records in Twitter API is : {}'.format(df3_c['tweet_id'].count()))\n",
    "print('Count of records in the merged file is : {}'.format(t_merge['tweet_id'].count()))"
   ]
  },
  {
   "cell_type": "markdown",
   "metadata": {},
   "source": [
    "#### 2. Create a new attribute to indicate twitter Year and Month ( Quality )\n",
    "I have the intention to use timeline information in the visualisation, therefore I need to create a date format that is more user-friendly. The lowest granularity I'm interested in is the month. \n",
    "\n",
    "By using a regular expression, I'm going to extract year and month information from the timestamp."
   ]
  },
  {
   "cell_type": "code",
   "execution_count": 32,
   "metadata": {},
   "outputs": [],
   "source": [
    "# Code: Change timestamp to string format, then split the string by \" \" and \"-\", \n",
    "#  eventually concatinate back with '.' and change format to float so that it could be sortable.\n",
    "\n",
    "date = t_merge['timestamp'].astype(str)\n",
    "date = date.str.split(' ').str[0].str.split('-').str[:2]\n",
    "t_merge['date'] = (date.str[0] + '.' + date.str[1]).astype(float)"
   ]
  },
  {
   "cell_type": "code",
   "execution_count": 33,
   "metadata": {},
   "outputs": [
    {
     "data": {
      "text/plain": [
       "array([2017.08, 2017.07, 2017.06, 2017.05, 2017.04, 2017.03, 2017.02,\n",
       "       2017.01, 2016.12, 2016.11, 2016.1 , 2016.09, 2016.08, 2016.07,\n",
       "       2016.06, 2016.05, 2016.04, 2016.03, 2016.02, 2016.01, 2015.12,\n",
       "       2015.11])"
      ]
     },
     "execution_count": 33,
     "metadata": {},
     "output_type": "execute_result"
    }
   ],
   "source": [
    "# Test visually\n",
    "t_merge['date'].unique()"
   ]
  },
  {
   "cell_type": "markdown",
   "metadata": {},
   "source": [
    "### Clean Image Prediction File"
   ]
  },
  {
   "cell_type": "markdown",
   "metadata": {},
   "source": [
    "#### 1. Add image format ( Quality )\n",
    "\n",
    "From the jpg_url I want to extract the image format and save it into a separate column. By using a regular expression, I'm going to split the string and grab the last value. "
   ]
  },
  {
   "cell_type": "code",
   "execution_count": 34,
   "metadata": {},
   "outputs": [],
   "source": [
    "# A code to extract image format\n",
    "df1_c['im_type'] = df1_c['jpg_url'].str.split(\".\").str[-1]"
   ]
  },
  {
   "cell_type": "code",
   "execution_count": 35,
   "metadata": {},
   "outputs": [
    {
     "data": {
      "text/plain": [
       "array(['jpg', 'png'], dtype=object)"
      ]
     },
     "execution_count": 35,
     "metadata": {},
     "output_type": "execute_result"
    }
   ],
   "source": [
    "# Check unique image formats\n",
    "df1_c['im_type'].unique()"
   ]
  },
  {
   "cell_type": "markdown",
   "metadata": {},
   "source": [
    "#### 2. Transform the columns ( Tidiness )\n",
    "Prediction columns as p(x), p(x)_conf, p(x)_dog; should be merged and a new column with prediction algorithm No. should be added. \n",
    "\n",
    "\n",
    "First, I am creating 3 separate data frames with new column prd and defaulted values p1, p2, or p3. Then,  I'm concatenating into a single DataFrame."
   ]
  },
  {
   "cell_type": "code",
   "execution_count": 36,
   "metadata": {},
   "outputs": [
    {
     "data": {
      "text/html": [
       "<div>\n",
       "<style scoped>\n",
       "    .dataframe tbody tr th:only-of-type {\n",
       "        vertical-align: middle;\n",
       "    }\n",
       "\n",
       "    .dataframe tbody tr th {\n",
       "        vertical-align: top;\n",
       "    }\n",
       "\n",
       "    .dataframe thead th {\n",
       "        text-align: right;\n",
       "    }\n",
       "</style>\n",
       "<table border=\"1\" class=\"dataframe\">\n",
       "  <thead>\n",
       "    <tr style=\"text-align: right;\">\n",
       "      <th></th>\n",
       "      <th>tweet_id</th>\n",
       "      <th>jpg_url</th>\n",
       "      <th>img_num</th>\n",
       "      <th>p1</th>\n",
       "      <th>p1_conf</th>\n",
       "      <th>p1_dog</th>\n",
       "      <th>p2</th>\n",
       "      <th>p2_conf</th>\n",
       "      <th>p2_dog</th>\n",
       "      <th>p3</th>\n",
       "      <th>p3_conf</th>\n",
       "      <th>p3_dog</th>\n",
       "      <th>im_type</th>\n",
       "    </tr>\n",
       "  </thead>\n",
       "  <tbody>\n",
       "    <tr>\n",
       "      <th>0</th>\n",
       "      <td>666020888022790149</td>\n",
       "      <td>https://pbs.twimg.com/media/CT4udn0WwAA0aMy.jpg</td>\n",
       "      <td>1</td>\n",
       "      <td>Welsh_springer_spaniel</td>\n",
       "      <td>0.465074</td>\n",
       "      <td>True</td>\n",
       "      <td>collie</td>\n",
       "      <td>0.156665</td>\n",
       "      <td>True</td>\n",
       "      <td>Shetland_sheepdog</td>\n",
       "      <td>0.061428</td>\n",
       "      <td>True</td>\n",
       "      <td>jpg</td>\n",
       "    </tr>\n",
       "    <tr>\n",
       "      <th>1</th>\n",
       "      <td>666029285002620928</td>\n",
       "      <td>https://pbs.twimg.com/media/CT42GRgUYAA5iDo.jpg</td>\n",
       "      <td>1</td>\n",
       "      <td>redbone</td>\n",
       "      <td>0.506826</td>\n",
       "      <td>True</td>\n",
       "      <td>miniature_pinscher</td>\n",
       "      <td>0.074192</td>\n",
       "      <td>True</td>\n",
       "      <td>Rhodesian_ridgeback</td>\n",
       "      <td>0.072010</td>\n",
       "      <td>True</td>\n",
       "      <td>jpg</td>\n",
       "    </tr>\n",
       "    <tr>\n",
       "      <th>2</th>\n",
       "      <td>666033412701032449</td>\n",
       "      <td>https://pbs.twimg.com/media/CT4521TWwAEvMyu.jpg</td>\n",
       "      <td>1</td>\n",
       "      <td>German_shepherd</td>\n",
       "      <td>0.596461</td>\n",
       "      <td>True</td>\n",
       "      <td>malinois</td>\n",
       "      <td>0.138584</td>\n",
       "      <td>True</td>\n",
       "      <td>bloodhound</td>\n",
       "      <td>0.116197</td>\n",
       "      <td>True</td>\n",
       "      <td>jpg</td>\n",
       "    </tr>\n",
       "  </tbody>\n",
       "</table>\n",
       "</div>"
      ],
      "text/plain": [
       "             tweet_id                                          jpg_url  \\\n",
       "0  666020888022790149  https://pbs.twimg.com/media/CT4udn0WwAA0aMy.jpg   \n",
       "1  666029285002620928  https://pbs.twimg.com/media/CT42GRgUYAA5iDo.jpg   \n",
       "2  666033412701032449  https://pbs.twimg.com/media/CT4521TWwAEvMyu.jpg   \n",
       "\n",
       "   img_num                      p1   p1_conf  p1_dog                  p2  \\\n",
       "0        1  Welsh_springer_spaniel  0.465074    True              collie   \n",
       "1        1                 redbone  0.506826    True  miniature_pinscher   \n",
       "2        1         German_shepherd  0.596461    True            malinois   \n",
       "\n",
       "    p2_conf  p2_dog                   p3   p3_conf  p3_dog im_type  \n",
       "0  0.156665    True    Shetland_sheepdog  0.061428    True     jpg  \n",
       "1  0.074192    True  Rhodesian_ridgeback  0.072010    True     jpg  \n",
       "2  0.138584    True           bloodhound  0.116197    True     jpg  "
      ]
     },
     "execution_count": 36,
     "metadata": {},
     "output_type": "execute_result"
    }
   ],
   "source": [
    "df1_c.head(3)"
   ]
  },
  {
   "cell_type": "code",
   "execution_count": 37,
   "metadata": {},
   "outputs": [],
   "source": [
    "# Create a dataframe for prediction 1\n",
    "prd1 = pd.DataFrame(df1_c, columns=['tweet_id','img_num', 'im_type', 'p1', 'p1_conf', 'p1_dog'])\n",
    "prd1['prd']='p1'\n",
    "prd1 = prd1.rename(columns={'tweet_id':'tweet_id','img_num':'img_num', 'im_type':'im_type', \n",
    "                            'prd':'prd', 'p1':'guess', 'p1_conf':'conf', 'p1_dog':'dog'})"
   ]
  },
  {
   "cell_type": "code",
   "execution_count": 38,
   "metadata": {},
   "outputs": [
    {
     "data": {
      "text/html": [
       "<div>\n",
       "<style scoped>\n",
       "    .dataframe tbody tr th:only-of-type {\n",
       "        vertical-align: middle;\n",
       "    }\n",
       "\n",
       "    .dataframe tbody tr th {\n",
       "        vertical-align: top;\n",
       "    }\n",
       "\n",
       "    .dataframe thead th {\n",
       "        text-align: right;\n",
       "    }\n",
       "</style>\n",
       "<table border=\"1\" class=\"dataframe\">\n",
       "  <thead>\n",
       "    <tr style=\"text-align: right;\">\n",
       "      <th></th>\n",
       "      <th>tweet_id</th>\n",
       "      <th>img_num</th>\n",
       "      <th>im_type</th>\n",
       "      <th>guess</th>\n",
       "      <th>conf</th>\n",
       "      <th>dog</th>\n",
       "      <th>prd</th>\n",
       "    </tr>\n",
       "  </thead>\n",
       "  <tbody>\n",
       "    <tr>\n",
       "      <th>259</th>\n",
       "      <td>670782429121134593</td>\n",
       "      <td>1</td>\n",
       "      <td>jpg</td>\n",
       "      <td>Chihuahua</td>\n",
       "      <td>0.952963</td>\n",
       "      <td>True</td>\n",
       "      <td>p1</td>\n",
       "    </tr>\n",
       "    <tr>\n",
       "      <th>1644</th>\n",
       "      <td>808106460588765185</td>\n",
       "      <td>1</td>\n",
       "      <td>jpg</td>\n",
       "      <td>golden_retriever</td>\n",
       "      <td>0.426183</td>\n",
       "      <td>True</td>\n",
       "      <td>p1</td>\n",
       "    </tr>\n",
       "    <tr>\n",
       "      <th>1568</th>\n",
       "      <td>794332329137291264</td>\n",
       "      <td>1</td>\n",
       "      <td>jpg</td>\n",
       "      <td>Samoyed</td>\n",
       "      <td>0.988307</td>\n",
       "      <td>True</td>\n",
       "      <td>p1</td>\n",
       "    </tr>\n",
       "  </tbody>\n",
       "</table>\n",
       "</div>"
      ],
      "text/plain": [
       "                tweet_id  img_num im_type             guess      conf   dog  \\\n",
       "259   670782429121134593        1     jpg         Chihuahua  0.952963  True   \n",
       "1644  808106460588765185        1     jpg  golden_retriever  0.426183  True   \n",
       "1568  794332329137291264        1     jpg           Samoyed  0.988307  True   \n",
       "\n",
       "     prd  \n",
       "259   p1  \n",
       "1644  p1  \n",
       "1568  p1  "
      ]
     },
     "execution_count": 38,
     "metadata": {},
     "output_type": "execute_result"
    }
   ],
   "source": [
    "# Test visually\n",
    "prd1.sample(3)"
   ]
  },
  {
   "cell_type": "code",
   "execution_count": 39,
   "metadata": {},
   "outputs": [],
   "source": [
    "# Create a dataframe for prediction 2\n",
    "prd2 = pd.DataFrame(df1_c, columns=['tweet_id','img_num', 'im_type', 'p2', 'p2_conf', 'p2_dog'])\n",
    "prd2['prd']='p2'\n",
    "prd2 = prd2.rename(columns={'tweet_id':'tweet_id','img_num':'img_num', 'im_type':'im_type', \n",
    "                            'prd':'prd', 'p2':'guess', 'p2_conf':'conf', 'p2_dog':'dog'})"
   ]
  },
  {
   "cell_type": "code",
   "execution_count": 40,
   "metadata": {},
   "outputs": [
    {
     "data": {
      "text/html": [
       "<div>\n",
       "<style scoped>\n",
       "    .dataframe tbody tr th:only-of-type {\n",
       "        vertical-align: middle;\n",
       "    }\n",
       "\n",
       "    .dataframe tbody tr th {\n",
       "        vertical-align: top;\n",
       "    }\n",
       "\n",
       "    .dataframe thead th {\n",
       "        text-align: right;\n",
       "    }\n",
       "</style>\n",
       "<table border=\"1\" class=\"dataframe\">\n",
       "  <thead>\n",
       "    <tr style=\"text-align: right;\">\n",
       "      <th></th>\n",
       "      <th>tweet_id</th>\n",
       "      <th>img_num</th>\n",
       "      <th>im_type</th>\n",
       "      <th>guess</th>\n",
       "      <th>conf</th>\n",
       "      <th>dog</th>\n",
       "      <th>prd</th>\n",
       "    </tr>\n",
       "  </thead>\n",
       "  <tbody>\n",
       "    <tr>\n",
       "      <th>1224</th>\n",
       "      <td>744971049620602880</td>\n",
       "      <td>1</td>\n",
       "      <td>jpg</td>\n",
       "      <td>golden_retriever</td>\n",
       "      <td>0.282017</td>\n",
       "      <td>True</td>\n",
       "      <td>p2</td>\n",
       "    </tr>\n",
       "    <tr>\n",
       "      <th>339</th>\n",
       "      <td>672245253877968896</td>\n",
       "      <td>1</td>\n",
       "      <td>jpg</td>\n",
       "      <td>badger</td>\n",
       "      <td>0.178546</td>\n",
       "      <td>False</td>\n",
       "      <td>p2</td>\n",
       "    </tr>\n",
       "    <tr>\n",
       "      <th>1699</th>\n",
       "      <td>816829038950027264</td>\n",
       "      <td>1</td>\n",
       "      <td>jpg</td>\n",
       "      <td>golden_retriever</td>\n",
       "      <td>0.245773</td>\n",
       "      <td>True</td>\n",
       "      <td>p2</td>\n",
       "    </tr>\n",
       "  </tbody>\n",
       "</table>\n",
       "</div>"
      ],
      "text/plain": [
       "                tweet_id  img_num im_type             guess      conf    dog  \\\n",
       "1224  744971049620602880        1     jpg  golden_retriever  0.282017   True   \n",
       "339   672245253877968896        1     jpg            badger  0.178546  False   \n",
       "1699  816829038950027264        1     jpg  golden_retriever  0.245773   True   \n",
       "\n",
       "     prd  \n",
       "1224  p2  \n",
       "339   p2  \n",
       "1699  p2  "
      ]
     },
     "execution_count": 40,
     "metadata": {},
     "output_type": "execute_result"
    }
   ],
   "source": [
    "# Test visually\n",
    "prd2.sample(3)"
   ]
  },
  {
   "cell_type": "code",
   "execution_count": 41,
   "metadata": {},
   "outputs": [],
   "source": [
    "# Create a dataframe for prediction 3\n",
    "prd3 = pd.DataFrame(df1_c, columns=['tweet_id','img_num', 'im_type', 'p3', 'p3_conf', 'p3_dog'])\n",
    "prd3['prd']='p3'\n",
    "prd3 = prd3.rename(columns={'tweet_id':'tweet_id','img_num':'img_num', 'im_type':'im_type', \n",
    "                            'prd':'prd', 'p3':'guess', 'p3_conf':'conf', 'p3_dog':'dog'})"
   ]
  },
  {
   "cell_type": "code",
   "execution_count": 42,
   "metadata": {},
   "outputs": [
    {
     "data": {
      "text/html": [
       "<div>\n",
       "<style scoped>\n",
       "    .dataframe tbody tr th:only-of-type {\n",
       "        vertical-align: middle;\n",
       "    }\n",
       "\n",
       "    .dataframe tbody tr th {\n",
       "        vertical-align: top;\n",
       "    }\n",
       "\n",
       "    .dataframe thead th {\n",
       "        text-align: right;\n",
       "    }\n",
       "</style>\n",
       "<table border=\"1\" class=\"dataframe\">\n",
       "  <thead>\n",
       "    <tr style=\"text-align: right;\">\n",
       "      <th></th>\n",
       "      <th>tweet_id</th>\n",
       "      <th>img_num</th>\n",
       "      <th>im_type</th>\n",
       "      <th>guess</th>\n",
       "      <th>conf</th>\n",
       "      <th>dog</th>\n",
       "      <th>prd</th>\n",
       "    </tr>\n",
       "  </thead>\n",
       "  <tbody>\n",
       "    <tr>\n",
       "      <th>1336</th>\n",
       "      <td>758355060040593408</td>\n",
       "      <td>1</td>\n",
       "      <td>jpg</td>\n",
       "      <td>Siamese_cat</td>\n",
       "      <td>0.000117</td>\n",
       "      <td>False</td>\n",
       "      <td>p3</td>\n",
       "    </tr>\n",
       "    <tr>\n",
       "      <th>962</th>\n",
       "      <td>705970349788291072</td>\n",
       "      <td>1</td>\n",
       "      <td>jpg</td>\n",
       "      <td>chow</td>\n",
       "      <td>0.036953</td>\n",
       "      <td>True</td>\n",
       "      <td>p3</td>\n",
       "    </tr>\n",
       "    <tr>\n",
       "      <th>1832</th>\n",
       "      <td>836677758902222849</td>\n",
       "      <td>2</td>\n",
       "      <td>jpg</td>\n",
       "      <td>snow_leopard</td>\n",
       "      <td>0.079694</td>\n",
       "      <td>False</td>\n",
       "      <td>p3</td>\n",
       "    </tr>\n",
       "  </tbody>\n",
       "</table>\n",
       "</div>"
      ],
      "text/plain": [
       "                tweet_id  img_num im_type         guess      conf    dog prd\n",
       "1336  758355060040593408        1     jpg   Siamese_cat  0.000117  False  p3\n",
       "962   705970349788291072        1     jpg          chow  0.036953   True  p3\n",
       "1832  836677758902222849        2     jpg  snow_leopard  0.079694  False  p3"
      ]
     },
     "execution_count": 42,
     "metadata": {},
     "output_type": "execute_result"
    }
   ],
   "source": [
    "# Test visually\n",
    "prd3.sample(3)"
   ]
  },
  {
   "cell_type": "code",
   "execution_count": 43,
   "metadata": {},
   "outputs": [],
   "source": [
    "# Concatinate all 3 DataFrames with a new attribute \"prd\" indicating whether it's the prediction 1, 2, or 3\n",
    "frames = [prd1, prd2, prd3]\n",
    "prediction_clean=pd.concat(frames)"
   ]
  },
  {
   "cell_type": "code",
   "execution_count": 44,
   "metadata": {},
   "outputs": [
    {
     "data": {
      "text/html": [
       "<div>\n",
       "<style scoped>\n",
       "    .dataframe tbody tr th:only-of-type {\n",
       "        vertical-align: middle;\n",
       "    }\n",
       "\n",
       "    .dataframe tbody tr th {\n",
       "        vertical-align: top;\n",
       "    }\n",
       "\n",
       "    .dataframe thead th {\n",
       "        text-align: right;\n",
       "    }\n",
       "</style>\n",
       "<table border=\"1\" class=\"dataframe\">\n",
       "  <thead>\n",
       "    <tr style=\"text-align: right;\">\n",
       "      <th></th>\n",
       "      <th>tweet_id</th>\n",
       "      <th>img_num</th>\n",
       "      <th>im_type</th>\n",
       "      <th>guess</th>\n",
       "      <th>conf</th>\n",
       "      <th>dog</th>\n",
       "      <th>prd</th>\n",
       "    </tr>\n",
       "  </thead>\n",
       "  <tbody>\n",
       "    <tr>\n",
       "      <th>695</th>\n",
       "      <td>684460069371654144</td>\n",
       "      <td>1</td>\n",
       "      <td>jpg</td>\n",
       "      <td>Chesapeake_Bay_retriever</td>\n",
       "      <td>0.194897</td>\n",
       "      <td>True</td>\n",
       "      <td>p2</td>\n",
       "    </tr>\n",
       "    <tr>\n",
       "      <th>1337</th>\n",
       "      <td>758405701903519748</td>\n",
       "      <td>4</td>\n",
       "      <td>jpg</td>\n",
       "      <td>Chesapeake_Bay_retriever</td>\n",
       "      <td>0.702954</td>\n",
       "      <td>True</td>\n",
       "      <td>p1</td>\n",
       "    </tr>\n",
       "    <tr>\n",
       "      <th>393</th>\n",
       "      <td>673583129559498752</td>\n",
       "      <td>1</td>\n",
       "      <td>jpg</td>\n",
       "      <td>golden_retriever</td>\n",
       "      <td>0.113946</td>\n",
       "      <td>True</td>\n",
       "      <td>p2</td>\n",
       "    </tr>\n",
       "    <tr>\n",
       "      <th>1094</th>\n",
       "      <td>719991154352222208</td>\n",
       "      <td>2</td>\n",
       "      <td>jpg</td>\n",
       "      <td>golden_retriever</td>\n",
       "      <td>0.605304</td>\n",
       "      <td>True</td>\n",
       "      <td>p1</td>\n",
       "    </tr>\n",
       "    <tr>\n",
       "      <th>1411</th>\n",
       "      <td>770772759874076672</td>\n",
       "      <td>1</td>\n",
       "      <td>jpg</td>\n",
       "      <td>chow</td>\n",
       "      <td>0.979515</td>\n",
       "      <td>True</td>\n",
       "      <td>p1</td>\n",
       "    </tr>\n",
       "  </tbody>\n",
       "</table>\n",
       "</div>"
      ],
      "text/plain": [
       "                tweet_id  img_num im_type                     guess      conf  \\\n",
       "695   684460069371654144        1     jpg  Chesapeake_Bay_retriever  0.194897   \n",
       "1337  758405701903519748        4     jpg  Chesapeake_Bay_retriever  0.702954   \n",
       "393   673583129559498752        1     jpg          golden_retriever  0.113946   \n",
       "1094  719991154352222208        2     jpg          golden_retriever  0.605304   \n",
       "1411  770772759874076672        1     jpg                      chow  0.979515   \n",
       "\n",
       "       dog prd  \n",
       "695   True  p2  \n",
       "1337  True  p1  \n",
       "393   True  p2  \n",
       "1094  True  p1  \n",
       "1411  True  p1  "
      ]
     },
     "execution_count": 44,
     "metadata": {},
     "output_type": "execute_result"
    }
   ],
   "source": [
    "# Check the results\n",
    "prediction_clean.sample(5)"
   ]
  },
  {
   "cell_type": "markdown",
   "metadata": {},
   "source": [
    "#### 3. Save the cleaned file"
   ]
  },
  {
   "cell_type": "code",
   "execution_count": 45,
   "metadata": {},
   "outputs": [],
   "source": [
    "# Create a folder if it's not craeted\n",
    "folder_name = 'Clean_dataset'\n",
    "if not os.path.exists(folder_name):\n",
    "    os.makedirs('Clean_dataset')"
   ]
  },
  {
   "cell_type": "code",
   "execution_count": 46,
   "metadata": {},
   "outputs": [],
   "source": [
    "# Save into a csv format\n",
    "df.to_csv(prediction_clean, 'Clean_dataset/prediction_clean.csv', sep=',')"
   ]
  },
  {
   "cell_type": "markdown",
   "metadata": {},
   "source": [
    "### Create Twitter User DataFrame"
   ]
  },
  {
   "cell_type": "markdown",
   "metadata": {},
   "source": [
    "#### 1. Create a new DataFrame ( Tidiness & Quality )\n",
    "I'll grab user attributes and save it into a separate data frame. I'd like to see the followers growth rate. "
   ]
  },
  {
   "cell_type": "code",
   "execution_count": 47,
   "metadata": {},
   "outputs": [
    {
     "data": {
      "text/html": [
       "<div>\n",
       "<style scoped>\n",
       "    .dataframe tbody tr th:only-of-type {\n",
       "        vertical-align: middle;\n",
       "    }\n",
       "\n",
       "    .dataframe tbody tr th {\n",
       "        vertical-align: top;\n",
       "    }\n",
       "\n",
       "    .dataframe thead th {\n",
       "        text-align: right;\n",
       "    }\n",
       "</style>\n",
       "<table border=\"1\" class=\"dataframe\">\n",
       "  <thead>\n",
       "    <tr style=\"text-align: right;\">\n",
       "      <th></th>\n",
       "      <th>tweet_id</th>\n",
       "      <th>in_reply_to_status_id</th>\n",
       "      <th>in_reply_to_user_id</th>\n",
       "      <th>timestamp</th>\n",
       "      <th>source</th>\n",
       "      <th>text</th>\n",
       "      <th>retweeted_status_id</th>\n",
       "      <th>retweeted_status_user_id</th>\n",
       "      <th>retweeted_status_timestamp</th>\n",
       "      <th>expanded_urls</th>\n",
       "      <th>...</th>\n",
       "      <th>retweeted</th>\n",
       "      <th>tweet_favourite_count</th>\n",
       "      <th>tweet_hashtags</th>\n",
       "      <th>user_favourites_count</th>\n",
       "      <th>user_followers_count</th>\n",
       "      <th>user_friends_count</th>\n",
       "      <th>user_id</th>\n",
       "      <th>user_listed_count</th>\n",
       "      <th>user_statuses_count</th>\n",
       "      <th>date</th>\n",
       "    </tr>\n",
       "  </thead>\n",
       "  <tbody>\n",
       "    <tr>\n",
       "      <th>0</th>\n",
       "      <td>892420643555336193</td>\n",
       "      <td>NaN</td>\n",
       "      <td>NaN</td>\n",
       "      <td>2017-08-01 16:23:56 +0000</td>\n",
       "      <td>&lt;a href=\"http://twitter.com/download/iphone\" r...</td>\n",
       "      <td>This is Phineas. He's a mystical boy. Only eve...</td>\n",
       "      <td>NaN</td>\n",
       "      <td>NaN</td>\n",
       "      <td>NaN</td>\n",
       "      <td>https://twitter.com/dog_rates/status/892420643...</td>\n",
       "      <td>...</td>\n",
       "      <td>False</td>\n",
       "      <td>39467</td>\n",
       "      <td></td>\n",
       "      <td>114031</td>\n",
       "      <td>3200889</td>\n",
       "      <td>104</td>\n",
       "      <td>4196983835</td>\n",
       "      <td>2784</td>\n",
       "      <td>5288</td>\n",
       "      <td>2017.08</td>\n",
       "    </tr>\n",
       "    <tr>\n",
       "      <th>1</th>\n",
       "      <td>892177421306343426</td>\n",
       "      <td>NaN</td>\n",
       "      <td>NaN</td>\n",
       "      <td>2017-08-01 00:17:27 +0000</td>\n",
       "      <td>&lt;a href=\"http://twitter.com/download/iphone\" r...</td>\n",
       "      <td>This is Tilly. She's just checking pup on you....</td>\n",
       "      <td>NaN</td>\n",
       "      <td>NaN</td>\n",
       "      <td>NaN</td>\n",
       "      <td>https://twitter.com/dog_rates/status/892177421...</td>\n",
       "      <td>...</td>\n",
       "      <td>False</td>\n",
       "      <td>33819</td>\n",
       "      <td></td>\n",
       "      <td>114031</td>\n",
       "      <td>3200889</td>\n",
       "      <td>104</td>\n",
       "      <td>4196983835</td>\n",
       "      <td>2784</td>\n",
       "      <td>5288</td>\n",
       "      <td>2017.08</td>\n",
       "    </tr>\n",
       "    <tr>\n",
       "      <th>2</th>\n",
       "      <td>891815181378084864</td>\n",
       "      <td>NaN</td>\n",
       "      <td>NaN</td>\n",
       "      <td>2017-07-31 00:18:03 +0000</td>\n",
       "      <td>&lt;a href=\"http://twitter.com/download/iphone\" r...</td>\n",
       "      <td>This is Archie. He is a rare Norwegian Pouncin...</td>\n",
       "      <td>NaN</td>\n",
       "      <td>NaN</td>\n",
       "      <td>NaN</td>\n",
       "      <td>https://twitter.com/dog_rates/status/891815181...</td>\n",
       "      <td>...</td>\n",
       "      <td>False</td>\n",
       "      <td>25461</td>\n",
       "      <td></td>\n",
       "      <td>114031</td>\n",
       "      <td>3200889</td>\n",
       "      <td>104</td>\n",
       "      <td>4196983835</td>\n",
       "      <td>2784</td>\n",
       "      <td>5288</td>\n",
       "      <td>2017.07</td>\n",
       "    </tr>\n",
       "  </tbody>\n",
       "</table>\n",
       "<p>3 rows × 28 columns</p>\n",
       "</div>"
      ],
      "text/plain": [
       "             tweet_id  in_reply_to_status_id  in_reply_to_user_id  \\\n",
       "0  892420643555336193                    NaN                  NaN   \n",
       "1  892177421306343426                    NaN                  NaN   \n",
       "2  891815181378084864                    NaN                  NaN   \n",
       "\n",
       "                   timestamp  \\\n",
       "0  2017-08-01 16:23:56 +0000   \n",
       "1  2017-08-01 00:17:27 +0000   \n",
       "2  2017-07-31 00:18:03 +0000   \n",
       "\n",
       "                                              source  \\\n",
       "0  <a href=\"http://twitter.com/download/iphone\" r...   \n",
       "1  <a href=\"http://twitter.com/download/iphone\" r...   \n",
       "2  <a href=\"http://twitter.com/download/iphone\" r...   \n",
       "\n",
       "                                                text  retweeted_status_id  \\\n",
       "0  This is Phineas. He's a mystical boy. Only eve...                  NaN   \n",
       "1  This is Tilly. She's just checking pup on you....                  NaN   \n",
       "2  This is Archie. He is a rare Norwegian Pouncin...                  NaN   \n",
       "\n",
       "   retweeted_status_user_id retweeted_status_timestamp  \\\n",
       "0                       NaN                        NaN   \n",
       "1                       NaN                        NaN   \n",
       "2                       NaN                        NaN   \n",
       "\n",
       "                                       expanded_urls   ...     retweeted  \\\n",
       "0  https://twitter.com/dog_rates/status/892420643...   ...         False   \n",
       "1  https://twitter.com/dog_rates/status/892177421...   ...         False   \n",
       "2  https://twitter.com/dog_rates/status/891815181...   ...         False   \n",
       "\n",
       "   tweet_favourite_count tweet_hashtags user_favourites_count  \\\n",
       "0                  39467                               114031   \n",
       "1                  33819                               114031   \n",
       "2                  25461                               114031   \n",
       "\n",
       "  user_followers_count user_friends_count     user_id  user_listed_count  \\\n",
       "0              3200889                104  4196983835               2784   \n",
       "1              3200889                104  4196983835               2784   \n",
       "2              3200889                104  4196983835               2784   \n",
       "\n",
       "   user_statuses_count     date  \n",
       "0                 5288  2017.08  \n",
       "1                 5288  2017.08  \n",
       "2                 5288  2017.07  \n",
       "\n",
       "[3 rows x 28 columns]"
      ]
     },
     "execution_count": 47,
     "metadata": {},
     "output_type": "execute_result"
    }
   ],
   "source": [
    "# Check the attributes\n",
    "t_merge.head(3)"
   ]
  },
  {
   "cell_type": "code",
   "execution_count": 48,
   "metadata": {},
   "outputs": [],
   "source": [
    "# Create a new User Dataframe with user information and twitter dates\n",
    "user=pd.DataFrame(t_merge, columns=['timestamp', 'date','user_favourites_count', 'user_followers_count', \n",
    "                                    'user_id', 'user_listed_count'])"
   ]
  },
  {
   "cell_type": "code",
   "execution_count": 49,
   "metadata": {},
   "outputs": [
    {
     "data": {
      "text/html": [
       "<div>\n",
       "<style scoped>\n",
       "    .dataframe tbody tr th:only-of-type {\n",
       "        vertical-align: middle;\n",
       "    }\n",
       "\n",
       "    .dataframe tbody tr th {\n",
       "        vertical-align: top;\n",
       "    }\n",
       "\n",
       "    .dataframe thead th {\n",
       "        text-align: right;\n",
       "    }\n",
       "</style>\n",
       "<table border=\"1\" class=\"dataframe\">\n",
       "  <thead>\n",
       "    <tr style=\"text-align: right;\">\n",
       "      <th></th>\n",
       "      <th>timestamp</th>\n",
       "      <th>date</th>\n",
       "      <th>user_favourites_count</th>\n",
       "      <th>user_followers_count</th>\n",
       "      <th>user_id</th>\n",
       "      <th>user_listed_count</th>\n",
       "    </tr>\n",
       "  </thead>\n",
       "  <tbody>\n",
       "    <tr>\n",
       "      <th>0</th>\n",
       "      <td>2017-08-01 16:23:56 +0000</td>\n",
       "      <td>2017.08</td>\n",
       "      <td>114031</td>\n",
       "      <td>3200889</td>\n",
       "      <td>4196983835</td>\n",
       "      <td>2784</td>\n",
       "    </tr>\n",
       "    <tr>\n",
       "      <th>1</th>\n",
       "      <td>2017-08-01 00:17:27 +0000</td>\n",
       "      <td>2017.08</td>\n",
       "      <td>114031</td>\n",
       "      <td>3200889</td>\n",
       "      <td>4196983835</td>\n",
       "      <td>2784</td>\n",
       "    </tr>\n",
       "  </tbody>\n",
       "</table>\n",
       "</div>"
      ],
      "text/plain": [
       "                   timestamp     date  user_favourites_count  \\\n",
       "0  2017-08-01 16:23:56 +0000  2017.08                 114031   \n",
       "1  2017-08-01 00:17:27 +0000  2017.08                 114031   \n",
       "\n",
       "   user_followers_count     user_id  user_listed_count  \n",
       "0               3200889  4196983835               2784  \n",
       "1               3200889  4196983835               2784  "
      ]
     },
     "execution_count": 49,
     "metadata": {},
     "output_type": "execute_result"
    }
   ],
   "source": [
    "# Test visually\n",
    "user.head(2)"
   ]
  },
  {
   "cell_type": "code",
   "execution_count": 50,
   "metadata": {},
   "outputs": [
    {
     "data": {
      "text/plain": [
       "2354"
      ]
     },
     "execution_count": 50,
     "metadata": {},
     "output_type": "execute_result"
    }
   ],
   "source": [
    "# Count duplicated records\n",
    "user.duplicated(['user_favourites_count', 'user_followers_count', \n",
    "                 'user_id', 'user_listed_count', 'date']).count()"
   ]
  },
  {
   "cell_type": "code",
   "execution_count": 51,
   "metadata": {},
   "outputs": [],
   "source": [
    "# Remove duplicates and leave only unique values\n",
    "user.drop_duplicates(['user_favourites_count', 'user_followers_count', \n",
    "                      'user_id', 'user_listed_count', 'date'], inplace=True)"
   ]
  },
  {
   "cell_type": "code",
   "execution_count": 52,
   "metadata": {},
   "outputs": [
    {
     "data": {
      "text/plain": [
       "104"
      ]
     },
     "execution_count": 52,
     "metadata": {},
     "output_type": "execute_result"
    }
   ],
   "source": [
    "# Count unique user records\n",
    "user['user_id'].count()"
   ]
  },
  {
   "cell_type": "code",
   "execution_count": 53,
   "metadata": {},
   "outputs": [
    {
     "data": {
      "text/html": [
       "<div>\n",
       "<style scoped>\n",
       "    .dataframe tbody tr th:only-of-type {\n",
       "        vertical-align: middle;\n",
       "    }\n",
       "\n",
       "    .dataframe tbody tr th {\n",
       "        vertical-align: top;\n",
       "    }\n",
       "\n",
       "    .dataframe thead th {\n",
       "        text-align: right;\n",
       "    }\n",
       "</style>\n",
       "<table border=\"1\" class=\"dataframe\">\n",
       "  <thead>\n",
       "    <tr style=\"text-align: right;\">\n",
       "      <th></th>\n",
       "      <th>timestamp</th>\n",
       "      <th>date</th>\n",
       "      <th>user_favourites_count</th>\n",
       "      <th>user_followers_count</th>\n",
       "      <th>user_id</th>\n",
       "      <th>user_listed_count</th>\n",
       "    </tr>\n",
       "  </thead>\n",
       "  <tbody>\n",
       "    <tr>\n",
       "      <th>0</th>\n",
       "      <td>2017-08-01 16:23:56 +0000</td>\n",
       "      <td>2017.08</td>\n",
       "      <td>114031</td>\n",
       "      <td>3200889</td>\n",
       "      <td>4196983835</td>\n",
       "      <td>2784</td>\n",
       "    </tr>\n",
       "    <tr>\n",
       "      <th>2</th>\n",
       "      <td>2017-07-31 00:18:03 +0000</td>\n",
       "      <td>2017.07</td>\n",
       "      <td>114031</td>\n",
       "      <td>3200889</td>\n",
       "      <td>4196983835</td>\n",
       "      <td>2784</td>\n",
       "    </tr>\n",
       "    <tr>\n",
       "      <th>20</th>\n",
       "      <td>2017-07-19 16:06:48 +0000</td>\n",
       "      <td>2017.07</td>\n",
       "      <td>114031</td>\n",
       "      <td>3200890</td>\n",
       "      <td>4196983835</td>\n",
       "      <td>2784</td>\n",
       "    </tr>\n",
       "  </tbody>\n",
       "</table>\n",
       "</div>"
      ],
      "text/plain": [
       "                    timestamp     date  user_favourites_count  \\\n",
       "0   2017-08-01 16:23:56 +0000  2017.08                 114031   \n",
       "2   2017-07-31 00:18:03 +0000  2017.07                 114031   \n",
       "20  2017-07-19 16:06:48 +0000  2017.07                 114031   \n",
       "\n",
       "    user_followers_count     user_id  user_listed_count  \n",
       "0                3200889  4196983835               2784  \n",
       "2                3200889  4196983835               2784  \n",
       "20               3200890  4196983835               2784  "
      ]
     },
     "execution_count": 53,
     "metadata": {},
     "output_type": "execute_result"
    }
   ],
   "source": [
    "# Test visually\n",
    "user.head(3)"
   ]
  },
  {
   "cell_type": "code",
   "execution_count": 54,
   "metadata": {},
   "outputs": [
    {
     "name": "stdout",
     "output_type": "stream",
     "text": [
      "The count of followers within 2015.11 and 2017.08 time period changed by 1.0%\n"
     ]
    }
   ],
   "source": [
    "# Check the insights\n",
    "print ('The count of followers within {} and {} time period changed by {}%'.format \n",
    "       ((user['date'].min()), (user['date'].max()), (round((user['user_followers_count'].max())/(user['user_followers_count'].min())))))"
   ]
  },
  {
   "cell_type": "markdown",
   "metadata": {},
   "source": [
    "#### 2. Save cleaned User.csv file"
   ]
  },
  {
   "cell_type": "code",
   "execution_count": 55,
   "metadata": {},
   "outputs": [],
   "source": [
    "# Save into a csv format\n",
    "df.to_csv(user, 'Clean_dataset/user_clean.csv', sep=',')"
   ]
  },
  {
   "cell_type": "markdown",
   "metadata": {},
   "source": [
    "### Clean Twitter information"
   ]
  },
  {
   "cell_type": "markdown",
   "metadata": {},
   "source": [
    "#### 1. Clean dataframe by removing unecessary attributes ( Quality )\n",
    "I want to reduce the list of attributes and keep only the ones I'm going to clean or use for visualisations. All the other attributes are dropped from this analysis. "
   ]
  },
  {
   "cell_type": "code",
   "execution_count": 56,
   "metadata": {},
   "outputs": [
    {
     "data": {
      "text/plain": [
       "(2354, 28)"
      ]
     },
     "execution_count": 56,
     "metadata": {},
     "output_type": "execute_result"
    }
   ],
   "source": [
    "t_merge.shape"
   ]
  },
  {
   "cell_type": "code",
   "execution_count": 57,
   "metadata": {},
   "outputs": [
    {
     "name": "stdout",
     "output_type": "stream",
     "text": [
      "<class 'pandas.core.frame.DataFrame'>\n",
      "Int64Index: 2354 entries, 0 to 2353\n",
      "Data columns (total 28 columns):\n",
      "tweet_id                      2354 non-null int64\n",
      "in_reply_to_status_id         78 non-null float64\n",
      "in_reply_to_user_id           78 non-null float64\n",
      "timestamp                     2354 non-null object\n",
      "source                        2354 non-null object\n",
      "text                          2354 non-null object\n",
      "retweeted_status_id           179 non-null float64\n",
      "retweeted_status_user_id      179 non-null float64\n",
      "retweeted_status_timestamp    179 non-null object\n",
      "expanded_urls                 2295 non-null object\n",
      "rating_numerator              2354 non-null int64\n",
      "rating_denominator            2354 non-null int64\n",
      "name                          2354 non-null object\n",
      "doggo                         2354 non-null object\n",
      "floofer                       2354 non-null object\n",
      "pupper                        2354 non-null object\n",
      "puppo                         2354 non-null object\n",
      "retweet_count                 2354 non-null int64\n",
      "retweeted                     2354 non-null bool\n",
      "tweet_favourite_count         2354 non-null int64\n",
      "tweet_hashtags                2354 non-null object\n",
      "user_favourites_count         2354 non-null int64\n",
      "user_followers_count          2354 non-null int64\n",
      "user_friends_count            2354 non-null int64\n",
      "user_id                       2354 non-null int64\n",
      "user_listed_count             2354 non-null int64\n",
      "user_statuses_count           2354 non-null int64\n",
      "date                          2354 non-null float64\n",
      "dtypes: bool(1), float64(5), int64(11), object(11)\n",
      "memory usage: 517.2+ KB\n"
     ]
    }
   ],
   "source": [
    "# Check the attributes and identify the ones to be dropped\n",
    "t_merge.info()"
   ]
  },
  {
   "cell_type": "code",
   "execution_count": 58,
   "metadata": {},
   "outputs": [],
   "source": [
    "# Drop attribute, that I'm not going to use for the analysis\n",
    "t_merge.drop(columns=['user_favourites_count', 'user_followers_count', 'user_friends_count', 'user_id', \n",
    "                      'user_listed_count', 'user_statuses_count', 'in_reply_to_status_id',\n",
    "                      'in_reply_to_user_id', 'expanded_urls', 'retweeted_status_id', \n",
    "                      'retweeted_status_user_id'], inplace = True)"
   ]
  },
  {
   "cell_type": "code",
   "execution_count": 59,
   "metadata": {},
   "outputs": [
    {
     "data": {
      "text/plain": [
       "(2354, 17)"
      ]
     },
     "execution_count": 59,
     "metadata": {},
     "output_type": "execute_result"
    }
   ],
   "source": [
    "# Test programatically \n",
    "t_merge.shape"
   ]
  },
  {
   "cell_type": "code",
   "execution_count": 60,
   "metadata": {},
   "outputs": [
    {
     "data": {
      "text/html": [
       "<div>\n",
       "<style scoped>\n",
       "    .dataframe tbody tr th:only-of-type {\n",
       "        vertical-align: middle;\n",
       "    }\n",
       "\n",
       "    .dataframe tbody tr th {\n",
       "        vertical-align: top;\n",
       "    }\n",
       "\n",
       "    .dataframe thead th {\n",
       "        text-align: right;\n",
       "    }\n",
       "</style>\n",
       "<table border=\"1\" class=\"dataframe\">\n",
       "  <thead>\n",
       "    <tr style=\"text-align: right;\">\n",
       "      <th></th>\n",
       "      <th>tweet_id</th>\n",
       "      <th>timestamp</th>\n",
       "      <th>source</th>\n",
       "      <th>text</th>\n",
       "      <th>retweeted_status_timestamp</th>\n",
       "      <th>rating_numerator</th>\n",
       "      <th>rating_denominator</th>\n",
       "      <th>name</th>\n",
       "      <th>doggo</th>\n",
       "      <th>floofer</th>\n",
       "      <th>pupper</th>\n",
       "      <th>puppo</th>\n",
       "      <th>retweet_count</th>\n",
       "      <th>retweeted</th>\n",
       "      <th>tweet_favourite_count</th>\n",
       "      <th>tweet_hashtags</th>\n",
       "      <th>date</th>\n",
       "    </tr>\n",
       "  </thead>\n",
       "  <tbody>\n",
       "    <tr>\n",
       "      <th>0</th>\n",
       "      <td>892420643555336193</td>\n",
       "      <td>2017-08-01 16:23:56 +0000</td>\n",
       "      <td>&lt;a href=\"http://twitter.com/download/iphone\" r...</td>\n",
       "      <td>This is Phineas. He's a mystical boy. Only eve...</td>\n",
       "      <td>NaN</td>\n",
       "      <td>13</td>\n",
       "      <td>10</td>\n",
       "      <td>Phineas</td>\n",
       "      <td>None</td>\n",
       "      <td>None</td>\n",
       "      <td>None</td>\n",
       "      <td>None</td>\n",
       "      <td>8853</td>\n",
       "      <td>False</td>\n",
       "      <td>39467</td>\n",
       "      <td></td>\n",
       "      <td>2017.08</td>\n",
       "    </tr>\n",
       "  </tbody>\n",
       "</table>\n",
       "</div>"
      ],
      "text/plain": [
       "             tweet_id                  timestamp  \\\n",
       "0  892420643555336193  2017-08-01 16:23:56 +0000   \n",
       "\n",
       "                                              source  \\\n",
       "0  <a href=\"http://twitter.com/download/iphone\" r...   \n",
       "\n",
       "                                                text  \\\n",
       "0  This is Phineas. He's a mystical boy. Only eve...   \n",
       "\n",
       "  retweeted_status_timestamp  rating_numerator  rating_denominator     name  \\\n",
       "0                        NaN                13                  10  Phineas   \n",
       "\n",
       "  doggo floofer pupper puppo  retweet_count  retweeted  tweet_favourite_count  \\\n",
       "0  None    None   None  None           8853      False                  39467   \n",
       "\n",
       "  tweet_hashtags     date  \n",
       "0                 2017.08  "
      ]
     },
     "execution_count": 60,
     "metadata": {},
     "output_type": "execute_result"
    }
   ],
   "source": [
    "# Test visually\n",
    "t_merge.head(1)"
   ]
  },
  {
   "cell_type": "markdown",
   "metadata": {},
   "source": [
    "#### 2. Extract source name from the link ( Quality )\n",
    "There are 4 types of sources that are presented by a link. I want to use regular expressions to extract the titles from a link. "
   ]
  },
  {
   "cell_type": "code",
   "execution_count": 61,
   "metadata": {},
   "outputs": [
    {
     "data": {
      "text/plain": [
       "array(['<a href=\"http://twitter.com/download/iphone\" rel=\"nofollow\">Twitter for iPhone</a>',\n",
       "       '<a href=\"http://twitter.com\" rel=\"nofollow\">Twitter Web Client</a>',\n",
       "       '<a href=\"http://vine.co\" rel=\"nofollow\">Vine - Make a Scene</a>',\n",
       "       '<a href=\"https://about.twitter.com/products/tweetdeck\" rel=\"nofollow\">TweetDeck</a>'],\n",
       "      dtype=object)"
      ]
     },
     "execution_count": 61,
     "metadata": {},
     "output_type": "execute_result"
    }
   ],
   "source": [
    "# Check the source values\n",
    "t_merge.source.unique()"
   ]
  },
  {
   "cell_type": "code",
   "execution_count": 62,
   "metadata": {},
   "outputs": [],
   "source": [
    "# Code, i.e. split the spring and grab the source name\n",
    "t_merge['source'] = t_merge['source'].str.split(\">\").str[1].str.split(\"<\").str[0]"
   ]
  },
  {
   "cell_type": "code",
   "execution_count": 63,
   "metadata": {},
   "outputs": [
    {
     "data": {
      "text/plain": [
       "array(['Twitter for iPhone', 'Twitter Web Client', 'Vine - Make a Scene',\n",
       "       'TweetDeck'], dtype=object)"
      ]
     },
     "execution_count": 63,
     "metadata": {},
     "output_type": "execute_result"
    }
   ],
   "source": [
    "# Test\n",
    "t_merge['source'].unique()"
   ]
  },
  {
   "cell_type": "markdown",
   "metadata": {},
   "source": [
    "#### 3. Clean rating information ( Quality )\n",
    "\n",
    "As it was described in the description \"The **ratings** probably aren't all correct.\" Rating information is part of the text and always have a format \"digit/digit\". Here are some examples of the text with the rating in the end, however as you see the same pattern might appear twice in the text. "
   ]
  },
  {
   "cell_type": "code",
   "execution_count": 64,
   "metadata": {},
   "outputs": [
    {
     "name": "stdout",
     "output_type": "stream",
     "text": [
      "Text examples: \n",
      " * This is a funny dog. Weird toes. Won't come down. Loves branch. Refuses to eat his food. Hard to cuddle with. 3/10 https://t.co/IIXis0zta0 or \n",
      " * This is an Albanian 3 1/2 legged  Episcopalian. Loves well-polished hardwood flooring. Penis on the collar. 9/10 https://t.co/d9NcXFKwLv or \n",
      " * Can take selfies 11/10 https://t.co/ws2AMaNwPW\n"
     ]
    }
   ],
   "source": [
    "print('Text examples: \\n * {} or \\n * {} or \\n * {}'.format(t_merge['text'][2332], t_merge['text'][2333], t_merge['text'][2334]))"
   ]
  },
  {
   "cell_type": "markdown",
   "metadata": {},
   "source": [
    "I want to check if every record has a text and if there is a nan value in the ratings. "
   ]
  },
  {
   "cell_type": "code",
   "execution_count": 65,
   "metadata": {},
   "outputs": [
    {
     "name": "stdout",
     "output_type": "stream",
     "text": [
      "Count of records with empty text is 0\n",
      "Count of records with empty rating is 0/0\n"
     ]
    }
   ],
   "source": [
    "# Check if all the tweets have a text\n",
    "print('Count of records with empty text is {}'.format (t_merge['text'].isnull().sum()))\n",
    "# Check if there are empty ratings\n",
    "print('Count of records with empty rating is {}/{}'.format ((t_merge['rating_numerator'].isnull().sum()), (t_merge['rating_denominator'].isnull().sum())))"
   ]
  },
  {
   "cell_type": "markdown",
   "metadata": {},
   "source": [
    "In order to grab the last \"digit/digit\" pattern in the string, I need to reverse the string, but before this, I'll get rid of the link information that is at the end of the string."
   ]
  },
  {
   "cell_type": "code",
   "execution_count": 66,
   "metadata": {},
   "outputs": [],
   "source": [
    "# Code. Remove the link and reverse the string. \n",
    "rating = t_merge['text'].str.split('https:').str[0].str[::-1]\n",
    "# Grap the first pattern \n",
    "rating = rating.str.extract('(\\d+)/(\\d+)')\n",
    "# Store nto the rating format and do a back reverse\n",
    "full_rating = (rating[0]+'/'+rating[1])\n",
    "full_rating = full_rating.str[::-1]"
   ]
  },
  {
   "cell_type": "code",
   "execution_count": 67,
   "metadata": {},
   "outputs": [
    {
     "name": "stdout",
     "output_type": "stream",
     "text": [
      "Differences in old and new numerator values : 32\n",
      "Differences in old and new denominator values : 7\n"
     ]
    }
   ],
   "source": [
    "# Test by comparing the ratings\n",
    "print('Differences in old and new numerator values : {}'.format((t_merge[t_merge['rating_numerator'] != full_rating.str.split('/').str[0].astype(int)]['tweet_id'].count())))\n",
    "print('Differences in old and new denominator values : {}'.format( (t_merge[t_merge['rating_denominator'] != full_rating.str.split('/').str[1].astype(int)]['tweet_id'].count())))"
   ]
  },
  {
   "cell_type": "code",
   "execution_count": 68,
   "metadata": {},
   "outputs": [
    {
     "data": {
      "text/html": [
       "<div>\n",
       "<style scoped>\n",
       "    .dataframe tbody tr th:only-of-type {\n",
       "        vertical-align: middle;\n",
       "    }\n",
       "\n",
       "    .dataframe tbody tr th {\n",
       "        vertical-align: top;\n",
       "    }\n",
       "\n",
       "    .dataframe thead th {\n",
       "        text-align: right;\n",
       "    }\n",
       "</style>\n",
       "<table border=\"1\" class=\"dataframe\">\n",
       "  <thead>\n",
       "    <tr style=\"text-align: right;\">\n",
       "      <th></th>\n",
       "      <th>tweet_id</th>\n",
       "      <th>timestamp</th>\n",
       "      <th>source</th>\n",
       "      <th>text</th>\n",
       "      <th>retweeted_status_timestamp</th>\n",
       "      <th>rating_numerator</th>\n",
       "      <th>rating_denominator</th>\n",
       "      <th>name</th>\n",
       "      <th>doggo</th>\n",
       "      <th>floofer</th>\n",
       "      <th>pupper</th>\n",
       "      <th>puppo</th>\n",
       "      <th>retweet_count</th>\n",
       "      <th>retweeted</th>\n",
       "      <th>tweet_favourite_count</th>\n",
       "      <th>tweet_hashtags</th>\n",
       "      <th>date</th>\n",
       "    </tr>\n",
       "  </thead>\n",
       "  <tbody>\n",
       "    <tr>\n",
       "      <th>0</th>\n",
       "      <td>892420643555336193</td>\n",
       "      <td>2017-08-01 16:23:56 +0000</td>\n",
       "      <td>Twitter for iPhone</td>\n",
       "      <td>This is Phineas. He's a mystical boy. Only eve...</td>\n",
       "      <td>NaN</td>\n",
       "      <td>13</td>\n",
       "      <td>10</td>\n",
       "      <td>Phineas</td>\n",
       "      <td>None</td>\n",
       "      <td>None</td>\n",
       "      <td>None</td>\n",
       "      <td>None</td>\n",
       "      <td>8853</td>\n",
       "      <td>False</td>\n",
       "      <td>39467</td>\n",
       "      <td></td>\n",
       "      <td>2017.08</td>\n",
       "    </tr>\n",
       "    <tr>\n",
       "      <th>1</th>\n",
       "      <td>892177421306343426</td>\n",
       "      <td>2017-08-01 00:17:27 +0000</td>\n",
       "      <td>Twitter for iPhone</td>\n",
       "      <td>This is Tilly. She's just checking pup on you....</td>\n",
       "      <td>NaN</td>\n",
       "      <td>13</td>\n",
       "      <td>10</td>\n",
       "      <td>Tilly</td>\n",
       "      <td>None</td>\n",
       "      <td>None</td>\n",
       "      <td>None</td>\n",
       "      <td>None</td>\n",
       "      <td>6514</td>\n",
       "      <td>False</td>\n",
       "      <td>33819</td>\n",
       "      <td></td>\n",
       "      <td>2017.08</td>\n",
       "    </tr>\n",
       "    <tr>\n",
       "      <th>2</th>\n",
       "      <td>891815181378084864</td>\n",
       "      <td>2017-07-31 00:18:03 +0000</td>\n",
       "      <td>Twitter for iPhone</td>\n",
       "      <td>This is Archie. He is a rare Norwegian Pouncin...</td>\n",
       "      <td>NaN</td>\n",
       "      <td>12</td>\n",
       "      <td>10</td>\n",
       "      <td>Archie</td>\n",
       "      <td>None</td>\n",
       "      <td>None</td>\n",
       "      <td>None</td>\n",
       "      <td>None</td>\n",
       "      <td>4328</td>\n",
       "      <td>False</td>\n",
       "      <td>25461</td>\n",
       "      <td></td>\n",
       "      <td>2017.07</td>\n",
       "    </tr>\n",
       "  </tbody>\n",
       "</table>\n",
       "</div>"
      ],
      "text/plain": [
       "             tweet_id                  timestamp              source  \\\n",
       "0  892420643555336193  2017-08-01 16:23:56 +0000  Twitter for iPhone   \n",
       "1  892177421306343426  2017-08-01 00:17:27 +0000  Twitter for iPhone   \n",
       "2  891815181378084864  2017-07-31 00:18:03 +0000  Twitter for iPhone   \n",
       "\n",
       "                                                text  \\\n",
       "0  This is Phineas. He's a mystical boy. Only eve...   \n",
       "1  This is Tilly. She's just checking pup on you....   \n",
       "2  This is Archie. He is a rare Norwegian Pouncin...   \n",
       "\n",
       "  retweeted_status_timestamp  rating_numerator  rating_denominator     name  \\\n",
       "0                        NaN                13                  10  Phineas   \n",
       "1                        NaN                13                  10    Tilly   \n",
       "2                        NaN                12                  10   Archie   \n",
       "\n",
       "  doggo floofer pupper puppo  retweet_count  retweeted  tweet_favourite_count  \\\n",
       "0  None    None   None  None           8853      False                  39467   \n",
       "1  None    None   None  None           6514      False                  33819   \n",
       "2  None    None   None  None           4328      False                  25461   \n",
       "\n",
       "  tweet_hashtags     date  \n",
       "0                 2017.08  \n",
       "1                 2017.08  \n",
       "2                 2017.07  "
      ]
     },
     "execution_count": 68,
     "metadata": {},
     "output_type": "execute_result"
    }
   ],
   "source": [
    "# Overwrite with the new values\n",
    "t_merge['rating_numerator']=full_rating.str.split('/').str[0].astype(int)\n",
    "t_merge['rating_denominator']=full_rating.str.split('/').str[1].astype(int)\n",
    "t_merge.head(3)"
   ]
  },
  {
   "cell_type": "markdown",
   "metadata": {},
   "source": [
    "#### 4. Clean Dogtionary information ( Quality )\n",
    "\n",
    "As it was described in the description \"The ratings probably aren't all correct. Same goes for the dog names and **probably dog stages**\".\n",
    "\n",
    "I'm going to scan the text and search if the categories were mentioned in the text, then I store the result in the new columns and do a comparison with the old values. Eventually, old values are replaced by new ones. "
   ]
  },
  {
   "cell_type": "code",
   "execution_count": 69,
   "metadata": {},
   "outputs": [],
   "source": [
    "# Code. Scan the text and fill in a boolean if it was mentioned in the text\n",
    "t_merge['doggo1'] = t_merge['text'].str.contains('doggo')\n",
    "t_merge['floofer1'] = t_merge['text'].str.contains('floofer')\n",
    "t_merge['pupper1'] = t_merge['text'].str.contains('pupper')\n",
    "t_merge['puppo1'] = t_merge['text'].str.contains('puppo')"
   ]
  },
  {
   "cell_type": "code",
   "execution_count": 70,
   "metadata": {},
   "outputs": [],
   "source": [
    "# Code. Correct value from bollean to the standard ones so that I could do a comparison\n",
    "t_merge['doggo1'] = t_merge['doggo1'].map({True:'doggo',False:'None'})\n",
    "t_merge['floofer1'] = t_merge['floofer1'].map({True:'floofer',False:'None'})\n",
    "t_merge['pupper1'] = t_merge['pupper1'].map({True:'pupper',False:'None'})\n",
    "t_merge['puppo1'] = t_merge['puppo1'].map({True:'puppo',False:'None'})"
   ]
  },
  {
   "cell_type": "code",
   "execution_count": 71,
   "metadata": {},
   "outputs": [
    {
     "name": "stdout",
     "output_type": "stream",
     "text": [
      "Mismatch for doggo : 19\n",
      "Mismatch for floofer : 6\n",
      "Mismatch for pupper : 33\n",
      "Mismatch for puppo : 9\n"
     ]
    }
   ],
   "source": [
    "# Test by comparing old and new values\n",
    "print ('Mismatch for doggo : {}'.format(t_merge[t_merge['doggo1'] != t_merge['doggo']]['tweet_id'].count()))\n",
    "print ('Mismatch for floofer : {}'.format(t_merge[t_merge['floofer1'] != t_merge['floofer']]['tweet_id'].count()))\n",
    "print ('Mismatch for pupper : {}'.format(t_merge[t_merge['pupper1'] != t_merge['pupper']]['tweet_id'].count()))\n",
    "print ('Mismatch for puppo : {}'.format(t_merge[t_merge['puppo1'] != t_merge['puppo']]['tweet_id'].count()))"
   ]
  },
  {
   "cell_type": "code",
   "execution_count": 72,
   "metadata": {},
   "outputs": [
    {
     "data": {
      "text/html": [
       "<div>\n",
       "<style scoped>\n",
       "    .dataframe tbody tr th:only-of-type {\n",
       "        vertical-align: middle;\n",
       "    }\n",
       "\n",
       "    .dataframe tbody tr th {\n",
       "        vertical-align: top;\n",
       "    }\n",
       "\n",
       "    .dataframe thead th {\n",
       "        text-align: right;\n",
       "    }\n",
       "</style>\n",
       "<table border=\"1\" class=\"dataframe\">\n",
       "  <thead>\n",
       "    <tr style=\"text-align: right;\">\n",
       "      <th></th>\n",
       "      <th>tweet_id</th>\n",
       "      <th>timestamp</th>\n",
       "      <th>source</th>\n",
       "      <th>text</th>\n",
       "      <th>retweeted_status_timestamp</th>\n",
       "      <th>rating_numerator</th>\n",
       "      <th>rating_denominator</th>\n",
       "      <th>name</th>\n",
       "      <th>retweet_count</th>\n",
       "      <th>retweeted</th>\n",
       "      <th>tweet_favourite_count</th>\n",
       "      <th>tweet_hashtags</th>\n",
       "      <th>date</th>\n",
       "      <th>doggo</th>\n",
       "      <th>floofer</th>\n",
       "      <th>pupper</th>\n",
       "      <th>puppo</th>\n",
       "    </tr>\n",
       "  </thead>\n",
       "  <tbody>\n",
       "    <tr>\n",
       "      <th>0</th>\n",
       "      <td>892420643555336193</td>\n",
       "      <td>2017-08-01 16:23:56 +0000</td>\n",
       "      <td>Twitter for iPhone</td>\n",
       "      <td>This is Phineas. He's a mystical boy. Only eve...</td>\n",
       "      <td>NaN</td>\n",
       "      <td>13</td>\n",
       "      <td>10</td>\n",
       "      <td>Phineas</td>\n",
       "      <td>8853</td>\n",
       "      <td>False</td>\n",
       "      <td>39467</td>\n",
       "      <td></td>\n",
       "      <td>2017.08</td>\n",
       "      <td>None</td>\n",
       "      <td>None</td>\n",
       "      <td>None</td>\n",
       "      <td>None</td>\n",
       "    </tr>\n",
       "  </tbody>\n",
       "</table>\n",
       "</div>"
      ],
      "text/plain": [
       "             tweet_id                  timestamp              source  \\\n",
       "0  892420643555336193  2017-08-01 16:23:56 +0000  Twitter for iPhone   \n",
       "\n",
       "                                                text  \\\n",
       "0  This is Phineas. He's a mystical boy. Only eve...   \n",
       "\n",
       "  retweeted_status_timestamp  rating_numerator  rating_denominator     name  \\\n",
       "0                        NaN                13                  10  Phineas   \n",
       "\n",
       "   retweet_count  retweeted  tweet_favourite_count tweet_hashtags     date  \\\n",
       "0           8853      False                  39467                 2017.08   \n",
       "\n",
       "  doggo floofer pupper puppo  \n",
       "0  None    None   None  None  "
      ]
     },
     "execution_count": 72,
     "metadata": {},
     "output_type": "execute_result"
    }
   ],
   "source": [
    "# Old values are replaced by new ones\n",
    "t_merge.drop(columns=['doggo','floofer','pupper','puppo'], inplace=True)\n",
    "t_merge = t_merge.rename(columns={'doggo1':'doggo','floofer1':'floofer', 'pupper1':'pupper', 'puppo1':'puppo'})\n",
    "t_merge.head(1)"
   ]
  },
  {
   "cell_type": "markdown",
   "metadata": {},
   "source": [
    "#### 5. Concatinate Dogtionary information into one column ( Tidiness )\n",
    "\n",
    "I'm going to merge Dogtionary category columns into one column by concatenating the strings. "
   ]
  },
  {
   "cell_type": "code",
   "execution_count": 73,
   "metadata": {},
   "outputs": [],
   "source": [
    "# Code. Concatinate strings\n",
    "t_merge.replace({'doggo':'None','floofer':'None','pupper':'None','puppo':'None'}, \"\", inplace=True)\n",
    "t_merge['dogtionary'] = t_merge['doggo'] + \" \" + t_merge['floofer'] + \" \" + t_merge['pupper'] + \" \" + t_merge['puppo']"
   ]
  },
  {
   "cell_type": "code",
   "execution_count": 74,
   "metadata": {},
   "outputs": [
    {
     "data": {
      "text/plain": [
       "array(['   ', 'doggo   ', '   puppo', '  pupper ', ' floofer  ',\n",
       "       'doggo   puppo', 'doggo  pupper '], dtype=object)"
      ]
     },
     "execution_count": 74,
     "metadata": {},
     "output_type": "execute_result"
    }
   ],
   "source": [
    "# check the result\n",
    "t_merge['dogtionary'].unique()"
   ]
  },
  {
   "cell_type": "code",
   "execution_count": 75,
   "metadata": {},
   "outputs": [],
   "source": [
    "# Remove additional spaces and assign np.nan in case of null\n",
    "t_merge['dogtionary'] = t_merge['dogtionary'].astype(str)\n",
    "t_merge['dogtionary'] = t_merge['dogtionary'].str.rstrip(' ')\n",
    "t_merge['dogtionary'] = t_merge['dogtionary'].str.lstrip(' ')\n",
    "\n",
    "t_merge['dogtionary'] = t_merge['dogtionary'].str.replace (' ',' ')\n",
    "t_merge['dogtionary'] = t_merge['dogtionary'].str.replace ('  ',' ')\n",
    "t_merge['dogtionary'] = t_merge['dogtionary'].str.replace ('   ',' ')\n",
    "\n",
    "t_merge.loc[t_merge['dogtionary'] == '', 'dogtionary'] = np.nan"
   ]
  },
  {
   "cell_type": "code",
   "execution_count": 76,
   "metadata": {},
   "outputs": [
    {
     "data": {
      "text/plain": [
       "array([nan, 'doggo', 'puppo', 'pupper', 'floofer', 'doggo  puppo',\n",
       "       'doggo pupper'], dtype=object)"
      ]
     },
     "execution_count": 76,
     "metadata": {},
     "output_type": "execute_result"
    }
   ],
   "source": [
    "# Check the results\n",
    "t_merge['dogtionary'].unique()"
   ]
  },
  {
   "cell_type": "code",
   "execution_count": 77,
   "metadata": {},
   "outputs": [
    {
     "data": {
      "text/html": [
       "<div>\n",
       "<style scoped>\n",
       "    .dataframe tbody tr th:only-of-type {\n",
       "        vertical-align: middle;\n",
       "    }\n",
       "\n",
       "    .dataframe tbody tr th {\n",
       "        vertical-align: top;\n",
       "    }\n",
       "\n",
       "    .dataframe thead th {\n",
       "        text-align: right;\n",
       "    }\n",
       "</style>\n",
       "<table border=\"1\" class=\"dataframe\">\n",
       "  <thead>\n",
       "    <tr style=\"text-align: right;\">\n",
       "      <th></th>\n",
       "      <th>tweet_id</th>\n",
       "      <th>timestamp</th>\n",
       "      <th>source</th>\n",
       "      <th>text</th>\n",
       "      <th>retweeted_status_timestamp</th>\n",
       "      <th>rating_numerator</th>\n",
       "      <th>rating_denominator</th>\n",
       "      <th>name</th>\n",
       "      <th>retweet_count</th>\n",
       "      <th>retweeted</th>\n",
       "      <th>tweet_favourite_count</th>\n",
       "      <th>tweet_hashtags</th>\n",
       "      <th>date</th>\n",
       "      <th>dogtionary</th>\n",
       "    </tr>\n",
       "  </thead>\n",
       "  <tbody>\n",
       "    <tr>\n",
       "      <th>0</th>\n",
       "      <td>892420643555336193</td>\n",
       "      <td>2017-08-01 16:23:56 +0000</td>\n",
       "      <td>Twitter for iPhone</td>\n",
       "      <td>This is Phineas. He's a mystical boy. Only eve...</td>\n",
       "      <td>NaN</td>\n",
       "      <td>13</td>\n",
       "      <td>10</td>\n",
       "      <td>Phineas</td>\n",
       "      <td>8853</td>\n",
       "      <td>False</td>\n",
       "      <td>39467</td>\n",
       "      <td></td>\n",
       "      <td>2017.08</td>\n",
       "      <td>NaN</td>\n",
       "    </tr>\n",
       "    <tr>\n",
       "      <th>1</th>\n",
       "      <td>892177421306343426</td>\n",
       "      <td>2017-08-01 00:17:27 +0000</td>\n",
       "      <td>Twitter for iPhone</td>\n",
       "      <td>This is Tilly. She's just checking pup on you....</td>\n",
       "      <td>NaN</td>\n",
       "      <td>13</td>\n",
       "      <td>10</td>\n",
       "      <td>Tilly</td>\n",
       "      <td>6514</td>\n",
       "      <td>False</td>\n",
       "      <td>33819</td>\n",
       "      <td></td>\n",
       "      <td>2017.08</td>\n",
       "      <td>NaN</td>\n",
       "    </tr>\n",
       "    <tr>\n",
       "      <th>2</th>\n",
       "      <td>891815181378084864</td>\n",
       "      <td>2017-07-31 00:18:03 +0000</td>\n",
       "      <td>Twitter for iPhone</td>\n",
       "      <td>This is Archie. He is a rare Norwegian Pouncin...</td>\n",
       "      <td>NaN</td>\n",
       "      <td>12</td>\n",
       "      <td>10</td>\n",
       "      <td>Archie</td>\n",
       "      <td>4328</td>\n",
       "      <td>False</td>\n",
       "      <td>25461</td>\n",
       "      <td></td>\n",
       "      <td>2017.07</td>\n",
       "      <td>NaN</td>\n",
       "    </tr>\n",
       "  </tbody>\n",
       "</table>\n",
       "</div>"
      ],
      "text/plain": [
       "             tweet_id                  timestamp              source  \\\n",
       "0  892420643555336193  2017-08-01 16:23:56 +0000  Twitter for iPhone   \n",
       "1  892177421306343426  2017-08-01 00:17:27 +0000  Twitter for iPhone   \n",
       "2  891815181378084864  2017-07-31 00:18:03 +0000  Twitter for iPhone   \n",
       "\n",
       "                                                text  \\\n",
       "0  This is Phineas. He's a mystical boy. Only eve...   \n",
       "1  This is Tilly. She's just checking pup on you....   \n",
       "2  This is Archie. He is a rare Norwegian Pouncin...   \n",
       "\n",
       "  retweeted_status_timestamp  rating_numerator  rating_denominator     name  \\\n",
       "0                        NaN                13                  10  Phineas   \n",
       "1                        NaN                13                  10    Tilly   \n",
       "2                        NaN                12                  10   Archie   \n",
       "\n",
       "   retweet_count  retweeted  tweet_favourite_count tweet_hashtags     date  \\\n",
       "0           8853      False                  39467                 2017.08   \n",
       "1           6514      False                  33819                 2017.08   \n",
       "2           4328      False                  25461                 2017.07   \n",
       "\n",
       "  dogtionary  \n",
       "0        NaN  \n",
       "1        NaN  \n",
       "2        NaN  "
      ]
     },
     "execution_count": 77,
     "metadata": {},
     "output_type": "execute_result"
    }
   ],
   "source": [
    "# Drop the columns and test visually\n",
    "t_merge.drop(columns = ['doggo', 'floofer', 'pupper', 'puppo'], inplace=True)\n",
    "t_merge.head(3)"
   ]
  },
  {
   "cell_type": "markdown",
   "metadata": {},
   "source": [
    "#### 6. Correct Retweeted value ( Quality )\n",
    "Retweet information is always False which is incorrect. I'm going to add a logic, if retweet timestamp is not null, then Retweeted value should be True. "
   ]
  },
  {
   "cell_type": "code",
   "execution_count": 78,
   "metadata": {},
   "outputs": [
    {
     "data": {
      "text/plain": [
       "array([False])"
      ]
     },
     "execution_count": 78,
     "metadata": {},
     "output_type": "execute_result"
    }
   ],
   "source": [
    "# Check the unique values\n",
    "t_merge['retweeted'].unique()"
   ]
  },
  {
   "cell_type": "code",
   "execution_count": 79,
   "metadata": {},
   "outputs": [],
   "source": [
    "# Code to replace by True when the timestamp is not na\n",
    "t_merge['retweeted'] = pd.notna(t_merge['retweeted_status_timestamp'])"
   ]
  },
  {
   "cell_type": "code",
   "execution_count": 80,
   "metadata": {},
   "outputs": [
    {
     "name": "stdout",
     "output_type": "stream",
     "text": [
      "Count of retweeted_status_timestamp : 179\n",
      "Count of retweeted status : 179\n"
     ]
    }
   ],
   "source": [
    "# Test programatically\n",
    "print('Count of retweeted_status_timestamp : {}'.format(t_merge['retweeted_status_timestamp'].count()))\n",
    "print('Count of retweeted status : {}'.format(t_merge['retweeted'].sum()))"
   ]
  },
  {
   "cell_type": "markdown",
   "metadata": {},
   "source": [
    "#### 7. Save into a csv format"
   ]
  },
  {
   "cell_type": "code",
   "execution_count": 81,
   "metadata": {},
   "outputs": [],
   "source": [
    "df.to_csv(t_merge, 'Clean_dataset/twitter_archive_master.csv', sep=',')"
   ]
  },
  {
   "cell_type": "markdown",
   "metadata": {},
   "source": [
    "### Summary of Data Cliening\n",
    "> All cleaned files can be found in [Clean_dataset repository](https://github.com/SvajuneK/Udacity-Projects/tree/master/Data%20Analyst%20ND/P3%20%22We%20rate%20Dogs%22%20Analysis/Clean_dataset)."
   ]
  },
  {
   "cell_type": "code",
   "execution_count": 82,
   "metadata": {},
   "outputs": [
    {
     "data": {
      "text/plain": [
       "['.DS_Store',\n",
       " 'prediction_clean.csv',\n",
       " 'twitter_archive_master.csv',\n",
       " 'user_clean.csv']"
      ]
     },
     "execution_count": 82,
     "metadata": {},
     "output_type": "execute_result"
    }
   ],
   "source": [
    "os.listdir('Clean_dataset')"
   ]
  },
  {
   "cell_type": "markdown",
   "metadata": {},
   "source": [
    "---"
   ]
  },
  {
   "cell_type": "markdown",
   "metadata": {},
   "source": [
    "<a id='analyzevisualize'></a>\n",
    "## Data Analysis, and Visualisations\n",
    "\n",
    "Here I come back to the questions that were raised in the beggining of the work and I'm going to visualise the answers for those questions:\n",
    "* **What are the outcomes of image prediction algorithm?**\n",
    "* **How did the follower count change over the years?**\n",
    "* **How did twitting and retweeting likes change over the years?**\n",
    "* **Which tweet characteristics predict likes and retweeting?**"
   ]
  },
  {
   "cell_type": "markdown",
   "metadata": {},
   "source": [
    "### What are the outcomes of image prediction algorithm?"
   ]
  },
  {
   "cell_type": "markdown",
   "metadata": {},
   "source": [
    "Here I am interested only in those cases when the prediction outcome was a breed of dog."
   ]
  },
  {
   "cell_type": "code",
   "execution_count": 83,
   "metadata": {},
   "outputs": [
    {
     "name": "stdout",
     "output_type": "stream",
     "text": [
      "Dog breed success rate is 73.64%\n"
     ]
    }
   ],
   "source": [
    "print('Dog breed success rate is {}%'.format (round(prediction_clean[prediction_clean['dog'] == True]['tweet_id'].count()*100/prediction_clean.shape[0],2)))"
   ]
  },
  {
   "cell_type": "code",
   "execution_count": 84,
   "metadata": {
    "scrolled": true
   },
   "outputs": [
    {
     "data": {
      "image/png": "[encoded data removed]",
      "text/plain": [
       "<Figure size 1080x360 with 2 Axes>"
      ]
     },
     "metadata": {
      "needs_background": "light"
     },
     "output_type": "display_data"
    }
   ],
   "source": [
    "# Create a data set with the predicted breed of a dog is True. \n",
    "data=prediction_clean[prediction_clean['dog'] == True]\n",
    "\n",
    "plt.figure(figsize = [15, 5]) \n",
    "\n",
    "plt.subplot(1, 2, 1) \n",
    "sb.countplot(data=data, x = 'prd')\n",
    "plt.title ('Counts of cases when prediction was a breed of dog')\n",
    "plt.xlabel('Image prediction algorithms');\n",
    "plt.ylabel(' ');\n",
    "\n",
    "plt.subplot(1, 2, 2)\n",
    "color1=sb.color_palette()[0]\n",
    "color2=sb.color_palette()[1]\n",
    "color3=sb.color_palette()[2]\n",
    "bin_edges = np.arange(0, prediction_clean['conf'].max()+0.05, 0.05)\n",
    "al=0.7\n",
    "data.query('prd==\"p1\"')['conf'].hist(label='p1', color=color1, alpha=al, bins=bin_edges);\n",
    "data.query('prd==\"p2\"')['conf'].hist(label=\"p2\", color=color2, alpha=al, bins=bin_edges);\n",
    "data.query('prd==\"p3\"')['conf'].hist(label=\"p3\", color=color3, alpha=al, bins=bin_edges);\n",
    "plt.legend()\n",
    "plt.title('Algorithm confident distribution')\n",
    "plt.xlabel('Confident interval');"
   ]
  },
  {
   "cell_type": "markdown",
   "metadata": {},
   "source": [
    "#### Conclusion:\n",
    "> * Dog breed success rate is 73.64%\n",
    "> * Success rate distribution per each algoithms is very similar.\n",
    "> * However the confidence interval for dog breed predictions has a very different distribution."
   ]
  },
  {
   "cell_type": "markdown",
   "metadata": {},
   "source": [
    "### How did follower count change over the years? "
   ]
  },
  {
   "cell_type": "code",
   "execution_count": 89,
   "metadata": {},
   "outputs": [
    {
     "data": {
      "image/png": "[encoded data removed]",
      "text/plain": [
       "<Figure size 1080x360 with 1 Axes>"
      ]
     },
     "metadata": {
      "needs_background": "light"
     },
     "output_type": "display_data"
    }
   ],
   "source": [
    "plt.figure(figsize = [15, 5]) \n",
    "ax = sb.pointplot(data = user, x = 'date', y = 'user_followers_count', \n",
    "                  dodge = 0.6, linestyles = \"--\", marker = [\"o\"])\n",
    "plt.title ('Followers over the time')\n",
    "plt.xticks(rotation=90)\n",
    "plt.xlabel(' ')\n",
    "plt.ylabel('Number of followers');"
   ]
  },
  {
   "cell_type": "markdown",
   "metadata": {},
   "source": [
    "#### Conclusion:\n",
    "> * The followers number over the time has decreasing tendencies."
   ]
  },
  {
   "cell_type": "markdown",
   "metadata": {},
   "source": [
    "### How did twitting and retweeting likes change over the years?"
   ]
  },
  {
   "cell_type": "code",
   "execution_count": 86,
   "metadata": {},
   "outputs": [
    {
     "data": {
      "image/png": "[encoded data removed]",
      "text/plain": [
       "<Figure size 1080x360 with 2 Axes>"
      ]
     },
     "metadata": {
      "needs_background": "light"
     },
     "output_type": "display_data"
    }
   ],
   "source": [
    "plt.figure(figsize = [15, 5]) \n",
    "plt.scatter(data = t_merge, x = 'tweet_favourite_count', y = 'retweet_count',c='date',alpha=0.6)\n",
    "plt.colorbar()\n",
    "plt.title ('Count of Tweets and Retweets over the years')\n",
    "plt.xlabel('Tweet likes')\n",
    "plt.ylabel('Retweet count');"
   ]
  },
  {
   "cell_type": "markdown",
   "metadata": {},
   "source": [
    "#### Conclusion: \n",
    "> * Despite the reducing of the followers' number, the tweet likes are increasing with the time.\n",
    "> * However the user behaviour for liking and retweeting is changing slightly. "
   ]
  },
  {
   "cell_type": "markdown",
   "metadata": {},
   "source": [
    "### Which tweet characteristics predict likes and retweeting?"
   ]
  },
  {
   "cell_type": "code",
   "execution_count": 106,
   "metadata": {
    "scrolled": true
   },
   "outputs": [
    {
     "data": {
      "image/png": "[encoded data removed]",
      "text/plain": [
       "<Figure size 1224x360 with 2 Axes>"
      ]
     },
     "metadata": {
      "needs_background": "light"
     },
     "output_type": "display_data"
    }
   ],
   "source": [
    "plt.figure(figsize = [17, 5]) \n",
    "\n",
    "plt.subplot(1, 2, 1)\n",
    "sb.boxplot(data = t_merge, y = 'dogtionary', x = 'tweet_favourite_count')\n",
    "plt.title ('Count of likes by the Dogtionary')\n",
    "plt.xlabel(' ')\n",
    "plt.xlim(0, 60000)\n",
    "plt.ylabel('Dogtionary');\n",
    "\n",
    "\n",
    "plt.subplot(1, 2, 2)\n",
    "sb.boxplot(data = t_merge, y = 'dogtionary', x = 'retweet_count')\n",
    "plt.title ('Count of retweets by the Dogtionary')\n",
    "plt.xlabel('')\n",
    "plt.ylabel(' ')\n",
    "plt.xlim(0, 25000)\n",
    "plt.ylabel('Dogtionary');"
   ]
  },
  {
   "cell_type": "code",
   "execution_count": 88,
   "metadata": {},
   "outputs": [
    {
     "name": "stdout",
     "output_type": "stream",
     "text": [
      "Only 17.0% of the records had dogtionary category.\n"
     ]
    }
   ],
   "source": [
    "print('Only {}% of the records had dogtionary category.'.format (100-(round(t_merge['dogtionary'].isnull().sum()*100/t_merge['dogtionary'].shape[0]))))\n"
   ]
  },
  {
   "cell_type": "markdown",
   "metadata": {},
   "source": [
    "#### Conclusion:\n",
    "> * Only 17.0% of the records had a Dogtionary category. \n",
    "> * However form those 17& cases you can see a clear correlation within the dogtionary and tweet likes or retweets. \"doggo together with puppo are the favourite ones.  "
   ]
  },
  {
   "cell_type": "markdown",
   "metadata": {},
   "source": [
    "---"
   ]
  },
  {
   "cell_type": "markdown",
   "metadata": {},
   "source": [
    "<a id='report'></a>\n",
    "## Final Report\n",
    "\n",
    "The final reports with the brief descriptions of wrangling efforts and findings can be found [here](https://github.com/SvajuneK/Udacity-Projects/tree/master/Data%20Analyst%20ND/P3%20%22We%20rate%20Dogs%22%20Analysis/Reports).\n"
   ]
  },
  {
   "cell_type": "code",
   "execution_count": null,
   "metadata": {},
   "outputs": [],
   "source": []
  }
 ],
 "metadata": {
  "kernelspec": {
   "display_name": "Python 3",
   "language": "python",
   "name": "python3"
  },
  "language_info": {
   "codemirror_mode": {
    "name": "ipython",
    "version": 3
   },
   "file_extension": ".py",
   "mimetype": "text/x-python",
   "name": "python",
   "nbconvert_exporter": "python",
   "pygments_lexer": "ipython3",
   "version": "3.7.1"
  }
 },
 "nbformat": 4,
 "nbformat_minor": 2
}
