{
 "cells": [
  {
   "cell_type": "markdown",
   "metadata": {},
   "source": [
    "# Lithuanian Demographic Data\n",
    "## By Svajune Klimasauskaite"
   ]
  },
  {
   "cell_type": "code",
   "execution_count": 1,
   "metadata": {},
   "outputs": [],
   "source": [
    "# import all packages and set plots to be embedded inline\n",
    "import numpy as np\n",
    "import pandas as pd\n",
    "import matplotlib.pyplot as plt\n",
    "import seaborn as sb\n",
    "from mpl_toolkits import mplot3d\n",
    "import datetime as dt\n",
    "#from google.cloud import storage\n",
    "\n",
    "%matplotlib inline"
   ]
  },
  {
   "cell_type": "markdown",
   "metadata": {},
   "source": [
    "## Load Data\n",
    "\n"
   ]
  },
  {
   "cell_type": "markdown",
   "metadata": {},
   "source": [
    "### Useful Area"
   ]
  },
  {
   "cell_type": "code",
   "execution_count": 2,
   "metadata": {},
   "outputs": [
    {
     "data": {
      "text/html": [
       "<div>\n",
       "<style scoped>\n",
       "    .dataframe tbody tr th:only-of-type {\n",
       "        vertical-align: middle;\n",
       "    }\n",
       "\n",
       "    .dataframe tbody tr th {\n",
       "        vertical-align: top;\n",
       "    }\n",
       "\n",
       "    .dataframe thead th {\n",
       "        text-align: right;\n",
       "    }\n",
       "</style>\n",
       "<table border=\"1\" class=\"dataframe\">\n",
       "  <thead>\n",
       "    <tr style=\"text-align: right;\">\n",
       "      <th></th>\n",
       "      <th>Laikotarpis</th>\n",
       "      <th>useful_area</th>\n",
       "      <th>Administracinė teritorija</th>\n",
       "      <th>Gyvenamoji vietovė</th>\n",
       "      <th>useful_area_measure</th>\n",
       "      <th>useful_area_value</th>\n",
       "    </tr>\n",
       "  </thead>\n",
       "  <tbody>\n",
       "    <tr>\n",
       "      <th>0</th>\n",
       "      <td>1995</td>\n",
       "      <td>Naudingasis plotas, tenkantis vienam gyventojui</td>\n",
       "      <td>Lietuvos Respublika</td>\n",
       "      <td>Miestas ir kaimas</td>\n",
       "      <td>m²</td>\n",
       "      <td>20.0</td>\n",
       "    </tr>\n",
       "    <tr>\n",
       "      <th>1</th>\n",
       "      <td>1996</td>\n",
       "      <td>Naudingasis plotas, tenkantis vienam gyventojui</td>\n",
       "      <td>Lietuvos Respublika</td>\n",
       "      <td>Miestas ir kaimas</td>\n",
       "      <td>m²</td>\n",
       "      <td>20.4</td>\n",
       "    </tr>\n",
       "  </tbody>\n",
       "</table>\n",
       "</div>"
      ],
      "text/plain": [
       "   Laikotarpis                                      useful_area  \\\n",
       "0         1995  Naudingasis plotas, tenkantis vienam gyventojui   \n",
       "1         1996  Naudingasis plotas, tenkantis vienam gyventojui   \n",
       "\n",
       "  Administracinė teritorija Gyvenamoji vietovė useful_area_measure  \\\n",
       "0       Lietuvos Respublika  Miestas ir kaimas                  m²   \n",
       "1       Lietuvos Respublika  Miestas ir kaimas                  m²   \n",
       "\n",
       "   useful_area_value  \n",
       "0               20.0  \n",
       "1               20.4  "
      ]
     },
     "execution_count": 2,
     "metadata": {},
     "output_type": "execute_result"
    }
   ],
   "source": [
    "#Load and change the column names, to prepare for the further data merge\n",
    "df1=pd.read_csv(\"Dataset/naudingas_plotas.csv\", sep=';')\n",
    "df1.rename(columns={'Rodiklis':'useful_area', 'Reikšmė':'useful_area_value', \n",
    "                    'Matavimo vienetai':'useful_area_measure'}, inplace=True)\n",
    "df1.head(2)"
   ]
  },
  {
   "cell_type": "markdown",
   "metadata": {},
   "source": [
    "### Retain People "
   ]
  },
  {
   "cell_type": "code",
   "execution_count": 3,
   "metadata": {},
   "outputs": [
    {
     "data": {
      "text/html": [
       "<div>\n",
       "<style scoped>\n",
       "    .dataframe tbody tr th:only-of-type {\n",
       "        vertical-align: middle;\n",
       "    }\n",
       "\n",
       "    .dataframe tbody tr th {\n",
       "        vertical-align: top;\n",
       "    }\n",
       "\n",
       "    .dataframe thead th {\n",
       "        text-align: right;\n",
       "    }\n",
       "</style>\n",
       "<table border=\"1\" class=\"dataframe\">\n",
       "  <thead>\n",
       "    <tr style=\"text-align: right;\">\n",
       "      <th></th>\n",
       "      <th>Laikotarpis</th>\n",
       "      <th>retained_people</th>\n",
       "      <th>Administracinė teritorija</th>\n",
       "      <th>Amžius (0–14, 65 ir vyresni)</th>\n",
       "      <th>retained_people_measure</th>\n",
       "      <th>retained_people_value</th>\n",
       "    </tr>\n",
       "  </thead>\n",
       "  <tbody>\n",
       "    <tr>\n",
       "      <th>0</th>\n",
       "      <td>2001</td>\n",
       "      <td>Išlaikomo amžiaus žmonių koeficientas metų pra...</td>\n",
       "      <td>Elektrėnų sav.</td>\n",
       "      <td>0–14</td>\n",
       "      <td>asmenys</td>\n",
       "      <td>30.0</td>\n",
       "    </tr>\n",
       "    <tr>\n",
       "      <th>1</th>\n",
       "      <td>2002</td>\n",
       "      <td>Išlaikomo amžiaus žmonių koeficientas metų pra...</td>\n",
       "      <td>Elektrėnų sav.</td>\n",
       "      <td>0–14</td>\n",
       "      <td>asmenys</td>\n",
       "      <td>28.0</td>\n",
       "    </tr>\n",
       "  </tbody>\n",
       "</table>\n",
       "</div>"
      ],
      "text/plain": [
       "   Laikotarpis                                    retained_people  \\\n",
       "0         2001  Išlaikomo amžiaus žmonių koeficientas metų pra...   \n",
       "1         2002  Išlaikomo amžiaus žmonių koeficientas metų pra...   \n",
       "\n",
       "  Administracinė teritorija Amžius (0–14, 65 ir vyresni)  \\\n",
       "0            Elektrėnų sav.                         0–14   \n",
       "1            Elektrėnų sav.                         0–14   \n",
       "\n",
       "  retained_people_measure  retained_people_value  \n",
       "0                 asmenys                   30.0  \n",
       "1                 asmenys                   28.0  "
      ]
     },
     "execution_count": 3,
     "metadata": {},
     "output_type": "execute_result"
    }
   ],
   "source": [
    "#Load and change the column names, to prepare for the further data merge\n",
    "df2=pd.read_csv(\"Dataset/islaikomi_asmenys.csv\", sep=';')\n",
    "df2.rename(columns={'Rodiklis':'retained_people','Reikšmė':'retained_people_value',\n",
    "                   'Matavimo vienetai':'retained_people_measure'}, inplace=True)\n",
    "df2.head(2)"
   ]
  },
  {
   "cell_type": "markdown",
   "metadata": {},
   "source": [
    "### Neto Imigration"
   ]
  },
  {
   "cell_type": "code",
   "execution_count": 4,
   "metadata": {},
   "outputs": [
    {
     "data": {
      "text/html": [
       "<div>\n",
       "<style scoped>\n",
       "    .dataframe tbody tr th:only-of-type {\n",
       "        vertical-align: middle;\n",
       "    }\n",
       "\n",
       "    .dataframe tbody tr th {\n",
       "        vertical-align: top;\n",
       "    }\n",
       "\n",
       "    .dataframe thead th {\n",
       "        text-align: right;\n",
       "    }\n",
       "</style>\n",
       "<table border=\"1\" class=\"dataframe\">\n",
       "  <thead>\n",
       "    <tr style=\"text-align: right;\">\n",
       "      <th></th>\n",
       "      <th>Laikotarpis</th>\n",
       "      <th>neto_migration</th>\n",
       "      <th>Administracinė teritorija</th>\n",
       "      <th>neto_migration_measure</th>\n",
       "      <th>neto_migration_value</th>\n",
       "    </tr>\n",
       "  </thead>\n",
       "  <tbody>\n",
       "    <tr>\n",
       "      <th>0</th>\n",
       "      <td>1990</td>\n",
       "      <td>Neto migracija</td>\n",
       "      <td>Elektrėnų sav.</td>\n",
       "      <td>asmenys</td>\n",
       "      <td>NaN</td>\n",
       "    </tr>\n",
       "    <tr>\n",
       "      <th>1</th>\n",
       "      <td>1991</td>\n",
       "      <td>Neto migracija</td>\n",
       "      <td>Elektrėnų sav.</td>\n",
       "      <td>asmenys</td>\n",
       "      <td>NaN</td>\n",
       "    </tr>\n",
       "  </tbody>\n",
       "</table>\n",
       "</div>"
      ],
      "text/plain": [
       "   Laikotarpis  neto_migration Administracinė teritorija  \\\n",
       "0         1990  Neto migracija            Elektrėnų sav.   \n",
       "1         1991  Neto migracija            Elektrėnų sav.   \n",
       "\n",
       "  neto_migration_measure  neto_migration_value  \n",
       "0                asmenys                   NaN  \n",
       "1                asmenys                   NaN  "
      ]
     },
     "execution_count": 4,
     "metadata": {},
     "output_type": "execute_result"
    }
   ],
   "source": [
    "#Load and change the column names, to prepare for the further data merge\n",
    "df3=pd.read_csv(\"Dataset/imigrantai.csv\", sep=';')\n",
    "df3.rename(columns={'Rodiklis':'neto_migration','Reikšmė':'neto_migration_value',\n",
    "                   'Matavimo vienetai':'neto_migration_measure'}, inplace=True)\n",
    "df3.head(2)"
   ]
  },
  {
   "cell_type": "markdown",
   "metadata": {},
   "source": [
    "### Population Density"
   ]
  },
  {
   "cell_type": "code",
   "execution_count": 5,
   "metadata": {
    "scrolled": true
   },
   "outputs": [
    {
     "data": {
      "text/html": [
       "<div>\n",
       "<style scoped>\n",
       "    .dataframe tbody tr th:only-of-type {\n",
       "        vertical-align: middle;\n",
       "    }\n",
       "\n",
       "    .dataframe tbody tr th {\n",
       "        vertical-align: top;\n",
       "    }\n",
       "\n",
       "    .dataframe thead th {\n",
       "        text-align: right;\n",
       "    }\n",
       "</style>\n",
       "<table border=\"1\" class=\"dataframe\">\n",
       "  <thead>\n",
       "    <tr style=\"text-align: right;\">\n",
       "      <th></th>\n",
       "      <th>Laikotarpis</th>\n",
       "      <th>population_density</th>\n",
       "      <th>Administracinė teritorija</th>\n",
       "      <th>population_density_measure</th>\n",
       "      <th>population_density_value</th>\n",
       "    </tr>\n",
       "  </thead>\n",
       "  <tbody>\n",
       "    <tr>\n",
       "      <th>0</th>\n",
       "      <td>2001</td>\n",
       "      <td>Gyventojų tankis metų pradžioje</td>\n",
       "      <td>Elektrėnų sav.</td>\n",
       "      <td>viename km²</td>\n",
       "      <td>53.9</td>\n",
       "    </tr>\n",
       "    <tr>\n",
       "      <th>1</th>\n",
       "      <td>2002</td>\n",
       "      <td>Gyventojų tankis metų pradžioje</td>\n",
       "      <td>Elektrėnų sav.</td>\n",
       "      <td>viename km²</td>\n",
       "      <td>53.1</td>\n",
       "    </tr>\n",
       "  </tbody>\n",
       "</table>\n",
       "</div>"
      ],
      "text/plain": [
       "   Laikotarpis               population_density Administracinė teritorija  \\\n",
       "0         2001  Gyventojų tankis metų pradžioje            Elektrėnų sav.   \n",
       "1         2002  Gyventojų tankis metų pradžioje            Elektrėnų sav.   \n",
       "\n",
       "  population_density_measure  population_density_value  \n",
       "0                viename km²                      53.9  \n",
       "1                viename km²                      53.1  "
      ]
     },
     "execution_count": 5,
     "metadata": {},
     "output_type": "execute_result"
    }
   ],
   "source": [
    "#Load and change the column names, to prepare for the further data merge\n",
    "df4=pd.read_csv(\"Dataset/gyventoju_tankis.csv\", sep=';')\n",
    "df4.rename(columns={'Rodiklis':'population_density','Reikšmė':'population_density_value',\n",
    "                   'Matavimo vienetai':'population_density_measure'}, inplace=True)\n",
    "df4.head(2)"
   ]
  },
  {
   "cell_type": "markdown",
   "metadata": {},
   "source": [
    "### Permantent residents"
   ]
  },
  {
   "cell_type": "code",
   "execution_count": 6,
   "metadata": {},
   "outputs": [
    {
     "data": {
      "text/html": [
       "<div>\n",
       "<style scoped>\n",
       "    .dataframe tbody tr th:only-of-type {\n",
       "        vertical-align: middle;\n",
       "    }\n",
       "\n",
       "    .dataframe tbody tr th {\n",
       "        vertical-align: top;\n",
       "    }\n",
       "\n",
       "    .dataframe thead th {\n",
       "        text-align: right;\n",
       "    }\n",
       "</style>\n",
       "<table border=\"1\" class=\"dataframe\">\n",
       "  <thead>\n",
       "    <tr style=\"text-align: right;\">\n",
       "      <th></th>\n",
       "      <th>Laikotarpis</th>\n",
       "      <th>permanent_residents</th>\n",
       "      <th>Administracinė teritorija</th>\n",
       "      <th>Gyvenamoji vietovė</th>\n",
       "      <th>permanent_residents_measure</th>\n",
       "      <th>permanent_residents_value</th>\n",
       "    </tr>\n",
       "  </thead>\n",
       "  <tbody>\n",
       "    <tr>\n",
       "      <th>0</th>\n",
       "      <td>1996</td>\n",
       "      <td>Nuolatinių gyventojų skaičius metų pradžioje</td>\n",
       "      <td>Elektrėnų sav.</td>\n",
       "      <td>Miestas ir kaimas</td>\n",
       "      <td>asmenys</td>\n",
       "      <td>30410.0</td>\n",
       "    </tr>\n",
       "    <tr>\n",
       "      <th>1</th>\n",
       "      <td>1997</td>\n",
       "      <td>Nuolatinių gyventojų skaičius metų pradžioje</td>\n",
       "      <td>Elektrėnų sav.</td>\n",
       "      <td>Miestas ir kaimas</td>\n",
       "      <td>asmenys</td>\n",
       "      <td>30090.0</td>\n",
       "    </tr>\n",
       "  </tbody>\n",
       "</table>\n",
       "</div>"
      ],
      "text/plain": [
       "   Laikotarpis                           permanent_residents  \\\n",
       "0         1996  Nuolatinių gyventojų skaičius metų pradžioje   \n",
       "1         1997  Nuolatinių gyventojų skaičius metų pradžioje   \n",
       "\n",
       "  Administracinė teritorija Gyvenamoji vietovė permanent_residents_measure  \\\n",
       "0            Elektrėnų sav.  Miestas ir kaimas                     asmenys   \n",
       "1            Elektrėnų sav.  Miestas ir kaimas                     asmenys   \n",
       "\n",
       "   permanent_residents_value  \n",
       "0                    30410.0  \n",
       "1                    30090.0  "
      ]
     },
     "execution_count": 6,
     "metadata": {},
     "output_type": "execute_result"
    }
   ],
   "source": [
    "#Load and change the column names, to prepare for the further data merge\n",
    "df5=pd.read_csv(\"Dataset/gyventoju_skaicius.csv\", sep=';')\n",
    "df5.rename(columns={'Rodiklis':'permanent_residents','Reikšmė':'permanent_residents_value',\n",
    "                   'Matavimo vienetai':'permanent_residents_measure'}, inplace=True)\n",
    "df5.head(2)"
   ]
  },
  {
   "cell_type": "markdown",
   "metadata": {},
   "source": [
    "### Ageing info"
   ]
  },
  {
   "cell_type": "code",
   "execution_count": 7,
   "metadata": {},
   "outputs": [
    {
     "data": {
      "text/html": [
       "<div>\n",
       "<style scoped>\n",
       "    .dataframe tbody tr th:only-of-type {\n",
       "        vertical-align: middle;\n",
       "    }\n",
       "\n",
       "    .dataframe tbody tr th {\n",
       "        vertical-align: top;\n",
       "    }\n",
       "\n",
       "    .dataframe thead th {\n",
       "        text-align: right;\n",
       "    }\n",
       "</style>\n",
       "<table border=\"1\" class=\"dataframe\">\n",
       "  <thead>\n",
       "    <tr style=\"text-align: right;\">\n",
       "      <th></th>\n",
       "      <th>Laikotarpis</th>\n",
       "      <th>median_age</th>\n",
       "      <th>Administracinė teritorija</th>\n",
       "      <th>Lytis</th>\n",
       "      <th>median_age_measure</th>\n",
       "      <th>median_age_value</th>\n",
       "    </tr>\n",
       "  </thead>\n",
       "  <tbody>\n",
       "    <tr>\n",
       "      <th>0</th>\n",
       "      <td>2001</td>\n",
       "      <td>Medianinis gyventojų amžius metų pradžioje</td>\n",
       "      <td>Elektrėnų sav.</td>\n",
       "      <td>Vyrai</td>\n",
       "      <td>metai</td>\n",
       "      <td>34.0</td>\n",
       "    </tr>\n",
       "    <tr>\n",
       "      <th>1</th>\n",
       "      <td>2002</td>\n",
       "      <td>Medianinis gyventojų amžius metų pradžioje</td>\n",
       "      <td>Elektrėnų sav.</td>\n",
       "      <td>Vyrai</td>\n",
       "      <td>metai</td>\n",
       "      <td>34.0</td>\n",
       "    </tr>\n",
       "  </tbody>\n",
       "</table>\n",
       "</div>"
      ],
      "text/plain": [
       "   Laikotarpis                                  median_age  \\\n",
       "0         2001  Medianinis gyventojų amžius metų pradžioje   \n",
       "1         2002  Medianinis gyventojų amžius metų pradžioje   \n",
       "\n",
       "  Administracinė teritorija  Lytis median_age_measure  median_age_value  \n",
       "0            Elektrėnų sav.  Vyrai              metai              34.0  \n",
       "1            Elektrėnų sav.  Vyrai              metai              34.0  "
      ]
     },
     "execution_count": 7,
     "metadata": {},
     "output_type": "execute_result"
    }
   ],
   "source": [
    "#Load and change the column names, to prepare for the further data merge\n",
    "df6=pd.read_csv(\"Dataset/gyventoju_amzius.csv\", sep=';')\n",
    "df6.rename(columns={'Rodiklis':'median_age','Reikšmė':'median_age_value',\n",
    "                   'Matavimo vienetai':'median_age_measure'}, inplace=True)\n",
    "df6.head(2)"
   ]
  },
  {
   "cell_type": "markdown",
   "metadata": {},
   "source": [
    "### Average housing"
   ]
  },
  {
   "cell_type": "code",
   "execution_count": 8,
   "metadata": {},
   "outputs": [
    {
     "data": {
      "text/html": [
       "<div>\n",
       "<style scoped>\n",
       "    .dataframe tbody tr th:only-of-type {\n",
       "        vertical-align: middle;\n",
       "    }\n",
       "\n",
       "    .dataframe tbody tr th {\n",
       "        vertical-align: top;\n",
       "    }\n",
       "\n",
       "    .dataframe thead th {\n",
       "        text-align: right;\n",
       "    }\n",
       "</style>\n",
       "<table border=\"1\" class=\"dataframe\">\n",
       "  <thead>\n",
       "    <tr style=\"text-align: right;\">\n",
       "      <th></th>\n",
       "      <th>Laikotarpis</th>\n",
       "      <th>average_housing</th>\n",
       "      <th>Administracinė teritorija</th>\n",
       "      <th>Gyvenamoji vietovė</th>\n",
       "      <th>average_housing_measure</th>\n",
       "      <th>average_housing_value</th>\n",
       "    </tr>\n",
       "  </thead>\n",
       "  <tbody>\n",
       "    <tr>\n",
       "      <th>0</th>\n",
       "      <td>2004</td>\n",
       "      <td>Vidutinis būsto dydis</td>\n",
       "      <td>Elektrėnų sav.</td>\n",
       "      <td>Miestas ir kaimas</td>\n",
       "      <td>m²</td>\n",
       "      <td>57.7</td>\n",
       "    </tr>\n",
       "    <tr>\n",
       "      <th>1</th>\n",
       "      <td>2005</td>\n",
       "      <td>Vidutinis būsto dydis</td>\n",
       "      <td>Elektrėnų sav.</td>\n",
       "      <td>Miestas ir kaimas</td>\n",
       "      <td>m²</td>\n",
       "      <td>58.6</td>\n",
       "    </tr>\n",
       "  </tbody>\n",
       "</table>\n",
       "</div>"
      ],
      "text/plain": [
       "   Laikotarpis        average_housing Administracinė teritorija  \\\n",
       "0         2004  Vidutinis būsto dydis            Elektrėnų sav.   \n",
       "1         2005  Vidutinis būsto dydis            Elektrėnų sav.   \n",
       "\n",
       "  Gyvenamoji vietovė average_housing_measure  average_housing_value  \n",
       "0  Miestas ir kaimas                      m²                   57.7  \n",
       "1  Miestas ir kaimas                      m²                   58.6  "
      ]
     },
     "execution_count": 8,
     "metadata": {},
     "output_type": "execute_result"
    }
   ],
   "source": [
    "#Load and change the column names, to prepare for the further data merge\n",
    "df7=pd.read_csv(\"Dataset/buto_dydis.csv\", sep=';')\n",
    "df7.rename(columns={'Rodiklis':'average_housing','Reikšmė':'average_housing_value',\n",
    "                   'Matavimo vienetai':'average_housing_measure'}, inplace=True)\n",
    "df7.head(2)"
   ]
  },
  {
   "cell_type": "markdown",
   "metadata": {},
   "source": [
    "### Unemployment"
   ]
  },
  {
   "cell_type": "code",
   "execution_count": 9,
   "metadata": {},
   "outputs": [
    {
     "data": {
      "text/html": [
       "<div>\n",
       "<style scoped>\n",
       "    .dataframe tbody tr th:only-of-type {\n",
       "        vertical-align: middle;\n",
       "    }\n",
       "\n",
       "    .dataframe tbody tr th {\n",
       "        vertical-align: top;\n",
       "    }\n",
       "\n",
       "    .dataframe thead th {\n",
       "        text-align: right;\n",
       "    }\n",
       "</style>\n",
       "<table border=\"1\" class=\"dataframe\">\n",
       "  <thead>\n",
       "    <tr style=\"text-align: right;\">\n",
       "      <th></th>\n",
       "      <th>Laikotarpis</th>\n",
       "      <th>unemployment</th>\n",
       "      <th>Administracinė teritorija</th>\n",
       "      <th>unemployment_measure</th>\n",
       "      <th>unemployment_value</th>\n",
       "    </tr>\n",
       "  </thead>\n",
       "  <tbody>\n",
       "    <tr>\n",
       "      <th>0</th>\n",
       "      <td>1993</td>\n",
       "      <td>Registruotų bedarbių ir darbingo amžiaus gyven...</td>\n",
       "      <td>Elektrėnų sav.</td>\n",
       "      <td>proc.</td>\n",
       "      <td>NaN</td>\n",
       "    </tr>\n",
       "    <tr>\n",
       "      <th>1</th>\n",
       "      <td>1994</td>\n",
       "      <td>Registruotų bedarbių ir darbingo amžiaus gyven...</td>\n",
       "      <td>Elektrėnų sav.</td>\n",
       "      <td>proc.</td>\n",
       "      <td>NaN</td>\n",
       "    </tr>\n",
       "  </tbody>\n",
       "</table>\n",
       "</div>"
      ],
      "text/plain": [
       "   Laikotarpis                                       unemployment  \\\n",
       "0         1993  Registruotų bedarbių ir darbingo amžiaus gyven...   \n",
       "1         1994  Registruotų bedarbių ir darbingo amžiaus gyven...   \n",
       "\n",
       "  Administracinė teritorija unemployment_measure  unemployment_value  \n",
       "0            Elektrėnų sav.                proc.                 NaN  \n",
       "1            Elektrėnų sav.                proc.                 NaN  "
      ]
     },
     "execution_count": 9,
     "metadata": {},
     "output_type": "execute_result"
    }
   ],
   "source": [
    "#Load and change the column names, to prepare for the further data merge\n",
    "df8=pd.read_csv(\"Dataset/bedarbiai.csv\", sep=';')\n",
    "df8.rename(columns={'Rodiklis':'unemployment','Reikšmė':'unemployment_value',\n",
    "                   'Matavimo vienetai':'unemployment_measure'}, inplace=True)\n",
    "df8.head(2)"
   ]
  },
  {
   "cell_type": "markdown",
   "metadata": {},
   "source": [
    "## Merge"
   ]
  },
  {
   "cell_type": "markdown",
   "metadata": {},
   "source": [
    "Merge all datasets on the **period** and **municipality**."
   ]
  },
  {
   "cell_type": "code",
   "execution_count": 10,
   "metadata": {},
   "outputs": [],
   "source": [
    "all_data = pd.merge(df1, df2, how='outer', on=['Laikotarpis','Administracinė teritorija'])\n",
    "all_data = pd.merge(all_data, df3, how='outer', on=['Laikotarpis','Administracinė teritorija'])\n",
    "all_data = pd.merge(all_data, df4, how='outer', on=['Laikotarpis','Administracinė teritorija'])\n",
    "all_data = pd.merge(all_data, df5, how='outer', on=['Laikotarpis','Administracinė teritorija'])\n",
    "all_data = pd.merge(all_data, df6, how='outer', on=['Laikotarpis','Administracinė teritorija'])\n",
    "all_data = pd.merge(all_data, df7, how='outer', on=['Laikotarpis','Administracinė teritorija'])\n",
    "all_data = pd.merge(all_data, df8, how='outer', on=['Laikotarpis','Administracinė teritorija'])"
   ]
  },
  {
   "cell_type": "code",
   "execution_count": 11,
   "metadata": {},
   "outputs": [
    {
     "data": {
      "text/html": [
       "<div>\n",
       "<style scoped>\n",
       "    .dataframe tbody tr th:only-of-type {\n",
       "        vertical-align: middle;\n",
       "    }\n",
       "\n",
       "    .dataframe tbody tr th {\n",
       "        vertical-align: top;\n",
       "    }\n",
       "\n",
       "    .dataframe thead th {\n",
       "        text-align: right;\n",
       "    }\n",
       "</style>\n",
       "<table border=\"1\" class=\"dataframe\">\n",
       "  <thead>\n",
       "    <tr style=\"text-align: right;\">\n",
       "      <th></th>\n",
       "      <th>Laikotarpis</th>\n",
       "      <th>useful_area</th>\n",
       "      <th>Administracinė teritorija</th>\n",
       "      <th>Gyvenamoji vietovė_x</th>\n",
       "      <th>useful_area_measure</th>\n",
       "      <th>useful_area_value</th>\n",
       "      <th>retained_people</th>\n",
       "      <th>Amžius (0–14, 65 ir vyresni)</th>\n",
       "      <th>retained_people_measure</th>\n",
       "      <th>retained_people_value</th>\n",
       "      <th>...</th>\n",
       "      <th>Lytis</th>\n",
       "      <th>median_age_measure</th>\n",
       "      <th>median_age_value</th>\n",
       "      <th>average_housing</th>\n",
       "      <th>Gyvenamoji vietovė</th>\n",
       "      <th>average_housing_measure</th>\n",
       "      <th>average_housing_value</th>\n",
       "      <th>unemployment</th>\n",
       "      <th>unemployment_measure</th>\n",
       "      <th>unemployment_value</th>\n",
       "    </tr>\n",
       "  </thead>\n",
       "  <tbody>\n",
       "    <tr>\n",
       "      <th>4574</th>\n",
       "      <td>2017</td>\n",
       "      <td>Naudingasis plotas, tenkantis vienam gyventojui</td>\n",
       "      <td>Utenos apskritis</td>\n",
       "      <td>Miestas ir kaimas</td>\n",
       "      <td>m²</td>\n",
       "      <td>42.9</td>\n",
       "      <td>NaN</td>\n",
       "      <td>NaN</td>\n",
       "      <td>NaN</td>\n",
       "      <td>NaN</td>\n",
       "      <td>...</td>\n",
       "      <td>NaN</td>\n",
       "      <td>NaN</td>\n",
       "      <td>NaN</td>\n",
       "      <td>NaN</td>\n",
       "      <td>NaN</td>\n",
       "      <td>NaN</td>\n",
       "      <td>NaN</td>\n",
       "      <td>NaN</td>\n",
       "      <td>NaN</td>\n",
       "      <td>NaN</td>\n",
       "    </tr>\n",
       "    <tr>\n",
       "      <th>3174</th>\n",
       "      <td>2004</td>\n",
       "      <td>Naudingasis plotas, tenkantis vienam gyventojui</td>\n",
       "      <td>Pasvalio r. sav.</td>\n",
       "      <td>Miestas ir kaimas</td>\n",
       "      <td>m²</td>\n",
       "      <td>29.3</td>\n",
       "      <td>Išlaikomo amžiaus žmonių koeficientas metų pra...</td>\n",
       "      <td>65 ir vyresni</td>\n",
       "      <td>asmenys</td>\n",
       "      <td>29.0</td>\n",
       "      <td>...</td>\n",
       "      <td>Vyrai</td>\n",
       "      <td>metai</td>\n",
       "      <td>35.0</td>\n",
       "      <td>Vidutinis būsto dydis</td>\n",
       "      <td>Miestas ir kaimas</td>\n",
       "      <td>m²</td>\n",
       "      <td>70.6</td>\n",
       "      <td>Registruotų bedarbių ir darbingo amžiaus gyven...</td>\n",
       "      <td>proc.</td>\n",
       "      <td>14.1</td>\n",
       "    </tr>\n",
       "  </tbody>\n",
       "</table>\n",
       "<p>2 rows × 31 columns</p>\n",
       "</div>"
      ],
      "text/plain": [
       "      Laikotarpis                                      useful_area  \\\n",
       "4574         2017  Naudingasis plotas, tenkantis vienam gyventojui   \n",
       "3174         2004  Naudingasis plotas, tenkantis vienam gyventojui   \n",
       "\n",
       "     Administracinė teritorija Gyvenamoji vietovė_x useful_area_measure  \\\n",
       "4574          Utenos apskritis    Miestas ir kaimas                  m²   \n",
       "3174          Pasvalio r. sav.    Miestas ir kaimas                  m²   \n",
       "\n",
       "      useful_area_value                                    retained_people  \\\n",
       "4574               42.9                                                NaN   \n",
       "3174               29.3  Išlaikomo amžiaus žmonių koeficientas metų pra...   \n",
       "\n",
       "     Amžius (0–14, 65 ir vyresni) retained_people_measure  \\\n",
       "4574                          NaN                     NaN   \n",
       "3174                65 ir vyresni                 asmenys   \n",
       "\n",
       "      retained_people_value         ...          Lytis median_age_measure  \\\n",
       "4574                    NaN         ...            NaN                NaN   \n",
       "3174                   29.0         ...          Vyrai              metai   \n",
       "\n",
       "      median_age_value        average_housing Gyvenamoji vietovė  \\\n",
       "4574               NaN                    NaN                NaN   \n",
       "3174              35.0  Vidutinis būsto dydis  Miestas ir kaimas   \n",
       "\n",
       "      average_housing_measure average_housing_value  \\\n",
       "4574                      NaN                   NaN   \n",
       "3174                       m²                  70.6   \n",
       "\n",
       "                                           unemployment unemployment_measure  \\\n",
       "4574                                                NaN                  NaN   \n",
       "3174  Registruotų bedarbių ir darbingo amžiaus gyven...                proc.   \n",
       "\n",
       "      unemployment_value  \n",
       "4574                 NaN  \n",
       "3174                14.1  \n",
       "\n",
       "[2 rows x 31 columns]"
      ]
     },
     "execution_count": 11,
     "metadata": {},
     "output_type": "execute_result"
    }
   ],
   "source": [
    "all_data.sample(2)"
   ]
  },
  {
   "cell_type": "markdown",
   "metadata": {},
   "source": [
    "## Data Cleaning and Augmentation"
   ]
  },
  {
   "cell_type": "markdown",
   "metadata": {},
   "source": [
    "### Drop and Rename Columns"
   ]
  },
  {
   "cell_type": "code",
   "execution_count": 12,
   "metadata": {},
   "outputs": [],
   "source": [
    "all_data.drop(columns = ['Gyvenamoji vietovė_y','Gyvenamoji vietovė'], inplace = True)\n",
    "all_data.rename(columns = {'Laikotarpis':'year', 'Administracinė teritorija':'municipality',\n",
    "                          'Gyvenamoji vietovė_x':'city_or_village',\n",
    "                          'Amžius (0–14, 65 ir vyresni)':'age_group',\n",
    "                          'Lytis':'gender'}, inplace = True)"
   ]
  },
  {
   "cell_type": "markdown",
   "metadata": {},
   "source": [
    "### Keep Period from 2001 to 2018"
   ]
  },
  {
   "cell_type": "code",
   "execution_count": 13,
   "metadata": {},
   "outputs": [
    {
     "data": {
      "text/plain": [
       "array([2001, 2002, 2003, 2004, 2005, 2006, 2007, 2008, 2009, 2010, 2011,\n",
       "       2012, 2013, 2014, 2015, 2016, 2017, 2018])"
      ]
     },
     "execution_count": 13,
     "metadata": {},
     "output_type": "execute_result"
    }
   ],
   "source": [
    "final = all_data[all_data['year'] >= 2001]\n",
    "final = final[final['year'] != 2019]\n",
    "final['year'].unique()"
   ]
  },
  {
   "cell_type": "markdown",
   "metadata": {},
   "source": [
    "### Keep Lowest Level Municipalities"
   ]
  },
  {
   "cell_type": "code",
   "execution_count": 14,
   "metadata": {},
   "outputs": [
    {
     "data": {
      "text/plain": [
       "array(['Lietuvos Respublika', 'Sostinės regionas', 'Vilniaus apskritis',\n",
       "       'Elektrėnų sav.', 'Šalčininkų r. sav.', 'Širvintų r. sav.',\n",
       "       'Švenčionių r. sav.', 'Trakų r. sav.', 'Ukmergės r. sav.',\n",
       "       'Vilniaus m. sav.', 'Vilniaus r. sav.',\n",
       "       'Vidurio ir vakarų Lietuvos regionas', 'Alytaus apskritis',\n",
       "       'Alytaus m. sav.', 'Alytaus r. sav.', 'Druskininkų sav.',\n",
       "       'Lazdijų r. sav.', 'Varėnos r. sav.', 'Kauno apskritis',\n",
       "       'Birštono sav.', 'Jonavos r. sav.', 'Kaišiadorių r. sav.',\n",
       "       'Kauno m. sav.', 'Kauno r. sav.', 'Kėdainių r. sav.',\n",
       "       'Prienų r. sav.', 'Raseinių r. sav.', 'Klaipėdos apskritis',\n",
       "       'Klaipėdos m. sav.', 'Klaipėdos r. sav.', 'Kretingos r. sav.',\n",
       "       'Neringos sav.', 'Palangos m. sav.', 'Skuodo r. sav.',\n",
       "       'Šilutės r. sav.', 'Marijampolės apskritis', 'Kalvarijos sav.',\n",
       "       'Kazlų Rūdos sav.', 'Marijampolės sav.', 'Marijampolės r. sav.',\n",
       "       'Šakių r. sav.', 'Vilkaviškio r. sav.', 'Panevėžio apskritis',\n",
       "       'Biržų r. sav.', 'Kupiškio r. sav.', 'Panevėžio m. sav.',\n",
       "       'Panevėžio r. sav.', 'Pasvalio r. sav.', 'Rokiškio r. sav.',\n",
       "       'Šiaulių apskritis', 'Akmenės r. sav.', 'Joniškio r. sav.',\n",
       "       'Kelmės r. sav.', 'Pakruojo r. sav.', 'Radviliškio r. sav.',\n",
       "       'Šiaulių m. sav.', 'Šiaulių r. sav.', 'Tauragės apskritis',\n",
       "       'Jurbarko r. sav.', 'Pagėgių sav.', 'Šilalės r. sav.',\n",
       "       'Tauragės r. sav.', 'Telšių apskritis', 'Mažeikių r. sav.',\n",
       "       'Plungės r. sav.', 'Rietavo sav.', 'Telšių r. sav.',\n",
       "       'Utenos apskritis', 'Anykščių r. sav.', 'Ignalinos r. sav.',\n",
       "       'Molėtų r. sav.', 'Utenos r. sav.', 'Visagino sav.',\n",
       "       'Zarasų r. sav.'], dtype=object)"
      ]
     },
     "execution_count": 14,
     "metadata": {},
     "output_type": "execute_result"
    }
   ],
   "source": [
    "final['municipality'].unique()"
   ]
  },
  {
   "cell_type": "code",
   "execution_count": 15,
   "metadata": {},
   "outputs": [],
   "source": [
    "final = final[np.isin(final['municipality'], ['Lietuvos Respublika','Sostinės regionas','Vilniaus apskritis',\n",
    "                                      'Vidurio ir vakarų Lietuvos regionas','Alytaus apskritis',\n",
    "                                      'Kauno apskritis','Klaipėdos apskritis','Marijampolės apskritis',\n",
    "                                      'Panevėžio apskritis','Šiaulių apskritis','Tauragės apskritis',\n",
    "                                      'Telšių apskritis','Utenos apskritis','Marijampolės r. sav.'], invert=True)]"
   ]
  },
  {
   "cell_type": "code",
   "execution_count": 16,
   "metadata": {},
   "outputs": [
    {
     "data": {
      "text/plain": [
       "60"
      ]
     },
     "execution_count": 16,
     "metadata": {},
     "output_type": "execute_result"
    }
   ],
   "source": [
    "final['municipality'].nunique()                    "
   ]
  },
  {
   "cell_type": "code",
   "execution_count": 17,
   "metadata": {},
   "outputs": [
    {
     "data": {
      "text/html": [
       "<div>\n",
       "<style scoped>\n",
       "    .dataframe tbody tr th:only-of-type {\n",
       "        vertical-align: middle;\n",
       "    }\n",
       "\n",
       "    .dataframe tbody tr th {\n",
       "        vertical-align: top;\n",
       "    }\n",
       "\n",
       "    .dataframe thead th {\n",
       "        text-align: right;\n",
       "    }\n",
       "</style>\n",
       "<table border=\"1\" class=\"dataframe\">\n",
       "  <thead>\n",
       "    <tr style=\"text-align: right;\">\n",
       "      <th></th>\n",
       "      <th>year</th>\n",
       "      <th>useful_area</th>\n",
       "      <th>municipality</th>\n",
       "      <th>city_or_village</th>\n",
       "      <th>useful_area_measure</th>\n",
       "      <th>useful_area_value</th>\n",
       "      <th>retained_people</th>\n",
       "      <th>age_group</th>\n",
       "      <th>retained_people_measure</th>\n",
       "      <th>retained_people_value</th>\n",
       "      <th>...</th>\n",
       "      <th>median_age</th>\n",
       "      <th>gender</th>\n",
       "      <th>median_age_measure</th>\n",
       "      <th>median_age_value</th>\n",
       "      <th>average_housing</th>\n",
       "      <th>average_housing_measure</th>\n",
       "      <th>average_housing_value</th>\n",
       "      <th>unemployment</th>\n",
       "      <th>unemployment_measure</th>\n",
       "      <th>unemployment_value</th>\n",
       "    </tr>\n",
       "  </thead>\n",
       "  <tbody>\n",
       "    <tr>\n",
       "      <th>1389</th>\n",
       "      <td>2005</td>\n",
       "      <td>Naudingasis plotas, tenkantis vienam gyventojui</td>\n",
       "      <td>Kauno m. sav.</td>\n",
       "      <td>Miestas ir kaimas</td>\n",
       "      <td>m²</td>\n",
       "      <td>22.5</td>\n",
       "      <td>Išlaikomo amžiaus žmonių koeficientas metų pra...</td>\n",
       "      <td>0–14</td>\n",
       "      <td>asmenys</td>\n",
       "      <td>22.0</td>\n",
       "      <td>...</td>\n",
       "      <td>Medianinis gyventojų amžius metų pradžioje</td>\n",
       "      <td>Moterys</td>\n",
       "      <td>metai</td>\n",
       "      <td>41.0</td>\n",
       "      <td>Vidutinis būsto dydis</td>\n",
       "      <td>m²</td>\n",
       "      <td>55.3</td>\n",
       "      <td>Registruotų bedarbių ir darbingo amžiaus gyven...</td>\n",
       "      <td>proc.</td>\n",
       "      <td>3.1</td>\n",
       "    </tr>\n",
       "    <tr>\n",
       "      <th>3742</th>\n",
       "      <td>2004</td>\n",
       "      <td>Naudingasis plotas, tenkantis vienam gyventojui</td>\n",
       "      <td>Šiaulių m. sav.</td>\n",
       "      <td>Miestas ir kaimas</td>\n",
       "      <td>m²</td>\n",
       "      <td>21.2</td>\n",
       "      <td>Išlaikomo amžiaus žmonių koeficientas metų pra...</td>\n",
       "      <td>0–14</td>\n",
       "      <td>asmenys</td>\n",
       "      <td>24.0</td>\n",
       "      <td>...</td>\n",
       "      <td>Medianinis gyventojų amžius metų pradžioje</td>\n",
       "      <td>Vyrai</td>\n",
       "      <td>metai</td>\n",
       "      <td>34.0</td>\n",
       "      <td>Vidutinis būsto dydis</td>\n",
       "      <td>m²</td>\n",
       "      <td>55.6</td>\n",
       "      <td>Registruotų bedarbių ir darbingo amžiaus gyven...</td>\n",
       "      <td>proc.</td>\n",
       "      <td>5.0</td>\n",
       "    </tr>\n",
       "  </tbody>\n",
       "</table>\n",
       "<p>2 rows × 29 columns</p>\n",
       "</div>"
      ],
      "text/plain": [
       "      year                                      useful_area     municipality  \\\n",
       "1389  2005  Naudingasis plotas, tenkantis vienam gyventojui    Kauno m. sav.   \n",
       "3742  2004  Naudingasis plotas, tenkantis vienam gyventojui  Šiaulių m. sav.   \n",
       "\n",
       "        city_or_village useful_area_measure  useful_area_value  \\\n",
       "1389  Miestas ir kaimas                  m²               22.5   \n",
       "3742  Miestas ir kaimas                  m²               21.2   \n",
       "\n",
       "                                        retained_people age_group  \\\n",
       "1389  Išlaikomo amžiaus žmonių koeficientas metų pra...      0–14   \n",
       "3742  Išlaikomo amžiaus žmonių koeficientas metų pra...      0–14   \n",
       "\n",
       "     retained_people_measure  retained_people_value        ...          \\\n",
       "1389                 asmenys                   22.0        ...           \n",
       "3742                 asmenys                   24.0        ...           \n",
       "\n",
       "                                      median_age   gender  median_age_measure  \\\n",
       "1389  Medianinis gyventojų amžius metų pradžioje  Moterys               metai   \n",
       "3742  Medianinis gyventojų amžius metų pradžioje    Vyrai               metai   \n",
       "\n",
       "     median_age_value        average_housing  average_housing_measure  \\\n",
       "1389             41.0  Vidutinis būsto dydis                       m²   \n",
       "3742             34.0  Vidutinis būsto dydis                       m²   \n",
       "\n",
       "     average_housing_value                                       unemployment  \\\n",
       "1389                  55.3  Registruotų bedarbių ir darbingo amžiaus gyven...   \n",
       "3742                  55.6  Registruotų bedarbių ir darbingo amžiaus gyven...   \n",
       "\n",
       "      unemployment_measure unemployment_value  \n",
       "1389                 proc.                3.1  \n",
       "3742                 proc.                5.0  \n",
       "\n",
       "[2 rows x 29 columns]"
      ]
     },
     "execution_count": 17,
     "metadata": {},
     "output_type": "execute_result"
    }
   ],
   "source": [
    "final.sample(2)"
   ]
  },
  {
   "cell_type": "markdown",
   "metadata": {},
   "source": [
    "## Data Check"
   ]
  },
  {
   "cell_type": "code",
   "execution_count": 18,
   "metadata": {},
   "outputs": [
    {
     "name": "stdout",
     "output_type": "stream",
     "text": [
      "<class 'pandas.core.frame.DataFrame'>\n",
      "Int64Index: 4320 entries, 65 to 5043\n",
      "Data columns (total 29 columns):\n",
      "year                           4320 non-null int64\n",
      "useful_area                    4320 non-null object\n",
      "municipality                   4320 non-null object\n",
      "city_or_village                4320 non-null object\n",
      "useful_area_measure            4320 non-null object\n",
      "useful_area_value              4320 non-null float64\n",
      "retained_people                4320 non-null object\n",
      "age_group                      4320 non-null object\n",
      "retained_people_measure        4320 non-null object\n",
      "retained_people_value          4320 non-null float64\n",
      "neto_migration                 4320 non-null object\n",
      "neto_migration_measure         4320 non-null object\n",
      "neto_migration_value           4320 non-null float64\n",
      "population_density             4320 non-null object\n",
      "population_density_measure     4320 non-null object\n",
      "population_density_value       4320 non-null float64\n",
      "permanent_residents            4320 non-null object\n",
      "permanent_residents_measure    4320 non-null object\n",
      "permanent_residents_value      4320 non-null float64\n",
      "median_age                     4320 non-null object\n",
      "gender                         4320 non-null object\n",
      "median_age_measure             4320 non-null object\n",
      "median_age_value               4320 non-null float64\n",
      "average_housing                3600 non-null object\n",
      "average_housing_measure        3600 non-null object\n",
      "average_housing_value          3600 non-null float64\n",
      "unemployment                   4320 non-null object\n",
      "unemployment_measure           4320 non-null object\n",
      "unemployment_value             4320 non-null float64\n",
      "dtypes: float64(8), int64(1), object(20)\n",
      "memory usage: 1012.5+ KB\n"
     ]
    }
   ],
   "source": [
    "final.info()"
   ]
  },
  {
   "cell_type": "code",
   "execution_count": 19,
   "metadata": {},
   "outputs": [
    {
     "data": {
      "text/plain": [
       "year                             0\n",
       "useful_area                      0\n",
       "municipality                     0\n",
       "city_or_village                  0\n",
       "useful_area_measure              0\n",
       "useful_area_value                0\n",
       "retained_people                  0\n",
       "age_group                        0\n",
       "retained_people_measure          0\n",
       "retained_people_value            0\n",
       "neto_migration                   0\n",
       "neto_migration_measure           0\n",
       "neto_migration_value             0\n",
       "population_density               0\n",
       "population_density_measure       0\n",
       "population_density_value         0\n",
       "permanent_residents              0\n",
       "permanent_residents_measure      0\n",
       "permanent_residents_value        0\n",
       "median_age                       0\n",
       "gender                           0\n",
       "median_age_measure               0\n",
       "median_age_value                 0\n",
       "average_housing                720\n",
       "average_housing_measure        720\n",
       "average_housing_value          720\n",
       "unemployment                     0\n",
       "unemployment_measure             0\n",
       "unemployment_value               0\n",
       "dtype: int64"
      ]
     },
     "execution_count": 19,
     "metadata": {},
     "output_type": "execute_result"
    }
   ],
   "source": [
    "# Count null records\n",
    "final.isnull().sum()"
   ]
  },
  {
   "cell_type": "code",
   "execution_count": 20,
   "metadata": {},
   "outputs": [
    {
     "data": {
      "text/plain": [
       "year                             18\n",
       "useful_area                       1\n",
       "municipality                     60\n",
       "city_or_village                   1\n",
       "useful_area_measure               1\n",
       "useful_area_value               250\n",
       "retained_people                   1\n",
       "age_group                         2\n",
       "retained_people_measure           1\n",
       "retained_people_value            40\n",
       "neto_migration                    1\n",
       "neto_migration_measure            1\n",
       "neto_migration_value            732\n",
       "population_density                1\n",
       "population_density_measure        1\n",
       "population_density_value        534\n",
       "permanent_residents               1\n",
       "permanent_residents_measure       1\n",
       "permanent_residents_value      1077\n",
       "median_age                        1\n",
       "gender                            2\n",
       "median_age_measure                1\n",
       "median_age_value                 30\n",
       "average_housing                   1\n",
       "average_housing_measure           1\n",
       "average_housing_value           252\n",
       "unemployment                      1\n",
       "unemployment_measure              1\n",
       "unemployment_value              202\n",
       "dtype: int64"
      ]
     },
     "execution_count": 20,
     "metadata": {},
     "output_type": "execute_result"
    }
   ],
   "source": [
    "# Count unique records\n",
    "final.nunique()"
   ]
  },
  {
   "cell_type": "markdown",
   "metadata": {},
   "source": [
    "## Save the File"
   ]
  },
  {
   "cell_type": "code",
   "execution_count": 21,
   "metadata": {},
   "outputs": [],
   "source": [
    "#df.to_csv(neigh, '⁨Google Drive⁩/My Drive⁩/Vilniaus duomenys⁩/Vilnius.csv', sep=';')"
   ]
  },
  {
   "cell_type": "code",
   "execution_count": null,
   "metadata": {},
   "outputs": [],
   "source": []
  }
 ],
 "metadata": {
  "kernelspec": {
   "display_name": "Python 3",
   "language": "python",
   "name": "python3"
  },
  "language_info": {
   "codemirror_mode": {
    "name": "ipython",
    "version": 3
   },
   "file_extension": ".py",
   "mimetype": "text/x-python",
   "name": "python",
   "nbconvert_exporter": "python",
   "pygments_lexer": "ipython3",
   "version": "3.7.1"
  }
 },
 "nbformat": 4,
 "nbformat_minor": 2
}
