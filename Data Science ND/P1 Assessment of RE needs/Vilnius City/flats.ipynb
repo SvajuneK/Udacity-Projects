{
 "cells": [
  {
   "cell_type": "markdown",
   "metadata": {},
   "source": [
    "# Vilnius Appartments\n",
    "## By Svajune Klimasauskaite"
   ]
  },
  {
   "cell_type": "code",
   "execution_count": 195,
   "metadata": {},
   "outputs": [],
   "source": [
    "# import all packages and set plots to be embedded inline\n",
    "import numpy as np\n",
    "import pandas as pd\n",
    "import matplotlib.pyplot as plt\n",
    "import seaborn as sb\n",
    "from mpl_toolkits import mplot3d\n",
    "import datetime as dt\n",
    "#from google.cloud import storage\n",
    "\n",
    "%matplotlib inline"
   ]
  },
  {
   "cell_type": "markdown",
   "metadata": {},
   "source": [
    "## Load Data\n",
    "\n"
   ]
  },
  {
   "cell_type": "code",
   "execution_count": 196,
   "metadata": {},
   "outputs": [
    {
     "data": {
      "text/html": [
       "<div>\n",
       "<style scoped>\n",
       "    .dataframe tbody tr th:only-of-type {\n",
       "        vertical-align: middle;\n",
       "    }\n",
       "\n",
       "    .dataframe tbody tr th {\n",
       "        vertical-align: top;\n",
       "    }\n",
       "\n",
       "    .dataframe thead th {\n",
       "        text-align: right;\n",
       "    }\n",
       "</style>\n",
       "<table border=\"1\" class=\"dataframe\">\n",
       "  <thead>\n",
       "    <tr style=\"text-align: right;\">\n",
       "      <th></th>\n",
       "      <th>id</th>\n",
       "      <th>adresas</th>\n",
       "      <th>namo_valdytojas</th>\n",
       "      <th>valdymo_forma</th>\n",
       "      <th>paskyrimo_pagrindas</th>\n",
       "      <th>administratoriaus_pabaigos_Data</th>\n",
       "      <th>paskirtis</th>\n",
       "      <th>uni_nr</th>\n",
       "      <th>bendr_plotas</th>\n",
       "      <th>naud_plotas</th>\n",
       "      <th>build_year</th>\n",
       "      <th>renov_metai</th>\n",
       "      <th>renovacijos_statusas</th>\n",
       "      <th>energ_naudingumo_klase</th>\n",
       "      <th>butu_skaicius</th>\n",
       "      <th>negyvenamuju_palapu_skaicius</th>\n",
       "      <th>korpusas</th>\n",
       "      <th>sklypo_plotas</th>\n",
       "    </tr>\n",
       "  </thead>\n",
       "  <tbody>\n",
       "    <tr>\n",
       "      <th>0</th>\n",
       "      <td>1</td>\n",
       "      <td>A. Goštauto g. 2</td>\n",
       "      <td>286-oji gyvenamojo namo A.Goštauto g. 2/15 sav...</td>\n",
       "      <td>Bendrija</td>\n",
       "      <td>1995.02.02</td>\n",
       "      <td>NaN</td>\n",
       "      <td>Gyvenamoji (trys ir daugiau butų)</td>\n",
       "      <td>1096-0010-4010</td>\n",
       "      <td>6607.43</td>\n",
       "      <td>4360.68</td>\n",
       "      <td>1960.0</td>\n",
       "      <td>NaN</td>\n",
       "      <td>Nerenovuotas</td>\n",
       "      <td>NaN</td>\n",
       "      <td>53.0</td>\n",
       "      <td>4.0</td>\n",
       "      <td>1A7p</td>\n",
       "      <td>0.00</td>\n",
       "    </tr>\n",
       "    <tr>\n",
       "      <th>1</th>\n",
       "      <td>2</td>\n",
       "      <td>A. Goštauto g. 3</td>\n",
       "      <td>DNSB NERIES VINGIS</td>\n",
       "      <td>Bendrija</td>\n",
       "      <td>2009.04.10</td>\n",
       "      <td>NaN</td>\n",
       "      <td>Gyvenamoji (trys ir daugiau butų)</td>\n",
       "      <td>1095-7003-6016</td>\n",
       "      <td>4304.17</td>\n",
       "      <td>2771.57</td>\n",
       "      <td>1957.0</td>\n",
       "      <td>NaN</td>\n",
       "      <td>Nerenovuotas</td>\n",
       "      <td>NaN</td>\n",
       "      <td>38.0</td>\n",
       "      <td>14.0</td>\n",
       "      <td>1A5p</td>\n",
       "      <td>0.15</td>\n",
       "    </tr>\n",
       "  </tbody>\n",
       "</table>\n",
       "</div>"
      ],
      "text/plain": [
       "   id           adresas                                    namo_valdytojas  \\\n",
       "0   1  A. Goštauto g. 2  286-oji gyvenamojo namo A.Goštauto g. 2/15 sav...   \n",
       "1   2  A. Goštauto g. 3                                 DNSB NERIES VINGIS   \n",
       "\n",
       "  valdymo_forma paskyrimo_pagrindas administratoriaus_pabaigos_Data  \\\n",
       "0      Bendrija          1995.02.02                             NaN   \n",
       "1      Bendrija          2009.04.10                             NaN   \n",
       "\n",
       "                           paskirtis          uni_nr  bendr_plotas  \\\n",
       "0  Gyvenamoji (trys ir daugiau butų)  1096-0010-4010       6607.43   \n",
       "1  Gyvenamoji (trys ir daugiau butų)  1095-7003-6016       4304.17   \n",
       "\n",
       "   naud_plotas  build_year  renov_metai renovacijos_statusas  \\\n",
       "0      4360.68      1960.0          NaN         Nerenovuotas   \n",
       "1      2771.57      1957.0          NaN         Nerenovuotas   \n",
       "\n",
       "  energ_naudingumo_klase  butu_skaicius  negyvenamuju_palapu_skaicius  \\\n",
       "0                    NaN           53.0                           4.0   \n",
       "1                    NaN           38.0                          14.0   \n",
       "\n",
       "  korpusas  sklypo_plotas  \n",
       "0     1A7p           0.00  \n",
       "1     1A5p           0.15  "
      ]
     },
     "execution_count": 196,
     "metadata": {},
     "output_type": "execute_result"
    }
   ],
   "source": [
    "#Load flats\n",
    "flat=pd.read_csv(\"https://raw.githubusercontent.com/vilnius/apartment-buildings/master/apartment_buildings_2019.csv\", sep=';')\n",
    "flat.head(2)"
   ]
  },
  {
   "cell_type": "code",
   "execution_count": 197,
   "metadata": {},
   "outputs": [
    {
     "data": {
      "text/html": [
       "<div>\n",
       "<style scoped>\n",
       "    .dataframe tbody tr th:only-of-type {\n",
       "        vertical-align: middle;\n",
       "    }\n",
       "\n",
       "    .dataframe tbody tr th {\n",
       "        vertical-align: top;\n",
       "    }\n",
       "\n",
       "    .dataframe thead th {\n",
       "        text-align: right;\n",
       "    }\n",
       "</style>\n",
       "<table border=\"1\" class=\"dataframe\">\n",
       "  <thead>\n",
       "    <tr style=\"text-align: right;\">\n",
       "      <th></th>\n",
       "      <th>id</th>\n",
       "      <th>street</th>\n",
       "      <th>purpose</th>\n",
       "      <th>area</th>\n",
       "      <th>area_useful</th>\n",
       "      <th>year</th>\n",
       "      <th>year_renov</th>\n",
       "      <th>renov_status</th>\n",
       "      <th>efficiency</th>\n",
       "      <th>no_flats</th>\n",
       "      <th>not_living_flats</th>\n",
       "      <th>land</th>\n",
       "    </tr>\n",
       "  </thead>\n",
       "  <tbody>\n",
       "    <tr>\n",
       "      <th>157</th>\n",
       "      <td>158</td>\n",
       "      <td>Gilužio g. 8</td>\n",
       "      <td>Gyvenamoji (trys ir daugiau butų)</td>\n",
       "      <td>3294.40</td>\n",
       "      <td>2594.54</td>\n",
       "      <td>2002.0</td>\n",
       "      <td>NaN</td>\n",
       "      <td>Nerenovuotas</td>\n",
       "      <td>NaN</td>\n",
       "      <td>42.0</td>\n",
       "      <td>0.0</td>\n",
       "      <td>0.00</td>\n",
       "    </tr>\n",
       "    <tr>\n",
       "      <th>3850</th>\n",
       "      <td>3852</td>\n",
       "      <td>Kauno g. 6</td>\n",
       "      <td>Gyvenamoji (trys ir daugiau butų)</td>\n",
       "      <td>2661.01</td>\n",
       "      <td>1796.17</td>\n",
       "      <td>1940.0</td>\n",
       "      <td>NaN</td>\n",
       "      <td>Nerenovuotas</td>\n",
       "      <td>F</td>\n",
       "      <td>23.0</td>\n",
       "      <td>0.0</td>\n",
       "      <td>0.00</td>\n",
       "    </tr>\n",
       "    <tr>\n",
       "      <th>2915</th>\n",
       "      <td>2917</td>\n",
       "      <td>Taikos g. 141</td>\n",
       "      <td>Gyvenamoji (trys ir daugiau butų)</td>\n",
       "      <td>1391.07</td>\n",
       "      <td>1110.80</td>\n",
       "      <td>1985.0</td>\n",
       "      <td>NaN</td>\n",
       "      <td>Nerenovuotas</td>\n",
       "      <td>NaN</td>\n",
       "      <td>19.0</td>\n",
       "      <td>1.0</td>\n",
       "      <td>0.00</td>\n",
       "    </tr>\n",
       "    <tr>\n",
       "      <th>896</th>\n",
       "      <td>897</td>\n",
       "      <td>Gabijos g. 42</td>\n",
       "      <td>Gyvenamoji (trys ir daugiau butų)</td>\n",
       "      <td>7503.10</td>\n",
       "      <td>4860.38</td>\n",
       "      <td>2013.0</td>\n",
       "      <td>NaN</td>\n",
       "      <td>Nerenovuotas</td>\n",
       "      <td>B</td>\n",
       "      <td>70.0</td>\n",
       "      <td>34.0</td>\n",
       "      <td>0.84</td>\n",
       "    </tr>\n",
       "    <tr>\n",
       "      <th>4449</th>\n",
       "      <td>4451</td>\n",
       "      <td>Vilniaus g. 47</td>\n",
       "      <td>Gyvenamoji (trys ir daugiau butų)</td>\n",
       "      <td>1317.22</td>\n",
       "      <td>867.44</td>\n",
       "      <td>1940.0</td>\n",
       "      <td>NaN</td>\n",
       "      <td>Nerenovuotas</td>\n",
       "      <td>NaN</td>\n",
       "      <td>10.0</td>\n",
       "      <td>4.0</td>\n",
       "      <td>0.00</td>\n",
       "    </tr>\n",
       "  </tbody>\n",
       "</table>\n",
       "</div>"
      ],
      "text/plain": [
       "        id          street                            purpose     area  \\\n",
       "157    158    Gilužio g. 8  Gyvenamoji (trys ir daugiau butų)  3294.40   \n",
       "3850  3852      Kauno g. 6  Gyvenamoji (trys ir daugiau butų)  2661.01   \n",
       "2915  2917   Taikos g. 141  Gyvenamoji (trys ir daugiau butų)  1391.07   \n",
       "896    897   Gabijos g. 42  Gyvenamoji (trys ir daugiau butų)  7503.10   \n",
       "4449  4451  Vilniaus g. 47  Gyvenamoji (trys ir daugiau butų)  1317.22   \n",
       "\n",
       "      area_useful    year  year_renov  renov_status efficiency  no_flats  \\\n",
       "157       2594.54  2002.0         NaN  Nerenovuotas        NaN      42.0   \n",
       "3850      1796.17  1940.0         NaN  Nerenovuotas          F      23.0   \n",
       "2915      1110.80  1985.0         NaN  Nerenovuotas        NaN      19.0   \n",
       "896       4860.38  2013.0         NaN  Nerenovuotas          B      70.0   \n",
       "4449       867.44  1940.0         NaN  Nerenovuotas        NaN      10.0   \n",
       "\n",
       "      not_living_flats  land  \n",
       "157                0.0  0.00  \n",
       "3850               0.0  0.00  \n",
       "2915               1.0  0.00  \n",
       "896               34.0  0.84  \n",
       "4449               4.0  0.00  "
      ]
     },
     "execution_count": 197,
     "metadata": {},
     "output_type": "execute_result"
    }
   ],
   "source": [
    "# Get rid of unnecessary columns\n",
    "flat.drop(columns = ['namo_valdytojas', 'valdymo_forma', 'paskyrimo_pagrindas',\n",
    "                    'administratoriaus_pabaigos_Data', 'uni_nr', 'korpusas'], inplace = True)\n",
    "\n",
    "# Translate column names to english  \n",
    "flat.rename(columns={'adresas':'street', 'paskirtis':'purpose',\n",
    "                        'bendr_plotas':'area', 'naud_plotas':'area_useful',\n",
    "                       'build_year':'year', 'renov_metai':'year_renov', 'renovacijos_statusas':'renov_status',\n",
    "                       'energ_naudingumo_klase':'efficiency', 'butu_skaicius':'no_flats',\n",
    "                       'negyvenamuju_palapu_skaicius':'not_living_flats','sklypo_plotas':'land',\n",
    "                       }, inplace=True)\n",
    "flat.sample(5)"
   ]
  },
  {
   "cell_type": "markdown",
   "metadata": {},
   "source": [
    "## Data Check"
   ]
  },
  {
   "cell_type": "code",
   "execution_count": 198,
   "metadata": {},
   "outputs": [
    {
     "name": "stdout",
     "output_type": "stream",
     "text": [
      "<class 'pandas.core.frame.DataFrame'>\n",
      "RangeIndex: 6521 entries, 0 to 6520\n",
      "Data columns (total 12 columns):\n",
      "id                  6521 non-null int64\n",
      "street              6521 non-null object\n",
      "purpose             6518 non-null object\n",
      "area                6519 non-null float64\n",
      "area_useful         6519 non-null float64\n",
      "year                6510 non-null float64\n",
      "year_renov          289 non-null float64\n",
      "renov_status        6466 non-null object\n",
      "efficiency          1291 non-null object\n",
      "no_flats            6519 non-null float64\n",
      "not_living_flats    6510 non-null float64\n",
      "land                6513 non-null float64\n",
      "dtypes: float64(7), int64(1), object(4)\n",
      "memory usage: 611.4+ KB\n"
     ]
    }
   ],
   "source": [
    "flat.info()"
   ]
  },
  {
   "cell_type": "code",
   "execution_count": 199,
   "metadata": {},
   "outputs": [
    {
     "data": {
      "text/plain": [
       "id                     0\n",
       "street                 0\n",
       "purpose                3\n",
       "area                   2\n",
       "area_useful            2\n",
       "year                  11\n",
       "year_renov          6232\n",
       "renov_status          55\n",
       "efficiency          5230\n",
       "no_flats               2\n",
       "not_living_flats      11\n",
       "land                   8\n",
       "dtype: int64"
      ]
     },
     "execution_count": 199,
     "metadata": {},
     "output_type": "execute_result"
    }
   ],
   "source": [
    "# Count null records\n",
    "flat.isnull().sum()"
   ]
  },
  {
   "cell_type": "code",
   "execution_count": 200,
   "metadata": {},
   "outputs": [
    {
     "data": {
      "text/plain": [
       "id                  6521\n",
       "street              5993\n",
       "purpose               15\n",
       "area                6094\n",
       "area_useful         5840\n",
       "year                 106\n",
       "year_renov            13\n",
       "renov_status           6\n",
       "efficiency             8\n",
       "no_flats             170\n",
       "not_living_flats      98\n",
       "land                 132\n",
       "dtype: int64"
      ]
     },
     "execution_count": 200,
     "metadata": {},
     "output_type": "execute_result"
    }
   ],
   "source": [
    "# Count unique records\n",
    "flat.nunique()"
   ]
  },
  {
   "cell_type": "code",
   "execution_count": 201,
   "metadata": {},
   "outputs": [
    {
     "data": {
      "text/html": [
       "<div>\n",
       "<style scoped>\n",
       "    .dataframe tbody tr th:only-of-type {\n",
       "        vertical-align: middle;\n",
       "    }\n",
       "\n",
       "    .dataframe tbody tr th {\n",
       "        vertical-align: top;\n",
       "    }\n",
       "\n",
       "    .dataframe thead th {\n",
       "        text-align: right;\n",
       "    }\n",
       "</style>\n",
       "<table border=\"1\" class=\"dataframe\">\n",
       "  <thead>\n",
       "    <tr style=\"text-align: right;\">\n",
       "      <th></th>\n",
       "      <th>id</th>\n",
       "      <th>street</th>\n",
       "      <th>purpose</th>\n",
       "      <th>area</th>\n",
       "      <th>area_useful</th>\n",
       "      <th>year</th>\n",
       "      <th>year_renov</th>\n",
       "      <th>renov_status</th>\n",
       "      <th>efficiency</th>\n",
       "      <th>no_flats</th>\n",
       "      <th>not_living_flats</th>\n",
       "      <th>land</th>\n",
       "    </tr>\n",
       "  </thead>\n",
       "  <tbody>\n",
       "    <tr>\n",
       "      <th>2195</th>\n",
       "      <td>2196</td>\n",
       "      <td>Verkių g. 110</td>\n",
       "      <td>Gyvenamoji (trys ir daugiau butų)</td>\n",
       "      <td>107.27</td>\n",
       "      <td>98.55</td>\n",
       "      <td>1940.0</td>\n",
       "      <td>NaN</td>\n",
       "      <td>Nerenovuotas</td>\n",
       "      <td>NaN</td>\n",
       "      <td>3.0</td>\n",
       "      <td>0.0</td>\n",
       "      <td>0.00</td>\n",
       "    </tr>\n",
       "    <tr>\n",
       "      <th>3312</th>\n",
       "      <td>3314</td>\n",
       "      <td>Girulių g. 7</td>\n",
       "      <td>Gyvenamoji (trys ir daugiau butų)</td>\n",
       "      <td>6149.58</td>\n",
       "      <td>5489.20</td>\n",
       "      <td>2007.0</td>\n",
       "      <td>NaN</td>\n",
       "      <td>Nerenovuotas</td>\n",
       "      <td>B</td>\n",
       "      <td>90.0</td>\n",
       "      <td>85.0</td>\n",
       "      <td>2.93</td>\n",
       "    </tr>\n",
       "    <tr>\n",
       "      <th>1990</th>\n",
       "      <td>1991</td>\n",
       "      <td>Taikos g. 160</td>\n",
       "      <td>Gyvenamoji (trys ir daugiau butų)</td>\n",
       "      <td>1343.47</td>\n",
       "      <td>1118.27</td>\n",
       "      <td>1985.0</td>\n",
       "      <td>NaN</td>\n",
       "      <td>Nerenovuotas</td>\n",
       "      <td>NaN</td>\n",
       "      <td>20.0</td>\n",
       "      <td>0.0</td>\n",
       "      <td>0.00</td>\n",
       "    </tr>\n",
       "    <tr>\n",
       "      <th>3614</th>\n",
       "      <td>3616</td>\n",
       "      <td>Gerovės g. 47</td>\n",
       "      <td>Gyvenamoji (trys ir daugiau butų)</td>\n",
       "      <td>1527.54</td>\n",
       "      <td>1241.09</td>\n",
       "      <td>1978.0</td>\n",
       "      <td>NaN</td>\n",
       "      <td>Nerenovuotas</td>\n",
       "      <td>NaN</td>\n",
       "      <td>22.0</td>\n",
       "      <td>0.0</td>\n",
       "      <td>0.00</td>\n",
       "    </tr>\n",
       "    <tr>\n",
       "      <th>2402</th>\n",
       "      <td>2403</td>\n",
       "      <td>Geležinio Vilko g. 17</td>\n",
       "      <td>Gyvenamoji (trys ir daugiau butų)</td>\n",
       "      <td>4583.37</td>\n",
       "      <td>3832.90</td>\n",
       "      <td>1965.0</td>\n",
       "      <td>NaN</td>\n",
       "      <td>Nerenovuotas</td>\n",
       "      <td>E</td>\n",
       "      <td>81.0</td>\n",
       "      <td>0.0</td>\n",
       "      <td>0.00</td>\n",
       "    </tr>\n",
       "  </tbody>\n",
       "</table>\n",
       "</div>"
      ],
      "text/plain": [
       "        id                 street                            purpose     area  \\\n",
       "2195  2196          Verkių g. 110  Gyvenamoji (trys ir daugiau butų)   107.27   \n",
       "3312  3314           Girulių g. 7  Gyvenamoji (trys ir daugiau butų)  6149.58   \n",
       "1990  1991          Taikos g. 160  Gyvenamoji (trys ir daugiau butų)  1343.47   \n",
       "3614  3616          Gerovės g. 47  Gyvenamoji (trys ir daugiau butų)  1527.54   \n",
       "2402  2403  Geležinio Vilko g. 17  Gyvenamoji (trys ir daugiau butų)  4583.37   \n",
       "\n",
       "      area_useful    year  year_renov  renov_status efficiency  no_flats  \\\n",
       "2195        98.55  1940.0         NaN  Nerenovuotas        NaN       3.0   \n",
       "3312      5489.20  2007.0         NaN  Nerenovuotas          B      90.0   \n",
       "1990      1118.27  1985.0         NaN  Nerenovuotas        NaN      20.0   \n",
       "3614      1241.09  1978.0         NaN  Nerenovuotas        NaN      22.0   \n",
       "2402      3832.90  1965.0         NaN  Nerenovuotas          E      81.0   \n",
       "\n",
       "      not_living_flats  land  \n",
       "2195               0.0  0.00  \n",
       "3312              85.0  2.93  \n",
       "1990               0.0  0.00  \n",
       "3614               0.0  0.00  \n",
       "2402               0.0  0.00  "
      ]
     },
     "execution_count": 201,
     "metadata": {},
     "output_type": "execute_result"
    }
   ],
   "source": [
    "flat.sample(5)"
   ]
  },
  {
   "cell_type": "markdown",
   "metadata": {},
   "source": [
    "## Data Cleaning and Augmentation"
   ]
  },
  {
   "cell_type": "markdown",
   "metadata": {},
   "source": [
    "### Droping Empty Rows"
   ]
  },
  {
   "cell_type": "code",
   "execution_count": 202,
   "metadata": {},
   "outputs": [
    {
     "data": {
      "text/html": [
       "<div>\n",
       "<style scoped>\n",
       "    .dataframe tbody tr th:only-of-type {\n",
       "        vertical-align: middle;\n",
       "    }\n",
       "\n",
       "    .dataframe tbody tr th {\n",
       "        vertical-align: top;\n",
       "    }\n",
       "\n",
       "    .dataframe thead th {\n",
       "        text-align: right;\n",
       "    }\n",
       "</style>\n",
       "<table border=\"1\" class=\"dataframe\">\n",
       "  <thead>\n",
       "    <tr style=\"text-align: right;\">\n",
       "      <th></th>\n",
       "      <th>id</th>\n",
       "      <th>street</th>\n",
       "      <th>purpose</th>\n",
       "      <th>area</th>\n",
       "      <th>area_useful</th>\n",
       "      <th>year</th>\n",
       "      <th>year_renov</th>\n",
       "      <th>renov_status</th>\n",
       "      <th>efficiency</th>\n",
       "      <th>no_flats</th>\n",
       "      <th>not_living_flats</th>\n",
       "      <th>land</th>\n",
       "    </tr>\n",
       "  </thead>\n",
       "  <tbody>\n",
       "    <tr>\n",
       "      <th>6490</th>\n",
       "      <td>6497</td>\n",
       "      <td>Santariškių g. 117</td>\n",
       "      <td>Gyvenamoji (trys ir daugiau butų)</td>\n",
       "      <td>1833.48</td>\n",
       "      <td>1680.46</td>\n",
       "      <td>NaN</td>\n",
       "      <td>NaN</td>\n",
       "      <td>NaN</td>\n",
       "      <td>NaN</td>\n",
       "      <td>30.0</td>\n",
       "      <td>15.0</td>\n",
       "      <td>0.62</td>\n",
       "    </tr>\n",
       "    <tr>\n",
       "      <th>6491</th>\n",
       "      <td>6498</td>\n",
       "      <td>Santariškių g. 115</td>\n",
       "      <td>Gyvenamoji (trys ir daugiau butų)</td>\n",
       "      <td>2340.29</td>\n",
       "      <td>2073.73</td>\n",
       "      <td>NaN</td>\n",
       "      <td>NaN</td>\n",
       "      <td>NaN</td>\n",
       "      <td>NaN</td>\n",
       "      <td>35.0</td>\n",
       "      <td>29.0</td>\n",
       "      <td>0.62</td>\n",
       "    </tr>\n",
       "    <tr>\n",
       "      <th>6496</th>\n",
       "      <td>6505</td>\n",
       "      <td>Sparno g. 4</td>\n",
       "      <td>NaN</td>\n",
       "      <td>NaN</td>\n",
       "      <td>NaN</td>\n",
       "      <td>NaN</td>\n",
       "      <td>NaN</td>\n",
       "      <td>NaN</td>\n",
       "      <td>NaN</td>\n",
       "      <td>NaN</td>\n",
       "      <td>NaN</td>\n",
       "      <td>NaN</td>\n",
       "    </tr>\n",
       "    <tr>\n",
       "      <th>6497</th>\n",
       "      <td>6506</td>\n",
       "      <td>Naujininkų g. 2</td>\n",
       "      <td>NaN</td>\n",
       "      <td>NaN</td>\n",
       "      <td>NaN</td>\n",
       "      <td>NaN</td>\n",
       "      <td>NaN</td>\n",
       "      <td>NaN</td>\n",
       "      <td>NaN</td>\n",
       "      <td>NaN</td>\n",
       "      <td>NaN</td>\n",
       "      <td>NaN</td>\n",
       "    </tr>\n",
       "    <tr>\n",
       "      <th>6514</th>\n",
       "      <td>6523</td>\n",
       "      <td>Stirnų g. 23</td>\n",
       "      <td>Gyvenamoji (trys ir daugiau butų)</td>\n",
       "      <td>3479.44</td>\n",
       "      <td>2984.87</td>\n",
       "      <td>NaN</td>\n",
       "      <td>NaN</td>\n",
       "      <td>NaN</td>\n",
       "      <td>NaN</td>\n",
       "      <td>54.0</td>\n",
       "      <td>34.0</td>\n",
       "      <td>3479.44</td>\n",
       "    </tr>\n",
       "    <tr>\n",
       "      <th>6515</th>\n",
       "      <td>6524</td>\n",
       "      <td>Stumbrų g. 26B</td>\n",
       "      <td>Gyvenamoji (trys ir daugiau butų)</td>\n",
       "      <td>3229.87</td>\n",
       "      <td>2852.10</td>\n",
       "      <td>NaN</td>\n",
       "      <td>NaN</td>\n",
       "      <td>NaN</td>\n",
       "      <td>NaN</td>\n",
       "      <td>54.0</td>\n",
       "      <td>13.0</td>\n",
       "      <td>0.68</td>\n",
       "    </tr>\n",
       "    <tr>\n",
       "      <th>6516</th>\n",
       "      <td>6525</td>\n",
       "      <td>Stumbrų g. 26</td>\n",
       "      <td>Gyvenamoji (trys ir daugiau butų)</td>\n",
       "      <td>3991.43</td>\n",
       "      <td>3310.39</td>\n",
       "      <td>NaN</td>\n",
       "      <td>NaN</td>\n",
       "      <td>NaN</td>\n",
       "      <td>NaN</td>\n",
       "      <td>60.0</td>\n",
       "      <td>1.0</td>\n",
       "      <td>0.51</td>\n",
       "    </tr>\n",
       "    <tr>\n",
       "      <th>6517</th>\n",
       "      <td>6526</td>\n",
       "      <td>Stirnų g. 21</td>\n",
       "      <td>Gyvenamoji (trys ir daugiau butų)</td>\n",
       "      <td>3964.63</td>\n",
       "      <td>3327.61</td>\n",
       "      <td>NaN</td>\n",
       "      <td>NaN</td>\n",
       "      <td>NaN</td>\n",
       "      <td>NaN</td>\n",
       "      <td>60.0</td>\n",
       "      <td>1.0</td>\n",
       "      <td>0.51</td>\n",
       "    </tr>\n",
       "    <tr>\n",
       "      <th>6518</th>\n",
       "      <td>6527</td>\n",
       "      <td>Stumbrų g. 26A</td>\n",
       "      <td>Gyvenamoji (trys ir daugiau butų)</td>\n",
       "      <td>2855.18</td>\n",
       "      <td>2451.69</td>\n",
       "      <td>NaN</td>\n",
       "      <td>NaN</td>\n",
       "      <td>NaN</td>\n",
       "      <td>NaN</td>\n",
       "      <td>42.0</td>\n",
       "      <td>23.0</td>\n",
       "      <td>0.68</td>\n",
       "    </tr>\n",
       "    <tr>\n",
       "      <th>6519</th>\n",
       "      <td>6528</td>\n",
       "      <td>Linksmoji g. 139</td>\n",
       "      <td>NaN</td>\n",
       "      <td>5100.30</td>\n",
       "      <td>4422.15</td>\n",
       "      <td>NaN</td>\n",
       "      <td>NaN</td>\n",
       "      <td>NaN</td>\n",
       "      <td>NaN</td>\n",
       "      <td>79.0</td>\n",
       "      <td>67.0</td>\n",
       "      <td>0.31</td>\n",
       "    </tr>\n",
       "    <tr>\n",
       "      <th>6520</th>\n",
       "      <td>6529</td>\n",
       "      <td>M. K. Paco g. 19</td>\n",
       "      <td>Gyvenamoji (trys ir daugiau butų)</td>\n",
       "      <td>3645.90</td>\n",
       "      <td>2607.64</td>\n",
       "      <td>NaN</td>\n",
       "      <td>NaN</td>\n",
       "      <td>NaN</td>\n",
       "      <td>NaN</td>\n",
       "      <td>36.0</td>\n",
       "      <td>26.0</td>\n",
       "      <td>0.24</td>\n",
       "    </tr>\n",
       "  </tbody>\n",
       "</table>\n",
       "</div>"
      ],
      "text/plain": [
       "        id              street                            purpose     area  \\\n",
       "6490  6497  Santariškių g. 117  Gyvenamoji (trys ir daugiau butų)  1833.48   \n",
       "6491  6498  Santariškių g. 115  Gyvenamoji (trys ir daugiau butų)  2340.29   \n",
       "6496  6505         Sparno g. 4                                NaN      NaN   \n",
       "6497  6506     Naujininkų g. 2                                NaN      NaN   \n",
       "6514  6523        Stirnų g. 23  Gyvenamoji (trys ir daugiau butų)  3479.44   \n",
       "6515  6524      Stumbrų g. 26B  Gyvenamoji (trys ir daugiau butų)  3229.87   \n",
       "6516  6525       Stumbrų g. 26  Gyvenamoji (trys ir daugiau butų)  3991.43   \n",
       "6517  6526        Stirnų g. 21  Gyvenamoji (trys ir daugiau butų)  3964.63   \n",
       "6518  6527      Stumbrų g. 26A  Gyvenamoji (trys ir daugiau butų)  2855.18   \n",
       "6519  6528    Linksmoji g. 139                                NaN  5100.30   \n",
       "6520  6529    M. K. Paco g. 19  Gyvenamoji (trys ir daugiau butų)  3645.90   \n",
       "\n",
       "      area_useful  year  year_renov renov_status efficiency  no_flats  \\\n",
       "6490      1680.46   NaN         NaN          NaN        NaN      30.0   \n",
       "6491      2073.73   NaN         NaN          NaN        NaN      35.0   \n",
       "6496          NaN   NaN         NaN          NaN        NaN       NaN   \n",
       "6497          NaN   NaN         NaN          NaN        NaN       NaN   \n",
       "6514      2984.87   NaN         NaN          NaN        NaN      54.0   \n",
       "6515      2852.10   NaN         NaN          NaN        NaN      54.0   \n",
       "6516      3310.39   NaN         NaN          NaN        NaN      60.0   \n",
       "6517      3327.61   NaN         NaN          NaN        NaN      60.0   \n",
       "6518      2451.69   NaN         NaN          NaN        NaN      42.0   \n",
       "6519      4422.15   NaN         NaN          NaN        NaN      79.0   \n",
       "6520      2607.64   NaN         NaN          NaN        NaN      36.0   \n",
       "\n",
       "      not_living_flats     land  \n",
       "6490              15.0     0.62  \n",
       "6491              29.0     0.62  \n",
       "6496               NaN      NaN  \n",
       "6497               NaN      NaN  \n",
       "6514              34.0  3479.44  \n",
       "6515              13.0     0.68  \n",
       "6516               1.0     0.51  \n",
       "6517               1.0     0.51  \n",
       "6518              23.0     0.68  \n",
       "6519              67.0     0.31  \n",
       "6520              26.0     0.24  "
      ]
     },
     "execution_count": 202,
     "metadata": {},
     "output_type": "execute_result"
    }
   ],
   "source": [
    "flat[flat['year'].isnull() == True]"
   ]
  },
  {
   "cell_type": "code",
   "execution_count": 203,
   "metadata": {},
   "outputs": [
    {
     "data": {
      "text/html": [
       "<div>\n",
       "<style scoped>\n",
       "    .dataframe tbody tr th:only-of-type {\n",
       "        vertical-align: middle;\n",
       "    }\n",
       "\n",
       "    .dataframe tbody tr th {\n",
       "        vertical-align: top;\n",
       "    }\n",
       "\n",
       "    .dataframe thead th {\n",
       "        text-align: right;\n",
       "    }\n",
       "</style>\n",
       "<table border=\"1\" class=\"dataframe\">\n",
       "  <thead>\n",
       "    <tr style=\"text-align: right;\">\n",
       "      <th></th>\n",
       "      <th>id</th>\n",
       "      <th>street</th>\n",
       "      <th>purpose</th>\n",
       "      <th>area</th>\n",
       "      <th>area_useful</th>\n",
       "      <th>year</th>\n",
       "      <th>year_renov</th>\n",
       "      <th>renov_status</th>\n",
       "      <th>efficiency</th>\n",
       "      <th>no_flats</th>\n",
       "      <th>not_living_flats</th>\n",
       "      <th>land</th>\n",
       "    </tr>\n",
       "  </thead>\n",
       "  <tbody>\n",
       "    <tr>\n",
       "      <th>6490</th>\n",
       "      <td>6497</td>\n",
       "      <td>Santariškių g. 117</td>\n",
       "      <td>Gyvenamoji (trys ir daugiau butų)</td>\n",
       "      <td>1833.48</td>\n",
       "      <td>1680.46</td>\n",
       "      <td>NaN</td>\n",
       "      <td>NaN</td>\n",
       "      <td>NaN</td>\n",
       "      <td>NaN</td>\n",
       "      <td>30.0</td>\n",
       "      <td>15.0</td>\n",
       "      <td>0.62</td>\n",
       "    </tr>\n",
       "    <tr>\n",
       "      <th>6491</th>\n",
       "      <td>6498</td>\n",
       "      <td>Santariškių g. 115</td>\n",
       "      <td>Gyvenamoji (trys ir daugiau butų)</td>\n",
       "      <td>2340.29</td>\n",
       "      <td>2073.73</td>\n",
       "      <td>NaN</td>\n",
       "      <td>NaN</td>\n",
       "      <td>NaN</td>\n",
       "      <td>NaN</td>\n",
       "      <td>35.0</td>\n",
       "      <td>29.0</td>\n",
       "      <td>0.62</td>\n",
       "    </tr>\n",
       "    <tr>\n",
       "      <th>6514</th>\n",
       "      <td>6523</td>\n",
       "      <td>Stirnų g. 23</td>\n",
       "      <td>Gyvenamoji (trys ir daugiau butų)</td>\n",
       "      <td>3479.44</td>\n",
       "      <td>2984.87</td>\n",
       "      <td>NaN</td>\n",
       "      <td>NaN</td>\n",
       "      <td>NaN</td>\n",
       "      <td>NaN</td>\n",
       "      <td>54.0</td>\n",
       "      <td>34.0</td>\n",
       "      <td>3479.44</td>\n",
       "    </tr>\n",
       "    <tr>\n",
       "      <th>6515</th>\n",
       "      <td>6524</td>\n",
       "      <td>Stumbrų g. 26B</td>\n",
       "      <td>Gyvenamoji (trys ir daugiau butų)</td>\n",
       "      <td>3229.87</td>\n",
       "      <td>2852.10</td>\n",
       "      <td>NaN</td>\n",
       "      <td>NaN</td>\n",
       "      <td>NaN</td>\n",
       "      <td>NaN</td>\n",
       "      <td>54.0</td>\n",
       "      <td>13.0</td>\n",
       "      <td>0.68</td>\n",
       "    </tr>\n",
       "    <tr>\n",
       "      <th>6516</th>\n",
       "      <td>6525</td>\n",
       "      <td>Stumbrų g. 26</td>\n",
       "      <td>Gyvenamoji (trys ir daugiau butų)</td>\n",
       "      <td>3991.43</td>\n",
       "      <td>3310.39</td>\n",
       "      <td>NaN</td>\n",
       "      <td>NaN</td>\n",
       "      <td>NaN</td>\n",
       "      <td>NaN</td>\n",
       "      <td>60.0</td>\n",
       "      <td>1.0</td>\n",
       "      <td>0.51</td>\n",
       "    </tr>\n",
       "    <tr>\n",
       "      <th>6517</th>\n",
       "      <td>6526</td>\n",
       "      <td>Stirnų g. 21</td>\n",
       "      <td>Gyvenamoji (trys ir daugiau butų)</td>\n",
       "      <td>3964.63</td>\n",
       "      <td>3327.61</td>\n",
       "      <td>NaN</td>\n",
       "      <td>NaN</td>\n",
       "      <td>NaN</td>\n",
       "      <td>NaN</td>\n",
       "      <td>60.0</td>\n",
       "      <td>1.0</td>\n",
       "      <td>0.51</td>\n",
       "    </tr>\n",
       "    <tr>\n",
       "      <th>6518</th>\n",
       "      <td>6527</td>\n",
       "      <td>Stumbrų g. 26A</td>\n",
       "      <td>Gyvenamoji (trys ir daugiau butų)</td>\n",
       "      <td>2855.18</td>\n",
       "      <td>2451.69</td>\n",
       "      <td>NaN</td>\n",
       "      <td>NaN</td>\n",
       "      <td>NaN</td>\n",
       "      <td>NaN</td>\n",
       "      <td>42.0</td>\n",
       "      <td>23.0</td>\n",
       "      <td>0.68</td>\n",
       "    </tr>\n",
       "    <tr>\n",
       "      <th>6519</th>\n",
       "      <td>6528</td>\n",
       "      <td>Linksmoji g. 139</td>\n",
       "      <td>NaN</td>\n",
       "      <td>5100.30</td>\n",
       "      <td>4422.15</td>\n",
       "      <td>NaN</td>\n",
       "      <td>NaN</td>\n",
       "      <td>NaN</td>\n",
       "      <td>NaN</td>\n",
       "      <td>79.0</td>\n",
       "      <td>67.0</td>\n",
       "      <td>0.31</td>\n",
       "    </tr>\n",
       "    <tr>\n",
       "      <th>6520</th>\n",
       "      <td>6529</td>\n",
       "      <td>M. K. Paco g. 19</td>\n",
       "      <td>Gyvenamoji (trys ir daugiau butų)</td>\n",
       "      <td>3645.90</td>\n",
       "      <td>2607.64</td>\n",
       "      <td>NaN</td>\n",
       "      <td>NaN</td>\n",
       "      <td>NaN</td>\n",
       "      <td>NaN</td>\n",
       "      <td>36.0</td>\n",
       "      <td>26.0</td>\n",
       "      <td>0.24</td>\n",
       "    </tr>\n",
       "  </tbody>\n",
       "</table>\n",
       "</div>"
      ],
      "text/plain": [
       "        id              street                            purpose     area  \\\n",
       "6490  6497  Santariškių g. 117  Gyvenamoji (trys ir daugiau butų)  1833.48   \n",
       "6491  6498  Santariškių g. 115  Gyvenamoji (trys ir daugiau butų)  2340.29   \n",
       "6514  6523        Stirnų g. 23  Gyvenamoji (trys ir daugiau butų)  3479.44   \n",
       "6515  6524      Stumbrų g. 26B  Gyvenamoji (trys ir daugiau butų)  3229.87   \n",
       "6516  6525       Stumbrų g. 26  Gyvenamoji (trys ir daugiau butų)  3991.43   \n",
       "6517  6526        Stirnų g. 21  Gyvenamoji (trys ir daugiau butų)  3964.63   \n",
       "6518  6527      Stumbrų g. 26A  Gyvenamoji (trys ir daugiau butų)  2855.18   \n",
       "6519  6528    Linksmoji g. 139                                NaN  5100.30   \n",
       "6520  6529    M. K. Paco g. 19  Gyvenamoji (trys ir daugiau butų)  3645.90   \n",
       "\n",
       "      area_useful  year  year_renov renov_status efficiency  no_flats  \\\n",
       "6490      1680.46   NaN         NaN          NaN        NaN      30.0   \n",
       "6491      2073.73   NaN         NaN          NaN        NaN      35.0   \n",
       "6514      2984.87   NaN         NaN          NaN        NaN      54.0   \n",
       "6515      2852.10   NaN         NaN          NaN        NaN      54.0   \n",
       "6516      3310.39   NaN         NaN          NaN        NaN      60.0   \n",
       "6517      3327.61   NaN         NaN          NaN        NaN      60.0   \n",
       "6518      2451.69   NaN         NaN          NaN        NaN      42.0   \n",
       "6519      4422.15   NaN         NaN          NaN        NaN      79.0   \n",
       "6520      2607.64   NaN         NaN          NaN        NaN      36.0   \n",
       "\n",
       "      not_living_flats     land  \n",
       "6490              15.0     0.62  \n",
       "6491              29.0     0.62  \n",
       "6514              34.0  3479.44  \n",
       "6515              13.0     0.68  \n",
       "6516               1.0     0.51  \n",
       "6517               1.0     0.51  \n",
       "6518              23.0     0.68  \n",
       "6519              67.0     0.31  \n",
       "6520              26.0     0.24  "
      ]
     },
     "execution_count": 203,
     "metadata": {},
     "output_type": "execute_result"
    }
   ],
   "source": [
    "flat.drop(index = [6496, 6497], inplace=True)\n",
    "flat[flat['year'].isnull() == True]"
   ]
  },
  {
   "cell_type": "markdown",
   "metadata": {},
   "source": [
    "### Split Street and House info"
   ]
  },
  {
   "cell_type": "code",
   "execution_count": 204,
   "metadata": {},
   "outputs": [
    {
     "data": {
      "text/html": [
       "<div>\n",
       "<style scoped>\n",
       "    .dataframe tbody tr th:only-of-type {\n",
       "        vertical-align: middle;\n",
       "    }\n",
       "\n",
       "    .dataframe tbody tr th {\n",
       "        vertical-align: top;\n",
       "    }\n",
       "\n",
       "    .dataframe thead th {\n",
       "        text-align: right;\n",
       "    }\n",
       "</style>\n",
       "<table border=\"1\" class=\"dataframe\">\n",
       "  <thead>\n",
       "    <tr style=\"text-align: right;\">\n",
       "      <th></th>\n",
       "      <th>id</th>\n",
       "      <th>street</th>\n",
       "      <th>purpose</th>\n",
       "      <th>area</th>\n",
       "      <th>area_useful</th>\n",
       "      <th>year</th>\n",
       "      <th>year_renov</th>\n",
       "      <th>renov_status</th>\n",
       "      <th>efficiency</th>\n",
       "      <th>no_flats</th>\n",
       "      <th>not_living_flats</th>\n",
       "      <th>land</th>\n",
       "      <th>house</th>\n",
       "    </tr>\n",
       "  </thead>\n",
       "  <tbody>\n",
       "    <tr>\n",
       "      <th>2142</th>\n",
       "      <td>2143</td>\n",
       "      <td>Užusienio g. 28</td>\n",
       "      <td>Gyvenamoji (trys ir daugiau butų)</td>\n",
       "      <td>208.68</td>\n",
       "      <td>208.68</td>\n",
       "      <td>1950.0</td>\n",
       "      <td>NaN</td>\n",
       "      <td>Nerenovuotas</td>\n",
       "      <td>NaN</td>\n",
       "      <td>3.0</td>\n",
       "      <td>0.0</td>\n",
       "      <td>0.13</td>\n",
       "      <td>28</td>\n",
       "    </tr>\n",
       "    <tr>\n",
       "      <th>2675</th>\n",
       "      <td>2677</td>\n",
       "      <td>V. Grybo g. 24</td>\n",
       "      <td>Gyvenamoji (trys ir daugiau butų)</td>\n",
       "      <td>588.66</td>\n",
       "      <td>336.80</td>\n",
       "      <td>1958.0</td>\n",
       "      <td>NaN</td>\n",
       "      <td>Nerenovuotas</td>\n",
       "      <td>NaN</td>\n",
       "      <td>6.0</td>\n",
       "      <td>0.0</td>\n",
       "      <td>0.00</td>\n",
       "      <td>24</td>\n",
       "    </tr>\n",
       "    <tr>\n",
       "      <th>5766</th>\n",
       "      <td>5768</td>\n",
       "      <td>V. Šopeno 3B</td>\n",
       "      <td>Gyvenamoji (trys ir daugiau butų)</td>\n",
       "      <td>1954.74</td>\n",
       "      <td>1344.48</td>\n",
       "      <td>1940.0</td>\n",
       "      <td>NaN</td>\n",
       "      <td>Nerenovuotas</td>\n",
       "      <td>NaN</td>\n",
       "      <td>24.0</td>\n",
       "      <td>1.0</td>\n",
       "      <td>0.00</td>\n",
       "      <td>Šopeno 3B</td>\n",
       "    </tr>\n",
       "    <tr>\n",
       "      <th>3333</th>\n",
       "      <td>3335</td>\n",
       "      <td>L. Zamenhofo g. 12</td>\n",
       "      <td>Gyvenamoji (trys ir daugiau butų)</td>\n",
       "      <td>2507.30</td>\n",
       "      <td>2162.69</td>\n",
       "      <td>2005.0</td>\n",
       "      <td>NaN</td>\n",
       "      <td>Nerenovuotas</td>\n",
       "      <td>NaN</td>\n",
       "      <td>36.0</td>\n",
       "      <td>7.0</td>\n",
       "      <td>1.14</td>\n",
       "      <td>12</td>\n",
       "    </tr>\n",
       "    <tr>\n",
       "      <th>3490</th>\n",
       "      <td>3492</td>\n",
       "      <td>Laisvės pr. 113</td>\n",
       "      <td>Gyvenamoji (trys ir daugiau butų)</td>\n",
       "      <td>4120.68</td>\n",
       "      <td>3244.80</td>\n",
       "      <td>1991.0</td>\n",
       "      <td>NaN</td>\n",
       "      <td>Nerenovuotas</td>\n",
       "      <td>NaN</td>\n",
       "      <td>60.0</td>\n",
       "      <td>0.0</td>\n",
       "      <td>0.00</td>\n",
       "      <td>113</td>\n",
       "    </tr>\n",
       "  </tbody>\n",
       "</table>\n",
       "</div>"
      ],
      "text/plain": [
       "        id              street                            purpose     area  \\\n",
       "2142  2143     Užusienio g. 28  Gyvenamoji (trys ir daugiau butų)   208.68   \n",
       "2675  2677      V. Grybo g. 24  Gyvenamoji (trys ir daugiau butų)   588.66   \n",
       "5766  5768        V. Šopeno 3B  Gyvenamoji (trys ir daugiau butų)  1954.74   \n",
       "3333  3335  L. Zamenhofo g. 12  Gyvenamoji (trys ir daugiau butų)  2507.30   \n",
       "3490  3492     Laisvės pr. 113  Gyvenamoji (trys ir daugiau butų)  4120.68   \n",
       "\n",
       "      area_useful    year  year_renov  renov_status efficiency  no_flats  \\\n",
       "2142       208.68  1950.0         NaN  Nerenovuotas        NaN       3.0   \n",
       "2675       336.80  1958.0         NaN  Nerenovuotas        NaN       6.0   \n",
       "5766      1344.48  1940.0         NaN  Nerenovuotas        NaN      24.0   \n",
       "3333      2162.69  2005.0         NaN  Nerenovuotas        NaN      36.0   \n",
       "3490      3244.80  1991.0         NaN  Nerenovuotas        NaN      60.0   \n",
       "\n",
       "      not_living_flats  land       house  \n",
       "2142               0.0  0.13          28  \n",
       "2675               0.0  0.00          24  \n",
       "5766               1.0  0.00   Šopeno 3B  \n",
       "3333               7.0  1.14          12  \n",
       "3490               0.0  0.00         113  "
      ]
     },
     "execution_count": 204,
     "metadata": {},
     "output_type": "execute_result"
    }
   ],
   "source": [
    "flat['house'] = flat['street'].str[::-1].str.split('.').str[0].str[::-1]\n",
    "flat.sample(5)"
   ]
  },
  {
   "cell_type": "code",
   "execution_count": 207,
   "metadata": {},
   "outputs": [
    {
     "ename": "TypeError",
     "evalue": "'Series' objects are mutable, thus they cannot be hashed",
     "output_type": "error",
     "traceback": [
      "\u001b[0;31m---------------------------------------------------------------------------\u001b[0m",
      "\u001b[0;31mTypeError\u001b[0m                                 Traceback (most recent call last)",
      "\u001b[0;32m<ipython-input-207-90f6520c2a03>\u001b[0m in \u001b[0;36m<module>\u001b[0;34m\u001b[0m\n\u001b[0;32m----> 1\u001b[0;31m \u001b[0mflat\u001b[0m\u001b[0;34m[\u001b[0m\u001b[0;34m'house2'\u001b[0m\u001b[0;34m]\u001b[0m\u001b[0;34m.\u001b[0m\u001b[0munique\u001b[0m\u001b[0;34m(\u001b[0m\u001b[0;34m)\u001b[0m\u001b[0;34m\u001b[0m\u001b[0;34m\u001b[0m\u001b[0m\n\u001b[0m",
      "\u001b[0;32m~/anaconda3/lib/python3.7/site-packages/pandas/core/series.py\u001b[0m in \u001b[0;36munique\u001b[0;34m(self)\u001b[0m\n\u001b[1;32m   1491\u001b[0m         \u001b[0mCategories\u001b[0m \u001b[0;34m(\u001b[0m\u001b[0;36m3\u001b[0m\u001b[0;34m,\u001b[0m \u001b[0mobject\u001b[0m\u001b[0;34m)\u001b[0m\u001b[0;34m:\u001b[0m \u001b[0;34m[\u001b[0m\u001b[0ma\u001b[0m \u001b[0;34m<\u001b[0m \u001b[0mb\u001b[0m \u001b[0;34m<\u001b[0m \u001b[0mc\u001b[0m\u001b[0;34m]\u001b[0m\u001b[0;34m\u001b[0m\u001b[0;34m\u001b[0m\u001b[0m\n\u001b[1;32m   1492\u001b[0m         \"\"\"\n\u001b[0;32m-> 1493\u001b[0;31m         \u001b[0mresult\u001b[0m \u001b[0;34m=\u001b[0m \u001b[0msuper\u001b[0m\u001b[0;34m(\u001b[0m\u001b[0mSeries\u001b[0m\u001b[0;34m,\u001b[0m \u001b[0mself\u001b[0m\u001b[0;34m)\u001b[0m\u001b[0;34m.\u001b[0m\u001b[0munique\u001b[0m\u001b[0;34m(\u001b[0m\u001b[0;34m)\u001b[0m\u001b[0;34m\u001b[0m\u001b[0;34m\u001b[0m\u001b[0m\n\u001b[0m\u001b[1;32m   1494\u001b[0m \u001b[0;34m\u001b[0m\u001b[0m\n\u001b[1;32m   1495\u001b[0m         \u001b[0;32mif\u001b[0m \u001b[0mis_datetime64tz_dtype\u001b[0m\u001b[0;34m(\u001b[0m\u001b[0mself\u001b[0m\u001b[0;34m.\u001b[0m\u001b[0mdtype\u001b[0m\u001b[0;34m)\u001b[0m\u001b[0;34m:\u001b[0m\u001b[0;34m\u001b[0m\u001b[0;34m\u001b[0m\u001b[0m\n",
      "\u001b[0;32m~/anaconda3/lib/python3.7/site-packages/pandas/core/base.py\u001b[0m in \u001b[0;36munique\u001b[0;34m(self)\u001b[0m\n\u001b[1;32m   1047\u001b[0m         \u001b[0;32melse\u001b[0m\u001b[0;34m:\u001b[0m\u001b[0;34m\u001b[0m\u001b[0;34m\u001b[0m\u001b[0m\n\u001b[1;32m   1048\u001b[0m             \u001b[0;32mfrom\u001b[0m \u001b[0mpandas\u001b[0m\u001b[0;34m.\u001b[0m\u001b[0mcore\u001b[0m\u001b[0;34m.\u001b[0m\u001b[0malgorithms\u001b[0m \u001b[0;32mimport\u001b[0m \u001b[0munique1d\u001b[0m\u001b[0;34m\u001b[0m\u001b[0;34m\u001b[0m\u001b[0m\n\u001b[0;32m-> 1049\u001b[0;31m             \u001b[0mresult\u001b[0m \u001b[0;34m=\u001b[0m \u001b[0munique1d\u001b[0m\u001b[0;34m(\u001b[0m\u001b[0mvalues\u001b[0m\u001b[0;34m)\u001b[0m\u001b[0;34m\u001b[0m\u001b[0;34m\u001b[0m\u001b[0m\n\u001b[0m\u001b[1;32m   1050\u001b[0m \u001b[0;34m\u001b[0m\u001b[0m\n\u001b[1;32m   1051\u001b[0m         \u001b[0;32mreturn\u001b[0m \u001b[0mresult\u001b[0m\u001b[0;34m\u001b[0m\u001b[0;34m\u001b[0m\u001b[0m\n",
      "\u001b[0;32m~/anaconda3/lib/python3.7/site-packages/pandas/core/algorithms.py\u001b[0m in \u001b[0;36munique\u001b[0;34m(values)\u001b[0m\n\u001b[1;32m    366\u001b[0m \u001b[0;34m\u001b[0m\u001b[0m\n\u001b[1;32m    367\u001b[0m     \u001b[0mtable\u001b[0m \u001b[0;34m=\u001b[0m \u001b[0mhtable\u001b[0m\u001b[0;34m(\u001b[0m\u001b[0mlen\u001b[0m\u001b[0;34m(\u001b[0m\u001b[0mvalues\u001b[0m\u001b[0;34m)\u001b[0m\u001b[0;34m)\u001b[0m\u001b[0;34m\u001b[0m\u001b[0;34m\u001b[0m\u001b[0m\n\u001b[0;32m--> 368\u001b[0;31m     \u001b[0muniques\u001b[0m \u001b[0;34m=\u001b[0m \u001b[0mtable\u001b[0m\u001b[0;34m.\u001b[0m\u001b[0munique\u001b[0m\u001b[0;34m(\u001b[0m\u001b[0mvalues\u001b[0m\u001b[0;34m)\u001b[0m\u001b[0;34m\u001b[0m\u001b[0;34m\u001b[0m\u001b[0m\n\u001b[0m\u001b[1;32m    369\u001b[0m     \u001b[0muniques\u001b[0m \u001b[0;34m=\u001b[0m \u001b[0m_reconstruct_data\u001b[0m\u001b[0;34m(\u001b[0m\u001b[0muniques\u001b[0m\u001b[0;34m,\u001b[0m \u001b[0mdtype\u001b[0m\u001b[0;34m,\u001b[0m \u001b[0moriginal\u001b[0m\u001b[0;34m)\u001b[0m\u001b[0;34m\u001b[0m\u001b[0;34m\u001b[0m\u001b[0m\n\u001b[1;32m    370\u001b[0m \u001b[0;34m\u001b[0m\u001b[0m\n",
      "\u001b[0;32mpandas/_libs/hashtable_class_helper.pxi\u001b[0m in \u001b[0;36mpandas._libs.hashtable.PyObjectHashTable.unique\u001b[0;34m()\u001b[0m\n",
      "\u001b[0;32m~/anaconda3/lib/python3.7/site-packages/pandas/core/generic.py\u001b[0m in \u001b[0;36m__hash__\u001b[0;34m(self)\u001b[0m\n\u001b[1;32m   1490\u001b[0m     \u001b[0;32mdef\u001b[0m \u001b[0m__hash__\u001b[0m\u001b[0;34m(\u001b[0m\u001b[0mself\u001b[0m\u001b[0;34m)\u001b[0m\u001b[0;34m:\u001b[0m\u001b[0;34m\u001b[0m\u001b[0;34m\u001b[0m\u001b[0m\n\u001b[1;32m   1491\u001b[0m         raise TypeError('{0!r} objects are mutable, thus they cannot be'\n\u001b[0;32m-> 1492\u001b[0;31m                         ' hashed'.format(self.__class__.__name__))\n\u001b[0m\u001b[1;32m   1493\u001b[0m \u001b[0;34m\u001b[0m\u001b[0m\n\u001b[1;32m   1494\u001b[0m     \u001b[0;32mdef\u001b[0m \u001b[0m__iter__\u001b[0m\u001b[0;34m(\u001b[0m\u001b[0mself\u001b[0m\u001b[0;34m)\u001b[0m\u001b[0;34m:\u001b[0m\u001b[0;34m\u001b[0m\u001b[0;34m\u001b[0m\u001b[0m\n",
      "\u001b[0;31mTypeError\u001b[0m: 'Series' objects are mutable, thus they cannot be hashed"
     ]
    }
   ],
   "source": [
    "flat['house2'].unique()"
   ]
  },
  {
   "cell_type": "code",
   "execution_count": 206,
   "metadata": {},
   "outputs": [],
   "source": [
    "house2 = []\n",
    "\n",
    "for i in flat['house']:\n",
    "    if 'kelias' in i:\n",
    "        house2.append(flat['house'].str.split('kelias').str[-1])\n",
    "    elif 'aikštė' in i:\n",
    "        house2.append(flat['house'].str.split('aikštė').str[-1])\n",
    "    else:\n",
    "        house2.append(i)\n",
    "\n",
    "flat['house2'] = house2"
   ]
  },
  {
   "cell_type": "code",
   "execution_count": null,
   "metadata": {},
   "outputs": [],
   "source": [
    "flat['street'].str.split(' kelias ').str[-1]"
   ]
  },
  {
   "cell_type": "code",
   "execution_count": null,
   "metadata": {},
   "outputs": [],
   "source": [
    "flat['house'].unique()"
   ]
  },
  {
   "cell_type": "code",
   "execution_count": null,
   "metadata": {},
   "outputs": [],
   "source": [
    "flat['namo_nr'] = flat['adresas'].str.split('.')[-1]\n",
    "# Code. Remove the link and reverse the string. \n",
    "rating = t_merge['text'].str.split('https:').str[0].str[::-1]\n",
    "# Grap the first pattern \n",
    "rating = rating.str.extract('(\\d+)/(\\d+)')\n",
    "# Store nto the rating format and do a back reverse\n",
    "full_rating = (rating[0]+'/'+rating[1])\n",
    "full_rating = full_rating.str[::-1]"
   ]
  },
  {
   "cell_type": "markdown",
   "metadata": {},
   "source": [
    "### Flat Purpose"
   ]
  },
  {
   "cell_type": "code",
   "execution_count": 140,
   "metadata": {},
   "outputs": [
    {
     "data": {
      "text/plain": [
       "array(['Gyvenamoji (trys ir daugiau butų)',\n",
       "       'Gyvenamoji (įvairioms socialinėms grupėms)',\n",
       "       'Gyvenamoji (vieno buto pastatai)', 'Prekybos\\r\\n',\n",
       "       'Administracinė', 'Gyvenamoji (dviejų butų pastatas)',\n",
       "       'Nenustatyta', 'Viešbučių', 'Sudegęs', 'Bendrabutis',\n",
       "       'Gyvenamasis su visuomeninėmis patalpomis',\n",
       "       'Prekybinis - administracinis pastatas su gyvenamomis patalpomis',\n",
       "       'Daugiabutis gyvenamas namas/komercinė',\n",
       "       'Gyvenamasis komercinis kompleksas', 'Dvibutis', nan], dtype=object)"
      ]
     },
     "execution_count": 140,
     "metadata": {},
     "output_type": "execute_result"
    }
   ],
   "source": [
    "flat.purpose.unique()"
   ]
  },
  {
   "cell_type": "code",
   "execution_count": 141,
   "metadata": {},
   "outputs": [
    {
     "data": {
      "image/png": "[encoded data removed]",
      "text/plain": [
       "<Figure size 432x288 with 1 Axes>"
      ]
     },
     "metadata": {
      "needs_background": "light"
     },
     "output_type": "display_data"
    }
   ],
   "source": [
    "base_color=sb.color_palette()[0]\n",
    "flat2 = flat[flat['purpose'] != 'Gyvenamoji (trys ir daugiau butų)']\n",
    "order_rule=flat2['purpose'].value_counts().index\n",
    "sb.countplot(data=flat2, y='purpose', color=base_color, order=order_rule);"
   ]
  },
  {
   "cell_type": "code",
   "execution_count": 142,
   "metadata": {},
   "outputs": [
    {
     "data": {
      "text/plain": [
       "6378"
      ]
     },
     "execution_count": 142,
     "metadata": {},
     "output_type": "execute_result"
    }
   ],
   "source": [
    "flat[flat['purpose'] == 'Gyvenamoji (trys ir daugiau butų)']['id'].count()"
   ]
  },
  {
   "cell_type": "code",
   "execution_count": 145,
   "metadata": {},
   "outputs": [
    {
     "data": {
      "text/plain": [
       "0"
      ]
     },
     "execution_count": 145,
     "metadata": {},
     "output_type": "execute_result"
    }
   ],
   "source": [
    "flat['purpose'].isnull().sum()"
   ]
  },
  {
   "cell_type": "markdown",
   "metadata": {},
   "source": [
    "### Year"
   ]
  },
  {
   "cell_type": "code",
   "execution_count": 146,
   "metadata": {},
   "outputs": [
    {
     "data": {
      "text/plain": [
       "array([1960., 1957., 1940., 1938., 2006., 1955., 1959., 1953., 1972.,\n",
       "       1996., 1995., 1994., 2008., 1901., 1961., 1958., 1974., 1968.,\n",
       "       1975., 1963., 1964., 2001., 2002., 1967., 1966., 2007., 1970.,\n",
       "       1971., 1969., 1980., 1984., 1986., 1985., 1981., 2013., 1997.,\n",
       "       2009., 2000., 1993., 1989., 1982., 1977., 1983., 1965., 2004.,\n",
       "       1973., 1979., 1952., 2012., 2015., 1987., 2003.,    0., 1962.,\n",
       "       2005., 1976., 1978., 1998., 1923., 1999., 1944., 1950., 1990.,\n",
       "       1988., 1991., 1954., 1903., 2014., 1951., 1992., 1956., 1912.,\n",
       "       1934., 2010., 1935., 2016., 1937., 1911., 1933., 1930., 1928.,\n",
       "       2011., 2017., 1931., 1932., 1916., 1947., 1939., 1936., 1913.,\n",
       "       1948., 1922., 1910., 1946., 1929., 1914., 1941., 1905., 1942.,\n",
       "       1920., 1949., 1924., 1927., 1915., 1908., 1926.,   nan])"
      ]
     },
     "execution_count": 146,
     "metadata": {},
     "output_type": "execute_result"
    }
   ],
   "source": [
    "flat['year'].unique()"
   ]
  },
  {
   "cell_type": "code",
   "execution_count": 147,
   "metadata": {},
   "outputs": [
    {
     "data": {
      "text/plain": [
       "array([1960., 1957., 1940., 1938., 2006., 1955., 1959., 1953., 1972.,\n",
       "       1996., 1995., 1994., 2008., 1901., 1961., 1958., 1974., 1968.,\n",
       "       1975., 1963., 1964., 2001., 2002., 1967., 1966., 2007., 1970.,\n",
       "       1971., 1969., 1980., 1984., 1986., 1985., 1981., 2013., 1997.,\n",
       "       2009., 2000., 1993., 1989., 1982., 1977., 1983., 1965., 2004.,\n",
       "       1973., 1979., 1952., 2012., 2015., 1987., 2003.,   nan, 1962.,\n",
       "       2005., 1976., 1978., 1998., 1923., 1999., 1944., 1950., 1990.,\n",
       "       1988., 1991., 1954., 1903., 2014., 1951., 1992., 1956., 1912.,\n",
       "       1934., 2010., 1935., 2016., 1937., 1911., 1933., 1930., 1928.,\n",
       "       2011., 2017., 1931., 1932., 1916., 1947., 1939., 1936., 1913.,\n",
       "       1948., 1922., 1910., 1946., 1929., 1914., 1941., 1905., 1942.,\n",
       "       1920., 1949., 1924., 1927., 1915., 1908., 1926.])"
      ]
     },
     "execution_count": 147,
     "metadata": {},
     "output_type": "execute_result"
    }
   ],
   "source": [
    "flat['year'] = flat['year'].replace(0, np.nan)\n",
    "flat['year'].unique()"
   ]
  },
  {
   "cell_type": "code",
   "execution_count": 148,
   "metadata": {},
   "outputs": [
    {
     "data": {
      "image/png": "[encoded data removed]",
      "text/plain": [
       "<Figure size 1080x360 with 1 Axes>"
      ]
     },
     "metadata": {
      "needs_background": "light"
     },
     "output_type": "display_data"
    }
   ],
   "source": [
    "plt.figure(figsize = [15, 5]) \n",
    "flat['year'].hist(bins=40);"
   ]
  },
  {
   "cell_type": "code",
   "execution_count": 150,
   "metadata": {},
   "outputs": [
    {
     "data": {
      "text/html": [
       "<div>\n",
       "<style scoped>\n",
       "    .dataframe tbody tr th:only-of-type {\n",
       "        vertical-align: middle;\n",
       "    }\n",
       "\n",
       "    .dataframe tbody tr th {\n",
       "        vertical-align: top;\n",
       "    }\n",
       "\n",
       "    .dataframe thead th {\n",
       "        text-align: right;\n",
       "    }\n",
       "</style>\n",
       "<table border=\"1\" class=\"dataframe\">\n",
       "  <thead>\n",
       "    <tr style=\"text-align: right;\">\n",
       "      <th></th>\n",
       "      <th>id</th>\n",
       "      <th>street</th>\n",
       "      <th>purpose</th>\n",
       "      <th>area</th>\n",
       "      <th>area_useful</th>\n",
       "      <th>year</th>\n",
       "      <th>year_renov</th>\n",
       "      <th>renov_status</th>\n",
       "      <th>efficiency</th>\n",
       "      <th>no_flats</th>\n",
       "      <th>not_living_flats</th>\n",
       "      <th>land</th>\n",
       "    </tr>\n",
       "  </thead>\n",
       "  <tbody>\n",
       "    <tr>\n",
       "      <th>2243</th>\n",
       "      <td>2244</td>\n",
       "      <td>Visorių Sodų 5-oji g. 7</td>\n",
       "      <td>Gyvenamoji (trys ir daugiau butų)</td>\n",
       "      <td>0.00</td>\n",
       "      <td>0.00</td>\n",
       "      <td>NaN</td>\n",
       "      <td>NaN</td>\n",
       "      <td>Nerenovuotas</td>\n",
       "      <td>NaN</td>\n",
       "      <td>0.0</td>\n",
       "      <td>0.0</td>\n",
       "      <td>0.0</td>\n",
       "    </tr>\n",
       "    <tr>\n",
       "      <th>2298</th>\n",
       "      <td>2299</td>\n",
       "      <td>Želvos g. 11A</td>\n",
       "      <td>Gyvenamoji (trys ir daugiau butų)</td>\n",
       "      <td>0.00</td>\n",
       "      <td>0.00</td>\n",
       "      <td>NaN</td>\n",
       "      <td>NaN</td>\n",
       "      <td>Nerenovuotas</td>\n",
       "      <td>NaN</td>\n",
       "      <td>0.0</td>\n",
       "      <td>0.0</td>\n",
       "      <td>0.0</td>\n",
       "    </tr>\n",
       "    <tr>\n",
       "      <th>5207</th>\n",
       "      <td>5209</td>\n",
       "      <td>Savanorių pr. 184</td>\n",
       "      <td>Gyvenamoji (trys ir daugiau butų)</td>\n",
       "      <td>294.36</td>\n",
       "      <td>294.36</td>\n",
       "      <td>NaN</td>\n",
       "      <td>NaN</td>\n",
       "      <td>Nerenovuotas</td>\n",
       "      <td>NaN</td>\n",
       "      <td>6.0</td>\n",
       "      <td>0.0</td>\n",
       "      <td>0.0</td>\n",
       "    </tr>\n",
       "    <tr>\n",
       "      <th>2241</th>\n",
       "      <td>2242</td>\n",
       "      <td>Visorių Sodų 5-oji g. 14</td>\n",
       "      <td>Gyvenamoji (trys ir daugiau butų)</td>\n",
       "      <td>0.00</td>\n",
       "      <td>0.00</td>\n",
       "      <td>NaN</td>\n",
       "      <td>NaN</td>\n",
       "      <td>Nerenovuotas</td>\n",
       "      <td>NaN</td>\n",
       "      <td>0.0</td>\n",
       "      <td>0.0</td>\n",
       "      <td>0.0</td>\n",
       "    </tr>\n",
       "    <tr>\n",
       "      <th>1262</th>\n",
       "      <td>1263</td>\n",
       "      <td>Lentvario g. 12</td>\n",
       "      <td>Gyvenamoji (trys ir daugiau butų)</td>\n",
       "      <td>0.00</td>\n",
       "      <td>0.00</td>\n",
       "      <td>NaN</td>\n",
       "      <td>NaN</td>\n",
       "      <td>Nerenovuotas</td>\n",
       "      <td>NaN</td>\n",
       "      <td>0.0</td>\n",
       "      <td>0.0</td>\n",
       "      <td>0.0</td>\n",
       "    </tr>\n",
       "  </tbody>\n",
       "</table>\n",
       "</div>"
      ],
      "text/plain": [
       "        id                    street                            purpose  \\\n",
       "2243  2244   Visorių Sodų 5-oji g. 7  Gyvenamoji (trys ir daugiau butų)   \n",
       "2298  2299             Želvos g. 11A  Gyvenamoji (trys ir daugiau butų)   \n",
       "5207  5209         Savanorių pr. 184  Gyvenamoji (trys ir daugiau butų)   \n",
       "2241  2242  Visorių Sodų 5-oji g. 14  Gyvenamoji (trys ir daugiau butų)   \n",
       "1262  1263           Lentvario g. 12  Gyvenamoji (trys ir daugiau butų)   \n",
       "\n",
       "        area  area_useful  year  year_renov  renov_status efficiency  \\\n",
       "2243    0.00         0.00   NaN         NaN  Nerenovuotas        NaN   \n",
       "2298    0.00         0.00   NaN         NaN  Nerenovuotas        NaN   \n",
       "5207  294.36       294.36   NaN         NaN  Nerenovuotas        NaN   \n",
       "2241    0.00         0.00   NaN         NaN  Nerenovuotas        NaN   \n",
       "1262    0.00         0.00   NaN         NaN  Nerenovuotas        NaN   \n",
       "\n",
       "      no_flats  not_living_flats  land  \n",
       "2243       0.0               0.0   0.0  \n",
       "2298       0.0               0.0   0.0  \n",
       "5207       6.0               0.0   0.0  \n",
       "2241       0.0               0.0   0.0  \n",
       "1262       0.0               0.0   0.0  "
      ]
     },
     "execution_count": 150,
     "metadata": {},
     "output_type": "execute_result"
    }
   ],
   "source": [
    "flat[flat['year'].isnull() == True].sample(5)"
   ]
  },
  {
   "cell_type": "markdown",
   "metadata": {},
   "source": [
    "### Renovation Year"
   ]
  },
  {
   "cell_type": "code",
   "execution_count": 151,
   "metadata": {},
   "outputs": [
    {
     "data": {
      "text/plain": [
       "array([  nan, 2017., 2016., 2007., 2006., 2010., 2008., 2009., 2015.,\n",
       "       2005., 2000., 2011., 2014., 2013.])"
      ]
     },
     "execution_count": 151,
     "metadata": {},
     "output_type": "execute_result"
    }
   ],
   "source": [
    "flat['year_renov'].unique()"
   ]
  },
  {
   "cell_type": "code",
   "execution_count": 152,
   "metadata": {},
   "outputs": [
    {
     "data": {
      "text/plain": [
       "array([  nan, 2017., 2016., 2007., 2006., 2010., 2008., 2009., 2015.,\n",
       "       2005., 2000., 2011., 2014., 2013.])"
      ]
     },
     "execution_count": 152,
     "metadata": {},
     "output_type": "execute_result"
    }
   ],
   "source": [
    "flat['year_renov'] = flat['year_renov'].replace(0, np.nan)\n",
    "flat['year_renov'].unique()"
   ]
  },
  {
   "cell_type": "code",
   "execution_count": 154,
   "metadata": {},
   "outputs": [
    {
     "data": {
      "image/png": "[encoded data removed]",
      "text/plain": [
       "<Figure size 720x216 with 1 Axes>"
      ]
     },
     "metadata": {
      "needs_background": "light"
     },
     "output_type": "display_data"
    }
   ],
   "source": [
    "plt.figure(figsize = [10, 3]) \n",
    "flat['year_renov'].hist(bins = 30);"
   ]
  },
  {
   "cell_type": "markdown",
   "metadata": {},
   "source": [
    "### Renovation Status"
   ]
  },
  {
   "cell_type": "code",
   "execution_count": 155,
   "metadata": {},
   "outputs": [
    {
     "data": {
      "image/png": "[encoded data removed]",
      "text/plain": [
       "<Figure size 432x288 with 1 Axes>"
      ]
     },
     "metadata": {
      "needs_background": "light"
     },
     "output_type": "display_data"
    }
   ],
   "source": [
    "base_color=sb.color_palette()[0]\n",
    "order_rule=flat['renov_status'].value_counts().index\n",
    "sb.countplot(data=flat, y='renov_status', color=base_color, order=order_rule);"
   ]
  },
  {
   "cell_type": "code",
   "execution_count": 156,
   "metadata": {},
   "outputs": [
    {
     "data": {
      "text/plain": [
       "53"
      ]
     },
     "execution_count": 156,
     "metadata": {},
     "output_type": "execute_result"
    }
   ],
   "source": [
    "flat['renov_status'].isnull().sum()"
   ]
  },
  {
   "cell_type": "code",
   "execution_count": 157,
   "metadata": {},
   "outputs": [
    {
     "data": {
      "text/plain": [
       "0"
      ]
     },
     "execution_count": 157,
     "metadata": {},
     "output_type": "execute_result"
    }
   ],
   "source": [
    "flat['renov_status'].replace(np.nan, 'Nerenovuotas', inplace = True, regex = True)\n",
    "flat['renov_status'].isnull().sum()"
   ]
  },
  {
   "cell_type": "code",
   "execution_count": 158,
   "metadata": {},
   "outputs": [
    {
     "data": {
      "text/plain": [
       "array(['Nerenovuotas', 'Renovuotas', 'Renovuojamas', 'Dalinė renovacija',\n",
       "       'Galimai renovuotųsi', 'Planuojamas renovuoti'], dtype=object)"
      ]
     },
     "execution_count": 158,
     "metadata": {},
     "output_type": "execute_result"
    }
   ],
   "source": [
    "flat['renov_status'].unique()"
   ]
  },
  {
   "cell_type": "markdown",
   "metadata": {},
   "source": [
    "### House Efficiency"
   ]
  },
  {
   "cell_type": "code",
   "execution_count": 159,
   "metadata": {},
   "outputs": [
    {
     "data": {
      "image/png": "[encoded data removed]",
      "text/plain": [
       "<Figure size 432x288 with 1 Axes>"
      ]
     },
     "metadata": {
      "needs_background": "light"
     },
     "output_type": "display_data"
    }
   ],
   "source": [
    "base_color=sb.color_palette()[0]\n",
    "order_rule=flat['efficiency'].value_counts().index\n",
    "sb.countplot(data=flat, y='efficiency', color=base_color, order=order_rule);"
   ]
  },
  {
   "cell_type": "code",
   "execution_count": 160,
   "metadata": {},
   "outputs": [
    {
     "data": {
      "text/plain": [
       "0.8019634913330266"
      ]
     },
     "execution_count": 160,
     "metadata": {},
     "output_type": "execute_result"
    }
   ],
   "source": [
    "flat['efficiency'].isnull().mean()"
   ]
  },
  {
   "cell_type": "markdown",
   "metadata": {},
   "source": [
    "### Number of Flats in the Building"
   ]
  },
  {
   "cell_type": "code",
   "execution_count": 161,
   "metadata": {},
   "outputs": [
    {
     "name": "stdout",
     "output_type": "stream",
     "text": [
      "Number of records without information: 0\n",
      "Total number of appartments: 214450.0\n"
     ]
    }
   ],
   "source": [
    "print('Number of records without information: {}'.format(flat['no_flats'].isnull().sum()))\n",
    "print('Total number of appartments: {}'.format(flat['no_flats'].sum()))"
   ]
  },
  {
   "cell_type": "code",
   "execution_count": 162,
   "metadata": {},
   "outputs": [
    {
     "data": {
      "image/png": "[encoded data removed]",
      "text/plain": [
       "<Figure size 432x288 with 1 Axes>"
      ]
     },
     "metadata": {
      "needs_background": "light"
     },
     "output_type": "display_data"
    }
   ],
   "source": [
    "flat['no_flats'].hist(bins = 25);"
   ]
  },
  {
   "cell_type": "code",
   "execution_count": 164,
   "metadata": {},
   "outputs": [
    {
     "data": {
      "text/plain": [
       "0"
      ]
     },
     "execution_count": 164,
     "metadata": {},
     "output_type": "execute_result"
    }
   ],
   "source": [
    "flat['no_flats'].isnull().sum()"
   ]
  },
  {
   "cell_type": "markdown",
   "metadata": {},
   "source": [
    "### Number of Not Occupied Flats"
   ]
  },
  {
   "cell_type": "code",
   "execution_count": 165,
   "metadata": {},
   "outputs": [
    {
     "data": {
      "text/plain": [
       "9"
      ]
     },
     "execution_count": 165,
     "metadata": {},
     "output_type": "execute_result"
    }
   ],
   "source": [
    "flat['not_living_flats'].isnull().sum()"
   ]
  },
  {
   "cell_type": "code",
   "execution_count": 166,
   "metadata": {},
   "outputs": [
    {
     "data": {
      "text/plain": [
       "0"
      ]
     },
     "execution_count": 166,
     "metadata": {},
     "output_type": "execute_result"
    }
   ],
   "source": [
    "flat['not_living_flats'].replace(np.nan, 0, inplace = True, regex = True)\n",
    "flat['not_living_flats'].isnull().sum()"
   ]
  },
  {
   "cell_type": "code",
   "execution_count": 167,
   "metadata": {},
   "outputs": [
    {
     "data": {
      "image/png": "[encoded data removed]",
      "text/plain": [
       "<Figure size 432x288 with 1 Axes>"
      ]
     },
     "metadata": {
      "needs_background": "light"
     },
     "output_type": "display_data"
    }
   ],
   "source": [
    "flat[flat['not_living_flats'] != 0]['not_living_flats'].hist(bins = 25);"
   ]
  },
  {
   "cell_type": "markdown",
   "metadata": {},
   "source": [
    "### Land"
   ]
  },
  {
   "cell_type": "code",
   "execution_count": 168,
   "metadata": {},
   "outputs": [
    {
     "data": {
      "text/plain": [
       "6"
      ]
     },
     "execution_count": 168,
     "metadata": {},
     "output_type": "execute_result"
    }
   ],
   "source": [
    "flat['land'].isnull().sum()"
   ]
  },
  {
   "cell_type": "code",
   "execution_count": 169,
   "metadata": {},
   "outputs": [
    {
     "data": {
      "text/plain": [
       "0"
      ]
     },
     "execution_count": 169,
     "metadata": {},
     "output_type": "execute_result"
    }
   ],
   "source": [
    "flat['land'].replace(np.nan, 0, inplace = True)\n",
    "flat['land'].isnull().sum()"
   ]
  },
  {
   "cell_type": "code",
   "execution_count": 170,
   "metadata": {},
   "outputs": [
    {
     "data": {
      "text/plain": [
       "count     6519.000000\n",
       "mean        96.844699\n",
       "std       1939.744334\n",
       "min          0.000000\n",
       "25%          0.000000\n",
       "50%          0.000000\n",
       "75%          0.000000\n",
       "max      39190.000000\n",
       "Name: land, dtype: float64"
      ]
     },
     "execution_count": 170,
     "metadata": {},
     "output_type": "execute_result"
    }
   ],
   "source": [
    "flat['land'].describe()"
   ]
  },
  {
   "cell_type": "markdown",
   "metadata": {},
   "source": [
    "## Quality Check"
   ]
  },
  {
   "cell_type": "code",
   "execution_count": 171,
   "metadata": {},
   "outputs": [
    {
     "data": {
      "text/plain": [
       "id                     0\n",
       "street                 0\n",
       "purpose                0\n",
       "area                   0\n",
       "area_useful            0\n",
       "year                  89\n",
       "year_renov          6230\n",
       "renov_status           0\n",
       "efficiency          5228\n",
       "no_flats               0\n",
       "not_living_flats       0\n",
       "land                   0\n",
       "dtype: int64"
      ]
     },
     "execution_count": 171,
     "metadata": {},
     "output_type": "execute_result"
    }
   ],
   "source": [
    "flat.isnull().sum()"
   ]
  },
  {
   "cell_type": "markdown",
   "metadata": {},
   "source": [
    "## Save the File"
   ]
  },
  {
   "cell_type": "code",
   "execution_count": null,
   "metadata": {},
   "outputs": [],
   "source": [
    "#df.to_csv(neigh, '⁨Google Drive⁩/My Drive⁩/Vilniaus duomenys⁩/Vilnius.csv', sep=';')"
   ]
  },
  {
   "cell_type": "code",
   "execution_count": null,
   "metadata": {},
   "outputs": [],
   "source": []
  }
 ],
 "metadata": {
  "kernelspec": {
   "display_name": "Python 3",
   "language": "python",
   "name": "python3"
  },
  "language_info": {
   "codemirror_mode": {
    "name": "ipython",
    "version": 3
   },
   "file_extension": ".py",
   "mimetype": "text/x-python",
   "name": "python",
   "nbconvert_exporter": "python",
   "pygments_lexer": "ipython3",
   "version": "3.7.1"
  }
 },
 "nbformat": 4,
 "nbformat_minor": 2
}
