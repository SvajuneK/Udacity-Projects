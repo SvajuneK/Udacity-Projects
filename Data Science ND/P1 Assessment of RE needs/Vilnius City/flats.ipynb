{
 "cells": [
  {
   "cell_type": "markdown",
   "metadata": {},
   "source": [
    "# Vilnius Appartments\n",
    "## By Svajune Klimasauskaite"
   ]
  },
  {
   "cell_type": "code",
   "execution_count": 1,
   "metadata": {},
   "outputs": [],
   "source": [
    "# import all packages and set plots to be embedded inline\n",
    "import numpy as np\n",
    "import pandas as pd\n",
    "import matplotlib.pyplot as plt\n",
    "import seaborn as sb\n",
    "from mpl_toolkits import mplot3d\n",
    "import datetime as dt\n",
    "#from google.cloud import storage\n",
    "\n",
    "%matplotlib inline"
   ]
  },
  {
   "cell_type": "markdown",
   "metadata": {},
   "source": [
    "## Load Data\n",
    "\n"
   ]
  },
  {
   "cell_type": "code",
   "execution_count": 30,
   "metadata": {},
   "outputs": [
    {
     "data": {
      "text/html": [
       "<div>\n",
       "<style scoped>\n",
       "    .dataframe tbody tr th:only-of-type {\n",
       "        vertical-align: middle;\n",
       "    }\n",
       "\n",
       "    .dataframe tbody tr th {\n",
       "        vertical-align: top;\n",
       "    }\n",
       "\n",
       "    .dataframe thead th {\n",
       "        text-align: right;\n",
       "    }\n",
       "</style>\n",
       "<table border=\"1\" class=\"dataframe\">\n",
       "  <thead>\n",
       "    <tr style=\"text-align: right;\">\n",
       "      <th></th>\n",
       "      <th>id</th>\n",
       "      <th>adresas</th>\n",
       "      <th>namo_valdytojas</th>\n",
       "      <th>valdymo_forma</th>\n",
       "      <th>paskyrimo_pagrindas</th>\n",
       "      <th>administratoriaus_pabaigos_Data</th>\n",
       "      <th>paskirtis</th>\n",
       "      <th>uni_nr</th>\n",
       "      <th>bendr_plotas</th>\n",
       "      <th>naud_plotas</th>\n",
       "      <th>build_year</th>\n",
       "      <th>renov_metai</th>\n",
       "      <th>renovacijos_statusas</th>\n",
       "      <th>energ_naudingumo_klase</th>\n",
       "      <th>butu_skaicius</th>\n",
       "      <th>negyvenamuju_palapu_skaicius</th>\n",
       "      <th>korpusas</th>\n",
       "      <th>sklypo_plotas</th>\n",
       "    </tr>\n",
       "  </thead>\n",
       "  <tbody>\n",
       "    <tr>\n",
       "      <th>0</th>\n",
       "      <td>1</td>\n",
       "      <td>A. Goštauto g. 2</td>\n",
       "      <td>286-oji gyvenamojo namo A.Goštauto g. 2/15 sav...</td>\n",
       "      <td>Bendrija</td>\n",
       "      <td>1995.02.02</td>\n",
       "      <td>NaN</td>\n",
       "      <td>Gyvenamoji (trys ir daugiau butų)</td>\n",
       "      <td>1096-0010-4010</td>\n",
       "      <td>6607.43</td>\n",
       "      <td>4360.68</td>\n",
       "      <td>1960.0</td>\n",
       "      <td>NaN</td>\n",
       "      <td>Nerenovuotas</td>\n",
       "      <td>NaN</td>\n",
       "      <td>53.0</td>\n",
       "      <td>4.0</td>\n",
       "      <td>1A7p</td>\n",
       "      <td>0.00</td>\n",
       "    </tr>\n",
       "    <tr>\n",
       "      <th>1</th>\n",
       "      <td>2</td>\n",
       "      <td>A. Goštauto g. 3</td>\n",
       "      <td>DNSB NERIES VINGIS</td>\n",
       "      <td>Bendrija</td>\n",
       "      <td>2009.04.10</td>\n",
       "      <td>NaN</td>\n",
       "      <td>Gyvenamoji (trys ir daugiau butų)</td>\n",
       "      <td>1095-7003-6016</td>\n",
       "      <td>4304.17</td>\n",
       "      <td>2771.57</td>\n",
       "      <td>1957.0</td>\n",
       "      <td>NaN</td>\n",
       "      <td>Nerenovuotas</td>\n",
       "      <td>NaN</td>\n",
       "      <td>38.0</td>\n",
       "      <td>14.0</td>\n",
       "      <td>1A5p</td>\n",
       "      <td>0.15</td>\n",
       "    </tr>\n",
       "  </tbody>\n",
       "</table>\n",
       "</div>"
      ],
      "text/plain": [
       "   id           adresas                                    namo_valdytojas  \\\n",
       "0   1  A. Goštauto g. 2  286-oji gyvenamojo namo A.Goštauto g. 2/15 sav...   \n",
       "1   2  A. Goštauto g. 3                                 DNSB NERIES VINGIS   \n",
       "\n",
       "  valdymo_forma paskyrimo_pagrindas administratoriaus_pabaigos_Data  \\\n",
       "0      Bendrija          1995.02.02                             NaN   \n",
       "1      Bendrija          2009.04.10                             NaN   \n",
       "\n",
       "                           paskirtis          uni_nr  bendr_plotas  \\\n",
       "0  Gyvenamoji (trys ir daugiau butų)  1096-0010-4010       6607.43   \n",
       "1  Gyvenamoji (trys ir daugiau butų)  1095-7003-6016       4304.17   \n",
       "\n",
       "   naud_plotas  build_year  renov_metai renovacijos_statusas  \\\n",
       "0      4360.68      1960.0          NaN         Nerenovuotas   \n",
       "1      2771.57      1957.0          NaN         Nerenovuotas   \n",
       "\n",
       "  energ_naudingumo_klase  butu_skaicius  negyvenamuju_palapu_skaicius  \\\n",
       "0                    NaN           53.0                           4.0   \n",
       "1                    NaN           38.0                          14.0   \n",
       "\n",
       "  korpusas  sklypo_plotas  \n",
       "0     1A7p           0.00  \n",
       "1     1A5p           0.15  "
      ]
     },
     "execution_count": 30,
     "metadata": {},
     "output_type": "execute_result"
    }
   ],
   "source": [
    "#Load flats\n",
    "flat=pd.read_csv(\"https://raw.githubusercontent.com/vilnius/apartment-buildings/master/apartment_buildings_2019.csv\", sep=';')\n",
    "flat.head(2)"
   ]
  },
  {
   "cell_type": "code",
   "execution_count": 31,
   "metadata": {},
   "outputs": [
    {
     "data": {
      "text/html": [
       "<div>\n",
       "<style scoped>\n",
       "    .dataframe tbody tr th:only-of-type {\n",
       "        vertical-align: middle;\n",
       "    }\n",
       "\n",
       "    .dataframe tbody tr th {\n",
       "        vertical-align: top;\n",
       "    }\n",
       "\n",
       "    .dataframe thead th {\n",
       "        text-align: right;\n",
       "    }\n",
       "</style>\n",
       "<table border=\"1\" class=\"dataframe\">\n",
       "  <thead>\n",
       "    <tr style=\"text-align: right;\">\n",
       "      <th></th>\n",
       "      <th>id</th>\n",
       "      <th>street</th>\n",
       "      <th>purpose</th>\n",
       "      <th>area</th>\n",
       "      <th>area_useful</th>\n",
       "      <th>year</th>\n",
       "      <th>year_renov</th>\n",
       "      <th>renov_status</th>\n",
       "      <th>efficiency</th>\n",
       "      <th>no_flats</th>\n",
       "      <th>not_living_flats</th>\n",
       "      <th>land</th>\n",
       "    </tr>\n",
       "  </thead>\n",
       "  <tbody>\n",
       "    <tr>\n",
       "      <th>2338</th>\n",
       "      <td>2339</td>\n",
       "      <td>Žirmūnų g. 17</td>\n",
       "      <td>Gyvenamoji (trys ir daugiau butų)</td>\n",
       "      <td>0.00</td>\n",
       "      <td>4422.90</td>\n",
       "      <td>1965.0</td>\n",
       "      <td>2014.0</td>\n",
       "      <td>Renovuotas</td>\n",
       "      <td>C</td>\n",
       "      <td>100.0</td>\n",
       "      <td>0.0</td>\n",
       "      <td>0.0</td>\n",
       "    </tr>\n",
       "    <tr>\n",
       "      <th>4473</th>\n",
       "      <td>4475</td>\n",
       "      <td>Vokiečių g. 5</td>\n",
       "      <td>Gyvenamoji (trys ir daugiau butų)</td>\n",
       "      <td>3050.83</td>\n",
       "      <td>2007.57</td>\n",
       "      <td>1940.0</td>\n",
       "      <td>NaN</td>\n",
       "      <td>Nerenovuotas</td>\n",
       "      <td>NaN</td>\n",
       "      <td>30.0</td>\n",
       "      <td>5.0</td>\n",
       "      <td>0.0</td>\n",
       "    </tr>\n",
       "    <tr>\n",
       "      <th>908</th>\n",
       "      <td>909</td>\n",
       "      <td>Gabijos g. 51</td>\n",
       "      <td>Gyvenamoji (trys ir daugiau butų)</td>\n",
       "      <td>0.00</td>\n",
       "      <td>0.00</td>\n",
       "      <td>1987.0</td>\n",
       "      <td>NaN</td>\n",
       "      <td>Nerenovuotas</td>\n",
       "      <td>NaN</td>\n",
       "      <td>56.0</td>\n",
       "      <td>0.0</td>\n",
       "      <td>0.0</td>\n",
       "    </tr>\n",
       "    <tr>\n",
       "      <th>3481</th>\n",
       "      <td>3483</td>\n",
       "      <td>Gabijos g. 49</td>\n",
       "      <td>Gyvenamoji (trys ir daugiau butų)</td>\n",
       "      <td>3444.29</td>\n",
       "      <td>2783.63</td>\n",
       "      <td>1987.0</td>\n",
       "      <td>NaN</td>\n",
       "      <td>Nerenovuotas</td>\n",
       "      <td>NaN</td>\n",
       "      <td>48.0</td>\n",
       "      <td>0.0</td>\n",
       "      <td>0.0</td>\n",
       "    </tr>\n",
       "    <tr>\n",
       "      <th>225</th>\n",
       "      <td>226</td>\n",
       "      <td>Kaštonų g. 5</td>\n",
       "      <td>Gyvenamoji (trys ir daugiau butų)</td>\n",
       "      <td>1373.48</td>\n",
       "      <td>1206.65</td>\n",
       "      <td>1940.0</td>\n",
       "      <td>NaN</td>\n",
       "      <td>Nerenovuotas</td>\n",
       "      <td>NaN</td>\n",
       "      <td>14.0</td>\n",
       "      <td>2.0</td>\n",
       "      <td>0.0</td>\n",
       "    </tr>\n",
       "  </tbody>\n",
       "</table>\n",
       "</div>"
      ],
      "text/plain": [
       "        id         street                            purpose     area  \\\n",
       "2338  2339  Žirmūnų g. 17  Gyvenamoji (trys ir daugiau butų)     0.00   \n",
       "4473  4475  Vokiečių g. 5  Gyvenamoji (trys ir daugiau butų)  3050.83   \n",
       "908    909  Gabijos g. 51  Gyvenamoji (trys ir daugiau butų)     0.00   \n",
       "3481  3483  Gabijos g. 49  Gyvenamoji (trys ir daugiau butų)  3444.29   \n",
       "225    226   Kaštonų g. 5  Gyvenamoji (trys ir daugiau butų)  1373.48   \n",
       "\n",
       "      area_useful    year  year_renov  renov_status efficiency  no_flats  \\\n",
       "2338      4422.90  1965.0      2014.0    Renovuotas          C     100.0   \n",
       "4473      2007.57  1940.0         NaN  Nerenovuotas        NaN      30.0   \n",
       "908          0.00  1987.0         NaN  Nerenovuotas        NaN      56.0   \n",
       "3481      2783.63  1987.0         NaN  Nerenovuotas        NaN      48.0   \n",
       "225       1206.65  1940.0         NaN  Nerenovuotas        NaN      14.0   \n",
       "\n",
       "      not_living_flats  land  \n",
       "2338               0.0   0.0  \n",
       "4473               5.0   0.0  \n",
       "908                0.0   0.0  \n",
       "3481               0.0   0.0  \n",
       "225                2.0   0.0  "
      ]
     },
     "execution_count": 31,
     "metadata": {},
     "output_type": "execute_result"
    }
   ],
   "source": [
    "# Get rid of unnecessary columns\n",
    "flat.drop(columns = ['namo_valdytojas', 'valdymo_forma', 'paskyrimo_pagrindas',\n",
    "                    'administratoriaus_pabaigos_Data', 'uni_nr', 'korpusas'], inplace = True)\n",
    "\n",
    "# Translate column names to english  \n",
    "flat.rename(columns={'adresas':'street', 'paskirtis':'purpose',\n",
    "                        'bendr_plotas':'area', 'naud_plotas':'area_useful',\n",
    "                       'build_year':'year', 'renov_metai':'year_renov', 'renovacijos_statusas':'renov_status',\n",
    "                       'energ_naudingumo_klase':'efficiency', 'butu_skaicius':'no_flats',\n",
    "                       'negyvenamuju_palapu_skaicius':'not_living_flats','sklypo_plotas':'land',\n",
    "                       }, inplace=True)\n",
    "flat.sample(5)"
   ]
  },
  {
   "cell_type": "markdown",
   "metadata": {},
   "source": [
    "## Data Check"
   ]
  },
  {
   "cell_type": "code",
   "execution_count": 32,
   "metadata": {},
   "outputs": [
    {
     "name": "stdout",
     "output_type": "stream",
     "text": [
      "<class 'pandas.core.frame.DataFrame'>\n",
      "RangeIndex: 6521 entries, 0 to 6520\n",
      "Data columns (total 12 columns):\n",
      "id                  6521 non-null int64\n",
      "street              6521 non-null object\n",
      "purpose             6518 non-null object\n",
      "area                6519 non-null float64\n",
      "area_useful         6519 non-null float64\n",
      "year                6510 non-null float64\n",
      "year_renov          289 non-null float64\n",
      "renov_status        6466 non-null object\n",
      "efficiency          1291 non-null object\n",
      "no_flats            6519 non-null float64\n",
      "not_living_flats    6510 non-null float64\n",
      "land                6513 non-null float64\n",
      "dtypes: float64(7), int64(1), object(4)\n",
      "memory usage: 611.4+ KB\n"
     ]
    }
   ],
   "source": [
    "flat.info()"
   ]
  },
  {
   "cell_type": "code",
   "execution_count": null,
   "metadata": {},
   "outputs": [],
   "source": [
    "flat.dtypes"
   ]
  },
  {
   "cell_type": "code",
   "execution_count": 65,
   "metadata": {},
   "outputs": [
    {
     "data": {
      "text/plain": [
       "id                     0\n",
       "street                 0\n",
       "purpose                3\n",
       "area                   2\n",
       "area_useful            2\n",
       "year                   0\n",
       "year_renov             0\n",
       "renov_status          55\n",
       "efficiency          5230\n",
       "no_flats               2\n",
       "not_living_flats      11\n",
       "land                   8\n",
       "dtype: int64"
      ]
     },
     "execution_count": 65,
     "metadata": {},
     "output_type": "execute_result"
    }
   ],
   "source": [
    "# Count null records\n",
    "flat.isnull().sum()"
   ]
  },
  {
   "cell_type": "code",
   "execution_count": null,
   "metadata": {},
   "outputs": [],
   "source": [
    "# Count unique records\n",
    "flat.nunique()"
   ]
  },
  {
   "cell_type": "code",
   "execution_count": null,
   "metadata": {},
   "outputs": [],
   "source": [
    "flat.sample(5)"
   ]
  },
  {
   "cell_type": "markdown",
   "metadata": {},
   "source": [
    "## Data Cleaning and Augmentation"
   ]
  },
  {
   "cell_type": "markdown",
   "metadata": {},
   "source": [
    "### Split Street and House info"
   ]
  },
  {
   "cell_type": "code",
   "execution_count": 69,
   "metadata": {},
   "outputs": [
    {
     "data": {
      "text/html": [
       "<div>\n",
       "<style scoped>\n",
       "    .dataframe tbody tr th:only-of-type {\n",
       "        vertical-align: middle;\n",
       "    }\n",
       "\n",
       "    .dataframe tbody tr th {\n",
       "        vertical-align: top;\n",
       "    }\n",
       "\n",
       "    .dataframe thead th {\n",
       "        text-align: right;\n",
       "    }\n",
       "</style>\n",
       "<table border=\"1\" class=\"dataframe\">\n",
       "  <thead>\n",
       "    <tr style=\"text-align: right;\">\n",
       "      <th></th>\n",
       "      <th>id</th>\n",
       "      <th>street</th>\n",
       "      <th>purpose</th>\n",
       "      <th>area</th>\n",
       "      <th>area_useful</th>\n",
       "      <th>year</th>\n",
       "      <th>year_renov</th>\n",
       "      <th>renov_status</th>\n",
       "      <th>efficiency</th>\n",
       "      <th>no_flats</th>\n",
       "      <th>not_living_flats</th>\n",
       "      <th>land</th>\n",
       "      <th>house</th>\n",
       "    </tr>\n",
       "  </thead>\n",
       "  <tbody>\n",
       "    <tr>\n",
       "      <th>2802</th>\n",
       "      <td>2804</td>\n",
       "      <td>P. Žadeikos g. 12</td>\n",
       "      <td>Gyvenamoji (trys ir daugiau butų)</td>\n",
       "      <td>4193.62</td>\n",
       "      <td>3507.02</td>\n",
       "      <td>1989</td>\n",
       "      <td>0</td>\n",
       "      <td>Nerenovuotas</td>\n",
       "      <td>NaN</td>\n",
       "      <td>50.0</td>\n",
       "      <td>0.0</td>\n",
       "      <td>0.0</td>\n",
       "      <td>12</td>\n",
       "    </tr>\n",
       "    <tr>\n",
       "      <th>2426</th>\n",
       "      <td>2427</td>\n",
       "      <td>Kubiliaus g. 4B</td>\n",
       "      <td>Gyvenamoji (trys ir daugiau butų)</td>\n",
       "      <td>4879.45</td>\n",
       "      <td>3010.84</td>\n",
       "      <td>2007</td>\n",
       "      <td>0</td>\n",
       "      <td>Nerenovuotas</td>\n",
       "      <td>C</td>\n",
       "      <td>50.0</td>\n",
       "      <td>61.0</td>\n",
       "      <td>0.0</td>\n",
       "      <td>4B</td>\n",
       "    </tr>\n",
       "    <tr>\n",
       "      <th>3921</th>\n",
       "      <td>3923</td>\n",
       "      <td>Santariškių g. 69</td>\n",
       "      <td>Gyvenamoji (trys ir daugiau butų)</td>\n",
       "      <td>1274.28</td>\n",
       "      <td>1274.28</td>\n",
       "      <td>2009</td>\n",
       "      <td>0</td>\n",
       "      <td>Nerenovuotas</td>\n",
       "      <td>C</td>\n",
       "      <td>24.0</td>\n",
       "      <td>0.0</td>\n",
       "      <td>0.0</td>\n",
       "      <td>69</td>\n",
       "    </tr>\n",
       "    <tr>\n",
       "      <th>5002</th>\n",
       "      <td>5004</td>\n",
       "      <td>Žirmūnų g. 39</td>\n",
       "      <td>Gyvenamoji (trys ir daugiau butų)</td>\n",
       "      <td>3240.80</td>\n",
       "      <td>2707.50</td>\n",
       "      <td>1965</td>\n",
       "      <td>0</td>\n",
       "      <td>Nerenovuotas</td>\n",
       "      <td>NaN</td>\n",
       "      <td>60.0</td>\n",
       "      <td>0.0</td>\n",
       "      <td>0.0</td>\n",
       "      <td>39</td>\n",
       "    </tr>\n",
       "    <tr>\n",
       "      <th>612</th>\n",
       "      <td>613</td>\n",
       "      <td>A. Paškevič-Ciotkos g. 21</td>\n",
       "      <td>Gyvenamoji (trys ir daugiau butų)</td>\n",
       "      <td>1450.73</td>\n",
       "      <td>1173.43</td>\n",
       "      <td>1989</td>\n",
       "      <td>0</td>\n",
       "      <td>Nerenovuotas</td>\n",
       "      <td>NaN</td>\n",
       "      <td>22.0</td>\n",
       "      <td>0.0</td>\n",
       "      <td>0.0</td>\n",
       "      <td>21</td>\n",
       "    </tr>\n",
       "  </tbody>\n",
       "</table>\n",
       "</div>"
      ],
      "text/plain": [
       "        id                     street                            purpose  \\\n",
       "2802  2804          P. Žadeikos g. 12  Gyvenamoji (trys ir daugiau butų)   \n",
       "2426  2427            Kubiliaus g. 4B  Gyvenamoji (trys ir daugiau butų)   \n",
       "3921  3923          Santariškių g. 69  Gyvenamoji (trys ir daugiau butų)   \n",
       "5002  5004              Žirmūnų g. 39  Gyvenamoji (trys ir daugiau butų)   \n",
       "612    613  A. Paškevič-Ciotkos g. 21  Gyvenamoji (trys ir daugiau butų)   \n",
       "\n",
       "         area  area_useful  year  year_renov  renov_status efficiency  \\\n",
       "2802  4193.62      3507.02  1989           0  Nerenovuotas        NaN   \n",
       "2426  4879.45      3010.84  2007           0  Nerenovuotas          C   \n",
       "3921  1274.28      1274.28  2009           0  Nerenovuotas          C   \n",
       "5002  3240.80      2707.50  1965           0  Nerenovuotas        NaN   \n",
       "612   1450.73      1173.43  1989           0  Nerenovuotas        NaN   \n",
       "\n",
       "      no_flats  not_living_flats  land house  \n",
       "2802      50.0               0.0   0.0    12  \n",
       "2426      50.0              61.0   0.0    4B  \n",
       "3921      24.0               0.0   0.0    69  \n",
       "5002      60.0               0.0   0.0    39  \n",
       "612       22.0               0.0   0.0    21  "
      ]
     },
     "execution_count": 69,
     "metadata": {},
     "output_type": "execute_result"
    }
   ],
   "source": [
    "flat['house'] = flat['street'].str[::-1].str.split('.').str[0].str[::-1]\n",
    "flat.sample(5)"
   ]
  },
  {
   "cell_type": "code",
   "execution_count": 71,
   "metadata": {},
   "outputs": [
    {
     "data": {
      "text/plain": [
       "array([' 2', ' 3', ' 11', ' 6A', ' 10', ' 28', ' 45', ' 92', ' 32', ' 15',\n",
       "       ' 20', ' 4A', ' 5', ' 1', ' 4', ' 14', ' 16', ' 27', ' 35', ' 53',\n",
       "       ' 30', ' 50', ' 58', ' 62', ' 68', ' 69', ' 83', ' 84', ' 85',\n",
       "       ' 89', ' 90', ' 95', ' 96', ' 97', ' 105', ' 132', ' 168', ' 176',\n",
       "       ' 180', ' 194', ' 196', ' 200', ' 212', ' 220', ' 51', ' 64',\n",
       "       ' 67', ' 91', ' 7', ' 77', ' 7C', ' 19', ' 9', ' 73', ' 21', ' 8',\n",
       "       ' 2A', ' 31', ' 6', ' 39', ' 72', ' 78', ' 42', ' 13', ' 58B',\n",
       "       ' 33', ' 12', ' 3B', ' 75', ' 46', ' 48', ' 25', ' 23', ' 52',\n",
       "       ' 54', ' 60', ' 24', ' 57', ' 59', ' 55', ' 17', ' 7A', ' 49',\n",
       "       ' 61', ' 63', ' 71', ' 18', ' 2B', ' 11A', ' 126', ' 138', ' 144',\n",
       "       ' 150', ' 276A', ' 29', ' 290', ' 294A', ' 29A', ' 43', ' 70',\n",
       "       ' 98', ' 37A', ' 100', ' 36', ' 37, Grigiškės', ' 49, Grigiškės',\n",
       "       ' 53A', ' 8A', ' 115A', ' 117', ' 123', ' 79D', ' 87B', ' 99A',\n",
       "       ' 64A', ' 133', ' 38', ' 15A', ' 84A', ' 3A', ' 81', ' 14B', ' 34',\n",
       "       ' 40', ' 26A', ' 22', ' 34B', ' 13A', ' 13B', ' 26', ' 25A', ' 8B',\n",
       "       ' 12A', ' 12B', ' 9F', ' 28A', ' 4B', ' 11, Grigiškės', ' 9B',\n",
       "       ' 11B', ' 11C', ' 11D', ' 9A', ' 23B', ' 228A', ' 300D', ' 306',\n",
       "       ' 306A', ' 76', ' 80', ' 82', ' 86', ' 94', ' 68H',\n",
       "       ' 65, Grigiškių', ' 5A', ' 101', ' 37', ' 99', ' 102', ' 103',\n",
       "       ' 106C', ' 10B', ' 128', ' 131', ' 147', ' 149', ' 30C', ' 65',\n",
       "       ' 67A', ' 93', ' 192', ' 264', ' 45A', ' 44', ' 66', ' 10C',\n",
       "       ' 104', ' 106', ' 109', ' 112', ' 170', ' 178', ' 184', ' 202',\n",
       "       ' 208', ' 60A', ' 79', ' 17A', ' 3E', ' 21B', ' 47', ' 21C',\n",
       "       ' 17C', ' 1C', ' 4C', ' 74', ' 56', ' 88', ' 23A', ' 41', ' 51A',\n",
       "       ' 121', ' 60C', ' 60D', ' 42A', ' 61A', ' 77A', ' 87', ' 50A',\n",
       "       ' 56B', ' 17B', ' 22A', ' 19G', ' 16A', ' 144C', ' 144D', ' 12C',\n",
       "       ' 16B', ' 110', ' 119', ' 137', ' 137A', ' 137B', ' 137C', ' 137D',\n",
       "       ' 140A', ' 142', ' 148', ' 166A', ' 176B', ' 198', ' 201G', ' 276',\n",
       "       ' 280', ' 284', ' 284A', ' 284B', ' 286', ' 286A', ' 286B',\n",
       "       ' 286C', ' 292', ' 292A', ' 292B', ' 292C', ' 294', ' 294B',\n",
       "       ' 294C', ' 294D', ' 29B', ' 40A', ' 57B', ' 3 (nuo 107)', ' 1A-8',\n",
       "       ' 27, Pagiriai', ' 1A', ' 1B', ' 108', ' 48, Grigiškės', ' 43A',\n",
       "       ' g 6', ' 14A', ' 14C', ' 107', ' 111', ' 53B', ' 71B', ' 87A',\n",
       "       '53a', ' 152', ' 24B', ' 39A', ' 118', ' 10A', ' 14E', ' 48A',\n",
       "       ' 10 E', ' 25B', ' 31A', 'Pavilnionių 10', ' 44A', ' 22C', ' 22D',\n",
       "       'Rygos 17A', ' 35B', ' 30B', ' 32A', ' 32C', ' 96A', ' 139',\n",
       "       ' 109A', ' 114', ' 11E', ' 153', ' 222', ' 227', ' 21D', ' 45C',\n",
       "       'šešuol', ' 15C', ' 6B', ' 116', ' 120', ' 27B', ' 27C', ' 27D',\n",
       "       ' 27E', ' 27F', ' 31B', ' 8, Grigiškės', ' 122', ' 124', ' 134',\n",
       "       ' 136', ' 140', ' 146', ' 151', ' 154', ' 156', ' 158', ' 160',\n",
       "       ' 162', ' 164', ' 166', ' 172', ' 174', ' 182', ' 185', ' 186',\n",
       "       ' 188', ' 213', ' 215', ' 223', ' 251', ' 259', ' 19A', ' 26B',\n",
       "       ' 27A', 'Trinapolio 9B', 'Trinapolio 9C', 'Trinapolio 9D',\n",
       "       'Trinapolio 9E', ' 300F', ' 300G', ' 300H', ' 141', ' 143', ' 228',\n",
       "       ' 298A', ' 298B', ' 298C', ' 300B', ' 300E', ' 409', ' 7B', ' 30D',\n",
       "       ' 34A', ' 68B', ' 68C', ' 68D', ' 68E', ' 68F', ' 18A', ' 53D',\n",
       "       ' 4D', ' 30A', ' 88A', ' 240', ' 135', ' 1K', ' 38A', ' 70C',\n",
       "       ' 4F', ' 67, Grigiškės', ' 20A', ' 33A', ' 41A', ' 43B', ' 57A',\n",
       "       ' 95A', ' 95B', ' 18B', ' 18C', ' 24A', ' 28B', ' 28C', ' 55A',\n",
       "       ' 73 A', ' 113', ' 125', ' 127', '6', '31', ' 2E', ' 263A',\n",
       "       ' 263B', ' 263C', ' 263D', ' 263E', ' 263F', '12', '58', '60',\n",
       "       ' 115', ' 129', ' 203', ' 205', ' 207', ' 217', ' 219', ' 225',\n",
       "       ' 229', ' 1/22', ' 224', ' 226', ' 1E', ' 1G', ' 272', ' 77B',\n",
       "       ' 77C', ' 77D', ' 77E', ' 77F', ' 6C', ' 6E', ' 6F', ' 6G', ' 6D',\n",
       "       ' 32B', ' 32E', ' 16C', ' 5B', ' 11 (35-70)', ' 14 (36-65)',\n",
       "       'Medeinos 41', ' 130', ' 145', ' 155', ' 204', ' 210', ' 216',\n",
       "       ' 218', ' 260', ' 274', ' 274A', ' 288', ' 300', ' 302', ' 308',\n",
       "       ' 310', ' 310A', ' 312', ' 314', ' 316', ' 318', ' 169', ' 189',\n",
       "       ' 115B', ' 35A', ' 37B', ' 37C', ' 37D', ' 37E', ' 37F', ' 37G',\n",
       "       ' 39B', ' 39C', ' 39D', ' 39E', ' 39F', ' 39G', ' 39H', ' 3D',\n",
       "       ' 8C', ' 12E', ' 33B', ' 38C', ' 38D', ' 20B', ' 5 A', ' 5 B',\n",
       "       ' 20 A', ' 20 B', ' 36 A', ' 36A', ' 29 A', ' 29 B', ' 2 C',\n",
       "       ' 65A', ' 71A', '14', ' 214', ' 230', ' 232', ' 234', ' 206',\n",
       "       ' 236', ' 10/31', ' 25/2', ' 23C', ' 178B', ' 188A', ' 190',\n",
       "       ' 335', ' 78A', ' 80B', ' 47A', ' 47B', ' 61B', ' 22B', ' 56A',\n",
       "       ' 2C', ' 2D', ' 173', ' 175', ' 157', ' 159', ' 282', ' 282A',\n",
       "       ' 282B', ' 288A', ' 288B', ' 63A', ' 66A', 'Viršuliškių g 14',\n",
       "       ' 53C', ' 75A', ' 75B', ' 5a', ' 1D', ' 5C', ' 5D', ' 187', ' 26C',\n",
       "       '  3, Grigiškės', 'Rodūnios kelias 21', 'Rodūnios kelias 24',\n",
       "       'Rodūnios kelias 26', 'Rodūnios kelias 28', ' 19B', ' Šopeno 1',\n",
       "       ' Šopeno 3B', ' 45, Grigiškės', 'Žalioji aikštė 6',\n",
       "       'Žalioji aikštė 7', 'Žalioji aikštė 8', 'Žalioji aikštė 9', ' 49A',\n",
       "       ' 40B', ' 54A', ' 70A', ' 68A', ' 3C', ' 50B'], dtype=object)"
      ]
     },
     "execution_count": 71,
     "metadata": {},
     "output_type": "execute_result"
    }
   ],
   "source": [
    "flat['house'].unique()"
   ]
  },
  {
   "cell_type": "code",
   "execution_count": null,
   "metadata": {},
   "outputs": [],
   "source": []
  },
  {
   "cell_type": "code",
   "execution_count": null,
   "metadata": {},
   "outputs": [],
   "source": []
  },
  {
   "cell_type": "code",
   "execution_count": null,
   "metadata": {},
   "outputs": [],
   "source": [
    "flat['namo_nr'] = flat['adresas'].str.split('.')[-1]\n",
    "# Code. Remove the link and reverse the string. \n",
    "rating = t_merge['text'].str.split('https:').str[0].str[::-1]\n",
    "# Grap the first pattern \n",
    "rating = rating.str.extract('(\\d+)/(\\d+)')\n",
    "# Store nto the rating format and do a back reverse\n",
    "full_rating = (rating[0]+'/'+rating[1])\n",
    "full_rating = full_rating.str[::-1]"
   ]
  },
  {
   "cell_type": "markdown",
   "metadata": {},
   "source": [
    "### Flat Purpose"
   ]
  },
  {
   "cell_type": "code",
   "execution_count": 60,
   "metadata": {},
   "outputs": [
    {
     "data": {
      "text/plain": [
       "array(['Gyvenamoji (trys ir daugiau butų)',\n",
       "       'Gyvenamoji (įvairioms socialinėms grupėms)',\n",
       "       'Gyvenamoji (vieno buto pastatai)', 'Prekybos\\r\\n',\n",
       "       'Administracinė', 'Gyvenamoji (dviejų butų pastatas)',\n",
       "       'Nenustatyta', 'Viešbučių', 'Sudegęs', 'Bendrabutis',\n",
       "       'Gyvenamasis su visuomeninėmis patalpomis',\n",
       "       'Prekybinis - administracinis pastatas su gyvenamomis patalpomis',\n",
       "       'Daugiabutis gyvenamas namas/komercinė',\n",
       "       'Gyvenamasis komercinis kompleksas', 'Dvibutis', nan], dtype=object)"
      ]
     },
     "execution_count": 60,
     "metadata": {},
     "output_type": "execute_result"
    }
   ],
   "source": [
    "flat.purpose.unique()"
   ]
  },
  {
   "cell_type": "code",
   "execution_count": 62,
   "metadata": {},
   "outputs": [
    {
     "data": {
      "image/png": "[encoded data removed]",
      "text/plain": [
       "<Figure size 432x288 with 1 Axes>"
      ]
     },
     "metadata": {
      "needs_background": "light"
     },
     "output_type": "display_data"
    }
   ],
   "source": [
    "base_color=sb.color_palette()[0]\n",
    "flat2 = flat[flat['purpose'] != 'Gyvenamoji (trys ir daugiau butų)']\n",
    "order_rule=flat2['purpose'].value_counts().index\n",
    "sb.countplot(data=flat2, y='purpose', color=base_color, order=order_rule);"
   ]
  },
  {
   "cell_type": "markdown",
   "metadata": {},
   "source": [
    "### Year"
   ]
  },
  {
   "cell_type": "code",
   "execution_count": 33,
   "metadata": {},
   "outputs": [
    {
     "data": {
      "text/plain": [
       "array([1960., 1957., 1940., 1938., 2006., 1955., 1959., 1953., 1972.,\n",
       "       1996., 1995., 1994., 2008., 1901., 1961., 1958., 1974., 1968.,\n",
       "       1975., 1963., 1964., 2001., 2002., 1967., 1966., 2007., 1970.,\n",
       "       1971., 1969., 1980., 1984., 1986., 1985., 1981., 2013., 1997.,\n",
       "       2009., 2000., 1993., 1989., 1982., 1977., 1983., 1965., 2004.,\n",
       "       1973., 1979., 1952., 2012., 2015., 1987., 2003.,    0., 1962.,\n",
       "       2005., 1976., 1978., 1998., 1923., 1999., 1944., 1950., 1990.,\n",
       "       1988., 1991., 1954., 1903., 2014., 1951., 1992., 1956., 1912.,\n",
       "       1934., 2010., 1935., 2016., 1937., 1911., 1933., 1930., 1928.,\n",
       "       2011., 2017., 1931., 1932., 1916., 1947., 1939., 1936., 1913.,\n",
       "       1948., 1922., 1910., 1946., 1929., 1914., 1941., 1905., 1942.,\n",
       "       1920., 1949., 1924., 1927., 1915., 1908., 1926.,   nan])"
      ]
     },
     "execution_count": 33,
     "metadata": {},
     "output_type": "execute_result"
    }
   ],
   "source": [
    "flat['year'].unique()"
   ]
  },
  {
   "cell_type": "code",
   "execution_count": 34,
   "metadata": {},
   "outputs": [
    {
     "data": {
      "text/plain": [
       "array([1960, 1957, 1940, 1938, 2006, 1955, 1959, 1953, 1972, 1996, 1995,\n",
       "       1994, 2008, 1901, 1961, 1958, 1974, 1968, 1975, 1963, 1964, 2001,\n",
       "       2002, 1967, 1966, 2007, 1970, 1971, 1969, 1980, 1984, 1986, 1985,\n",
       "       1981, 2013, 1997, 2009, 2000, 1993, 1989, 1982, 1977, 1983, 1965,\n",
       "       2004, 1973, 1979, 1952, 2012, 2015, 1987, 2003,    0, 1962, 2005,\n",
       "       1976, 1978, 1998, 1923, 1999, 1944, 1950, 1990, 1988, 1991, 1954,\n",
       "       1903, 2014, 1951, 1992, 1956, 1912, 1934, 2010, 1935, 2016, 1937,\n",
       "       1911, 1933, 1930, 1928, 2011, 2017, 1931, 1932, 1916, 1947, 1939,\n",
       "       1936, 1913, 1948, 1922, 1910, 1946, 1929, 1914, 1941, 1905, 1942,\n",
       "       1920, 1949, 1924, 1927, 1915, 1908, 1926])"
      ]
     },
     "execution_count": 34,
     "metadata": {},
     "output_type": "execute_result"
    }
   ],
   "source": [
    "flat['year'] = flat['year'].replace(np.nan, '0').replace('0.0', '0').astype(int)\n",
    "flat['year'].unique()"
   ]
  },
  {
   "cell_type": "code",
   "execution_count": 35,
   "metadata": {},
   "outputs": [
    {
     "data": {
      "image/png": "[encoded data removed]",
      "text/plain": [
       "<Figure size 1080x360 with 1 Axes>"
      ]
     },
     "metadata": {
      "needs_background": "light"
     },
     "output_type": "display_data"
    }
   ],
   "source": [
    "plt.figure(figsize = [15, 5]) \n",
    "flat[flat['year'] != 0]['year'].hist(bins=30);"
   ]
  },
  {
   "cell_type": "markdown",
   "metadata": {},
   "source": [
    "### Renovation Year"
   ]
  },
  {
   "cell_type": "code",
   "execution_count": 36,
   "metadata": {},
   "outputs": [
    {
     "data": {
      "text/plain": [
       "array([  nan, 2017., 2016., 2007., 2006., 2010., 2008., 2009., 2015.,\n",
       "       2005., 2000., 2011., 2014., 2013.])"
      ]
     },
     "execution_count": 36,
     "metadata": {},
     "output_type": "execute_result"
    }
   ],
   "source": [
    "flat['year_renov'].unique()"
   ]
  },
  {
   "cell_type": "code",
   "execution_count": 37,
   "metadata": {},
   "outputs": [
    {
     "data": {
      "text/plain": [
       "array([   0, 2017, 2016, 2007, 2006, 2010, 2008, 2009, 2015, 2005, 2000,\n",
       "       2011, 2014, 2013])"
      ]
     },
     "execution_count": 37,
     "metadata": {},
     "output_type": "execute_result"
    }
   ],
   "source": [
    "flat['year_renov'] = flat['year_renov'].replace(np.nan, '0').replace('0.0', '0').astype(int)\n",
    "flat['year_renov'].unique()"
   ]
  },
  {
   "cell_type": "code",
   "execution_count": 68,
   "metadata": {},
   "outputs": [
    {
     "data": {
      "image/png": "[encoded data removed]",
      "text/plain": [
       "<Figure size 720x360 with 1 Axes>"
      ]
     },
     "metadata": {
      "needs_background": "light"
     },
     "output_type": "display_data"
    }
   ],
   "source": [
    "plt.figure(figsize = [10, 5]) \n",
    "flat[flat['year_renov'] != 0]['year_renov'].hist(bins = 30);"
   ]
  },
  {
   "cell_type": "markdown",
   "metadata": {},
   "source": [
    "### Renovation Status"
   ]
  },
  {
   "cell_type": "code",
   "execution_count": 39,
   "metadata": {},
   "outputs": [
    {
     "data": {
      "image/png": "[encoded data removed]",
      "text/plain": [
       "<Figure size 432x288 with 1 Axes>"
      ]
     },
     "metadata": {
      "needs_background": "light"
     },
     "output_type": "display_data"
    }
   ],
   "source": [
    "base_color=sb.color_palette()[0]\n",
    "order_rule=flat['renov_status'].value_counts().index\n",
    "sb.countplot(data=flat, y='renov_status', color=base_color, order=order_rule);"
   ]
  },
  {
   "cell_type": "code",
   "execution_count": 45,
   "metadata": {},
   "outputs": [
    {
     "data": {
      "text/plain": [
       "55"
      ]
     },
     "execution_count": 45,
     "metadata": {},
     "output_type": "execute_result"
    }
   ],
   "source": [
    "flat['renov_status'].isnull().sum()"
   ]
  },
  {
   "cell_type": "markdown",
   "metadata": {},
   "source": [
    "### House Efficiency"
   ]
  },
  {
   "cell_type": "code",
   "execution_count": 40,
   "metadata": {},
   "outputs": [
    {
     "data": {
      "image/png": "[encoded data removed]",
      "text/plain": [
       "<Figure size 432x288 with 1 Axes>"
      ]
     },
     "metadata": {
      "needs_background": "light"
     },
     "output_type": "display_data"
    }
   ],
   "source": [
    "base_color=sb.color_palette()[0]\n",
    "order_rule=flat['efficiency'].value_counts().index\n",
    "sb.countplot(data=flat, y='efficiency', color=base_color, order=order_rule);"
   ]
  },
  {
   "cell_type": "code",
   "execution_count": 44,
   "metadata": {},
   "outputs": [
    {
     "data": {
      "text/plain": [
       "5230"
      ]
     },
     "execution_count": 44,
     "metadata": {},
     "output_type": "execute_result"
    }
   ],
   "source": [
    "flat['efficiency'].isnull().sum()"
   ]
  },
  {
   "cell_type": "markdown",
   "metadata": {},
   "source": [
    "### Number of Flats in the Building"
   ]
  },
  {
   "cell_type": "code",
   "execution_count": 64,
   "metadata": {},
   "outputs": [
    {
     "name": "stdout",
     "output_type": "stream",
     "text": [
      "Number of records without information: 2\n",
      "Total number of appartments: 214450.0\n"
     ]
    }
   ],
   "source": [
    "print('Number of records without information: {}'.format(flat['no_flats'].isnull().sum()))\n",
    "print('Total number of appartments: {}'.format(flat['no_flats'].sum()))"
   ]
  },
  {
   "cell_type": "code",
   "execution_count": 49,
   "metadata": {},
   "outputs": [
    {
     "data": {
      "image/png": "[encoded data removed]",
      "text/plain": [
       "<Figure size 432x288 with 1 Axes>"
      ]
     },
     "metadata": {
      "needs_background": "light"
     },
     "output_type": "display_data"
    }
   ],
   "source": [
    "flat['no_flats'].hist(bins = 25);"
   ]
  },
  {
   "cell_type": "markdown",
   "metadata": {},
   "source": [
    "### Number of Not Occupied Flats"
   ]
  },
  {
   "cell_type": "code",
   "execution_count": 50,
   "metadata": {},
   "outputs": [
    {
     "data": {
      "text/plain": [
       "11"
      ]
     },
     "execution_count": 50,
     "metadata": {},
     "output_type": "execute_result"
    }
   ],
   "source": [
    "flat['not_living_flats'].isnull().sum()"
   ]
  },
  {
   "cell_type": "code",
   "execution_count": 55,
   "metadata": {},
   "outputs": [
    {
     "data": {
      "image/png": "[encoded data removed]",
      "text/plain": [
       "<Figure size 432x288 with 1 Axes>"
      ]
     },
     "metadata": {
      "needs_background": "light"
     },
     "output_type": "display_data"
    }
   ],
   "source": [
    "flat[flat['not_living_flats'] != 0]['not_living_flats'].hist(bins = 25);"
   ]
  },
  {
   "cell_type": "markdown",
   "metadata": {},
   "source": [
    "### Land"
   ]
  },
  {
   "cell_type": "code",
   "execution_count": 58,
   "metadata": {},
   "outputs": [
    {
     "data": {
      "text/plain": [
       "count     6513.000000\n",
       "mean        96.933915\n",
       "std       1940.635516\n",
       "min          0.000000\n",
       "25%          0.000000\n",
       "50%          0.000000\n",
       "75%          0.000000\n",
       "max      39190.000000\n",
       "Name: land, dtype: float64"
      ]
     },
     "execution_count": 58,
     "metadata": {},
     "output_type": "execute_result"
    }
   ],
   "source": [
    "flat['land'].describe()"
   ]
  },
  {
   "cell_type": "code",
   "execution_count": null,
   "metadata": {},
   "outputs": [],
   "source": []
  },
  {
   "cell_type": "code",
   "execution_count": null,
   "metadata": {},
   "outputs": [],
   "source": []
  },
  {
   "cell_type": "markdown",
   "metadata": {},
   "source": [
    "## Save the File"
   ]
  },
  {
   "cell_type": "code",
   "execution_count": null,
   "metadata": {},
   "outputs": [],
   "source": [
    "#df.to_csv(neigh, '⁨Google Drive⁩/My Drive⁩/Vilniaus duomenys⁩/Vilnius.csv', sep=';')"
   ]
  }
 ],
 "metadata": {
  "kernelspec": {
   "display_name": "Python 3",
   "language": "python",
   "name": "python3"
  },
  "language_info": {
   "codemirror_mode": {
    "name": "ipython",
    "version": 3
   },
   "file_extension": ".py",
   "mimetype": "text/x-python",
   "name": "python",
   "nbconvert_exporter": "python",
   "pygments_lexer": "ipython3",
   "version": "3.7.1"
  }
 },
 "nbformat": 4,
 "nbformat_minor": 2
}
