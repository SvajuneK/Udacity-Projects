{
 "cells": [
  {
   "cell_type": "markdown",
   "metadata": {},
   "source": [
    "# title\n",
    "## By Svajune Klimasauskaite"
   ]
  },
  {
   "cell_type": "code",
   "execution_count": 1,
   "metadata": {},
   "outputs": [],
   "source": [
    "# import all packages and set plots to be embedded inline\n",
    "import numpy as np\n",
    "import pandas as pd\n",
    "import matplotlib.pyplot as plt\n",
    "import seaborn as sb\n",
    "from mpl_toolkits import mplot3d\n",
    "import datetime as dt     \n",
    "\n",
    "%matplotlib inline"
   ]
  },
  {
   "cell_type": "markdown",
   "metadata": {},
   "source": [
    "## Gather Data\n",
    "\n"
   ]
  },
  {
   "cell_type": "code",
   "execution_count": null,
   "metadata": {},
   "outputs": [],
   "source": []
  },
  {
   "cell_type": "code",
   "execution_count": null,
   "metadata": {},
   "outputs": [],
   "source": []
  },
  {
   "cell_type": "code",
   "execution_count": 10,
   "metadata": {},
   "outputs": [
    {
     "data": {
      "text/html": [
       "<div>\n",
       "<style scoped>\n",
       "    .dataframe tbody tr th:only-of-type {\n",
       "        vertical-align: middle;\n",
       "    }\n",
       "\n",
       "    .dataframe tbody tr th {\n",
       "        vertical-align: top;\n",
       "    }\n",
       "\n",
       "    .dataframe thead th {\n",
       "        text-align: right;\n",
       "    }\n",
       "</style>\n",
       "<table border=\"1\" class=\"dataframe\">\n",
       "  <thead>\n",
       "    <tr style=\"text-align: right;\">\n",
       "      <th></th>\n",
       "      <th>OBJ_ID</th>\n",
       "      <th>TEI_ID</th>\n",
       "      <th>SAVININKAS</th>\n",
       "      <th>NAUDTEISE</th>\n",
       "      <th>DALIS</th>\n",
       "    </tr>\n",
       "  </thead>\n",
       "  <tbody>\n",
       "    <tr>\n",
       "      <th>39000</th>\n",
       "      <td>20796559</td>\n",
       "      <td>37045324</td>\n",
       "      <td>Fizinis</td>\n",
       "      <td>NaudTeisė: Nuosavybės teisė</td>\n",
       "      <td>Dalis: 100,00%</td>\n",
       "    </tr>\n",
       "    <tr>\n",
       "      <th>36898</th>\n",
       "      <td>20728119</td>\n",
       "      <td>44255791</td>\n",
       "      <td>Fizinis</td>\n",
       "      <td>NaudTeisė: Nuosavybės teisė</td>\n",
       "      <td>Dalis: 100,00%</td>\n",
       "    </tr>\n",
       "    <tr>\n",
       "      <th>3156</th>\n",
       "      <td>270632</td>\n",
       "      <td>22486960</td>\n",
       "      <td>Juridinis</td>\n",
       "      <td>NaudTeisė: Valstybės nuosavybė</td>\n",
       "      <td>Dalis: 100,00%</td>\n",
       "    </tr>\n",
       "    <tr>\n",
       "      <th>9964</th>\n",
       "      <td>624942</td>\n",
       "      <td>53534827</td>\n",
       "      <td>Fizinis</td>\n",
       "      <td>NaudTeisė: Nuosavybės teisė</td>\n",
       "      <td>DalNr.: 1311  Dalis: 0,05%</td>\n",
       "    </tr>\n",
       "    <tr>\n",
       "      <th>105029</th>\n",
       "      <td>1,0101E+12</td>\n",
       "      <td>29962735</td>\n",
       "      <td>Fizinis</td>\n",
       "      <td>NaudTeisė: Nuosavybės teisė</td>\n",
       "      <td>Dalis: 100,00%</td>\n",
       "    </tr>\n",
       "    <tr>\n",
       "      <th>127005</th>\n",
       "      <td>1,0101E+12</td>\n",
       "      <td>13130557</td>\n",
       "      <td>Fizinis</td>\n",
       "      <td>NaudTeisė: Nuosavybės teisė</td>\n",
       "      <td>Dalis: 100,00%</td>\n",
       "    </tr>\n",
       "    <tr>\n",
       "      <th>122915</th>\n",
       "      <td>1,0101E+12</td>\n",
       "      <td>39315872</td>\n",
       "      <td>Fizinis</td>\n",
       "      <td>NaudTeisė: Nuosavybės teisė</td>\n",
       "      <td>Dalis: 100,00%</td>\n",
       "    </tr>\n",
       "    <tr>\n",
       "      <th>103993</th>\n",
       "      <td>1,0101E+12</td>\n",
       "      <td>42622263</td>\n",
       "      <td>Fizinis</td>\n",
       "      <td>NaudTeisė: Nuosavybės teisė</td>\n",
       "      <td>Dalis: 100,00%</td>\n",
       "    </tr>\n",
       "    <tr>\n",
       "      <th>19778</th>\n",
       "      <td>851819</td>\n",
       "      <td>46420837</td>\n",
       "      <td>Fizinis</td>\n",
       "      <td>NaudTeisė: Nuosavybės teisė</td>\n",
       "      <td>DalNr.: 64  Dalis: 0,19%</td>\n",
       "    </tr>\n",
       "    <tr>\n",
       "      <th>18893</th>\n",
       "      <td>826028</td>\n",
       "      <td>51655613</td>\n",
       "      <td>Fizinis</td>\n",
       "      <td>NaudTeisė: Nuosavybės teisė</td>\n",
       "      <td>Dalis: 100,00%</td>\n",
       "    </tr>\n",
       "  </tbody>\n",
       "</table>\n",
       "</div>"
      ],
      "text/plain": [
       "            OBJ_ID    TEI_ID SAVININKAS                        NAUDTEISE  \\\n",
       "39000     20796559  37045324    Fizinis      NaudTeisė: Nuosavybės teisė   \n",
       "36898     20728119  44255791    Fizinis      NaudTeisė: Nuosavybės teisė   \n",
       "3156        270632  22486960  Juridinis   NaudTeisė: Valstybės nuosavybė   \n",
       "9964        624942  53534827    Fizinis      NaudTeisė: Nuosavybės teisė   \n",
       "105029  1,0101E+12  29962735    Fizinis      NaudTeisė: Nuosavybės teisė   \n",
       "127005  1,0101E+12  13130557    Fizinis      NaudTeisė: Nuosavybės teisė   \n",
       "122915  1,0101E+12  39315872    Fizinis      NaudTeisė: Nuosavybės teisė   \n",
       "103993  1,0101E+12  42622263    Fizinis      NaudTeisė: Nuosavybės teisė   \n",
       "19778       851819  46420837    Fizinis      NaudTeisė: Nuosavybės teisė   \n",
       "18893       826028  51655613    Fizinis      NaudTeisė: Nuosavybės teisė   \n",
       "\n",
       "                              DALIS  \n",
       "39000                Dalis: 100,00%  \n",
       "36898                Dalis: 100,00%  \n",
       "3156                 Dalis: 100,00%  \n",
       "9964     DalNr.: 1311  Dalis: 0,05%  \n",
       "105029               Dalis: 100,00%  \n",
       "127005               Dalis: 100,00%  \n",
       "122915               Dalis: 100,00%  \n",
       "103993               Dalis: 100,00%  \n",
       "19778      DalNr.: 64  Dalis: 0,19%  \n",
       "18893                Dalis: 100,00%  "
      ]
     },
     "execution_count": 10,
     "metadata": {},
     "output_type": "execute_result"
    }
   ],
   "source": [
    "#Load real estet owners\n",
    "re_owner=pd.read_csv(\"https://raw.githubusercontent.com/vilnius/nekilnojamas-turtas/master/NT_sklypai_nuosavybe.csv\", sep=';')\n",
    "re_owner.sample(10)"
   ]
  },
  {
   "cell_type": "code",
   "execution_count": null,
   "metadata": {},
   "outputs": [],
   "source": []
  },
  {
   "cell_type": "markdown",
   "metadata": {},
   "source": [
    "## Assess Citizens"
   ]
  },
  {
   "cell_type": "code",
   "execution_count": 3,
   "metadata": {},
   "outputs": [
    {
     "name": "stdout",
     "output_type": "stream",
     "text": [
      "<class 'pandas.core.frame.DataFrame'>\n",
      "RangeIndex: 140701 entries, 0 to 140700\n",
      "Data columns (total 5 columns):\n",
      "OBJ_ID        140701 non-null object\n",
      "TEI_ID        140701 non-null int64\n",
      "SAVININKAS    140701 non-null object\n",
      "NAUDTEISE     140701 non-null object\n",
      "DALIS         140701 non-null object\n",
      "dtypes: int64(1), object(4)\n",
      "memory usage: 5.4+ MB\n"
     ]
    }
   ],
   "source": [
    "re_owner.info()"
   ]
  },
  {
   "cell_type": "code",
   "execution_count": 4,
   "metadata": {},
   "outputs": [
    {
     "data": {
      "text/plain": [
       "OBJ_ID        0\n",
       "TEI_ID        0\n",
       "SAVININKAS    0\n",
       "NAUDTEISE     0\n",
       "DALIS         0\n",
       "dtype: int64"
      ]
     },
     "execution_count": 4,
     "metadata": {},
     "output_type": "execute_result"
    }
   ],
   "source": [
    "re_owner.isnull().sum()"
   ]
  },
  {
   "cell_type": "code",
   "execution_count": 5,
   "metadata": {},
   "outputs": [
    {
     "data": {
      "text/plain": [
       "OBJ_ID         31568\n",
       "TEI_ID        140701\n",
       "SAVININKAS         2\n",
       "NAUDTEISE          8\n",
       "DALIS          50760\n",
       "dtype: int64"
      ]
     },
     "execution_count": 5,
     "metadata": {},
     "output_type": "execute_result"
    }
   ],
   "source": [
    "re_owner.nunique()"
   ]
  },
  {
   "cell_type": "code",
   "execution_count": 6,
   "metadata": {},
   "outputs": [
    {
     "data": {
      "text/plain": [
       "array(['Fizinis', 'Juridinis'], dtype=object)"
      ]
     },
     "execution_count": 6,
     "metadata": {},
     "output_type": "execute_result"
    }
   ],
   "source": [
    "re_owner.SAVININKAS.unique()"
   ]
  },
  {
   "cell_type": "code",
   "execution_count": 7,
   "metadata": {},
   "outputs": [
    {
     "data": {
      "text/plain": [
       "array([' NaudTeisė: Nuosavybės teisė', ' NaudTeisė: Valstybės nuosavybė',\n",
       "       ' NaudTeisė: Savivaldybės nuosavybė',\n",
       "       ' NaudTeisė: Daikt.teisės neįregistruotos',\n",
       "       ' NaudTeisė: Inv. fondo dalyvių nuosavybė',\n",
       "       ' NaudTeisė: Valst. nuosav. (nuomos teisė)',\n",
       "       ' NaudTeisė: Apskr. išnuom. valst. nuosav.',\n",
       "       ' NaudTeisė: Valst. nuosav. (panaudos t.)'], dtype=object)"
      ]
     },
     "execution_count": 7,
     "metadata": {},
     "output_type": "execute_result"
    }
   ],
   "source": [
    "re_owner.NAUDTEISE.unique()"
   ]
  },
  {
   "cell_type": "code",
   "execution_count": 11,
   "metadata": {},
   "outputs": [],
   "source": [
    "re_owner['DALIS'] = re_owner.DALIS.str[::-1].str.split(':').str[0].str[::-1].str.split('%').str[0].str.strip()\n",
    "re_owner['DALIS'].replace(',','.', inplace=True, regex=True)\n",
    "re_owner['DALIS'] = re_owner['DALIS'].astype(float)"
   ]
  },
  {
   "cell_type": "code",
   "execution_count": 26,
   "metadata": {},
   "outputs": [
    {
     "data": {
      "text/plain": [
       "count    140701.000000\n",
       "mean         51.132165\n",
       "std          43.902742\n",
       "min           0.000000\n",
       "25%           2.240000\n",
       "50%          50.000000\n",
       "75%         100.000000\n",
       "max        1411.000000\n",
       "Name: DALIS, dtype: float64"
      ]
     },
     "execution_count": 26,
     "metadata": {},
     "output_type": "execute_result"
    }
   ],
   "source": [
    "re_owner['DALIS'].describe()"
   ]
  },
  {
   "cell_type": "code",
   "execution_count": 35,
   "metadata": {},
   "outputs": [
    {
     "data": {
      "image/png": "[encoded data removed]",
      "text/plain": [
       "<Figure size 432x288 with 1 Axes>"
      ]
     },
     "metadata": {
      "needs_background": "light"
     },
     "output_type": "display_data"
    }
   ],
   "source": [
    "re_owner[re_owner['DALIS'] <= 100.0]['DALIS'].hist(bins = 40);"
   ]
  },
  {
   "cell_type": "code",
   "execution_count": 44,
   "metadata": {},
   "outputs": [
    {
     "data": {
      "image/png": "[encoded data removed]",
      "text/plain": [
       "<Figure size 432x288 with 1 Axes>"
      ]
     },
     "metadata": {
      "needs_background": "light"
     },
     "output_type": "display_data"
    }
   ],
   "source": [
    "base_color=sb.color_palette()[0]\n",
    "order_rule=re_owner['NAUDTEISE'].value_counts().index\n",
    "re22 = re_owner[re_owner['NAUDTEISE'] != ' NaudTeisė: Nuosavybės teisė']\n",
    "sb.countplot(data=re_owner, y='NAUDTEISE', color=base_color, order=order_rule);"
   ]
  },
  {
   "cell_type": "code",
   "execution_count": 39,
   "metadata": {},
   "outputs": [
    {
     "data": {
      "image/png": "[encoded data removed]",
      "text/plain": [
       "<Figure size 432x288 with 1 Axes>"
      ]
     },
     "metadata": {
      "needs_background": "light"
     },
     "output_type": "display_data"
    }
   ],
   "source": [
    "sb.countplot(data=re_owner, y='SAVININKAS', color=base_color);"
   ]
  },
  {
   "cell_type": "code",
   "execution_count": null,
   "metadata": {},
   "outputs": [],
   "source": []
  }
 ],
 "metadata": {
  "kernelspec": {
   "display_name": "Python 3",
   "language": "python",
   "name": "python3"
  },
  "language_info": {
   "codemirror_mode": {
    "name": "ipython",
    "version": 3
   },
   "file_extension": ".py",
   "mimetype": "text/x-python",
   "name": "python",
   "nbconvert_exporter": "python",
   "pygments_lexer": "ipython3",
   "version": "3.7.1"
  }
 },
 "nbformat": 4,
 "nbformat_minor": 2
}
