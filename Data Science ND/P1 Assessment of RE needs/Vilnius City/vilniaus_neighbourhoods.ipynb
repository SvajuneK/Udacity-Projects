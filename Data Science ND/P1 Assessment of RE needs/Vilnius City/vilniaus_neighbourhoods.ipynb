{
 "cells": [
  {
   "cell_type": "markdown",
   "metadata": {},
   "source": [
    "# Vilnius Neighbourhoods and Streets\n",
    "## By Svajune Klimasauskaite"
   ]
  },
  {
   "cell_type": "code",
   "execution_count": 22,
   "metadata": {},
   "outputs": [],
   "source": [
    "# import all packages and set plots to be embedded inline\n",
    "import numpy as np\n",
    "import pandas as pd\n",
    "from pandas import DataFrame as df\n",
    "import matplotlib.pyplot as plt\n",
    "import seaborn as sb\n",
    "import datetime as dt\n",
    "#from google.cloud import storage\n",
    "\n",
    "%matplotlib inline"
   ]
  },
  {
   "cell_type": "markdown",
   "metadata": {},
   "source": [
    "## Load Data"
   ]
  },
  {
   "cell_type": "code",
   "execution_count": 2,
   "metadata": {},
   "outputs": [
    {
     "data": {
      "text/html": [
       "<div>\n",
       "<style scoped>\n",
       "    .dataframe tbody tr th:only-of-type {\n",
       "        vertical-align: middle;\n",
       "    }\n",
       "\n",
       "    .dataframe tbody tr th {\n",
       "        vertical-align: top;\n",
       "    }\n",
       "\n",
       "    .dataframe thead th {\n",
       "        text-align: right;\n",
       "    }\n",
       "</style>\n",
       "<table border=\"1\" class=\"dataframe\">\n",
       "  <thead>\n",
       "    <tr style=\"text-align: right;\">\n",
       "      <th></th>\n",
       "      <th>neighbourhood</th>\n",
       "      <th>street</th>\n",
       "    </tr>\n",
       "  </thead>\n",
       "  <tbody>\n",
       "    <tr>\n",
       "      <th>169</th>\n",
       "      <td>Antakalnis</td>\n",
       "      <td>Laurų g. (70)</td>\n",
       "    </tr>\n",
       "    <tr>\n",
       "      <th>54</th>\n",
       "      <td>Antakalnis</td>\n",
       "      <td>Girininkijos g. (26)</td>\n",
       "    </tr>\n",
       "    <tr>\n",
       "      <th>620</th>\n",
       "      <td>Naujininkai</td>\n",
       "      <td>Alytaus g. (19)</td>\n",
       "    </tr>\n",
       "    <tr>\n",
       "      <th>804</th>\n",
       "      <td>Naujininkai</td>\n",
       "      <td>Miškinių Sodų g. (29)</td>\n",
       "    </tr>\n",
       "    <tr>\n",
       "      <th>107</th>\n",
       "      <td>Antakalnis</td>\n",
       "      <td>Juodvarnių Sodų 6-oji g. (9)</td>\n",
       "    </tr>\n",
       "  </tbody>\n",
       "</table>\n",
       "</div>"
      ],
      "text/plain": [
       "    neighbourhood                        street\n",
       "169    Antakalnis                 Laurų g. (70)\n",
       "54     Antakalnis          Girininkijos g. (26)\n",
       "620   Naujininkai               Alytaus g. (19)\n",
       "804   Naujininkai         Miškinių Sodų g. (29)\n",
       "107    Antakalnis  Juodvarnių Sodų 6-oji g. (9)"
      ]
     },
     "execution_count": 2,
     "metadata": {},
     "output_type": "execute_result"
    }
   ],
   "source": [
    "#Load data from the file which is stored in Dataset repository. \n",
    "neigh=pd.read_csv(\"Dataset/vilniaus_seniunijos.csv\", sep=';')\n",
    "neigh.sample(5)"
   ]
  },
  {
   "cell_type": "markdown",
   "metadata": {},
   "source": [
    "**The following data cleaning and augmentation tasks should be performed:** \n",
    "1. Add a new column Vilnius, so that a hierarchy of Municipalities and Neighbourhoods could be created.  \n",
    "2. The numbers in bracket indicate the number of houses in the street, so I need to move it to the new column as well as remove this info from street column. \n",
    "3. Some of the streets are overlaping within several neighbourhoods, therefore I extract this info and add in the new column as well as clean the house column.\n",
    "4. Street in the Collective Garden Area, kas indication in the street name, therefore I want to move it into a separate column. "
   ]
  },
  {
   "cell_type": "markdown",
   "metadata": {},
   "source": [
    "## Data Cleaning and Augmenting"
   ]
  },
  {
   "cell_type": "markdown",
   "metadata": {},
   "source": [
    "### 1. Add Municipality Column"
   ]
  },
  {
   "cell_type": "code",
   "execution_count": 3,
   "metadata": {},
   "outputs": [
    {
     "data": {
      "text/html": [
       "<div>\n",
       "<style scoped>\n",
       "    .dataframe tbody tr th:only-of-type {\n",
       "        vertical-align: middle;\n",
       "    }\n",
       "\n",
       "    .dataframe tbody tr th {\n",
       "        vertical-align: top;\n",
       "    }\n",
       "\n",
       "    .dataframe thead th {\n",
       "        text-align: right;\n",
       "    }\n",
       "</style>\n",
       "<table border=\"1\" class=\"dataframe\">\n",
       "  <thead>\n",
       "    <tr style=\"text-align: right;\">\n",
       "      <th></th>\n",
       "      <th>neighbourhood</th>\n",
       "      <th>street</th>\n",
       "      <th>municipality</th>\n",
       "    </tr>\n",
       "  </thead>\n",
       "  <tbody>\n",
       "    <tr>\n",
       "      <th>1841</th>\n",
       "      <td>Verkiai</td>\n",
       "      <td>Akademijos g. (3)</td>\n",
       "      <td>Vilnius</td>\n",
       "    </tr>\n",
       "  </tbody>\n",
       "</table>\n",
       "</div>"
      ],
      "text/plain": [
       "     neighbourhood             street municipality\n",
       "1841       Verkiai  Akademijos g. (3)      Vilnius"
      ]
     },
     "execution_count": 3,
     "metadata": {},
     "output_type": "execute_result"
    }
   ],
   "source": [
    "neigh['municipality'] = 'Vilnius'\n",
    "neigh.sample(1)"
   ]
  },
  {
   "cell_type": "markdown",
   "metadata": {},
   "source": [
    "### 2. Add Number of Houses"
   ]
  },
  {
   "cell_type": "markdown",
   "metadata": {},
   "source": [
    "#### Create New Column"
   ]
  },
  {
   "cell_type": "code",
   "execution_count": 4,
   "metadata": {},
   "outputs": [
    {
     "data": {
      "text/plain": [
       "array(['28', '17', '48', '147', '12', '22', '8', '6', '5', '3', '16',\n",
       "       '25', '40', '55', '39', '87', '43', 'nan', '10', '21', '19', '35',\n",
       "       '14', '29', '13', '9 iš 112*', '7', '61', '50', '27', '34', '15',\n",
       "       '42', '36', '26', '20', '101', '18', '77', '38', '24', '56', '11',\n",
       "       '30', '32', '51', '9', '1', '35 iš 96*', '1 iš 9*', '45', '91',\n",
       "       '4', '2', '60', '65', '70', '47', '57', '23', '49', '41', '37',\n",
       "       '88', '160', '94', '12 iš 41*', '69', '33', '124', '53 iš 82*',\n",
       "       '31', '35 iš 66*', '46', '73', '72', '67', '42 iš 44*', '133',\n",
       "       '54', '62 iš 124*', '11 iš 124*', '46 iš 53*', '282', '38 iš 74*',\n",
       "       '12 iš 104*', '99', '78 iš 80*', '14 iš 16*', '1 iš 52*', '63',\n",
       "       '13 iš 19*', '126', '29 iš 146*', '32 iš 34*', '15 iš 67*',\n",
       "       '14 iš 124*', '5 iš 15*', '11 iš 23*', '57 iš 78*', '9 iš 47*',\n",
       "       '45 iš 67*', '9 iš 16*', '1 iš 29*', '21 iš 28*', '34 iš 45*',\n",
       "       '70 iš 81*', '23 iš 40*', '74 iš 89*', '49 iš 52*', '8 iš 40*',\n",
       "       '1 iš 77*', '40 iš 56*', '27 iš 250*', '6 iš 28*', '17 iš 36*',\n",
       "       '8 iš 55*', '66', '3 iš 8*', '3 iš 33*', '6 iš 23*', '5 iš 36*',\n",
       "       '64 iš 65*', '113', '62', '81 iš 83*', '104 iš 111*', '28 iš 29*',\n",
       "       '37 iš 39*', '59', '44', '81', '52', '71', '74 iš 242*', '90',\n",
       "       '64', '29 iš 33*', '20 iš 40*', '15 iš 18*', '96', '45 iš 59*',\n",
       "       '127', '10 iš 35*', '80', '61 iš 96*', '24 iš 57*', '104', '142',\n",
       "       '29 iš 82*', '61 iš 62*', '39 iš 103*', '53', '118', '2 iš 44*',\n",
       "       '107', '31 iš 36*', '1 iš 65*', '95', '7 iš 111*', '66 iš 92*',\n",
       "       '131', '86', '3 iš 18*', '25 iš 250*', '85', '27 iš 39*',\n",
       "       '9 iš 85*', '25 iš 35*', '21 iš 124*', '51 iš 124*', '46 iš 146*',\n",
       "       '9 iš 15*', '22 iš 35*', '58', '2 iš 83*', '78 iš 112*', '1 iš 6*',\n",
       "       '4 iš 69*', '12 iš 202*', '8 iš 9*', '2 iš 39*', '168 iš 242*',\n",
       "       '33 iš 57*', '4 iš 33*', '8 iš 41*', '2 iš 16*', '12 iš 40*',\n",
       "       '6 iš 9*', '65 iš 74*', '31 iš 66*', '1 iš 62*', '64 iš 103*',\n",
       "       '63 iš 106*', '14 iš 59*', '1 iš 8*', '12 iš 23*', '25 iš 112*',\n",
       "       '21 iš 78*', '6 iš 19*', '22 iš 67*', '7 iš 16*', '7 iš 28*',\n",
       "       '11 iš 45*', '17 iš 40*', '8 iš 89*', '21 iš 41*', '76 iš 77*',\n",
       "       '3 iš 9*', '9 iš 74*', '22 iš 28*', '43 iš 106*', '19 iš 36*',\n",
       "       '47 iš 55*', '30 iš 33*', '7 iš 8*', '9 iš 13*', '2 iš 47*', '83',\n",
       "       '25 iš 124*', '20 iš 38*', '5 iš 7*', '66 iš 146*', '7 iš 47*',\n",
       "       '186 iš 349*', '1 iš 38*', '30 iš 61*', '29 iš 47*', '5 iš 6*',\n",
       "       '30 iš 36*', '36 iš 74*', '93', '78', '79', '82', '92 iš 104*',\n",
       "       '230', '111', '131 iš 349*', '257', '117', '420', '144', '135',\n",
       "       '120', '248', '2 iš 80*', '51 iš 52*', '17 iš 38*', '123', '129',\n",
       "       '115', '89', '2 iš 34*', '94 iš 139*', '76', '52 iš 67*', '119',\n",
       "       '2 iš 4*', '26 iš 47*', '1 iš 124*', '11 iš 81*', '7 iš 89*',\n",
       "       '3 iš 52*', '157', '16 iš 56*', '198 iš 250*', '12 iš 39*',\n",
       "       '5 iš 8*', '76 iš 85*', '17 iš 23*', '4 iš 13*', '41 iš 124*',\n",
       "       '16 iš 124*', '1 iš 15*', '7 iš 53*', '2 iš 7*', '32 iš 349*',\n",
       "       '31 iš 61*', '18 iš 47*', '45 iš 139*', '6 iš 36*', '229',\n",
       "       '1 iš 47*', '5 iš 146*', '26 iš 92*'], dtype=object)"
      ]
     },
     "execution_count": 4,
     "metadata": {},
     "output_type": "execute_result"
    }
   ],
   "source": [
    "neigh['houses'] = neigh['street'].str.split('(').str[1].str.split(')').str[0]\n",
    "neigh['houses'] = neigh['houses'].astype(str)\n",
    "neigh.houses.unique()"
   ]
  },
  {
   "cell_type": "markdown",
   "metadata": {},
   "source": [
    "#### Clean Street Column"
   ]
  },
  {
   "cell_type": "code",
   "execution_count": 5,
   "metadata": {},
   "outputs": [
    {
     "data": {
      "text/html": [
       "<div>\n",
       "<style scoped>\n",
       "    .dataframe tbody tr th:only-of-type {\n",
       "        vertical-align: middle;\n",
       "    }\n",
       "\n",
       "    .dataframe tbody tr th {\n",
       "        vertical-align: top;\n",
       "    }\n",
       "\n",
       "    .dataframe thead th {\n",
       "        text-align: right;\n",
       "    }\n",
       "</style>\n",
       "<table border=\"1\" class=\"dataframe\">\n",
       "  <thead>\n",
       "    <tr style=\"text-align: right;\">\n",
       "      <th></th>\n",
       "      <th>neighbourhood</th>\n",
       "      <th>street</th>\n",
       "      <th>municipality</th>\n",
       "      <th>houses</th>\n",
       "    </tr>\n",
       "  </thead>\n",
       "  <tbody>\n",
       "    <tr>\n",
       "      <th>1620</th>\n",
       "      <td>Rasos</td>\n",
       "      <td>Stalių g.</td>\n",
       "      <td>Vilnius</td>\n",
       "      <td>16</td>\n",
       "    </tr>\n",
       "    <tr>\n",
       "      <th>532</th>\n",
       "      <td>Naujamiestis</td>\n",
       "      <td>Amatų g.</td>\n",
       "      <td>Vilnius</td>\n",
       "      <td>4</td>\n",
       "    </tr>\n",
       "    <tr>\n",
       "      <th>62</th>\n",
       "      <td>Antakalnis</td>\n",
       "      <td>Gvazdikų Sodų 11-oji g.</td>\n",
       "      <td>Vilnius</td>\n",
       "      <td>15</td>\n",
       "    </tr>\n",
       "    <tr>\n",
       "      <th>2057</th>\n",
       "      <td>Verkiai</td>\n",
       "      <td>Krakiškių Sodų 3-ioji g.</td>\n",
       "      <td>Vilnius</td>\n",
       "      <td>15</td>\n",
       "    </tr>\n",
       "    <tr>\n",
       "      <th>2100</th>\n",
       "      <td>Verkiai</td>\n",
       "      <td>Molėtų pl.</td>\n",
       "      <td>Vilnius</td>\n",
       "      <td>54</td>\n",
       "    </tr>\n",
       "  </tbody>\n",
       "</table>\n",
       "</div>"
      ],
      "text/plain": [
       "     neighbourhood                     street municipality houses\n",
       "1620         Rasos                 Stalių g.       Vilnius     16\n",
       "532   Naujamiestis                  Amatų g.       Vilnius      4\n",
       "62      Antakalnis   Gvazdikų Sodų 11-oji g.       Vilnius     15\n",
       "2057       Verkiai  Krakiškių Sodų 3-ioji g.       Vilnius     15\n",
       "2100       Verkiai                Molėtų pl.       Vilnius     54"
      ]
     },
     "execution_count": 5,
     "metadata": {},
     "output_type": "execute_result"
    }
   ],
   "source": [
    "neigh['street'] = neigh['street'].str.split('(').str[0]\n",
    "neigh.sample(5)"
   ]
  },
  {
   "cell_type": "markdown",
   "metadata": {},
   "source": [
    "### 3. Add Indication for Overlaping Streets within Several Neighbourhoods"
   ]
  },
  {
   "cell_type": "markdown",
   "metadata": {},
   "source": [
    "#### Create New Column"
   ]
  },
  {
   "cell_type": "code",
   "execution_count": 6,
   "metadata": {},
   "outputs": [
    {
     "data": {
      "text/html": [
       "<div>\n",
       "<style scoped>\n",
       "    .dataframe tbody tr th:only-of-type {\n",
       "        vertical-align: middle;\n",
       "    }\n",
       "\n",
       "    .dataframe tbody tr th {\n",
       "        vertical-align: top;\n",
       "    }\n",
       "\n",
       "    .dataframe thead th {\n",
       "        text-align: right;\n",
       "    }\n",
       "</style>\n",
       "<table border=\"1\" class=\"dataframe\">\n",
       "  <thead>\n",
       "    <tr style=\"text-align: right;\">\n",
       "      <th></th>\n",
       "      <th>neighbourhood</th>\n",
       "      <th>street</th>\n",
       "      <th>municipality</th>\n",
       "      <th>houses</th>\n",
       "      <th>overlap</th>\n",
       "    </tr>\n",
       "  </thead>\n",
       "  <tbody>\n",
       "    <tr>\n",
       "      <th>1749</th>\n",
       "      <td>Senamiestis</td>\n",
       "      <td>T. Kosciuškos g.</td>\n",
       "      <td>Vilnius</td>\n",
       "      <td>35</td>\n",
       "      <td>No</td>\n",
       "    </tr>\n",
       "    <tr>\n",
       "      <th>1722</th>\n",
       "      <td>Senamiestis</td>\n",
       "      <td>Reformatų skv.</td>\n",
       "      <td>Vilnius</td>\n",
       "      <td>nan</td>\n",
       "      <td>No</td>\n",
       "    </tr>\n",
       "    <tr>\n",
       "      <th>796</th>\n",
       "      <td>Naujininkai</td>\n",
       "      <td>Liepkalnio g.</td>\n",
       "      <td>Vilnius</td>\n",
       "      <td>74 iš 242*</td>\n",
       "      <td>74 iš 242*</td>\n",
       "    </tr>\n",
       "    <tr>\n",
       "      <th>364</th>\n",
       "      <td>Antakalnis</td>\n",
       "      <td>Vikučionių g.</td>\n",
       "      <td>Vilnius</td>\n",
       "      <td>12</td>\n",
       "      <td>No</td>\n",
       "    </tr>\n",
       "    <tr>\n",
       "      <th>2327</th>\n",
       "      <td>Viršuliškės</td>\n",
       "      <td>Viršuliškių skg.</td>\n",
       "      <td>Vilnius</td>\n",
       "      <td>23</td>\n",
       "      <td>No</td>\n",
       "    </tr>\n",
       "    <tr>\n",
       "      <th>1958</th>\n",
       "      <td>Verkiai</td>\n",
       "      <td>Birelių Sodų 21-oji g.</td>\n",
       "      <td>Vilnius</td>\n",
       "      <td>11</td>\n",
       "      <td>No</td>\n",
       "    </tr>\n",
       "    <tr>\n",
       "      <th>166</th>\n",
       "      <td>Antakalnis</td>\n",
       "      <td>Latežerio g.</td>\n",
       "      <td>Vilnius</td>\n",
       "      <td>6</td>\n",
       "      <td>No</td>\n",
       "    </tr>\n",
       "    <tr>\n",
       "      <th>1260</th>\n",
       "      <td>Paneriai</td>\n",
       "      <td>Lentvario g.</td>\n",
       "      <td>Vilnius</td>\n",
       "      <td>62</td>\n",
       "      <td>No</td>\n",
       "    </tr>\n",
       "    <tr>\n",
       "      <th>1046</th>\n",
       "      <td>Naujoji Vilnia</td>\n",
       "      <td>R. Mackonio g.</td>\n",
       "      <td>Vilnius</td>\n",
       "      <td>19</td>\n",
       "      <td>No</td>\n",
       "    </tr>\n",
       "    <tr>\n",
       "      <th>480</th>\n",
       "      <td>Fabijoniškės</td>\n",
       "      <td>S. Stanevičiaus g.</td>\n",
       "      <td>Vilnius</td>\n",
       "      <td>126</td>\n",
       "      <td>No</td>\n",
       "    </tr>\n",
       "  </tbody>\n",
       "</table>\n",
       "</div>"
      ],
      "text/plain": [
       "       neighbourhood                   street municipality      houses  \\\n",
       "1749     Senamiestis        T. Kosciuškos g.       Vilnius          35   \n",
       "1722     Senamiestis           Reformatų skv.      Vilnius         nan   \n",
       "796      Naujininkai           Liepkalnio g.       Vilnius  74 iš 242*   \n",
       "364       Antakalnis           Vikučionių g.       Vilnius          12   \n",
       "2327     Viršuliškės        Viršuliškių skg.       Vilnius          23   \n",
       "1958         Verkiai  Birelių Sodų 21-oji g.       Vilnius          11   \n",
       "166       Antakalnis            Latežerio g.       Vilnius           6   \n",
       "1260        Paneriai            Lentvario g.       Vilnius          62   \n",
       "1046  Naujoji Vilnia          R. Mackonio g.       Vilnius          19   \n",
       "480     Fabijoniškės      S. Stanevičiaus g.       Vilnius         126   \n",
       "\n",
       "         overlap  \n",
       "1749          No  \n",
       "1722          No  \n",
       "796   74 iš 242*  \n",
       "364           No  \n",
       "2327          No  \n",
       "1958          No  \n",
       "166           No  \n",
       "1260          No  \n",
       "1046          No  \n",
       "480           No  "
      ]
     },
     "execution_count": 6,
     "metadata": {},
     "output_type": "execute_result"
    }
   ],
   "source": [
    "overlap = []\n",
    "\n",
    "for i in neigh['houses']:\n",
    "    if '*' in i: \n",
    "        overlap.append(i)\n",
    "    else:\n",
    "        overlap.append('No')\n",
    "        \n",
    "neigh['overlap'] = overlap\n",
    "\n",
    "neigh.sample(10)"
   ]
  },
  {
   "cell_type": "markdown",
   "metadata": {},
   "source": [
    "#### Clean House Column"
   ]
  },
  {
   "cell_type": "code",
   "execution_count": 7,
   "metadata": {},
   "outputs": [],
   "source": [
    "houses = []\n",
    "\n",
    "for i in neigh['houses']:\n",
    "    if 'iš' in i: \n",
    "        houses.append(i.split('iš')[0])\n",
    "    elif '*' in i:\n",
    "        houses.append(i.split('*')[0])\n",
    "    else:\n",
    "        houses.append(i)\n",
    "        \n",
    "neigh['houses'] = houses"
   ]
  },
  {
   "cell_type": "code",
   "execution_count": 8,
   "metadata": {},
   "outputs": [
    {
     "data": {
      "text/plain": [
       "array(['28', '17', '48', '147', '12', '22', '8', '6', '5', '3', '16',\n",
       "       '25', '40', '55', '39', '87', '43', 'nan', '10', '21', '19', '35',\n",
       "       '14', '29', '13', '9 ', '7', '61', '50', '27', '34', '15', '42',\n",
       "       '36', '26', '20', '101', '18', '77', '38', '24', '56', '11', '30',\n",
       "       '32', '51', '9', '1', '35 ', '1 ', '45', '91', '4', '2', '60',\n",
       "       '65', '70', '47', '57', '23', '49', '41', '37', '88', '160', '94',\n",
       "       '12 ', '69', '33', '124', '53 ', '31', '46', '73', '72', '67',\n",
       "       '42 ', '133', '54', '62 ', '11 ', '46 ', '282', '38 ', '99', '78 ',\n",
       "       '14 ', '63', '13 ', '126', '29 ', '32 ', '15 ', '5 ', '57 ', '45 ',\n",
       "       '21 ', '34 ', '70 ', '23 ', '74 ', '49 ', '8 ', '40 ', '27 ', '6 ',\n",
       "       '17 ', '66', '3 ', '64 ', '113', '62', '81 ', '104 ', '28 ', '37 ',\n",
       "       '59', '44', '81', '52', '71', '90', '64', '20 ', '96', '127',\n",
       "       '10 ', '80', '61 ', '24 ', '104', '142', '39 ', '53', '118', '2 ',\n",
       "       '107', '31 ', '95', '7 ', '66 ', '131', '86', '25 ', '85', '51 ',\n",
       "       '22 ', '58', '4 ', '168 ', '33 ', '65 ', '63 ', '76 ', '43 ',\n",
       "       '19 ', '47 ', '30 ', '83', '186 ', '36 ', '93', '78', '79', '82',\n",
       "       '92 ', '230', '111', '131 ', '257', '117', '420', '144', '135',\n",
       "       '120', '248', '123', '129', '115', '89', '94 ', '76', '52 ', '119',\n",
       "       '26 ', '157', '16 ', '198 ', '41 ', '18 ', '229'], dtype=object)"
      ]
     },
     "execution_count": 8,
     "metadata": {},
     "output_type": "execute_result"
    }
   ],
   "source": [
    "neigh.houses.unique()"
   ]
  },
  {
   "cell_type": "markdown",
   "metadata": {},
   "source": [
    "### 4. Add Street Type"
   ]
  },
  {
   "cell_type": "code",
   "execution_count": 10,
   "metadata": {},
   "outputs": [],
   "source": [
    "str_type = []\n",
    "\n",
    "for i in neigh['street']:\n",
    "    if 'Sodų' in i: \n",
    "        str_type.append('Sodas')\n",
    "    else:\n",
    "        str_type.append('Kitas')\n",
    "        \n",
    "neigh['str_type'] = str_type"
   ]
  },
  {
   "cell_type": "code",
   "execution_count": 13,
   "metadata": {},
   "outputs": [
    {
     "data": {
      "text/html": [
       "<div>\n",
       "<style scoped>\n",
       "    .dataframe tbody tr th:only-of-type {\n",
       "        vertical-align: middle;\n",
       "    }\n",
       "\n",
       "    .dataframe tbody tr th {\n",
       "        vertical-align: top;\n",
       "    }\n",
       "\n",
       "    .dataframe thead th {\n",
       "        text-align: right;\n",
       "    }\n",
       "</style>\n",
       "<table border=\"1\" class=\"dataframe\">\n",
       "  <thead>\n",
       "    <tr style=\"text-align: right;\">\n",
       "      <th></th>\n",
       "      <th>neighbourhood</th>\n",
       "      <th>street</th>\n",
       "      <th>municipality</th>\n",
       "      <th>houses</th>\n",
       "      <th>overlap</th>\n",
       "      <th>str_type</th>\n",
       "    </tr>\n",
       "  </thead>\n",
       "  <tbody>\n",
       "    <tr>\n",
       "      <th>2065</th>\n",
       "      <td>Verkiai</td>\n",
       "      <td>Kryžiokų g.</td>\n",
       "      <td>Vilnius</td>\n",
       "      <td>420</td>\n",
       "      <td>No</td>\n",
       "      <td>Kitas</td>\n",
       "    </tr>\n",
       "    <tr>\n",
       "      <th>1419</th>\n",
       "      <td>Pašilaičiai</td>\n",
       "      <td>Vincento Gorskio g.</td>\n",
       "      <td>Vilnius</td>\n",
       "      <td>26</td>\n",
       "      <td>No</td>\n",
       "      <td>Kitas</td>\n",
       "    </tr>\n",
       "    <tr>\n",
       "      <th>885</th>\n",
       "      <td>Naujininkai</td>\n",
       "      <td>Salininkų Sodų 5-oji g.</td>\n",
       "      <td>Vilnius</td>\n",
       "      <td>34</td>\n",
       "      <td>No</td>\n",
       "      <td>Sodas</td>\n",
       "    </tr>\n",
       "    <tr>\n",
       "      <th>965</th>\n",
       "      <td>Naujoji Vilnia</td>\n",
       "      <td>M. Davainio-Silvestraičio g.</td>\n",
       "      <td>Vilnius</td>\n",
       "      <td>4</td>\n",
       "      <td>No</td>\n",
       "      <td>Kitas</td>\n",
       "    </tr>\n",
       "    <tr>\n",
       "      <th>1245</th>\n",
       "      <td>Paneriai</td>\n",
       "      <td>Kazimiero Jokanto g.</td>\n",
       "      <td>Vilnius</td>\n",
       "      <td>25</td>\n",
       "      <td>No</td>\n",
       "      <td>Kitas</td>\n",
       "    </tr>\n",
       "  </tbody>\n",
       "</table>\n",
       "</div>"
      ],
      "text/plain": [
       "       neighbourhood                         street municipality houses  \\\n",
       "2065         Verkiai                   Kryžiokų g.       Vilnius    420   \n",
       "1419     Pašilaičiai           Vincento Gorskio g.       Vilnius     26   \n",
       "885      Naujininkai       Salininkų Sodų 5-oji g.       Vilnius     34   \n",
       "965   Naujoji Vilnia  M. Davainio-Silvestraičio g.       Vilnius      4   \n",
       "1245        Paneriai          Kazimiero Jokanto g.       Vilnius     25   \n",
       "\n",
       "     overlap str_type  \n",
       "2065      No    Kitas  \n",
       "1419      No    Kitas  \n",
       "885       No    Sodas  \n",
       "965       No    Kitas  \n",
       "1245      No    Kitas  "
      ]
     },
     "execution_count": 13,
     "metadata": {},
     "output_type": "execute_result"
    }
   ],
   "source": [
    "neigh.sample(5)"
   ]
  },
  {
   "cell_type": "markdown",
   "metadata": {},
   "source": [
    "## Save the File "
   ]
  },
  {
   "cell_type": "code",
   "execution_count": 21,
   "metadata": {},
   "outputs": [],
   "source": [
    "#df.to_csv(neigh, '⁨Google Drive⁩/My Drive⁩/Vilniaus duomenys⁩/Vilnius.csv', sep=';')"
   ]
  },
  {
   "cell_type": "code",
   "execution_count": null,
   "metadata": {},
   "outputs": [],
   "source": []
  }
 ],
 "metadata": {
  "kernelspec": {
   "display_name": "Python 3",
   "language": "python",
   "name": "python3"
  },
  "language_info": {
   "codemirror_mode": {
    "name": "ipython",
    "version": 3
   },
   "file_extension": ".py",
   "mimetype": "text/x-python",
   "name": "python",
   "nbconvert_exporter": "python",
   "pygments_lexer": "ipython3",
   "version": "3.7.1"
  }
 },
 "nbformat": 4,
 "nbformat_minor": 2
}
