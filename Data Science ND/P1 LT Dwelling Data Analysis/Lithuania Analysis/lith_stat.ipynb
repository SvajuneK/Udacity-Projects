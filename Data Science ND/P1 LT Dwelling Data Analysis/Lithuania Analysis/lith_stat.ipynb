{
 "cells": [
  {
   "cell_type": "markdown",
   "metadata": {},
   "source": [
    "# Lithuanian Demographic and Dwelling Data\n",
    "## By Svajune Klimasauskaite"
   ]
  },
  {
   "cell_type": "code",
   "execution_count": 1,
   "metadata": {},
   "outputs": [],
   "source": [
    "# import all packages and set plots to be embedded inline\n",
    "import numpy as np\n",
    "import pandas as pd\n",
    "import matplotlib.pyplot as plt\n",
    "import seaborn as sb\n",
    "from mpl_toolkits import mplot3d\n",
    "import datetime as dt\n",
    "from pandas import DataFrame as df\n",
    "\n",
    "%matplotlib inline"
   ]
  },
  {
   "cell_type": "markdown",
   "metadata": {},
   "source": [
    "## Load Data\n",
    "\n"
   ]
  },
  {
   "cell_type": "markdown",
   "metadata": {},
   "source": [
    "### Population - Permantent residents"
   ]
  },
  {
   "cell_type": "code",
   "execution_count": 2,
   "metadata": {},
   "outputs": [
    {
     "data": {
      "text/html": [
       "<div>\n",
       "<style scoped>\n",
       "    .dataframe tbody tr th:only-of-type {\n",
       "        vertical-align: middle;\n",
       "    }\n",
       "\n",
       "    .dataframe tbody tr th {\n",
       "        vertical-align: top;\n",
       "    }\n",
       "\n",
       "    .dataframe thead th {\n",
       "        text-align: right;\n",
       "    }\n",
       "</style>\n",
       "<table border=\"1\" class=\"dataframe\">\n",
       "  <thead>\n",
       "    <tr style=\"text-align: right;\">\n",
       "      <th></th>\n",
       "      <th>Laikotarpis</th>\n",
       "      <th>permanent_residents</th>\n",
       "      <th>Administracinė teritorija</th>\n",
       "      <th>permanent_residents_value</th>\n",
       "    </tr>\n",
       "  </thead>\n",
       "  <tbody>\n",
       "    <tr>\n",
       "      <th>0</th>\n",
       "      <td>1996</td>\n",
       "      <td>Nuolatinių gyventojų skaičius metų pradžioje</td>\n",
       "      <td>Elektrėnų sav.</td>\n",
       "      <td>30410.0</td>\n",
       "    </tr>\n",
       "    <tr>\n",
       "      <th>1</th>\n",
       "      <td>1997</td>\n",
       "      <td>Nuolatinių gyventojų skaičius metų pradžioje</td>\n",
       "      <td>Elektrėnų sav.</td>\n",
       "      <td>30090.0</td>\n",
       "    </tr>\n",
       "    <tr>\n",
       "      <th>2</th>\n",
       "      <td>1998</td>\n",
       "      <td>Nuolatinių gyventojų skaičius metų pradžioje</td>\n",
       "      <td>Elektrėnų sav.</td>\n",
       "      <td>29861.0</td>\n",
       "    </tr>\n",
       "    <tr>\n",
       "      <th>3</th>\n",
       "      <td>1999</td>\n",
       "      <td>Nuolatinių gyventojų skaičius metų pradžioje</td>\n",
       "      <td>Elektrėnų sav.</td>\n",
       "      <td>29504.0</td>\n",
       "    </tr>\n",
       "    <tr>\n",
       "      <th>4</th>\n",
       "      <td>2000</td>\n",
       "      <td>Nuolatinių gyventojų skaičius metų pradžioje</td>\n",
       "      <td>Elektrėnų sav.</td>\n",
       "      <td>29250.0</td>\n",
       "    </tr>\n",
       "  </tbody>\n",
       "</table>\n",
       "</div>"
      ],
      "text/plain": [
       "   Laikotarpis                           permanent_residents  \\\n",
       "0         1996  Nuolatinių gyventojų skaičius metų pradžioje   \n",
       "1         1997  Nuolatinių gyventojų skaičius metų pradžioje   \n",
       "2         1998  Nuolatinių gyventojų skaičius metų pradžioje   \n",
       "3         1999  Nuolatinių gyventojų skaičius metų pradžioje   \n",
       "4         2000  Nuolatinių gyventojų skaičius metų pradžioje   \n",
       "\n",
       "  Administracinė teritorija  permanent_residents_value  \n",
       "0            Elektrėnų sav.                    30410.0  \n",
       "1            Elektrėnų sav.                    30090.0  \n",
       "2            Elektrėnų sav.                    29861.0  \n",
       "3            Elektrėnų sav.                    29504.0  \n",
       "4            Elektrėnų sav.                    29250.0  "
      ]
     },
     "execution_count": 2,
     "metadata": {},
     "output_type": "execute_result"
    }
   ],
   "source": [
    "#Load and change the column names, to prepare for the further data merge\n",
    "df1=pd.read_csv(\"../Dataset_raw/Lithuania/gyventoju_skaicius.csv\", sep=';')\n",
    "# Align column names\n",
    "df1.rename(columns={'Rodiklis':'permanent_residents','Reikšmė':'permanent_residents_value'}, inplace=True)\n",
    "# Drop unnecessary columns\n",
    "df1.drop(columns = ['Gyvenamoji vietovė','Matavimo vienetai'], inplace=True)\n",
    "df1.head()"
   ]
  },
  {
   "cell_type": "markdown",
   "metadata": {},
   "source": [
    "### Population - Ageing"
   ]
  },
  {
   "cell_type": "code",
   "execution_count": 3,
   "metadata": {},
   "outputs": [
    {
     "data": {
      "text/html": [
       "<div>\n",
       "<style scoped>\n",
       "    .dataframe tbody tr th:only-of-type {\n",
       "        vertical-align: middle;\n",
       "    }\n",
       "\n",
       "    .dataframe tbody tr th {\n",
       "        vertical-align: top;\n",
       "    }\n",
       "\n",
       "    .dataframe thead th {\n",
       "        text-align: right;\n",
       "    }\n",
       "</style>\n",
       "<table border=\"1\" class=\"dataframe\">\n",
       "  <thead>\n",
       "    <tr style=\"text-align: right;\">\n",
       "      <th></th>\n",
       "      <th>Laikotarpis</th>\n",
       "      <th>median_age</th>\n",
       "      <th>Administracinė teritorija</th>\n",
       "      <th>Matavimo vienetai</th>\n",
       "      <th>Reikšmė</th>\n",
       "      <th>Lytis_Moterys</th>\n",
       "      <th>Lytis_Vyrai</th>\n",
       "    </tr>\n",
       "  </thead>\n",
       "  <tbody>\n",
       "    <tr>\n",
       "      <th>0</th>\n",
       "      <td>2001</td>\n",
       "      <td>Medianinis gyventojų amžius metų pradžioje</td>\n",
       "      <td>Elektrėnų sav.</td>\n",
       "      <td>metai</td>\n",
       "      <td>34.0</td>\n",
       "      <td>0</td>\n",
       "      <td>1</td>\n",
       "    </tr>\n",
       "    <tr>\n",
       "      <th>1</th>\n",
       "      <td>2002</td>\n",
       "      <td>Medianinis gyventojų amžius metų pradžioje</td>\n",
       "      <td>Elektrėnų sav.</td>\n",
       "      <td>metai</td>\n",
       "      <td>34.0</td>\n",
       "      <td>0</td>\n",
       "      <td>1</td>\n",
       "    </tr>\n",
       "  </tbody>\n",
       "</table>\n",
       "</div>"
      ],
      "text/plain": [
       "   Laikotarpis                                  median_age  \\\n",
       "0         2001  Medianinis gyventojų amžius metų pradžioje   \n",
       "1         2002  Medianinis gyventojų amžius metų pradžioje   \n",
       "\n",
       "  Administracinė teritorija Matavimo vienetai  Reikšmė  Lytis_Moterys  \\\n",
       "0            Elektrėnų sav.             metai     34.0              0   \n",
       "1            Elektrėnų sav.             metai     34.0              0   \n",
       "\n",
       "   Lytis_Vyrai  \n",
       "0            1  \n",
       "1            1  "
      ]
     },
     "execution_count": 3,
     "metadata": {},
     "output_type": "execute_result"
    }
   ],
   "source": [
    "#Load and change the column names, to prepare for the further data merge\n",
    "df2=pd.read_csv(\"../Dataset_raw/Lithuania/gyventoju_amzius.csv\", sep=';')\n",
    "# Move categories to the columns,in order not to change level of details\n",
    "df2 = pd.get_dummies(df2, columns=['Lytis'])\n",
    "# Align column names\n",
    "df2.rename(columns={'Rodiklis':'median_age'}, inplace=True)\n",
    "df2.head(2)"
   ]
  },
  {
   "cell_type": "code",
   "execution_count": 4,
   "metadata": {},
   "outputs": [],
   "source": [
    "# Fill category values into a separate list\n",
    "data1 = []\n",
    "data2 = []\n",
    "for index, row in df2.iterrows():\n",
    "    if row['Lytis_Moterys']==1:\n",
    "        data1.append(row['Reikšmė'])\n",
    "    elif row['Lytis_Vyrai']==1:\n",
    "        data2.append(row['Reikšmė'])"
   ]
  },
  {
   "cell_type": "code",
   "execution_count": 5,
   "metadata": {},
   "outputs": [],
   "source": [
    "# Remove duplicates and keep municipalities as the lowest level of details\n",
    "df2.drop_duplicates(subset = ['Laikotarpis', 'Administracinė teritorija'], inplace=True)\n",
    "df2.drop(columns = ['Reikšmė','Matavimo vienetai'], inplace=True)"
   ]
  },
  {
   "cell_type": "code",
   "execution_count": 6,
   "metadata": {},
   "outputs": [
    {
     "data": {
      "text/html": [
       "<div>\n",
       "<style scoped>\n",
       "    .dataframe tbody tr th:only-of-type {\n",
       "        vertical-align: middle;\n",
       "    }\n",
       "\n",
       "    .dataframe tbody tr th {\n",
       "        vertical-align: top;\n",
       "    }\n",
       "\n",
       "    .dataframe thead th {\n",
       "        text-align: right;\n",
       "    }\n",
       "</style>\n",
       "<table border=\"1\" class=\"dataframe\">\n",
       "  <thead>\n",
       "    <tr style=\"text-align: right;\">\n",
       "      <th></th>\n",
       "      <th>Laikotarpis</th>\n",
       "      <th>median_age</th>\n",
       "      <th>Administracinė teritorija</th>\n",
       "      <th>Lytis_Moterys</th>\n",
       "      <th>Lytis_Vyrai</th>\n",
       "    </tr>\n",
       "  </thead>\n",
       "  <tbody>\n",
       "    <tr>\n",
       "      <th>0</th>\n",
       "      <td>2001</td>\n",
       "      <td>Medianinis gyventojų amžius metų pradžioje</td>\n",
       "      <td>Elektrėnų sav.</td>\n",
       "      <td>38.0</td>\n",
       "      <td>34.0</td>\n",
       "    </tr>\n",
       "    <tr>\n",
       "      <th>1</th>\n",
       "      <td>2002</td>\n",
       "      <td>Medianinis gyventojų amžius metų pradžioje</td>\n",
       "      <td>Elektrėnų sav.</td>\n",
       "      <td>39.0</td>\n",
       "      <td>34.0</td>\n",
       "    </tr>\n",
       "    <tr>\n",
       "      <th>2</th>\n",
       "      <td>2003</td>\n",
       "      <td>Medianinis gyventojų amžius metų pradžioje</td>\n",
       "      <td>Elektrėnų sav.</td>\n",
       "      <td>40.0</td>\n",
       "      <td>35.0</td>\n",
       "    </tr>\n",
       "    <tr>\n",
       "      <th>3</th>\n",
       "      <td>2004</td>\n",
       "      <td>Medianinis gyventojų amžius metų pradžioje</td>\n",
       "      <td>Elektrėnų sav.</td>\n",
       "      <td>40.0</td>\n",
       "      <td>35.0</td>\n",
       "    </tr>\n",
       "    <tr>\n",
       "      <th>4</th>\n",
       "      <td>2005</td>\n",
       "      <td>Medianinis gyventojų amžius metų pradžioje</td>\n",
       "      <td>Elektrėnų sav.</td>\n",
       "      <td>41.0</td>\n",
       "      <td>36.0</td>\n",
       "    </tr>\n",
       "  </tbody>\n",
       "</table>\n",
       "</div>"
      ],
      "text/plain": [
       "   Laikotarpis                                  median_age  \\\n",
       "0         2001  Medianinis gyventojų amžius metų pradžioje   \n",
       "1         2002  Medianinis gyventojų amžius metų pradžioje   \n",
       "2         2003  Medianinis gyventojų amžius metų pradžioje   \n",
       "3         2004  Medianinis gyventojų amžius metų pradžioje   \n",
       "4         2005  Medianinis gyventojų amžius metų pradžioje   \n",
       "\n",
       "  Administracinė teritorija  Lytis_Moterys  Lytis_Vyrai  \n",
       "0            Elektrėnų sav.           38.0         34.0  \n",
       "1            Elektrėnų sav.           39.0         34.0  \n",
       "2            Elektrėnų sav.           40.0         35.0  \n",
       "3            Elektrėnų sav.           40.0         35.0  \n",
       "4            Elektrėnų sav.           41.0         36.0  "
      ]
     },
     "execution_count": 6,
     "metadata": {},
     "output_type": "execute_result"
    }
   ],
   "source": [
    "# add categories lists to the DataFrame\n",
    "df2['Lytis_Moterys'] = data1\n",
    "df2['Lytis_Vyrai'] = data2\n",
    "df2.head()"
   ]
  },
  {
   "cell_type": "markdown",
   "metadata": {},
   "source": [
    "### Teritory - Population Density"
   ]
  },
  {
   "cell_type": "code",
   "execution_count": 7,
   "metadata": {
    "scrolled": true
   },
   "outputs": [
    {
     "data": {
      "text/html": [
       "<div>\n",
       "<style scoped>\n",
       "    .dataframe tbody tr th:only-of-type {\n",
       "        vertical-align: middle;\n",
       "    }\n",
       "\n",
       "    .dataframe tbody tr th {\n",
       "        vertical-align: top;\n",
       "    }\n",
       "\n",
       "    .dataframe thead th {\n",
       "        text-align: right;\n",
       "    }\n",
       "</style>\n",
       "<table border=\"1\" class=\"dataframe\">\n",
       "  <thead>\n",
       "    <tr style=\"text-align: right;\">\n",
       "      <th></th>\n",
       "      <th>Laikotarpis</th>\n",
       "      <th>population_density</th>\n",
       "      <th>Administracinė teritorija</th>\n",
       "      <th>population_density_measure</th>\n",
       "      <th>population_density_value</th>\n",
       "    </tr>\n",
       "  </thead>\n",
       "  <tbody>\n",
       "    <tr>\n",
       "      <th>0</th>\n",
       "      <td>2001</td>\n",
       "      <td>Gyventojų tankis metų pradžioje</td>\n",
       "      <td>Elektrėnų sav.</td>\n",
       "      <td>viename km²</td>\n",
       "      <td>53.9</td>\n",
       "    </tr>\n",
       "    <tr>\n",
       "      <th>1</th>\n",
       "      <td>2002</td>\n",
       "      <td>Gyventojų tankis metų pradžioje</td>\n",
       "      <td>Elektrėnų sav.</td>\n",
       "      <td>viename km²</td>\n",
       "      <td>53.1</td>\n",
       "    </tr>\n",
       "  </tbody>\n",
       "</table>\n",
       "</div>"
      ],
      "text/plain": [
       "   Laikotarpis               population_density Administracinė teritorija  \\\n",
       "0         2001  Gyventojų tankis metų pradžioje            Elektrėnų sav.   \n",
       "1         2002  Gyventojų tankis metų pradžioje            Elektrėnų sav.   \n",
       "\n",
       "  population_density_measure  population_density_value  \n",
       "0                viename km²                      53.9  \n",
       "1                viename km²                      53.1  "
      ]
     },
     "execution_count": 7,
     "metadata": {},
     "output_type": "execute_result"
    }
   ],
   "source": [
    "#Load and change the column names, to prepare for the further data merge\n",
    "df4=pd.read_csv(\"../Dataset_raw/Lithuania/gyventoju_tankis.csv\", sep=';')\n",
    "# Align column names\n",
    "df4.rename(columns={'Rodiklis':'population_density','Reikšmė':'population_density_value',\n",
    "                   'Matavimo vienetai':'population_density_measure'}, inplace=True)\n",
    "df4.head(2)"
   ]
  },
  {
   "cell_type": "markdown",
   "metadata": {},
   "source": [
    "### Flats - Useful Area"
   ]
  },
  {
   "cell_type": "code",
   "execution_count": 8,
   "metadata": {},
   "outputs": [
    {
     "data": {
      "text/html": [
       "<div>\n",
       "<style scoped>\n",
       "    .dataframe tbody tr th:only-of-type {\n",
       "        vertical-align: middle;\n",
       "    }\n",
       "\n",
       "    .dataframe tbody tr th {\n",
       "        vertical-align: top;\n",
       "    }\n",
       "\n",
       "    .dataframe thead th {\n",
       "        text-align: right;\n",
       "    }\n",
       "</style>\n",
       "<table border=\"1\" class=\"dataframe\">\n",
       "  <thead>\n",
       "    <tr style=\"text-align: right;\">\n",
       "      <th></th>\n",
       "      <th>Laikotarpis</th>\n",
       "      <th>useful_area</th>\n",
       "      <th>Administracinė teritorija</th>\n",
       "      <th>useful_area_measure</th>\n",
       "      <th>useful_area_value</th>\n",
       "    </tr>\n",
       "  </thead>\n",
       "  <tbody>\n",
       "    <tr>\n",
       "      <th>1745</th>\n",
       "      <td>2014</td>\n",
       "      <td>Naudingasis plotas, tenkantis vienam gyventojui</td>\n",
       "      <td>Zarasų r. sav.</td>\n",
       "      <td>m²</td>\n",
       "      <td>40.3</td>\n",
       "    </tr>\n",
       "    <tr>\n",
       "      <th>1746</th>\n",
       "      <td>2015</td>\n",
       "      <td>Naudingasis plotas, tenkantis vienam gyventojui</td>\n",
       "      <td>Zarasų r. sav.</td>\n",
       "      <td>m²</td>\n",
       "      <td>41.4</td>\n",
       "    </tr>\n",
       "    <tr>\n",
       "      <th>1747</th>\n",
       "      <td>2016</td>\n",
       "      <td>Naudingasis plotas, tenkantis vienam gyventojui</td>\n",
       "      <td>Zarasų r. sav.</td>\n",
       "      <td>m²</td>\n",
       "      <td>42.8</td>\n",
       "    </tr>\n",
       "    <tr>\n",
       "      <th>1748</th>\n",
       "      <td>2017</td>\n",
       "      <td>Naudingasis plotas, tenkantis vienam gyventojui</td>\n",
       "      <td>Zarasų r. sav.</td>\n",
       "      <td>m²</td>\n",
       "      <td>44.1</td>\n",
       "    </tr>\n",
       "    <tr>\n",
       "      <th>1749</th>\n",
       "      <td>2018</td>\n",
       "      <td>Naudingasis plotas, tenkantis vienam gyventojui</td>\n",
       "      <td>Zarasų r. sav.</td>\n",
       "      <td>m²</td>\n",
       "      <td>45.3</td>\n",
       "    </tr>\n",
       "  </tbody>\n",
       "</table>\n",
       "</div>"
      ],
      "text/plain": [
       "      Laikotarpis                                      useful_area  \\\n",
       "1745         2014  Naudingasis plotas, tenkantis vienam gyventojui   \n",
       "1746         2015  Naudingasis plotas, tenkantis vienam gyventojui   \n",
       "1747         2016  Naudingasis plotas, tenkantis vienam gyventojui   \n",
       "1748         2017  Naudingasis plotas, tenkantis vienam gyventojui   \n",
       "1749         2018  Naudingasis plotas, tenkantis vienam gyventojui   \n",
       "\n",
       "     Administracinė teritorija useful_area_measure  useful_area_value  \n",
       "1745            Zarasų r. sav.                  m²               40.3  \n",
       "1746            Zarasų r. sav.                  m²               41.4  \n",
       "1747            Zarasų r. sav.                  m²               42.8  \n",
       "1748            Zarasų r. sav.                  m²               44.1  \n",
       "1749            Zarasų r. sav.                  m²               45.3  "
      ]
     },
     "execution_count": 8,
     "metadata": {},
     "output_type": "execute_result"
    }
   ],
   "source": [
    "#Load and change the column names, to prepare for the further data merge\n",
    "df5=pd.read_csv(\"../Dataset_raw/Lithuania/naudingas_plotas.csv\", sep=';')\n",
    "# Align column names\n",
    "df5.rename(columns={'Rodiklis':'useful_area', 'Reikšmė':'useful_area_value', \n",
    "                    'Matavimo vienetai':'useful_area_measure'}, inplace=True)\n",
    "# Drop unnecessary columns\n",
    "df5.drop(columns = ['Gyvenamoji vietovė'], inplace=True)\n",
    "df5.tail()"
   ]
  },
  {
   "cell_type": "markdown",
   "metadata": {},
   "source": [
    "### Flats - Average dwelling"
   ]
  },
  {
   "cell_type": "code",
   "execution_count": 9,
   "metadata": {},
   "outputs": [
    {
     "data": {
      "text/html": [
       "<div>\n",
       "<style scoped>\n",
       "    .dataframe tbody tr th:only-of-type {\n",
       "        vertical-align: middle;\n",
       "    }\n",
       "\n",
       "    .dataframe tbody tr th {\n",
       "        vertical-align: top;\n",
       "    }\n",
       "\n",
       "    .dataframe thead th {\n",
       "        text-align: right;\n",
       "    }\n",
       "</style>\n",
       "<table border=\"1\" class=\"dataframe\">\n",
       "  <thead>\n",
       "    <tr style=\"text-align: right;\">\n",
       "      <th></th>\n",
       "      <th>Laikotarpis</th>\n",
       "      <th>average_housing</th>\n",
       "      <th>Administracinė teritorija</th>\n",
       "      <th>average_housing_measure</th>\n",
       "      <th>average_housing_value</th>\n",
       "    </tr>\n",
       "  </thead>\n",
       "  <tbody>\n",
       "    <tr>\n",
       "      <th>0</th>\n",
       "      <td>2001.0</td>\n",
       "      <td>Vidutinis būsto dydis</td>\n",
       "      <td>Elektrėnų sav.</td>\n",
       "      <td>m²</td>\n",
       "      <td>57.7</td>\n",
       "    </tr>\n",
       "    <tr>\n",
       "      <th>1</th>\n",
       "      <td>2002.0</td>\n",
       "      <td>Vidutinis būsto dydis</td>\n",
       "      <td>Elektrėnų sav.</td>\n",
       "      <td>m²</td>\n",
       "      <td>57.7</td>\n",
       "    </tr>\n",
       "  </tbody>\n",
       "</table>\n",
       "</div>"
      ],
      "text/plain": [
       "   Laikotarpis        average_housing Administracinė teritorija  \\\n",
       "0       2001.0  Vidutinis būsto dydis            Elektrėnų sav.   \n",
       "1       2002.0  Vidutinis būsto dydis            Elektrėnų sav.   \n",
       "\n",
       "  average_housing_measure  average_housing_value  \n",
       "0                      m²                   57.7  \n",
       "1                      m²                   57.7  "
      ]
     },
     "execution_count": 9,
     "metadata": {},
     "output_type": "execute_result"
    }
   ],
   "source": [
    "#Load and change the column names, to prepare for the further data merge\n",
    "df6=pd.read_csv(\"../Dataset_raw/Lithuania/buto_dydis.csv\", sep=';')\n",
    "# Align column names\n",
    "df6.rename(columns={'Rodiklis':'average_housing','Reikšmė':'average_housing_value',\n",
    "                   'Matavimo vienetai':'average_housing_measure'}, inplace=True)\n",
    "# Drop unnecessary columns\n",
    "df6.drop(columns = ['Gyvenamoji vietovė'], inplace=True)\n",
    "df6.head(2)"
   ]
  },
  {
   "cell_type": "markdown",
   "metadata": {},
   "source": [
    "### Economy - Neto Imigration"
   ]
  },
  {
   "cell_type": "code",
   "execution_count": 10,
   "metadata": {},
   "outputs": [
    {
     "data": {
      "text/html": [
       "<div>\n",
       "<style scoped>\n",
       "    .dataframe tbody tr th:only-of-type {\n",
       "        vertical-align: middle;\n",
       "    }\n",
       "\n",
       "    .dataframe tbody tr th {\n",
       "        vertical-align: top;\n",
       "    }\n",
       "\n",
       "    .dataframe thead th {\n",
       "        text-align: right;\n",
       "    }\n",
       "</style>\n",
       "<table border=\"1\" class=\"dataframe\">\n",
       "  <thead>\n",
       "    <tr style=\"text-align: right;\">\n",
       "      <th></th>\n",
       "      <th>Laikotarpis</th>\n",
       "      <th>neto_migration</th>\n",
       "      <th>Administracinė teritorija</th>\n",
       "      <th>neto_migration_measure</th>\n",
       "      <th>neto_migration_value</th>\n",
       "    </tr>\n",
       "  </thead>\n",
       "  <tbody>\n",
       "    <tr>\n",
       "      <th>1767</th>\n",
       "      <td>2017</td>\n",
       "      <td>Neto migracija</td>\n",
       "      <td>Zarasų r. sav.</td>\n",
       "      <td>asmenys</td>\n",
       "      <td>-284.0</td>\n",
       "    </tr>\n",
       "    <tr>\n",
       "      <th>1768</th>\n",
       "      <td>2018</td>\n",
       "      <td>Neto migracija</td>\n",
       "      <td>Zarasų r. sav.</td>\n",
       "      <td>asmenys</td>\n",
       "      <td>-193.0</td>\n",
       "    </tr>\n",
       "  </tbody>\n",
       "</table>\n",
       "</div>"
      ],
      "text/plain": [
       "      Laikotarpis  neto_migration Administracinė teritorija  \\\n",
       "1767         2017  Neto migracija            Zarasų r. sav.   \n",
       "1768         2018  Neto migracija            Zarasų r. sav.   \n",
       "\n",
       "     neto_migration_measure  neto_migration_value  \n",
       "1767                asmenys                -284.0  \n",
       "1768                asmenys                -193.0  "
      ]
     },
     "execution_count": 10,
     "metadata": {},
     "output_type": "execute_result"
    }
   ],
   "source": [
    "#Load and change the column names, to prepare for the further data merge\n",
    "df8=pd.read_csv(\"../Dataset_raw/Lithuania/imigrantai.csv\", sep=';')\n",
    "# Align column names\n",
    "df8.rename(columns={'Rodiklis':'neto_migration','Reikšmė':'neto_migration_value',\n",
    "                   'Matavimo vienetai':'neto_migration_measure'}, inplace=True)\n",
    "df8.tail(2)"
   ]
  },
  {
   "cell_type": "markdown",
   "metadata": {},
   "source": [
    "### Economy - Unemployment"
   ]
  },
  {
   "cell_type": "code",
   "execution_count": 11,
   "metadata": {
    "scrolled": true
   },
   "outputs": [
    {
     "data": {
      "text/html": [
       "<div>\n",
       "<style scoped>\n",
       "    .dataframe tbody tr th:only-of-type {\n",
       "        vertical-align: middle;\n",
       "    }\n",
       "\n",
       "    .dataframe tbody tr th {\n",
       "        vertical-align: top;\n",
       "    }\n",
       "\n",
       "    .dataframe thead th {\n",
       "        text-align: right;\n",
       "    }\n",
       "</style>\n",
       "<table border=\"1\" class=\"dataframe\">\n",
       "  <thead>\n",
       "    <tr style=\"text-align: right;\">\n",
       "      <th></th>\n",
       "      <th>Laikotarpis</th>\n",
       "      <th>unemployment</th>\n",
       "      <th>Administracinė teritorija</th>\n",
       "      <th>unemployment_measure</th>\n",
       "      <th>unemployment_value</th>\n",
       "    </tr>\n",
       "  </thead>\n",
       "  <tbody>\n",
       "    <tr>\n",
       "      <th>1572</th>\n",
       "      <td>2017</td>\n",
       "      <td>Registruotų bedarbių ir darbingo amžiaus gyven...</td>\n",
       "      <td>Zarasų r. sav.</td>\n",
       "      <td>proc.</td>\n",
       "      <td>14.0</td>\n",
       "    </tr>\n",
       "    <tr>\n",
       "      <th>1573</th>\n",
       "      <td>2018</td>\n",
       "      <td>Registruotų bedarbių ir darbingo amžiaus gyven...</td>\n",
       "      <td>Zarasų r. sav.</td>\n",
       "      <td>proc.</td>\n",
       "      <td>14.9</td>\n",
       "    </tr>\n",
       "  </tbody>\n",
       "</table>\n",
       "</div>"
      ],
      "text/plain": [
       "      Laikotarpis                                       unemployment  \\\n",
       "1572         2017  Registruotų bedarbių ir darbingo amžiaus gyven...   \n",
       "1573         2018  Registruotų bedarbių ir darbingo amžiaus gyven...   \n",
       "\n",
       "     Administracinė teritorija unemployment_measure  unemployment_value  \n",
       "1572            Zarasų r. sav.                proc.                14.0  \n",
       "1573            Zarasų r. sav.                proc.                14.9  "
      ]
     },
     "execution_count": 11,
     "metadata": {},
     "output_type": "execute_result"
    }
   ],
   "source": [
    "#Load and change the column names, to prepare for the further data merge\n",
    "df9=pd.read_csv(\"../Dataset_raw/Lithuania/bedarbiai.csv\", sep=';')\n",
    "# Align column names\n",
    "df9.rename(columns={'Rodiklis':'unemployment','Reikšmė':'unemployment_value',\n",
    "                   'Matavimo vienetai':'unemployment_measure'}, inplace=True)\n",
    "df9.tail(2)"
   ]
  },
  {
   "cell_type": "markdown",
   "metadata": {},
   "source": [
    "### Hierarchy"
   ]
  },
  {
   "cell_type": "code",
   "execution_count": 12,
   "metadata": {},
   "outputs": [
    {
     "data": {
      "text/html": [
       "<div>\n",
       "<style scoped>\n",
       "    .dataframe tbody tr th:only-of-type {\n",
       "        vertical-align: middle;\n",
       "    }\n",
       "\n",
       "    .dataframe tbody tr th {\n",
       "        vertical-align: top;\n",
       "    }\n",
       "\n",
       "    .dataframe thead th {\n",
       "        text-align: right;\n",
       "    }\n",
       "</style>\n",
       "<table border=\"1\" class=\"dataframe\">\n",
       "  <thead>\n",
       "    <tr style=\"text-align: right;\">\n",
       "      <th></th>\n",
       "      <th>country</th>\n",
       "      <th>area</th>\n",
       "      <th>district</th>\n",
       "      <th>municipality</th>\n",
       "    </tr>\n",
       "  </thead>\n",
       "  <tbody>\n",
       "    <tr>\n",
       "      <th>0</th>\n",
       "      <td>Lietuvos Respublika</td>\n",
       "      <td>Sostinės regionas</td>\n",
       "      <td>Vilniaus apskritis</td>\n",
       "      <td>Elektrėnų sav.</td>\n",
       "    </tr>\n",
       "    <tr>\n",
       "      <th>1</th>\n",
       "      <td>Lietuvos Respublika</td>\n",
       "      <td>Sostinės regionas</td>\n",
       "      <td>Vilniaus apskritis</td>\n",
       "      <td>Šalčininkų r. sav.</td>\n",
       "    </tr>\n",
       "  </tbody>\n",
       "</table>\n",
       "</div>"
      ],
      "text/plain": [
       "               country               area            district  \\\n",
       "0  Lietuvos Respublika  Sostinės regionas  Vilniaus apskritis   \n",
       "1  Lietuvos Respublika  Sostinės regionas  Vilniaus apskritis   \n",
       "\n",
       "         municipality  \n",
       "0      Elektrėnų sav.  \n",
       "1  Šalčininkų r. sav.  "
      ]
     },
     "execution_count": 12,
     "metadata": {},
     "output_type": "execute_result"
    }
   ],
   "source": [
    "#Load LT district and municipality hierarchy \n",
    "df10=pd.read_csv(\"../Dataset_raw/Hierarchies/LT_hierarchy.csv\", sep=';')\n",
    "df10.head(2)"
   ]
  },
  {
   "cell_type": "markdown",
   "metadata": {},
   "source": [
    "## Merge"
   ]
  },
  {
   "cell_type": "markdown",
   "metadata": {},
   "source": [
    "Merge all datasets on the **period** and **municipality**."
   ]
  },
  {
   "cell_type": "code",
   "execution_count": 13,
   "metadata": {},
   "outputs": [],
   "source": [
    "# Merge all dataframes on the period and municipality\n",
    "\n",
    "all_data = pd.merge(df1, df2, how='outer', on=['Laikotarpis','Administracinė teritorija'])\n",
    "all_data = pd.merge(all_data, df4, how='inner', on=['Laikotarpis','Administracinė teritorija'])\n",
    "all_data = pd.merge(all_data, df5, how='inner', on=['Laikotarpis','Administracinė teritorija'])\n",
    "all_data = pd.merge(all_data, df6, how='inner', on=['Laikotarpis','Administracinė teritorija'])\n",
    "all_data = pd.merge(all_data, df8, how='inner', on=['Laikotarpis','Administracinė teritorija'])\n",
    "all_data = pd.merge(all_data, df9, how='inner', on=['Laikotarpis','Administracinė teritorija'])\n",
    "\n",
    "\n",
    "all_data = pd.merge(all_data, df10, how='inner', left_on='Administracinė teritorija', right_on='municipality')"
   ]
  },
  {
   "cell_type": "code",
   "execution_count": 14,
   "metadata": {},
   "outputs": [
    {
     "data": {
      "text/html": [
       "<div>\n",
       "<style scoped>\n",
       "    .dataframe tbody tr th:only-of-type {\n",
       "        vertical-align: middle;\n",
       "    }\n",
       "\n",
       "    .dataframe tbody tr th {\n",
       "        vertical-align: top;\n",
       "    }\n",
       "\n",
       "    .dataframe thead th {\n",
       "        text-align: right;\n",
       "    }\n",
       "</style>\n",
       "<table border=\"1\" class=\"dataframe\">\n",
       "  <thead>\n",
       "    <tr style=\"text-align: right;\">\n",
       "      <th></th>\n",
       "      <th>Laikotarpis</th>\n",
       "      <th>permanent_residents</th>\n",
       "      <th>Administracinė teritorija</th>\n",
       "      <th>permanent_residents_value</th>\n",
       "      <th>median_age</th>\n",
       "      <th>Lytis_Moterys</th>\n",
       "      <th>Lytis_Vyrai</th>\n",
       "      <th>population_density</th>\n",
       "      <th>population_density_measure</th>\n",
       "      <th>population_density_value</th>\n",
       "      <th>...</th>\n",
       "      <th>neto_migration</th>\n",
       "      <th>neto_migration_measure</th>\n",
       "      <th>neto_migration_value</th>\n",
       "      <th>unemployment</th>\n",
       "      <th>unemployment_measure</th>\n",
       "      <th>unemployment_value</th>\n",
       "      <th>country</th>\n",
       "      <th>area</th>\n",
       "      <th>district</th>\n",
       "      <th>municipality</th>\n",
       "    </tr>\n",
       "  </thead>\n",
       "  <tbody>\n",
       "    <tr>\n",
       "      <th>1081</th>\n",
       "      <td>2017</td>\n",
       "      <td>Nuolatinių gyventojų skaičius metų pradžioje</td>\n",
       "      <td>Zarasų r. sav.</td>\n",
       "      <td>16169.0</td>\n",
       "      <td>Medianinis gyventojų amžius metų pradžioje</td>\n",
       "      <td>52.0</td>\n",
       "      <td>45.0</td>\n",
       "      <td>Gyventojų tankis metų pradžioje</td>\n",
       "      <td>viename km²</td>\n",
       "      <td>12.1</td>\n",
       "      <td>...</td>\n",
       "      <td>Neto migracija</td>\n",
       "      <td>asmenys</td>\n",
       "      <td>-284.0</td>\n",
       "      <td>Registruotų bedarbių ir darbingo amžiaus gyven...</td>\n",
       "      <td>proc.</td>\n",
       "      <td>14.0</td>\n",
       "      <td>Lietuvos Respublika</td>\n",
       "      <td>Vidurio ir vakarų Lietuvos regionas</td>\n",
       "      <td>Utenos apskritis</td>\n",
       "      <td>Zarasų r. sav.</td>\n",
       "    </tr>\n",
       "    <tr>\n",
       "      <th>1082</th>\n",
       "      <td>2018</td>\n",
       "      <td>Nuolatinių gyventojų skaičius metų pradžioje</td>\n",
       "      <td>Zarasų r. sav.</td>\n",
       "      <td>15668.0</td>\n",
       "      <td>Medianinis gyventojų amžius metų pradžioje</td>\n",
       "      <td>53.0</td>\n",
       "      <td>45.0</td>\n",
       "      <td>Gyventojų tankis metų pradžioje</td>\n",
       "      <td>viename km²</td>\n",
       "      <td>11.8</td>\n",
       "      <td>...</td>\n",
       "      <td>Neto migracija</td>\n",
       "      <td>asmenys</td>\n",
       "      <td>-193.0</td>\n",
       "      <td>Registruotų bedarbių ir darbingo amžiaus gyven...</td>\n",
       "      <td>proc.</td>\n",
       "      <td>14.9</td>\n",
       "      <td>Lietuvos Respublika</td>\n",
       "      <td>Vidurio ir vakarų Lietuvos regionas</td>\n",
       "      <td>Utenos apskritis</td>\n",
       "      <td>Zarasų r. sav.</td>\n",
       "    </tr>\n",
       "  </tbody>\n",
       "</table>\n",
       "<p>2 rows × 26 columns</p>\n",
       "</div>"
      ],
      "text/plain": [
       "      Laikotarpis                           permanent_residents  \\\n",
       "1081         2017  Nuolatinių gyventojų skaičius metų pradžioje   \n",
       "1082         2018  Nuolatinių gyventojų skaičius metų pradžioje   \n",
       "\n",
       "     Administracinė teritorija  permanent_residents_value  \\\n",
       "1081            Zarasų r. sav.                    16169.0   \n",
       "1082            Zarasų r. sav.                    15668.0   \n",
       "\n",
       "                                      median_age  Lytis_Moterys  Lytis_Vyrai  \\\n",
       "1081  Medianinis gyventojų amžius metų pradžioje           52.0         45.0   \n",
       "1082  Medianinis gyventojų amžius metų pradžioje           53.0         45.0   \n",
       "\n",
       "                   population_density population_density_measure  \\\n",
       "1081  Gyventojų tankis metų pradžioje                viename km²   \n",
       "1082  Gyventojų tankis metų pradžioje                viename km²   \n",
       "\n",
       "      population_density_value       ...        neto_migration  \\\n",
       "1081                      12.1       ...        Neto migracija   \n",
       "1082                      11.8       ...        Neto migracija   \n",
       "\n",
       "     neto_migration_measure  neto_migration_value  \\\n",
       "1081                asmenys                -284.0   \n",
       "1082                asmenys                -193.0   \n",
       "\n",
       "                                           unemployment unemployment_measure  \\\n",
       "1081  Registruotų bedarbių ir darbingo amžiaus gyven...                proc.   \n",
       "1082  Registruotų bedarbių ir darbingo amžiaus gyven...                proc.   \n",
       "\n",
       "      unemployment_value              country  \\\n",
       "1081                14.0  Lietuvos Respublika   \n",
       "1082                14.9  Lietuvos Respublika   \n",
       "\n",
       "                                     area          district    municipality  \n",
       "1081  Vidurio ir vakarų Lietuvos regionas  Utenos apskritis  Zarasų r. sav.  \n",
       "1082  Vidurio ir vakarų Lietuvos regionas  Utenos apskritis  Zarasų r. sav.  \n",
       "\n",
       "[2 rows x 26 columns]"
      ]
     },
     "execution_count": 14,
     "metadata": {},
     "output_type": "execute_result"
    }
   ],
   "source": [
    "all_data.tail(2)"
   ]
  },
  {
   "cell_type": "markdown",
   "metadata": {},
   "source": [
    "## Data Cleaning and Augmentation"
   ]
  },
  {
   "cell_type": "markdown",
   "metadata": {},
   "source": [
    "### Translate Column Names"
   ]
  },
  {
   "cell_type": "code",
   "execution_count": 15,
   "metadata": {},
   "outputs": [],
   "source": [
    "all_data.rename(columns = {'Laikotarpis':'year', 'Administracinė teritorija':'municipality2'}, inplace = True)"
   ]
  },
  {
   "cell_type": "markdown",
   "metadata": {},
   "source": [
    "### Keep Period from 2001 to 2018 Year"
   ]
  },
  {
   "cell_type": "code",
   "execution_count": 16,
   "metadata": {},
   "outputs": [
    {
     "data": {
      "text/plain": [
       "array([2001, 2002, 2003, 2004, 2005, 2006, 2007, 2008, 2009, 2010, 2011,\n",
       "       2012, 2013, 2014, 2015, 2016, 2017, 2018])"
      ]
     },
     "execution_count": 16,
     "metadata": {},
     "output_type": "execute_result"
    }
   ],
   "source": [
    "# Different datasheets have different period start year, therefore we need to unify and start from 2001 and end to 2018\n",
    "final = all_data[all_data['year'] >= 2001]\n",
    "final = final[final['year'] != 2019]\n",
    "final['year'].unique()"
   ]
  },
  {
   "cell_type": "markdown",
   "metadata": {},
   "source": [
    "### Remove Higher Level Municipalities to Avoid Double Count"
   ]
  },
  {
   "cell_type": "code",
   "execution_count": 17,
   "metadata": {},
   "outputs": [
    {
     "data": {
      "text/plain": [
       "array(['Elektrėnų sav.', 'Šalčininkų r. sav.', 'Širvintų r. sav.',\n",
       "       'Švenčionių r. sav.', 'Trakų r. sav.', 'Ukmergės r. sav.',\n",
       "       'Vilniaus m. sav.', 'Vilniaus r. sav.', 'Alytaus m. sav.',\n",
       "       'Alytaus r. sav.', 'Druskininkų sav.', 'Lazdijų r. sav.',\n",
       "       'Varėnos r. sav.', 'Birštono sav.', 'Jonavos r. sav.',\n",
       "       'Kaišiadorių r. sav.', 'Kauno m. sav.', 'Kauno r. sav.',\n",
       "       'Kėdainių r. sav.', 'Prienų r. sav.', 'Raseinių r. sav.',\n",
       "       'Klaipėdos m. sav.', 'Klaipėdos r. sav.', 'Kretingos r. sav.',\n",
       "       'Neringos sav.', 'Palangos m. sav.', 'Skuodo r. sav.',\n",
       "       'Šilutės r. sav.', 'Kalvarijos sav.', 'Kazlų Rūdos sav.',\n",
       "       'Marijampolės sav.', 'Marijampolės r. sav.', 'Šakių r. sav.',\n",
       "       'Vilkaviškio r. sav.', 'Biržų r. sav.', 'Kupiškio r. sav.',\n",
       "       'Panevėžio m. sav.', 'Panevėžio r. sav.', 'Pasvalio r. sav.',\n",
       "       'Rokiškio r. sav.', 'Akmenės r. sav.', 'Joniškio r. sav.',\n",
       "       'Kelmės r. sav.', 'Pakruojo r. sav.', 'Radviliškio r. sav.',\n",
       "       'Šiaulių m. sav.', 'Šiaulių r. sav.', 'Jurbarko r. sav.',\n",
       "       'Pagėgių sav.', 'Šilalės r. sav.', 'Tauragės r. sav.',\n",
       "       'Mažeikių r. sav.', 'Plungės r. sav.', 'Rietavo sav.',\n",
       "       'Telšių r. sav.', 'Anykščių r. sav.', 'Ignalinos r. sav.',\n",
       "       'Molėtų r. sav.', 'Utenos r. sav.', 'Visagino sav.',\n",
       "       'Zarasų r. sav.'], dtype=object)"
      ]
     },
     "execution_count": 17,
     "metadata": {},
     "output_type": "execute_result"
    }
   ],
   "source": [
    "# Ensure that DataFrame has values on the lowest level, i.e. municipality level, \n",
    "# therefore we need to remove records with the distict or area information with aggregated values.\n",
    "\n",
    "# Check unique values\n",
    "final['municipality2'].unique()"
   ]
  },
  {
   "cell_type": "code",
   "execution_count": 18,
   "metadata": {},
   "outputs": [],
   "source": [
    "# remove records which have aggregated information and not on the lowest level of details\n",
    "final = final[np.isin(final['municipality2'], ['Lietuvos Respublika','Sostinės regionas','Vilniaus apskritis',\n",
    "                                      'Vidurio ir vakarų Lietuvos regionas','Alytaus apskritis',\n",
    "                                      'Kauno apskritis','Klaipėdos apskritis','Marijampolės apskritis',\n",
    "                                      'Panevėžio apskritis','Šiaulių apskritis','Tauragės apskritis',\n",
    "                                      'Telšių apskritis','Utenos apskritis','Marijampolės r. sav.'], invert=True)]"
   ]
  },
  {
   "cell_type": "code",
   "execution_count": 19,
   "metadata": {},
   "outputs": [
    {
     "data": {
      "text/plain": [
       "60"
      ]
     },
     "execution_count": 19,
     "metadata": {},
     "output_type": "execute_result"
    }
   ],
   "source": [
    "# Verify that all 60 municipalities are in place\n",
    "final['municipality2'].nunique()                    "
   ]
  },
  {
   "cell_type": "code",
   "execution_count": 20,
   "metadata": {},
   "outputs": [],
   "source": [
    "#drop unnecessary column\n",
    "final.drop(columns = ['municipality2'], inplace = True)"
   ]
  },
  {
   "cell_type": "code",
   "execution_count": 21,
   "metadata": {},
   "outputs": [
    {
     "data": {
      "text/html": [
       "<div>\n",
       "<style scoped>\n",
       "    .dataframe tbody tr th:only-of-type {\n",
       "        vertical-align: middle;\n",
       "    }\n",
       "\n",
       "    .dataframe tbody tr th {\n",
       "        vertical-align: top;\n",
       "    }\n",
       "\n",
       "    .dataframe thead th {\n",
       "        text-align: right;\n",
       "    }\n",
       "</style>\n",
       "<table border=\"1\" class=\"dataframe\">\n",
       "  <thead>\n",
       "    <tr style=\"text-align: right;\">\n",
       "      <th></th>\n",
       "      <th>year</th>\n",
       "      <th>permanent_residents</th>\n",
       "      <th>permanent_residents_value</th>\n",
       "      <th>median_age</th>\n",
       "      <th>Lytis_Moterys</th>\n",
       "      <th>Lytis_Vyrai</th>\n",
       "      <th>population_density</th>\n",
       "      <th>population_density_measure</th>\n",
       "      <th>population_density_value</th>\n",
       "      <th>useful_area</th>\n",
       "      <th>...</th>\n",
       "      <th>neto_migration</th>\n",
       "      <th>neto_migration_measure</th>\n",
       "      <th>neto_migration_value</th>\n",
       "      <th>unemployment</th>\n",
       "      <th>unemployment_measure</th>\n",
       "      <th>unemployment_value</th>\n",
       "      <th>country</th>\n",
       "      <th>area</th>\n",
       "      <th>district</th>\n",
       "      <th>municipality</th>\n",
       "    </tr>\n",
       "  </thead>\n",
       "  <tbody>\n",
       "    <tr>\n",
       "      <th>1081</th>\n",
       "      <td>2017</td>\n",
       "      <td>Nuolatinių gyventojų skaičius metų pradžioje</td>\n",
       "      <td>16169.0</td>\n",
       "      <td>Medianinis gyventojų amžius metų pradžioje</td>\n",
       "      <td>52.0</td>\n",
       "      <td>45.0</td>\n",
       "      <td>Gyventojų tankis metų pradžioje</td>\n",
       "      <td>viename km²</td>\n",
       "      <td>12.1</td>\n",
       "      <td>Naudingasis plotas, tenkantis vienam gyventojui</td>\n",
       "      <td>...</td>\n",
       "      <td>Neto migracija</td>\n",
       "      <td>asmenys</td>\n",
       "      <td>-284.0</td>\n",
       "      <td>Registruotų bedarbių ir darbingo amžiaus gyven...</td>\n",
       "      <td>proc.</td>\n",
       "      <td>14.0</td>\n",
       "      <td>Lietuvos Respublika</td>\n",
       "      <td>Vidurio ir vakarų Lietuvos regionas</td>\n",
       "      <td>Utenos apskritis</td>\n",
       "      <td>Zarasų r. sav.</td>\n",
       "    </tr>\n",
       "    <tr>\n",
       "      <th>1082</th>\n",
       "      <td>2018</td>\n",
       "      <td>Nuolatinių gyventojų skaičius metų pradžioje</td>\n",
       "      <td>15668.0</td>\n",
       "      <td>Medianinis gyventojų amžius metų pradžioje</td>\n",
       "      <td>53.0</td>\n",
       "      <td>45.0</td>\n",
       "      <td>Gyventojų tankis metų pradžioje</td>\n",
       "      <td>viename km²</td>\n",
       "      <td>11.8</td>\n",
       "      <td>Naudingasis plotas, tenkantis vienam gyventojui</td>\n",
       "      <td>...</td>\n",
       "      <td>Neto migracija</td>\n",
       "      <td>asmenys</td>\n",
       "      <td>-193.0</td>\n",
       "      <td>Registruotų bedarbių ir darbingo amžiaus gyven...</td>\n",
       "      <td>proc.</td>\n",
       "      <td>14.9</td>\n",
       "      <td>Lietuvos Respublika</td>\n",
       "      <td>Vidurio ir vakarų Lietuvos regionas</td>\n",
       "      <td>Utenos apskritis</td>\n",
       "      <td>Zarasų r. sav.</td>\n",
       "    </tr>\n",
       "  </tbody>\n",
       "</table>\n",
       "<p>2 rows × 25 columns</p>\n",
       "</div>"
      ],
      "text/plain": [
       "      year                           permanent_residents  \\\n",
       "1081  2017  Nuolatinių gyventojų skaičius metų pradžioje   \n",
       "1082  2018  Nuolatinių gyventojų skaičius metų pradžioje   \n",
       "\n",
       "      permanent_residents_value                                  median_age  \\\n",
       "1081                    16169.0  Medianinis gyventojų amžius metų pradžioje   \n",
       "1082                    15668.0  Medianinis gyventojų amžius metų pradžioje   \n",
       "\n",
       "      Lytis_Moterys  Lytis_Vyrai               population_density  \\\n",
       "1081           52.0         45.0  Gyventojų tankis metų pradžioje   \n",
       "1082           53.0         45.0  Gyventojų tankis metų pradžioje   \n",
       "\n",
       "     population_density_measure  population_density_value  \\\n",
       "1081                viename km²                      12.1   \n",
       "1082                viename km²                      11.8   \n",
       "\n",
       "                                          useful_area       ...        \\\n",
       "1081  Naudingasis plotas, tenkantis vienam gyventojui       ...         \n",
       "1082  Naudingasis plotas, tenkantis vienam gyventojui       ...         \n",
       "\n",
       "      neto_migration  neto_migration_measure neto_migration_value  \\\n",
       "1081  Neto migracija                 asmenys               -284.0   \n",
       "1082  Neto migracija                 asmenys               -193.0   \n",
       "\n",
       "                                           unemployment  unemployment_measure  \\\n",
       "1081  Registruotų bedarbių ir darbingo amžiaus gyven...                 proc.   \n",
       "1082  Registruotų bedarbių ir darbingo amžiaus gyven...                 proc.   \n",
       "\n",
       "     unemployment_value              country  \\\n",
       "1081               14.0  Lietuvos Respublika   \n",
       "1082               14.9  Lietuvos Respublika   \n",
       "\n",
       "                                     area          district    municipality  \n",
       "1081  Vidurio ir vakarų Lietuvos regionas  Utenos apskritis  Zarasų r. sav.  \n",
       "1082  Vidurio ir vakarų Lietuvos regionas  Utenos apskritis  Zarasų r. sav.  \n",
       "\n",
       "[2 rows x 25 columns]"
      ]
     },
     "execution_count": 21,
     "metadata": {},
     "output_type": "execute_result"
    }
   ],
   "source": [
    "final.tail(2)"
   ]
  },
  {
   "cell_type": "markdown",
   "metadata": {},
   "source": [
    "## Data Quality Check"
   ]
  },
  {
   "cell_type": "code",
   "execution_count": 25,
   "metadata": {},
   "outputs": [
    {
     "data": {
      "text/plain": [
       "(1080, 25)"
      ]
     },
     "execution_count": 25,
     "metadata": {},
     "output_type": "execute_result"
    }
   ],
   "source": [
    "final.shape"
   ]
  },
  {
   "cell_type": "code",
   "execution_count": 22,
   "metadata": {},
   "outputs": [
    {
     "data": {
      "text/plain": [
       "year                          0\n",
       "permanent_residents           0\n",
       "permanent_residents_value     0\n",
       "median_age                    0\n",
       "Lytis_Moterys                 0\n",
       "Lytis_Vyrai                   0\n",
       "population_density            0\n",
       "population_density_measure    0\n",
       "population_density_value      0\n",
       "useful_area                   0\n",
       "useful_area_measure           0\n",
       "useful_area_value             0\n",
       "average_housing               0\n",
       "average_housing_measure       0\n",
       "average_housing_value         0\n",
       "neto_migration                0\n",
       "neto_migration_measure        0\n",
       "neto_migration_value          0\n",
       "unemployment                  0\n",
       "unemployment_measure          0\n",
       "unemployment_value            0\n",
       "country                       0\n",
       "area                          0\n",
       "district                      0\n",
       "municipality                  0\n",
       "dtype: int64"
      ]
     },
     "execution_count": 22,
     "metadata": {},
     "output_type": "execute_result"
    }
   ],
   "source": [
    "# Count null records\n",
    "final.isnull().sum()"
   ]
  },
  {
   "cell_type": "code",
   "execution_count": 23,
   "metadata": {},
   "outputs": [
    {
     "data": {
      "text/plain": [
       "year                            18\n",
       "permanent_residents              1\n",
       "permanent_residents_value     1077\n",
       "median_age                       1\n",
       "Lytis_Moterys                   21\n",
       "Lytis_Vyrai                     22\n",
       "population_density               1\n",
       "population_density_measure       1\n",
       "population_density_value       534\n",
       "useful_area                      1\n",
       "useful_area_measure              1\n",
       "useful_area_value              250\n",
       "average_housing                  1\n",
       "average_housing_measure          1\n",
       "average_housing_value          252\n",
       "neto_migration                   1\n",
       "neto_migration_measure           1\n",
       "neto_migration_value           732\n",
       "unemployment                     1\n",
       "unemployment_measure             1\n",
       "unemployment_value             202\n",
       "country                          1\n",
       "area                             2\n",
       "district                        10\n",
       "municipality                    60\n",
       "dtype: int64"
      ]
     },
     "execution_count": 23,
     "metadata": {},
     "output_type": "execute_result"
    }
   ],
   "source": [
    "# Count unique records\n",
    "final.nunique()"
   ]
  },
  {
   "cell_type": "markdown",
   "metadata": {},
   "source": [
    "## Save the File"
   ]
  },
  {
   "cell_type": "code",
   "execution_count": 24,
   "metadata": {},
   "outputs": [],
   "source": [
    "# save clean dataframe\n",
    "df.to_csv(final, '../Dataset_clean/⁨clean_lithuania.csv', sep=';')"
   ]
  },
  {
   "cell_type": "code",
   "execution_count": null,
   "metadata": {},
   "outputs": [],
   "source": []
  },
  {
   "cell_type": "code",
   "execution_count": null,
   "metadata": {},
   "outputs": [],
   "source": []
  }
 ],
 "metadata": {
  "kernelspec": {
   "display_name": "Python 3",
   "language": "python",
   "name": "python3"
  },
  "language_info": {
   "codemirror_mode": {
    "name": "ipython",
    "version": 3
   },
   "file_extension": ".py",
   "mimetype": "text/x-python",
   "name": "python",
   "nbconvert_exporter": "python",
   "pygments_lexer": "ipython3",
   "version": "3.7.1"
  }
 },
 "nbformat": 4,
 "nbformat_minor": 2
}
