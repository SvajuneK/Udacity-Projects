{
 "cells": [
  {
   "cell_type": "markdown",
   "metadata": {},
   "source": [
    "# Vilnius Citizens\n",
    "## By Svajune Klimasauskaite"
   ]
  },
  {
   "cell_type": "code",
   "execution_count": 1,
   "metadata": {},
   "outputs": [],
   "source": [
    "# import all packages and set plots to be embedded inline\n",
    "import numpy as np\n",
    "import pandas as pd\n",
    "import matplotlib.pyplot as plt\n",
    "import seaborn as sb\n",
    "from mpl_toolkits import mplot3d\n",
    "import datetime as dt\n",
    "from pandas import DataFrame as df\n",
    "#from google.cloud import storage\n",
    "\n",
    "%matplotlib inline"
   ]
  },
  {
   "cell_type": "markdown",
   "metadata": {},
   "source": [
    "## Load Data\n",
    "\n"
   ]
  },
  {
   "cell_type": "code",
   "execution_count": 33,
   "metadata": {},
   "outputs": [
    {
     "data": {
      "text/html": [
       "<div>\n",
       "<style scoped>\n",
       "    .dataframe tbody tr th:only-of-type {\n",
       "        vertical-align: middle;\n",
       "    }\n",
       "\n",
       "    .dataframe tbody tr th {\n",
       "        vertical-align: top;\n",
       "    }\n",
       "\n",
       "    .dataframe thead th {\n",
       "        text-align: right;\n",
       "    }\n",
       "</style>\n",
       "<table border=\"1\" class=\"dataframe\">\n",
       "  <thead>\n",
       "    <tr style=\"text-align: right;\">\n",
       "      <th></th>\n",
       "      <th>GIMIMO_METAI</th>\n",
       "      <th>GIMIMO_VALSTYBE</th>\n",
       "      <th>LYTIS</th>\n",
       "      <th>SEIMOS_PADETIS</th>\n",
       "      <th>KIEK_TURI_VAIKU</th>\n",
       "      <th>SENIUNIJA</th>\n",
       "      <th>GATVE</th>\n",
       "      <th>SENIUNNR</th>\n",
       "      <th>TER_REJ_KODAS</th>\n",
       "      <th>GATV_K</th>\n",
       "      <th>GAT_ID</th>\n",
       "    </tr>\n",
       "  </thead>\n",
       "  <tbody>\n",
       "    <tr>\n",
       "      <th>167827</th>\n",
       "      <td>2003</td>\n",
       "      <td>LTU</td>\n",
       "      <td>V</td>\n",
       "      <td>NaN</td>\n",
       "      <td>0</td>\n",
       "      <td>Naujamiestis</td>\n",
       "      <td>Gedimino pr.</td>\n",
       "      <td>17.0</td>\n",
       "      <td>G1</td>\n",
       "      <td>135.0</td>\n",
       "      <td>21991.0</td>\n",
       "    </tr>\n",
       "    <tr>\n",
       "      <th>422985</th>\n",
       "      <td>1938</td>\n",
       "      <td>LTU</td>\n",
       "      <td>M</td>\n",
       "      <td>N</td>\n",
       "      <td>0</td>\n",
       "      <td>Žirmūnai</td>\n",
       "      <td>Žirmūnų g.</td>\n",
       "      <td>2.0</td>\n",
       "      <td>G1</td>\n",
       "      <td>694.0</td>\n",
       "      <td>22524.0</td>\n",
       "    </tr>\n",
       "    <tr>\n",
       "      <th>177233</th>\n",
       "      <td>2018</td>\n",
       "      <td>LTU</td>\n",
       "      <td>V</td>\n",
       "      <td>NaN</td>\n",
       "      <td>0</td>\n",
       "      <td>Šnipiškės</td>\n",
       "      <td>Dubingių g.</td>\n",
       "      <td>3.0</td>\n",
       "      <td>G1</td>\n",
       "      <td>103.0</td>\n",
       "      <td>21959.0</td>\n",
       "    </tr>\n",
       "    <tr>\n",
       "      <th>414494</th>\n",
       "      <td>1967</td>\n",
       "      <td>LTU</td>\n",
       "      <td>V</td>\n",
       "      <td>V</td>\n",
       "      <td>0</td>\n",
       "      <td>Senamiestis</td>\n",
       "      <td>V. Šopeno g.</td>\n",
       "      <td>16.0</td>\n",
       "      <td>G1</td>\n",
       "      <td>120.0</td>\n",
       "      <td>21976.0</td>\n",
       "    </tr>\n",
       "    <tr>\n",
       "      <th>247810</th>\n",
       "      <td>2004</td>\n",
       "      <td>POL</td>\n",
       "      <td>V</td>\n",
       "      <td>NaN</td>\n",
       "      <td>0</td>\n",
       "      <td>Antakalnis</td>\n",
       "      <td>Vytauto Žalakevičiaus g.</td>\n",
       "      <td>13.0</td>\n",
       "      <td>G1</td>\n",
       "      <td>2969.0</td>\n",
       "      <td>127513.0</td>\n",
       "    </tr>\n",
       "  </tbody>\n",
       "</table>\n",
       "</div>"
      ],
      "text/plain": [
       "        GIMIMO_METAI GIMIMO_VALSTYBE LYTIS SEIMOS_PADETIS  KIEK_TURI_VAIKU  \\\n",
       "167827          2003             LTU     V            NaN                0   \n",
       "422985          1938             LTU     M              N                0   \n",
       "177233          2018             LTU     V            NaN                0   \n",
       "414494          1967             LTU     V              V                0   \n",
       "247810          2004             POL     V            NaN                0   \n",
       "\n",
       "           SENIUNIJA                     GATVE  SENIUNNR TER_REJ_KODAS  \\\n",
       "167827  Naujamiestis              Gedimino pr.      17.0            G1   \n",
       "422985      Žirmūnai                Žirmūnų g.       2.0            G1   \n",
       "177233     Šnipiškės               Dubingių g.       3.0            G1   \n",
       "414494   Senamiestis              V. Šopeno g.      16.0            G1   \n",
       "247810    Antakalnis  Vytauto Žalakevičiaus g.      13.0            G1   \n",
       "\n",
       "        GATV_K    GAT_ID  \n",
       "167827   135.0   21991.0  \n",
       "422985   694.0   22524.0  \n",
       "177233   103.0   21959.0  \n",
       "414494   120.0   21976.0  \n",
       "247810  2969.0  127513.0  "
      ]
     },
     "execution_count": 33,
     "metadata": {},
     "output_type": "execute_result"
    }
   ],
   "source": [
    "#Load data from Vilnius Open Data\n",
    "citizen=pd.read_csv(\"https://raw.githubusercontent.com/vilnius/gyventojai/master/registered_people_n_streets.csv\")\n",
    "citizen.sample(5)"
   ]
  },
  {
   "cell_type": "code",
   "execution_count": 34,
   "metadata": {},
   "outputs": [],
   "source": [
    "# Get rid of unnecessary columns\n",
    "citizen.drop(columns = ['TER_REJ_KODAS','GATV_K','GAT_ID'], inplace=True)\n",
    "# Translate column names to english \n",
    "citizen.rename(columns={'GIMIMO_METAI':'birth_date', 'GIMIMO_VALSTYBE':'birth_country',\n",
    "                        'LYTIS':'gender', 'SEIMOS_PADETIS':'family_status',\n",
    "                       'KIEK_TURI_VAIKU':'no_kids', 'SENIUNIJA':'munic', 'SENIUNNR':'munic_code',\n",
    "                       'GATVE':'street'}, inplace=True)"
   ]
  },
  {
   "cell_type": "code",
   "execution_count": 35,
   "metadata": {},
   "outputs": [
    {
     "data": {
      "text/html": [
       "<div>\n",
       "<style scoped>\n",
       "    .dataframe tbody tr th:only-of-type {\n",
       "        vertical-align: middle;\n",
       "    }\n",
       "\n",
       "    .dataframe tbody tr th {\n",
       "        vertical-align: top;\n",
       "    }\n",
       "\n",
       "    .dataframe thead th {\n",
       "        text-align: right;\n",
       "    }\n",
       "</style>\n",
       "<table border=\"1\" class=\"dataframe\">\n",
       "  <thead>\n",
       "    <tr style=\"text-align: right;\">\n",
       "      <th></th>\n",
       "      <th>birth_date</th>\n",
       "      <th>birth_country</th>\n",
       "      <th>gender</th>\n",
       "      <th>family_status</th>\n",
       "      <th>no_kids</th>\n",
       "      <th>munic</th>\n",
       "      <th>street</th>\n",
       "      <th>munic_code</th>\n",
       "    </tr>\n",
       "  </thead>\n",
       "  <tbody>\n",
       "    <tr>\n",
       "      <th>1470</th>\n",
       "      <td>1997</td>\n",
       "      <td>UKR</td>\n",
       "      <td>V</td>\n",
       "      <td>NaN</td>\n",
       "      <td>0</td>\n",
       "      <td>Karoliniškės</td>\n",
       "      <td>Sausio 13-osios g.</td>\n",
       "      <td>10.0</td>\n",
       "    </tr>\n",
       "    <tr>\n",
       "      <th>416195</th>\n",
       "      <td>1937</td>\n",
       "      <td>LTU</td>\n",
       "      <td>V</td>\n",
       "      <td>N</td>\n",
       "      <td>0</td>\n",
       "      <td>Žirmūnai</td>\n",
       "      <td>Minties g.</td>\n",
       "      <td>2.0</td>\n",
       "    </tr>\n",
       "    <tr>\n",
       "      <th>270019</th>\n",
       "      <td>1958</td>\n",
       "      <td>LTU</td>\n",
       "      <td>M</td>\n",
       "      <td>I</td>\n",
       "      <td>0</td>\n",
       "      <td>Naujoji  Vilnia</td>\n",
       "      <td>Šiaurės Sodų 3-ioji g.</td>\n",
       "      <td>14.0</td>\n",
       "    </tr>\n",
       "    <tr>\n",
       "      <th>239857</th>\n",
       "      <td>2012</td>\n",
       "      <td>LTU</td>\n",
       "      <td>M</td>\n",
       "      <td>NaN</td>\n",
       "      <td>0</td>\n",
       "      <td>Karoliniškės</td>\n",
       "      <td>Virginijaus Druskio g.</td>\n",
       "      <td>10.0</td>\n",
       "    </tr>\n",
       "    <tr>\n",
       "      <th>437778</th>\n",
       "      <td>1967</td>\n",
       "      <td>LTU</td>\n",
       "      <td>M</td>\n",
       "      <td>V</td>\n",
       "      <td>0</td>\n",
       "      <td>Vilkpėdė</td>\n",
       "      <td>Savanorių pr.</td>\n",
       "      <td>18.0</td>\n",
       "    </tr>\n",
       "  </tbody>\n",
       "</table>\n",
       "</div>"
      ],
      "text/plain": [
       "        birth_date birth_country gender family_status  no_kids  \\\n",
       "1470          1997           UKR      V           NaN        0   \n",
       "416195        1937           LTU      V             N        0   \n",
       "270019        1958           LTU      M             I        0   \n",
       "239857        2012           LTU      M           NaN        0   \n",
       "437778        1967           LTU      M             V        0   \n",
       "\n",
       "                  munic                  street  munic_code  \n",
       "1470       Karoliniškės      Sausio 13-osios g.        10.0  \n",
       "416195         Žirmūnai              Minties g.         2.0  \n",
       "270019  Naujoji  Vilnia  Šiaurės Sodų 3-ioji g.        14.0  \n",
       "239857     Karoliniškės  Virginijaus Druskio g.        10.0  \n",
       "437778         Vilkpėdė           Savanorių pr.        18.0  "
      ]
     },
     "execution_count": 35,
     "metadata": {},
     "output_type": "execute_result"
    }
   ],
   "source": [
    "citizen.sample(5)"
   ]
  },
  {
   "cell_type": "markdown",
   "metadata": {},
   "source": [
    "## Data Check"
   ]
  },
  {
   "cell_type": "code",
   "execution_count": 56,
   "metadata": {},
   "outputs": [
    {
     "name": "stdout",
     "output_type": "stream",
     "text": [
      "<class 'pandas.core.frame.DataFrame'>\n",
      "RangeIndex: 576736 entries, 0 to 576735\n",
      "Data columns (total 10 columns):\n",
      "birth_date       576736 non-null int64\n",
      "birth_country    576736 non-null object\n",
      "gender           576736 non-null object\n",
      "family_status    576736 non-null object\n",
      "no_kids          576736 non-null int64\n",
      "munic            569644 non-null object\n",
      "street           569644 non-null object\n",
      "munic_code       569644 non-null float64\n",
      "today            576736 non-null int64\n",
      "age              576736 non-null int64\n",
      "dtypes: float64(1), int64(4), object(5)\n",
      "memory usage: 44.0+ MB\n"
     ]
    }
   ],
   "source": [
    "citizen.info()"
   ]
  },
  {
   "cell_type": "code",
   "execution_count": 57,
   "metadata": {},
   "outputs": [
    {
     "data": {
      "text/plain": [
       "birth_date          0\n",
       "birth_country       0\n",
       "gender              0\n",
       "family_status       0\n",
       "no_kids             0\n",
       "munic            7092\n",
       "street           7092\n",
       "munic_code       7092\n",
       "today               0\n",
       "age                 0\n",
       "dtype: int64"
      ]
     },
     "execution_count": 57,
     "metadata": {},
     "output_type": "execute_result"
    }
   ],
   "source": [
    "# Count null records\n",
    "citizen.isnull().sum()"
   ]
  },
  {
   "cell_type": "code",
   "execution_count": 58,
   "metadata": {},
   "outputs": [
    {
     "data": {
      "text/plain": [
       "birth_date        110\n",
       "birth_country     141\n",
       "gender              2\n",
       "family_status       4\n",
       "no_kids            12\n",
       "munic              21\n",
       "street           2301\n",
       "munic_code         21\n",
       "today               1\n",
       "age               110\n",
       "dtype: int64"
      ]
     },
     "execution_count": 58,
     "metadata": {},
     "output_type": "execute_result"
    }
   ],
   "source": [
    "# Count unique records\n",
    "citizen.nunique()"
   ]
  },
  {
   "cell_type": "markdown",
   "metadata": {},
   "source": [
    "## Data Cleaning and Augmentation"
   ]
  },
  {
   "cell_type": "markdown",
   "metadata": {},
   "source": [
    "### Birth Date"
   ]
  },
  {
   "cell_type": "code",
   "execution_count": 36,
   "metadata": {},
   "outputs": [
    {
     "data": {
      "image/png": "[encoded data removed]",
      "text/plain": [
       "<Figure size 432x288 with 1 Axes>"
      ]
     },
     "metadata": {
      "needs_background": "light"
     },
     "output_type": "display_data"
    }
   ],
   "source": [
    "# Plot birth date distribution\n",
    "citizen.birth_date.hist(bins=30);"
   ]
  },
  {
   "cell_type": "markdown",
   "metadata": {},
   "source": [
    "#### Calculate Age "
   ]
  },
  {
   "cell_type": "code",
   "execution_count": 37,
   "metadata": {},
   "outputs": [
    {
     "name": "stdout",
     "output_type": "stream",
     "text": [
      "<class 'pandas.core.frame.DataFrame'>\n",
      "RangeIndex: 576736 entries, 0 to 576735\n",
      "Data columns (total 10 columns):\n",
      "birth_date       576736 non-null int64\n",
      "birth_country    576736 non-null object\n",
      "gender           576736 non-null object\n",
      "family_status    342736 non-null object\n",
      "no_kids          576736 non-null int64\n",
      "munic            569644 non-null object\n",
      "street           569644 non-null object\n",
      "munic_code       569644 non-null float64\n",
      "today            576736 non-null int64\n",
      "age              576736 non-null int64\n",
      "dtypes: float64(1), int64(4), object(5)\n",
      "memory usage: 44.0+ MB\n"
     ]
    }
   ],
   "source": [
    "# Create today date\n",
    "citizen['today'] = dt.datetime.today().strftime(\"%Y\")\n",
    "citizen['today'] = citizen['today'].astype(int)\n",
    "\n",
    "# Substact birth date from today to get an age\n",
    "citizen['age'] = citizen['today'] - citizen['birth_date']\n",
    "citizen.info()"
   ]
  },
  {
   "cell_type": "code",
   "execution_count": 38,
   "metadata": {},
   "outputs": [
    {
     "data": {
      "image/png": "[encoded data removed]",
      "text/plain": [
       "<Figure size 432x288 with 1 Axes>"
      ]
     },
     "metadata": {
      "needs_background": "light"
     },
     "output_type": "display_data"
    }
   ],
   "source": [
    "# Plot age distribution\n",
    "citizen.age.hist(bins=30);"
   ]
  },
  {
   "cell_type": "markdown",
   "metadata": {},
   "source": [
    "### Birth Country"
   ]
  },
  {
   "cell_type": "code",
   "execution_count": 28,
   "metadata": {
    "scrolled": true
   },
   "outputs": [
    {
     "data": {
      "text/plain": [
       "array(['LTU', 'BLR', 'LUX', 'RUS', 'IRN', 'JOR', 'UKR', 'IRL', 'KAZ',\n",
       "       'GBR', 'THA', 'DEU', 'LVA', 'ARM', 'BEL', 'IND', 'TJK', 'KHM',\n",
       "       'EST', 'POL', 'USA', 'GHA', 'ARE', 'CHN', 'DNK', 'COL', 'GRC',\n",
       "       'BGR', 'RWA', 'FRA', 'VNM', 'SYR', 'GEO', 'AZE', 'EGY', 'KGZ',\n",
       "       'TUR', 'AUS', 'ITA', 'ECU', 'JPN', 'UZB', 'BRA', 'NGA', 'PAK',\n",
       "       'AFG', 'KOR', 'TKM', 'CAN', 'ESP', 'MDA', 'NLD', 'CHE', 'FIN',\n",
       "       'CMR', 'AUT', 'SRB', 'CHL', 'MDG', 'SWE', 'AGO', 'VEN', 'CYP',\n",
       "       'PHL', 'NOR', 'PRK', 'ALB', 'KWT', 'HUN', 'ISR', 'TUN', 'SAU',\n",
       "       'ETH', 'CZE', 'SVK', 'LBN', 'MAR', 'MYS', 'ARG', 'OMN', 'MEX',\n",
       "       'PRT', 'ISL', 'ROU', 'CUB', 'MLT', 'IRQ', 'PER', 'MNG', 'COD',\n",
       "       'BGD', 'ZAF', 'MKD', 'KEN', 'URY', 'HRV', 'BIH', 'TON', 'IDN',\n",
       "       'MOZ', 'SGP', 'NPL', 'HKG', 'PSE', 'CIV', 'SVN', 'HND', 'LKA',\n",
       "       'UGA', 'GIN', 'YUG', 'DZA', 'ROM', 'LBR', 'ERI', 'NAM', 'BHR',\n",
       "       'CRI', 'NZL', 'GNB', 'MNE', 'MUS', 'LBY', 'ZWE', 'COM', 'SDN',\n",
       "       'PAN', 'PRY', 'DOM', 'TWN', 'BOL', 'JAM', 'LAO', 'COG', 'GMB',\n",
       "       'MMR', 'SLV', 'NIC', 'MCO', 'BRN', 'GLP'], dtype=object)"
      ]
     },
     "execution_count": 28,
     "metadata": {},
     "output_type": "execute_result"
    }
   ],
   "source": [
    "# Check unique values\n",
    "citizen.birth_country.unique()"
   ]
  },
  {
   "cell_type": "code",
   "execution_count": 55,
   "metadata": {},
   "outputs": [
    {
     "data": {
      "text/plain": [
       "141"
      ]
     },
     "execution_count": 55,
     "metadata": {},
     "output_type": "execute_result"
    }
   ],
   "source": [
    "# Count unique values\n",
    "citizen.birth_country.nunique()"
   ]
  },
  {
   "cell_type": "markdown",
   "metadata": {},
   "source": [
    "### Gender"
   ]
  },
  {
   "cell_type": "code",
   "execution_count": 40,
   "metadata": {},
   "outputs": [
    {
     "data": {
      "text/plain": [
       "array(['M', 'V', 'v'], dtype=object)"
      ]
     },
     "execution_count": 40,
     "metadata": {},
     "output_type": "execute_result"
    }
   ],
   "source": [
    "# Check unique values\n",
    "citizen.gender.unique()"
   ]
  },
  {
   "cell_type": "code",
   "execution_count": 41,
   "metadata": {},
   "outputs": [
    {
     "data": {
      "text/plain": [
       "array(['M', 'V'], dtype=object)"
      ]
     },
     "execution_count": 41,
     "metadata": {},
     "output_type": "execute_result"
    }
   ],
   "source": [
    "# Harmonise indications - correct the mistake\n",
    "citizen['gender'] = citizen['gender'].str.capitalize()\n",
    "citizen.gender.unique()"
   ]
  },
  {
   "cell_type": "markdown",
   "metadata": {},
   "source": [
    "### Family Status"
   ]
  },
  {
   "cell_type": "code",
   "execution_count": 44,
   "metadata": {},
   "outputs": [
    {
     "data": {
      "text/plain": [
       "array([nan, 'I', 'V', 'N'], dtype=object)"
      ]
     },
     "execution_count": 44,
     "metadata": {},
     "output_type": "execute_result"
    }
   ],
   "source": [
    "# Check unique values\n",
    "citizen.family_status.unique()"
   ]
  },
  {
   "cell_type": "code",
   "execution_count": 59,
   "metadata": {},
   "outputs": [],
   "source": [
    "# According the specification nan case should be indicated with \"F\" stands for \"unknown\"\n",
    "# I - divorsed\n",
    "# V - married\n",
    "# N - widow\n",
    "citizen['family_status'].replace(np.nan, 'F', inplace=True)"
   ]
  },
  {
   "cell_type": "code",
   "execution_count": 60,
   "metadata": {},
   "outputs": [
    {
     "data": {
      "image/png": "[encoded data removed]",
      "text/plain": [
       "<Figure size 432x288 with 1 Axes>"
      ]
     },
     "metadata": {
      "needs_background": "light"
     },
     "output_type": "display_data"
    }
   ],
   "source": [
    "# plot distribution\n",
    "base_color=sb.color_palette()[0]\n",
    "order_rule=citizen['family_status'].value_counts().index\n",
    "sb.countplot(data=citizen, y='family_status', color=base_color, order=order_rule);"
   ]
  },
  {
   "cell_type": "code",
   "execution_count": 48,
   "metadata": {},
   "outputs": [
    {
     "data": {
      "text/plain": [
       "0"
      ]
     },
     "execution_count": 48,
     "metadata": {},
     "output_type": "execute_result"
    }
   ],
   "source": [
    "# check for null values\n",
    "citizen['family_status'].isnull().sum()"
   ]
  },
  {
   "cell_type": "markdown",
   "metadata": {},
   "source": [
    "### Number of Kids"
   ]
  },
  {
   "cell_type": "code",
   "execution_count": 125,
   "metadata": {},
   "outputs": [
    {
     "data": {
      "text/plain": [
       "array([ 0,  1,  2,  4,  3,  5,  6,  7,  8, 12,  9, 10])"
      ]
     },
     "execution_count": 125,
     "metadata": {},
     "output_type": "execute_result"
    }
   ],
   "source": [
    "# Check unique values\n",
    "citizen.no_kids.unique()"
   ]
  },
  {
   "cell_type": "code",
   "execution_count": 49,
   "metadata": {},
   "outputs": [
    {
     "data": {
      "image/png": "[encoded data removed]",
      "text/plain": [
       "<Figure size 432x288 with 1 Axes>"
      ]
     },
     "metadata": {
      "needs_background": "light"
     },
     "output_type": "display_data"
    }
   ],
   "source": [
    "# plot distribution\n",
    "base_color=sb.color_palette()[0]\n",
    "order_rule=citizen['no_kids'].value_counts().index\n",
    "sb.countplot(data=citizen, y='no_kids', color=base_color, order=order_rule);"
   ]
  },
  {
   "cell_type": "code",
   "execution_count": 50,
   "metadata": {},
   "outputs": [
    {
     "name": "stdout",
     "output_type": "stream",
     "text": [
      "109271 children with mothers\n",
      "95866 children with farthers\n"
     ]
    }
   ],
   "source": [
    "# Calculate farthers and mothers. \n",
    "# It could be that we do double counting of kids when father and mather is reffering to the same kid. \n",
    "\n",
    "print('{} children with mothers'.format(citizen[(citizen['gender']=='M')]['no_kids'].sum()))\n",
    "print('{} children with farthers'.format(citizen[(citizen['gender']=='V')]['no_kids'].sum()))"
   ]
  },
  {
   "cell_type": "markdown",
   "metadata": {},
   "source": [
    "### Municipality "
   ]
  },
  {
   "cell_type": "code",
   "execution_count": 85,
   "metadata": {},
   "outputs": [
    {
     "data": {
      "image/png": "[encoded data removed]",
      "text/plain": [
       "<Figure size 720x720 with 1 Axes>"
      ]
     },
     "metadata": {
      "needs_background": "light"
     },
     "output_type": "display_data"
    }
   ],
   "source": [
    "# Plot distribution\n",
    "plt.figure(figsize = [10, 10]) \n",
    "order_rule=citizen['munic'].value_counts().index\n",
    "sb.countplot(data=citizen, y='munic', color=base_color, order=order_rule);"
   ]
  },
  {
   "cell_type": "code",
   "execution_count": 67,
   "metadata": {},
   "outputs": [
    {
     "data": {
      "text/plain": [
       "array(['Šnipiškės', 'Pašilaičiai', 'Fabijoniškės', 'Pilaitė',\n",
       "       'Naujamiestis', 'Paneriai', 'Lazdynai', 'Senamiestis',\n",
       "       'Naujininkai', 'Vilkpėdė', 'Grigiškės', 'Naujoji  Vilnia',\n",
       "       'Žirmūnai', 'Karoliniškės', 'Justiniškės', 'Viršuliškės',\n",
       "       'Antakalnis', 'Šeškinė', 'Verkiai', nan, 'Rasos', 'Žvėrynas'],\n",
       "      dtype=object)"
      ]
     },
     "execution_count": 67,
     "metadata": {},
     "output_type": "execute_result"
    }
   ],
   "source": [
    "citizen['munic'].unique()"
   ]
  },
  {
   "cell_type": "code",
   "execution_count": 82,
   "metadata": {},
   "outputs": [],
   "source": [
    "#A DataFrame without municipality\n",
    "no_municipality = citizen[(citizen['munic'].isnull()) == True]"
   ]
  },
  {
   "cell_type": "markdown",
   "metadata": {},
   "source": [
    "## Save the File"
   ]
  },
  {
   "cell_type": "code",
   "execution_count": 86,
   "metadata": {},
   "outputs": [],
   "source": [
    "#df.to_csv(neigh, '⁨Google Drive⁩/My Drive⁩/Vilniaus duomenys⁩/Vilnius.csv', sep=';')"
   ]
  },
  {
   "cell_type": "code",
   "execution_count": null,
   "metadata": {},
   "outputs": [],
   "source": []
  },
  {
   "cell_type": "code",
   "execution_count": null,
   "metadata": {},
   "outputs": [],
   "source": []
  }
 ],
 "metadata": {
  "kernelspec": {
   "display_name": "Python 3",
   "language": "python",
   "name": "python3"
  },
  "language_info": {
   "codemirror_mode": {
    "name": "ipython",
    "version": 3
   },
   "file_extension": ".py",
   "mimetype": "text/x-python",
   "name": "python",
   "nbconvert_exporter": "python",
   "pygments_lexer": "ipython3",
   "version": "3.7.1"
  }
 },
 "nbformat": 4,
 "nbformat_minor": 2
}
