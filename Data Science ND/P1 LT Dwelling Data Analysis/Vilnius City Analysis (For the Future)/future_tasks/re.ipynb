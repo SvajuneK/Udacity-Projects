{
 "cells": [
  {
   "cell_type": "markdown",
   "metadata": {},
   "source": [
    "# title\n",
    "## By Svajune Klimasauskaite"
   ]
  },
  {
   "cell_type": "code",
   "execution_count": 1,
   "metadata": {},
   "outputs": [],
   "source": [
    "# import all packages and set plots to be embedded inline\n",
    "import numpy as np\n",
    "import pandas as pd\n",
    "import matplotlib.pyplot as plt\n",
    "import seaborn as sb\n",
    "from mpl_toolkits import mplot3d\n",
    "import datetime as dt     \n",
    "\n",
    "%matplotlib inline"
   ]
  },
  {
   "cell_type": "markdown",
   "metadata": {},
   "source": [
    "## Gather Data\n",
    "\n"
   ]
  },
  {
   "cell_type": "code",
   "execution_count": 2,
   "metadata": {},
   "outputs": [
    {
     "data": {
      "text/html": [
       "<div>\n",
       "<style scoped>\n",
       "    .dataframe tbody tr th:only-of-type {\n",
       "        vertical-align: middle;\n",
       "    }\n",
       "\n",
       "    .dataframe tbody tr th {\n",
       "        vertical-align: top;\n",
       "    }\n",
       "\n",
       "    .dataframe thead th {\n",
       "        text-align: right;\n",
       "    }\n",
       "</style>\n",
       "<table border=\"1\" class=\"dataframe\">\n",
       "  <thead>\n",
       "    <tr style=\"text-align: right;\">\n",
       "      <th></th>\n",
       "      <th>GIMIMO_METAI</th>\n",
       "      <th>GIMIMO_VALSTYBE</th>\n",
       "      <th>LYTIS</th>\n",
       "      <th>SEIMOS_PADETIS</th>\n",
       "      <th>KIEK_TURI_VAIKU</th>\n",
       "      <th>SENIUNIJA</th>\n",
       "      <th>GATVE</th>\n",
       "      <th>SENIUNNR</th>\n",
       "      <th>TER_REJ_KODAS</th>\n",
       "      <th>GATV_K</th>\n",
       "      <th>GAT_ID</th>\n",
       "    </tr>\n",
       "  </thead>\n",
       "  <tbody>\n",
       "    <tr>\n",
       "      <th>0</th>\n",
       "      <td>1966</td>\n",
       "      <td>LTU</td>\n",
       "      <td>M</td>\n",
       "      <td>NaN</td>\n",
       "      <td>0</td>\n",
       "      <td>Šnipiškės</td>\n",
       "      <td>Kalvarijų g.</td>\n",
       "      <td>3.0</td>\n",
       "      <td>G1</td>\n",
       "      <td>216.0</td>\n",
       "      <td>22068.0</td>\n",
       "    </tr>\n",
       "    <tr>\n",
       "      <th>1</th>\n",
       "      <td>2010</td>\n",
       "      <td>LTU</td>\n",
       "      <td>M</td>\n",
       "      <td>NaN</td>\n",
       "      <td>0</td>\n",
       "      <td>Pašilaičiai</td>\n",
       "      <td>Gabijos g.</td>\n",
       "      <td>7.0</td>\n",
       "      <td>G1</td>\n",
       "      <td>125.0</td>\n",
       "      <td>21981.0</td>\n",
       "    </tr>\n",
       "  </tbody>\n",
       "</table>\n",
       "</div>"
      ],
      "text/plain": [
       "   GIMIMO_METAI GIMIMO_VALSTYBE LYTIS SEIMOS_PADETIS  KIEK_TURI_VAIKU  \\\n",
       "0          1966             LTU     M            NaN                0   \n",
       "1          2010             LTU     M            NaN                0   \n",
       "\n",
       "     SENIUNIJA         GATVE  SENIUNNR TER_REJ_KODAS  GATV_K   GAT_ID  \n",
       "0    Šnipiškės  Kalvarijų g.       3.0            G1   216.0  22068.0  \n",
       "1  Pašilaičiai    Gabijos g.       7.0            G1   125.0  21981.0  "
      ]
     },
     "execution_count": 2,
     "metadata": {},
     "output_type": "execute_result"
    }
   ],
   "source": [
    "#Load citizens\n",
    "citizen=pd.read_csv(\"https://raw.githubusercontent.com/vilnius/gyventojai/master/registered_people_n_streets.csv\")\n",
    "citizen.head(2)"
   ]
  },
  {
   "cell_type": "code",
   "execution_count": 18,
   "metadata": {},
   "outputs": [
    {
     "data": {
      "text/html": [
       "<div>\n",
       "<style scoped>\n",
       "    .dataframe tbody tr th:only-of-type {\n",
       "        vertical-align: middle;\n",
       "    }\n",
       "\n",
       "    .dataframe tbody tr th {\n",
       "        vertical-align: top;\n",
       "    }\n",
       "\n",
       "    .dataframe thead th {\n",
       "        text-align: right;\n",
       "    }\n",
       "</style>\n",
       "<table border=\"1\" class=\"dataframe\">\n",
       "  <thead>\n",
       "    <tr style=\"text-align: right;\">\n",
       "      <th></th>\n",
       "      <th>OBJID</th>\n",
       "      <th>PASKIRTIS</th>\n",
       "      <th>JURIDPLOT</th>\n",
       "      <th>VIETOVE</th>\n",
       "      <th>GATVE</th>\n",
       "      <th>SERVITUTAI</th>\n",
       "      <th>CN94</th>\n",
       "      <th>CE94</th>\n",
       "      <th>IRASODATA</th>\n",
       "      <th>GRAFPLOT</th>\n",
       "      <th>GRAFDATA</th>\n",
       "      <th>GRAFDKOR</th>\n",
       "      <th>K_SIST</th>\n",
       "      <th>GEODEZMAT</th>\n",
       "      <th>BUDAS</th>\n",
       "      <th>Shape_Length</th>\n",
       "      <th>Shape_Area</th>\n",
       "    </tr>\n",
       "  </thead>\n",
       "  <tbody>\n",
       "    <tr>\n",
       "      <th>20030</th>\n",
       "      <td>1,0101E+12</td>\n",
       "      <td>Žemės ūkio</td>\n",
       "      <td>0,0599</td>\n",
       "      <td>Vilnius</td>\n",
       "      <td>Žirgo Sodų 2-oji g.</td>\n",
       "      <td>NaN</td>\n",
       "      <td>6065522,892</td>\n",
       "      <td>586079,645</td>\n",
       "      <td>2018-09-25</td>\n",
       "      <td>598</td>\n",
       "      <td>2010-12-16</td>\n",
       "      <td>NaN</td>\n",
       "      <td>KS94</td>\n",
       "      <td>Geodeziškai atmatuotas</td>\n",
       "      <td>Mėgėjų sodo žemės sklypai</td>\n",
       "      <td>99,89636505</td>\n",
       "      <td>598,4808</td>\n",
       "    </tr>\n",
       "    <tr>\n",
       "      <th>50366</th>\n",
       "      <td>422549</td>\n",
       "      <td>Kita (žemės)</td>\n",
       "      <td>0,04</td>\n",
       "      <td>Vilnius</td>\n",
       "      <td>Paribio g.</td>\n",
       "      <td>NaN</td>\n",
       "      <td>6063745,341</td>\n",
       "      <td>580648,798</td>\n",
       "      <td>2014-03-27</td>\n",
       "      <td>400</td>\n",
       "      <td>2004-11-11</td>\n",
       "      <td>NaN</td>\n",
       "      <td>S440</td>\n",
       "      <td>Geodeziškai atmatuotas</td>\n",
       "      <td>Gyvenamosios teritorijos (Mažaaukščių gyvenamų...</td>\n",
       "      <td>90,2345495</td>\n",
       "      <td>399,8182205</td>\n",
       "    </tr>\n",
       "    <tr>\n",
       "      <th>60279</th>\n",
       "      <td>22404794</td>\n",
       "      <td>Kita (žemės)</td>\n",
       "      <td>0,1716</td>\n",
       "      <td>Plytinė</td>\n",
       "      <td>NaN</td>\n",
       "      <td>1) Servitutas - teisė tiesti, aptarnauti, naud...</td>\n",
       "      <td>6065898</td>\n",
       "      <td>575022</td>\n",
       "      <td>2018-08-02</td>\n",
       "      <td>1716</td>\n",
       "      <td>2017-12-11</td>\n",
       "      <td>NaN</td>\n",
       "      <td>KS94</td>\n",
       "      <td>Geodeziškai atmatuotas</td>\n",
       "      <td>Susisiekimo ir inžinerinių tinklų koridorių te...</td>\n",
       "      <td>297,1746688</td>\n",
       "      <td>1715,98735</td>\n",
       "    </tr>\n",
       "    <tr>\n",
       "      <th>459</th>\n",
       "      <td>21540277</td>\n",
       "      <td>Kita (žemės)</td>\n",
       "      <td>0,1014</td>\n",
       "      <td>Vilnius</td>\n",
       "      <td>Fausto Kiršos g.</td>\n",
       "      <td>NaN</td>\n",
       "      <td>6053385,404</td>\n",
       "      <td>584031,045</td>\n",
       "      <td>2014-09-16</td>\n",
       "      <td>1014</td>\n",
       "      <td>2014-09-16</td>\n",
       "      <td>NaN</td>\n",
       "      <td>KS94</td>\n",
       "      <td>Geodeziškai atmatuotas</td>\n",
       "      <td>Vienbučių ir dvibučių gyvenamųjų pastatų terit...</td>\n",
       "      <td>131,1176999</td>\n",
       "      <td>1014,0056</td>\n",
       "    </tr>\n",
       "    <tr>\n",
       "      <th>44003</th>\n",
       "      <td>22284955</td>\n",
       "      <td>Kita (žemės)</td>\n",
       "      <td>0,0987</td>\n",
       "      <td>Vilnius</td>\n",
       "      <td>Varnalaukio g.</td>\n",
       "      <td>1) Servitutas - teisė tiesti, aptarnauti, naud...</td>\n",
       "      <td>6068102</td>\n",
       "      <td>576587</td>\n",
       "      <td>2017-02-27</td>\n",
       "      <td>987</td>\n",
       "      <td>2017-02-27</td>\n",
       "      <td>NaN</td>\n",
       "      <td>KS94</td>\n",
       "      <td>Geodeziškai atmatuotas</td>\n",
       "      <td>Vienbučių ir dvibučių gyvenamųjų pastatų terit...</td>\n",
       "      <td>133,3071449</td>\n",
       "      <td>986,95615</td>\n",
       "    </tr>\n",
       "    <tr>\n",
       "      <th>4241</th>\n",
       "      <td>22250526</td>\n",
       "      <td>Kita (žemės)</td>\n",
       "      <td>0,4384</td>\n",
       "      <td>Vilnius</td>\n",
       "      <td>Rygos g.</td>\n",
       "      <td>1) Servitutas - teisė tiesti, aptarnauti požem...</td>\n",
       "      <td>6065427</td>\n",
       "      <td>578131</td>\n",
       "      <td>2017-07-26</td>\n",
       "      <td>4384</td>\n",
       "      <td>2016-11-21</td>\n",
       "      <td>NaN</td>\n",
       "      <td>KS94</td>\n",
       "      <td>Geodeziškai atmatuotas</td>\n",
       "      <td>Komercinės paskirties objektų teritorijos</td>\n",
       "      <td>340,1230409</td>\n",
       "      <td>4384,0314</td>\n",
       "    </tr>\n",
       "    <tr>\n",
       "      <th>26811</th>\n",
       "      <td>20216892</td>\n",
       "      <td>Kita (žemės)</td>\n",
       "      <td>3,4051</td>\n",
       "      <td>Vilnius</td>\n",
       "      <td>Parko g.</td>\n",
       "      <td>NaN</td>\n",
       "      <td>6061826,664</td>\n",
       "      <td>592327,085</td>\n",
       "      <td>2014-03-27</td>\n",
       "      <td>34037</td>\n",
       "      <td>2007-10-11</td>\n",
       "      <td>NaN</td>\n",
       "      <td>S440</td>\n",
       "      <td>Geodeziškai atmatuotas</td>\n",
       "      <td>Visuomeninės paskirties teritorijos</td>\n",
       "      <td>818,9478207</td>\n",
       "      <td>34037,25378</td>\n",
       "    </tr>\n",
       "    <tr>\n",
       "      <th>883</th>\n",
       "      <td>1,0101E+12</td>\n",
       "      <td>Kita (žemės)</td>\n",
       "      <td>0,0504</td>\n",
       "      <td>Vilnius</td>\n",
       "      <td>Žiemos g.</td>\n",
       "      <td>NaN</td>\n",
       "      <td>6062186,542</td>\n",
       "      <td>585335,357</td>\n",
       "      <td>2014-03-27</td>\n",
       "      <td>504</td>\n",
       "      <td>1997-04-08</td>\n",
       "      <td>NaN</td>\n",
       "      <td>S440</td>\n",
       "      <td>Geodeziškai atmatuotas</td>\n",
       "      <td>Gyvenamosios teritorijos (Mažaaukščių gyvenamų...</td>\n",
       "      <td>97,7548363</td>\n",
       "      <td>503,60324</td>\n",
       "    </tr>\n",
       "    <tr>\n",
       "      <th>64473</th>\n",
       "      <td>20741654</td>\n",
       "      <td>Kita (žemės)</td>\n",
       "      <td>0,0943</td>\n",
       "      <td>Vilnius</td>\n",
       "      <td>Šumsko g.</td>\n",
       "      <td>1) Kelio servitutas - teisė važiuoti transport...</td>\n",
       "      <td>6054683</td>\n",
       "      <td>578834</td>\n",
       "      <td>2018-08-06</td>\n",
       "      <td>943</td>\n",
       "      <td>2018-08-06</td>\n",
       "      <td>NaN</td>\n",
       "      <td>KS94</td>\n",
       "      <td>Geodeziškai atmatuotas</td>\n",
       "      <td>Komercinės paskirties objektų teritorijos</td>\n",
       "      <td>123,0471861</td>\n",
       "      <td>943,2655</td>\n",
       "    </tr>\n",
       "    <tr>\n",
       "      <th>2179</th>\n",
       "      <td>1,0101E+12</td>\n",
       "      <td>Žemės ūkio</td>\n",
       "      <td>0,0614</td>\n",
       "      <td>Vilnius</td>\n",
       "      <td>Eglinės Sodų g.</td>\n",
       "      <td>NaN</td>\n",
       "      <td>6064097,063</td>\n",
       "      <td>593017,215</td>\n",
       "      <td>2014-03-28</td>\n",
       "      <td>614</td>\n",
       "      <td>2011-12-16</td>\n",
       "      <td>NaN</td>\n",
       "      <td>KS94</td>\n",
       "      <td>Geodeziškai atmatuotas</td>\n",
       "      <td>Mėgėjų sodo žemės sklypai</td>\n",
       "      <td>107,0001694</td>\n",
       "      <td>614,1714069</td>\n",
       "    </tr>\n",
       "  </tbody>\n",
       "</table>\n",
       "</div>"
      ],
      "text/plain": [
       "            OBJID     PASKIRTIS JURIDPLOT  VIETOVE                GATVE  \\\n",
       "20030  1,0101E+12    Žemės ūkio    0,0599  Vilnius  Žirgo Sodų 2-oji g.   \n",
       "50366      422549  Kita (žemės)      0,04  Vilnius           Paribio g.   \n",
       "60279    22404794  Kita (žemės)    0,1716  Plytinė                  NaN   \n",
       "459      21540277  Kita (žemės)    0,1014  Vilnius     Fausto Kiršos g.   \n",
       "44003    22284955  Kita (žemės)    0,0987  Vilnius       Varnalaukio g.   \n",
       "4241     22250526  Kita (žemės)    0,4384  Vilnius             Rygos g.   \n",
       "26811    20216892  Kita (žemės)    3,4051  Vilnius             Parko g.   \n",
       "883    1,0101E+12  Kita (žemės)    0,0504  Vilnius            Žiemos g.   \n",
       "64473    20741654  Kita (žemės)    0,0943  Vilnius            Šumsko g.   \n",
       "2179   1,0101E+12    Žemės ūkio    0,0614  Vilnius      Eglinės Sodų g.   \n",
       "\n",
       "                                              SERVITUTAI         CN94  \\\n",
       "20030                                                NaN  6065522,892   \n",
       "50366                                                NaN  6063745,341   \n",
       "60279  1) Servitutas - teisė tiesti, aptarnauti, naud...      6065898   \n",
       "459                                                  NaN  6053385,404   \n",
       "44003  1) Servitutas - teisė tiesti, aptarnauti, naud...      6068102   \n",
       "4241   1) Servitutas - teisė tiesti, aptarnauti požem...      6065427   \n",
       "26811                                                NaN  6061826,664   \n",
       "883                                                  NaN  6062186,542   \n",
       "64473  1) Kelio servitutas - teisė važiuoti transport...      6054683   \n",
       "2179                                                 NaN  6064097,063   \n",
       "\n",
       "             CE94   IRASODATA  GRAFPLOT    GRAFDATA GRAFDKOR K_SIST  \\\n",
       "20030  586079,645  2018-09-25       598  2010-12-16      NaN   KS94   \n",
       "50366  580648,798  2014-03-27       400  2004-11-11      NaN   S440   \n",
       "60279      575022  2018-08-02      1716  2017-12-11      NaN   KS94   \n",
       "459    584031,045  2014-09-16      1014  2014-09-16      NaN   KS94   \n",
       "44003      576587  2017-02-27       987  2017-02-27      NaN   KS94   \n",
       "4241       578131  2017-07-26      4384  2016-11-21      NaN   KS94   \n",
       "26811  592327,085  2014-03-27     34037  2007-10-11      NaN   S440   \n",
       "883    585335,357  2014-03-27       504  1997-04-08      NaN   S440   \n",
       "64473      578834  2018-08-06       943  2018-08-06      NaN   KS94   \n",
       "2179   593017,215  2014-03-28       614  2011-12-16      NaN   KS94   \n",
       "\n",
       "                    GEODEZMAT  \\\n",
       "20030  Geodeziškai atmatuotas   \n",
       "50366  Geodeziškai atmatuotas   \n",
       "60279  Geodeziškai atmatuotas   \n",
       "459    Geodeziškai atmatuotas   \n",
       "44003  Geodeziškai atmatuotas   \n",
       "4241   Geodeziškai atmatuotas   \n",
       "26811  Geodeziškai atmatuotas   \n",
       "883    Geodeziškai atmatuotas   \n",
       "64473  Geodeziškai atmatuotas   \n",
       "2179   Geodeziškai atmatuotas   \n",
       "\n",
       "                                                   BUDAS Shape_Length  \\\n",
       "20030                          Mėgėjų sodo žemės sklypai  99,89636505   \n",
       "50366  Gyvenamosios teritorijos (Mažaaukščių gyvenamų...   90,2345495   \n",
       "60279  Susisiekimo ir inžinerinių tinklų koridorių te...  297,1746688   \n",
       "459    Vienbučių ir dvibučių gyvenamųjų pastatų terit...  131,1176999   \n",
       "44003  Vienbučių ir dvibučių gyvenamųjų pastatų terit...  133,3071449   \n",
       "4241           Komercinės paskirties objektų teritorijos  340,1230409   \n",
       "26811                Visuomeninės paskirties teritorijos  818,9478207   \n",
       "883    Gyvenamosios teritorijos (Mažaaukščių gyvenamų...   97,7548363   \n",
       "64473          Komercinės paskirties objektų teritorijos  123,0471861   \n",
       "2179                           Mėgėjų sodo žemės sklypai  107,0001694   \n",
       "\n",
       "        Shape_Area  \n",
       "20030     598,4808  \n",
       "50366  399,8182205  \n",
       "60279   1715,98735  \n",
       "459      1014,0056  \n",
       "44003    986,95615  \n",
       "4241     4384,0314  \n",
       "26811  34037,25378  \n",
       "883      503,60324  \n",
       "64473     943,2655  \n",
       "2179   614,1714069  "
      ]
     },
     "execution_count": 18,
     "metadata": {},
     "output_type": "execute_result"
    }
   ],
   "source": [
    "#Load real estate\n",
    "re=pd.read_csv(\"https://raw.githubusercontent.com/vilnius/nekilnojamas-turtas/master/NT_sklypai.csv\", sep=';')\n",
    "re.sample(10)"
   ]
  },
  {
   "cell_type": "code",
   "execution_count": 4,
   "metadata": {},
   "outputs": [
    {
     "data": {
      "text/html": [
       "<div>\n",
       "<style scoped>\n",
       "    .dataframe tbody tr th:only-of-type {\n",
       "        vertical-align: middle;\n",
       "    }\n",
       "\n",
       "    .dataframe tbody tr th {\n",
       "        vertical-align: top;\n",
       "    }\n",
       "\n",
       "    .dataframe thead th {\n",
       "        text-align: right;\n",
       "    }\n",
       "</style>\n",
       "<table border=\"1\" class=\"dataframe\">\n",
       "  <thead>\n",
       "    <tr style=\"text-align: right;\">\n",
       "      <th></th>\n",
       "      <th>OBJ_ID</th>\n",
       "      <th>TEI_ID</th>\n",
       "      <th>SAVININKAS</th>\n",
       "      <th>NAUDTEISE</th>\n",
       "      <th>DALIS</th>\n",
       "    </tr>\n",
       "  </thead>\n",
       "  <tbody>\n",
       "    <tr>\n",
       "      <th>0</th>\n",
       "      <td>24950</td>\n",
       "      <td>27469182</td>\n",
       "      <td>Fizinis</td>\n",
       "      <td>NaudTeisė: Nuosavybės teisė</td>\n",
       "      <td>Dalis: 100,00%</td>\n",
       "    </tr>\n",
       "    <tr>\n",
       "      <th>1</th>\n",
       "      <td>24993</td>\n",
       "      <td>21019357</td>\n",
       "      <td>Fizinis</td>\n",
       "      <td>NaudTeisė: Nuosavybės teisė</td>\n",
       "      <td>Dalis: 100,00%</td>\n",
       "    </tr>\n",
       "  </tbody>\n",
       "</table>\n",
       "</div>"
      ],
      "text/plain": [
       "  OBJ_ID    TEI_ID SAVININKAS                     NAUDTEISE            DALIS\n",
       "0  24950  27469182    Fizinis   NaudTeisė: Nuosavybės teisė   Dalis: 100,00%\n",
       "1  24993  21019357    Fizinis   NaudTeisė: Nuosavybės teisė   Dalis: 100,00%"
      ]
     },
     "execution_count": 4,
     "metadata": {},
     "output_type": "execute_result"
    }
   ],
   "source": [
    "#Load real estet owners\n",
    "re_owner=pd.read_csv(\"https://raw.githubusercontent.com/vilnius/nekilnojamas-turtas/master/NT_sklypai_nuosavybe.csv\", sep=';')\n",
    "re_owner.head(2)"
   ]
  },
  {
   "cell_type": "code",
   "execution_count": 5,
   "metadata": {},
   "outputs": [
    {
     "data": {
      "text/html": [
       "<div>\n",
       "<style scoped>\n",
       "    .dataframe tbody tr th:only-of-type {\n",
       "        vertical-align: middle;\n",
       "    }\n",
       "\n",
       "    .dataframe tbody tr th {\n",
       "        vertical-align: top;\n",
       "    }\n",
       "\n",
       "    .dataframe thead th {\n",
       "        text-align: right;\n",
       "    }\n",
       "</style>\n",
       "<table border=\"1\" class=\"dataframe\">\n",
       "  <thead>\n",
       "    <tr style=\"text-align: right;\">\n",
       "      <th></th>\n",
       "      <th>id</th>\n",
       "      <th>adresas</th>\n",
       "      <th>namo_valdytojas</th>\n",
       "      <th>valdymo_forma</th>\n",
       "      <th>paskyrimo_pagrindas</th>\n",
       "      <th>administratoriaus_pabaigos_Data</th>\n",
       "      <th>paskirtis</th>\n",
       "      <th>uni_nr</th>\n",
       "      <th>bendr_plotas</th>\n",
       "      <th>naud_plotas</th>\n",
       "      <th>build_year</th>\n",
       "      <th>renov_metai</th>\n",
       "      <th>renovacijos_statusas</th>\n",
       "      <th>energ_naudingumo_klase</th>\n",
       "      <th>butu_skaicius</th>\n",
       "      <th>negyvenamuju_palapu_skaicius</th>\n",
       "      <th>korpusas</th>\n",
       "      <th>sklypo_plotas</th>\n",
       "    </tr>\n",
       "  </thead>\n",
       "  <tbody>\n",
       "    <tr>\n",
       "      <th>0</th>\n",
       "      <td>1</td>\n",
       "      <td>A. Goštauto g. 2</td>\n",
       "      <td>286-oji gyvenamojo namo A.Goštauto g. 2/15 sav...</td>\n",
       "      <td>Bendrija</td>\n",
       "      <td>1995.02.02</td>\n",
       "      <td>NaN</td>\n",
       "      <td>Gyvenamoji (trys ir daugiau butų)</td>\n",
       "      <td>1096-0010-4010</td>\n",
       "      <td>6607.43</td>\n",
       "      <td>4360.68</td>\n",
       "      <td>1960.0</td>\n",
       "      <td>NaN</td>\n",
       "      <td>Nerenovuotas</td>\n",
       "      <td>NaN</td>\n",
       "      <td>53.0</td>\n",
       "      <td>4.0</td>\n",
       "      <td>1A7p</td>\n",
       "      <td>0.00</td>\n",
       "    </tr>\n",
       "    <tr>\n",
       "      <th>1</th>\n",
       "      <td>2</td>\n",
       "      <td>A. Goštauto g. 3</td>\n",
       "      <td>DNSB NERIES VINGIS</td>\n",
       "      <td>Bendrija</td>\n",
       "      <td>2009.04.10</td>\n",
       "      <td>NaN</td>\n",
       "      <td>Gyvenamoji (trys ir daugiau butų)</td>\n",
       "      <td>1095-7003-6016</td>\n",
       "      <td>4304.17</td>\n",
       "      <td>2771.57</td>\n",
       "      <td>1957.0</td>\n",
       "      <td>NaN</td>\n",
       "      <td>Nerenovuotas</td>\n",
       "      <td>NaN</td>\n",
       "      <td>38.0</td>\n",
       "      <td>14.0</td>\n",
       "      <td>1A5p</td>\n",
       "      <td>0.15</td>\n",
       "    </tr>\n",
       "  </tbody>\n",
       "</table>\n",
       "</div>"
      ],
      "text/plain": [
       "   id           adresas                                    namo_valdytojas  \\\n",
       "0   1  A. Goštauto g. 2  286-oji gyvenamojo namo A.Goštauto g. 2/15 sav...   \n",
       "1   2  A. Goštauto g. 3                                 DNSB NERIES VINGIS   \n",
       "\n",
       "  valdymo_forma paskyrimo_pagrindas administratoriaus_pabaigos_Data  \\\n",
       "0      Bendrija          1995.02.02                             NaN   \n",
       "1      Bendrija          2009.04.10                             NaN   \n",
       "\n",
       "                           paskirtis          uni_nr  bendr_plotas  \\\n",
       "0  Gyvenamoji (trys ir daugiau butų)  1096-0010-4010       6607.43   \n",
       "1  Gyvenamoji (trys ir daugiau butų)  1095-7003-6016       4304.17   \n",
       "\n",
       "   naud_plotas  build_year  renov_metai renovacijos_statusas  \\\n",
       "0      4360.68      1960.0          NaN         Nerenovuotas   \n",
       "1      2771.57      1957.0          NaN         Nerenovuotas   \n",
       "\n",
       "  energ_naudingumo_klase  butu_skaicius  negyvenamuju_palapu_skaicius  \\\n",
       "0                    NaN           53.0                           4.0   \n",
       "1                    NaN           38.0                          14.0   \n",
       "\n",
       "  korpusas  sklypo_plotas  \n",
       "0     1A7p           0.00  \n",
       "1     1A5p           0.15  "
      ]
     },
     "execution_count": 5,
     "metadata": {},
     "output_type": "execute_result"
    }
   ],
   "source": [
    "#Load flats\n",
    "flat=pd.read_csv(\"https://raw.githubusercontent.com/vilnius/apartment-buildings/master/apartment_buildings_2019.csv\", sep=';')\n",
    "flat.head(2)"
   ]
  },
  {
   "cell_type": "markdown",
   "metadata": {},
   "source": [
    "## Assess Citizens"
   ]
  },
  {
   "cell_type": "code",
   "execution_count": 6,
   "metadata": {},
   "outputs": [
    {
     "name": "stdout",
     "output_type": "stream",
     "text": [
      "<class 'pandas.core.frame.DataFrame'>\n",
      "RangeIndex: 72163 entries, 0 to 72162\n",
      "Data columns (total 17 columns):\n",
      "OBJID           72163 non-null object\n",
      "PASKIRTIS       72163 non-null object\n",
      "JURIDPLOT       72163 non-null object\n",
      "VIETOVE         72148 non-null object\n",
      "GATVE           61742 non-null object\n",
      "SERVITUTAI      10200 non-null object\n",
      "CN94            72163 non-null object\n",
      "CE94            72163 non-null object\n",
      "IRASODATA       72163 non-null object\n",
      "GRAFPLOT        72163 non-null int64\n",
      "GRAFDATA        72163 non-null object\n",
      "GRAFDKOR        19949 non-null object\n",
      "K_SIST          72163 non-null object\n",
      "GEODEZMAT       72163 non-null object\n",
      "BUDAS           68539 non-null object\n",
      "Shape_Length    72163 non-null object\n",
      "Shape_Area      72163 non-null object\n",
      "dtypes: int64(1), object(16)\n",
      "memory usage: 9.4+ MB\n"
     ]
    }
   ],
   "source": [
    "re.info()"
   ]
  },
  {
   "cell_type": "code",
   "execution_count": 7,
   "metadata": {},
   "outputs": [
    {
     "data": {
      "text/plain": [
       "OBJID               0\n",
       "PASKIRTIS           0\n",
       "JURIDPLOT           0\n",
       "VIETOVE            15\n",
       "GATVE           10421\n",
       "SERVITUTAI      61963\n",
       "CN94                0\n",
       "CE94                0\n",
       "IRASODATA           0\n",
       "GRAFPLOT            0\n",
       "GRAFDATA            0\n",
       "GRAFDKOR        52214\n",
       "K_SIST              0\n",
       "GEODEZMAT           0\n",
       "BUDAS            3624\n",
       "Shape_Length        0\n",
       "Shape_Area          0\n",
       "dtype: int64"
      ]
     },
     "execution_count": 7,
     "metadata": {},
     "output_type": "execute_result"
    }
   ],
   "source": [
    "re.isnull().sum()"
   ]
  },
  {
   "cell_type": "code",
   "execution_count": 8,
   "metadata": {},
   "outputs": [
    {
     "data": {
      "text/plain": [
       "OBJID           31578\n",
       "PASKIRTIS           5\n",
       "JURIDPLOT        8357\n",
       "VIETOVE            81\n",
       "GATVE            2569\n",
       "SERVITUTAI       9835\n",
       "CN94            67003\n",
       "CE94            66572\n",
       "IRASODATA        2632\n",
       "GRAFPLOT         8812\n",
       "GRAFDATA         5305\n",
       "GRAFDKOR         3521\n",
       "K_SIST              5\n",
       "GEODEZMAT           3\n",
       "BUDAS             197\n",
       "Shape_Length    71861\n",
       "Shape_Area      71769\n",
       "dtype: int64"
      ]
     },
     "execution_count": 8,
     "metadata": {},
     "output_type": "execute_result"
    }
   ],
   "source": [
    "re.nunique()"
   ]
  },
  {
   "cell_type": "code",
   "execution_count": 9,
   "metadata": {},
   "outputs": [
    {
     "data": {
      "text/plain": [
       "array(['Žemės ūkio', 'Kita (žemės)', 'Miškų ūkio',\n",
       "       'Laisvos valst. žemės fondo', 'Konservacinė'], dtype=object)"
      ]
     },
     "execution_count": 9,
     "metadata": {},
     "output_type": "execute_result"
    }
   ],
   "source": [
    "re.PASKIRTIS.unique()"
   ]
  },
  {
   "cell_type": "code",
   "execution_count": 10,
   "metadata": {},
   "outputs": [
    {
     "data": {
      "text/plain": [
       "array(['Platiniškės', 'Vilnius', 'Kriaučiūnai', 'Vaidotai', 'Dobrovolė',\n",
       "       'Grigiškės', 'Basiukai', 'Salos', 'Trakų Vokė', 'Mažieji Gulbinai',\n",
       "       'Mačiuliškės', 'Daniliškės', 'Rokantiškės', 'Bališkės',\n",
       "       'Buivydiškės', 'Nemėžis', 'Gineitiškės', 'Guobos', 'Pagiriai',\n",
       "       'Vaidegiai', 'Plytinė', 'Keturiasdešimt Totor', 'Didieji Pupojai',\n",
       "       'Vilniaus m. sav. ter', 'Kryžiokai', 'Naujoji', 'Kuprioniškės',\n",
       "       'Pupinė', 'Bajorai', 'Pavilionys', 'Padekaniškės', 'Gureliai',\n",
       "       'Didieji Gulbinai', 'Ližiškės', 'Naujaneriai', 'Galgiai',\n",
       "       'Vanaginė', 'Vilkeliškės', 'Grigaičiai', 'Lydos Kelias',\n",
       "       'Naujakiemis', 'Dievoniškės', 'Kazbėjai', 'Kuzmiškės', 'Užukampis',\n",
       "       'Kulokiškės', 'Baraškos', 'Neravai', 'Ąžuolijai', 'Smalinė',\n",
       "       'Tarandė', 'Zujūnai', 'Metropolis', 'Gilužiai', 'Gudeliai',\n",
       "       'Upytė', 'Mickūnai', 'Rudaminos Kelias', 'Juodasis Kelias',\n",
       "       'Pagubė', nan, 'Kadriškės', 'Račkūnai', 'Varnė', 'Pakalniškės',\n",
       "       'Pašilaičiai', 'Sakališkiai', 'Krakiškės', 'Salotė', 'Daškūnai',\n",
       "       'Barkiškės', 'Bireliai', 'Katiliškės', 'Didieji Karklėnai',\n",
       "       'Mažieji Pupojai', 'Egliškės', 'Pilaitė', 'Degeniai', 'Salininkai',\n",
       "       'Dvarykščiai', 'Klebniškės', 'Pakupečiai'], dtype=object)"
      ]
     },
     "execution_count": 10,
     "metadata": {},
     "output_type": "execute_result"
    }
   ],
   "source": [
    "re.VIETOVE.unique()"
   ]
  },
  {
   "cell_type": "code",
   "execution_count": 11,
   "metadata": {},
   "outputs": [
    {
     "data": {
      "text/plain": [
       "array(['KS94', 'S440', 'SAL', 'KS42', 'KS63'], dtype=object)"
      ]
     },
     "execution_count": 11,
     "metadata": {},
     "output_type": "execute_result"
    }
   ],
   "source": [
    "re.K_SIST.unique()"
   ]
  },
  {
   "cell_type": "code",
   "execution_count": 12,
   "metadata": {},
   "outputs": [
    {
     "data": {
      "text/plain": [
       "array(['Geodeziškai atmatuotas', 'Preliminariai atmatuotas',\n",
       "       'Nepaženklintas'], dtype=object)"
      ]
     },
     "execution_count": 12,
     "metadata": {},
     "output_type": "execute_result"
    }
   ],
   "source": [
    "re.GEODEZMAT.unique()"
   ]
  },
  {
   "cell_type": "code",
   "execution_count": 13,
   "metadata": {},
   "outputs": [
    {
     "name": "stdout",
     "output_type": "stream",
     "text": [
      "Viso sklypu Vilniaus teritorijoje - 8330\n"
     ]
    }
   ],
   "source": [
    "print('Viso sklypu Vilniaus teritorijoje - {}'.format(re[re['VIETOVE'] != 'Vilnius']['OBJID'].count()))\n",
    "      "
   ]
  },
  {
   "cell_type": "code",
   "execution_count": 14,
   "metadata": {},
   "outputs": [
    {
     "data": {
      "image/png": "[encoded data removed]",
      "text/plain": [
       "<Figure size 720x2160 with 1 Axes>"
      ]
     },
     "metadata": {
      "needs_background": "light"
     },
     "output_type": "display_data"
    }
   ],
   "source": [
    "plt.figure(figsize = [10, 30]) \n",
    "base_color=sb.color_palette()[0]\n",
    "re2=re[re['VIETOVE'] != 'Vilnius']\n",
    "order_rule=re2['VIETOVE'].value_counts().index\n",
    "sb.countplot(data=re2, y='VIETOVE',color=base_color, order=order_rule);\n",
    "plt.xticks(rotation=90);"
   ]
  },
  {
   "cell_type": "code",
   "execution_count": 25,
   "metadata": {},
   "outputs": [],
   "source": [
    "re['Year'] = pd.to_datetime(re['IRASODATA']).astype(str)\n",
    "re['Year'] = re['Year'].str.split(\"-\").str[0].astype(int)\n"
   ]
  }
 ],
 "metadata": {
  "kernelspec": {
   "display_name": "Python 3",
   "language": "python",
   "name": "python3"
  },
  "language_info": {
   "codemirror_mode": {
    "name": "ipython",
    "version": 3
   },
   "file_extension": ".py",
   "mimetype": "text/x-python",
   "name": "python",
   "nbconvert_exporter": "python",
   "pygments_lexer": "ipython3",
   "version": "3.7.1"
  }
 },
 "nbformat": 4,
 "nbformat_minor": 2
}
