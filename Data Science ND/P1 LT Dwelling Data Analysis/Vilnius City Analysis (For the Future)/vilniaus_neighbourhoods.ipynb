{
 "cells": [
  {
   "cell_type": "markdown",
   "metadata": {},
   "source": [
    "# Vilnius Neighbourhoods and Streets\n",
    "## By Svajune Klimasauskaite"
   ]
  },
  {
   "cell_type": "code",
   "execution_count": 75,
   "metadata": {},
   "outputs": [],
   "source": [
    "# import all packages and set plots to be embedded inline\n",
    "import numpy as np\n",
    "import pandas as pd\n",
    "from pandas import DataFrame as df\n",
    "import matplotlib.pyplot as plt\n",
    "import seaborn as sb\n",
    "import datetime as dt\n",
    "\n",
    "%matplotlib inline"
   ]
  },
  {
   "cell_type": "markdown",
   "metadata": {},
   "source": [
    "## Load Data"
   ]
  },
  {
   "cell_type": "code",
   "execution_count": 76,
   "metadata": {},
   "outputs": [
    {
     "data": {
      "text/html": [
       "<div>\n",
       "<style scoped>\n",
       "    .dataframe tbody tr th:only-of-type {\n",
       "        vertical-align: middle;\n",
       "    }\n",
       "\n",
       "    .dataframe tbody tr th {\n",
       "        vertical-align: top;\n",
       "    }\n",
       "\n",
       "    .dataframe thead th {\n",
       "        text-align: right;\n",
       "    }\n",
       "</style>\n",
       "<table border=\"1\" class=\"dataframe\">\n",
       "  <thead>\n",
       "    <tr style=\"text-align: right;\">\n",
       "      <th></th>\n",
       "      <th>neighbourhood</th>\n",
       "      <th>street</th>\n",
       "    </tr>\n",
       "  </thead>\n",
       "  <tbody>\n",
       "    <tr>\n",
       "      <th>1146</th>\n",
       "      <td>Naujoji Vilnia</td>\n",
       "      <td>Uosių Sodų 9-oji g. (17)</td>\n",
       "    </tr>\n",
       "    <tr>\n",
       "      <th>848</th>\n",
       "      <td>Naujininkai</td>\n",
       "      <td>Rodūnios Sodų 20-oji g. (4)</td>\n",
       "    </tr>\n",
       "    <tr>\n",
       "      <th>849</th>\n",
       "      <td>Naujininkai</td>\n",
       "      <td>Rodūnios Sodų 21-oji g. (3)</td>\n",
       "    </tr>\n",
       "    <tr>\n",
       "      <th>505</th>\n",
       "      <td>Lazdynai</td>\n",
       "      <td>Ratilių g. (20)</td>\n",
       "    </tr>\n",
       "    <tr>\n",
       "      <th>1752</th>\n",
       "      <td>Senamiestis</td>\n",
       "      <td>Teatro g. (16)</td>\n",
       "    </tr>\n",
       "  </tbody>\n",
       "</table>\n",
       "</div>"
      ],
      "text/plain": [
       "       neighbourhood                       street\n",
       "1146  Naujoji Vilnia     Uosių Sodų 9-oji g. (17)\n",
       "848      Naujininkai  Rodūnios Sodų 20-oji g. (4)\n",
       "849      Naujininkai  Rodūnios Sodų 21-oji g. (3)\n",
       "505         Lazdynai              Ratilių g. (20)\n",
       "1752     Senamiestis               Teatro g. (16)"
      ]
     },
     "execution_count": 76,
     "metadata": {},
     "output_type": "execute_result"
    }
   ],
   "source": [
    "#Load data from the file which is stored in Dataset repository. \n",
    "neigh=pd.read_csv(\"../Dataset_raw/Hierarchies/vilnius_neigh.csv\", sep=';')\n",
    "neigh.sample(5)"
   ]
  },
  {
   "cell_type": "markdown",
   "metadata": {},
   "source": [
    "**The following data cleaning and augmentation tasks should be performed:** \n",
    "1. Add a new column Vilnius, so that a hierarchy of Municipalities and Neighbourhoods could be created.  \n",
    "2. The numbers in bracket indicate the number of houses in the street, so I need to move it to the new column as well as remove this info from street column. \n",
    "3. Some of the streets are overlaping within several neighbourhoods, therefore I extract this info and add in the new column as well as clean the house column.\n",
    "4. Street in the Collective Garden Area, kas indication in the street name, therefore I want to move it into a separate column. "
   ]
  },
  {
   "cell_type": "markdown",
   "metadata": {},
   "source": [
    "## Data Cleaning and Augmenting"
   ]
  },
  {
   "cell_type": "markdown",
   "metadata": {},
   "source": [
    "### 1. Add Municipality Column"
   ]
  },
  {
   "cell_type": "code",
   "execution_count": 77,
   "metadata": {},
   "outputs": [
    {
     "data": {
      "text/html": [
       "<div>\n",
       "<style scoped>\n",
       "    .dataframe tbody tr th:only-of-type {\n",
       "        vertical-align: middle;\n",
       "    }\n",
       "\n",
       "    .dataframe tbody tr th {\n",
       "        vertical-align: top;\n",
       "    }\n",
       "\n",
       "    .dataframe thead th {\n",
       "        text-align: right;\n",
       "    }\n",
       "</style>\n",
       "<table border=\"1\" class=\"dataframe\">\n",
       "  <thead>\n",
       "    <tr style=\"text-align: right;\">\n",
       "      <th></th>\n",
       "      <th>neighbourhood</th>\n",
       "      <th>street</th>\n",
       "      <th>municipality</th>\n",
       "    </tr>\n",
       "  </thead>\n",
       "  <tbody>\n",
       "    <tr>\n",
       "      <th>1920</th>\n",
       "      <td>Verkiai</td>\n",
       "      <td>Bajorų Sodų 4-oji g. (49)</td>\n",
       "      <td>Vilnius</td>\n",
       "    </tr>\n",
       "  </tbody>\n",
       "</table>\n",
       "</div>"
      ],
      "text/plain": [
       "     neighbourhood                     street municipality\n",
       "1920       Verkiai  Bajorų Sodų 4-oji g. (49)      Vilnius"
      ]
     },
     "execution_count": 77,
     "metadata": {},
     "output_type": "execute_result"
    }
   ],
   "source": [
    "neigh['municipality'] = 'Vilnius'\n",
    "neigh.sample(1)"
   ]
  },
  {
   "cell_type": "markdown",
   "metadata": {},
   "source": [
    "### 2. Add Number of Houses"
   ]
  },
  {
   "cell_type": "markdown",
   "metadata": {},
   "source": [
    "#### Create New Column"
   ]
  },
  {
   "cell_type": "code",
   "execution_count": 78,
   "metadata": {},
   "outputs": [
    {
     "data": {
      "text/plain": [
       "array(['28', '17', '48', '147', '12', '22', '8', '6', '5', '3', '16',\n",
       "       '25', '40', '55', '39', '87', '43', 'nan', '10', '21', '19', '35',\n",
       "       '14', '29', '13', '9 iš 112*', '7', '61', '50', '27', '34', '15',\n",
       "       '42', '36', '26', '20', '101', '18', '77', '38', '24', '56', '11',\n",
       "       '30', '32', '51', '9', '1', '35 iš 96*', '1 iš 9*', '45', '91',\n",
       "       '4', '2', '60', '65', '70', '47', '57', '23', '49', '41', '37',\n",
       "       '88', '160', '94', '12 iš 41*', '69', '33', '124', '53 iš 82*',\n",
       "       '31', '35 iš 66*', '46', '73', '72', '67', '42 iš 44*', '133',\n",
       "       '54', '62 iš 124*', '11 iš 124*', '46 iš 53*', '282', '38 iš 74*',\n",
       "       '12 iš 104*', '99', '78 iš 80*', '14 iš 16*', '1 iš 52*', '63',\n",
       "       '13 iš 19*', '126', '29 iš 146*', '32 iš 34*', '15 iš 67*',\n",
       "       '14 iš 124*', '5 iš 15*', '11 iš 23*', '57 iš 78*', '9 iš 47*',\n",
       "       '45 iš 67*', '9 iš 16*', '1 iš 29*', '21 iš 28*', '34 iš 45*',\n",
       "       '70 iš 81*', '23 iš 40*', '74 iš 89*', '49 iš 52*', '8 iš 40*',\n",
       "       '1 iš 77*', '40 iš 56*', '27 iš 250*', '6 iš 28*', '17 iš 36*',\n",
       "       '8 iš 55*', '66', '3 iš 8*', '3 iš 33*', '6 iš 23*', '5 iš 36*',\n",
       "       '64 iš 65*', '113', '62', '81 iš 83*', '104 iš 111*', '28 iš 29*',\n",
       "       '37 iš 39*', '59', '44', '81', '52', '71', '74 iš 242*', '90',\n",
       "       '64', '29 iš 33*', '20 iš 40*', '15 iš 18*', '96', '45 iš 59*',\n",
       "       '127', '10 iš 35*', '80', '61 iš 96*', '24 iš 57*', '104', '142',\n",
       "       '29 iš 82*', '61 iš 62*', '39 iš 103*', '53', '118', '2 iš 44*',\n",
       "       '107', '31 iš 36*', '1 iš 65*', '95', '7 iš 111*', '66 iš 92*',\n",
       "       '131', '86', '3 iš 18*', '25 iš 250*', '85', '27 iš 39*',\n",
       "       '9 iš 85*', '25 iš 35*', '21 iš 124*', '51 iš 124*', '46 iš 146*',\n",
       "       '9 iš 15*', '22 iš 35*', '58', '2 iš 83*', '78 iš 112*', '1 iš 6*',\n",
       "       '4 iš 69*', '12 iš 202*', '8 iš 9*', '2 iš 39*', '168 iš 242*',\n",
       "       '33 iš 57*', '4 iš 33*', '8 iš 41*', '2 iš 16*', '12 iš 40*',\n",
       "       '6 iš 9*', '65 iš 74*', '31 iš 66*', '1 iš 62*', '64 iš 103*',\n",
       "       '63 iš 106*', '14 iš 59*', '1 iš 8*', '12 iš 23*', '25 iš 112*',\n",
       "       '21 iš 78*', '6 iš 19*', '22 iš 67*', '7 iš 16*', '7 iš 28*',\n",
       "       '11 iš 45*', '17 iš 40*', '8 iš 89*', '21 iš 41*', '76 iš 77*',\n",
       "       '3 iš 9*', '9 iš 74*', '22 iš 28*', '43 iš 106*', '19 iš 36*',\n",
       "       '47 iš 55*', '30 iš 33*', '7 iš 8*', '9 iš 13*', '2 iš 47*', '83',\n",
       "       '25 iš 124*', '20 iš 38*', '5 iš 7*', '66 iš 146*', '7 iš 47*',\n",
       "       '186 iš 349*', '1 iš 38*', '30 iš 61*', '29 iš 47*', '5 iš 6*',\n",
       "       '30 iš 36*', '36 iš 74*', '93', '78', '79', '82', '92 iš 104*',\n",
       "       '230', '111', '131 iš 349*', '257', '117', '420', '144', '135',\n",
       "       '120', '248', '2 iš 80*', '51 iš 52*', '17 iš 38*', '123', '129',\n",
       "       '115', '89', '2 iš 34*', '94 iš 139*', '76', '52 iš 67*', '119',\n",
       "       '2 iš 4*', '26 iš 47*', '1 iš 124*', '11 iš 81*', '7 iš 89*',\n",
       "       '3 iš 52*', '157', '16 iš 56*', '198 iš 250*', '12 iš 39*',\n",
       "       '5 iš 8*', '76 iš 85*', '17 iš 23*', '4 iš 13*', '41 iš 124*',\n",
       "       '16 iš 124*', '1 iš 15*', '7 iš 53*', '2 iš 7*', '32 iš 349*',\n",
       "       '31 iš 61*', '18 iš 47*', '45 iš 139*', '6 iš 36*', '229',\n",
       "       '1 iš 47*', '5 iš 146*', '26 iš 92*'], dtype=object)"
      ]
     },
     "execution_count": 78,
     "metadata": {},
     "output_type": "execute_result"
    }
   ],
   "source": [
    "neigh['houses'] = neigh['street'].str.split('(').str[1].str.split(')').str[0]\n",
    "neigh['houses'] = neigh['houses'].astype(str)\n",
    "neigh.houses.unique()"
   ]
  },
  {
   "cell_type": "markdown",
   "metadata": {},
   "source": [
    "#### Clean Street Column"
   ]
  },
  {
   "cell_type": "code",
   "execution_count": 79,
   "metadata": {},
   "outputs": [
    {
     "data": {
      "text/html": [
       "<div>\n",
       "<style scoped>\n",
       "    .dataframe tbody tr th:only-of-type {\n",
       "        vertical-align: middle;\n",
       "    }\n",
       "\n",
       "    .dataframe tbody tr th {\n",
       "        vertical-align: top;\n",
       "    }\n",
       "\n",
       "    .dataframe thead th {\n",
       "        text-align: right;\n",
       "    }\n",
       "</style>\n",
       "<table border=\"1\" class=\"dataframe\">\n",
       "  <thead>\n",
       "    <tr style=\"text-align: right;\">\n",
       "      <th></th>\n",
       "      <th>neighbourhood</th>\n",
       "      <th>street</th>\n",
       "      <th>municipality</th>\n",
       "      <th>houses</th>\n",
       "    </tr>\n",
       "  </thead>\n",
       "  <tbody>\n",
       "    <tr>\n",
       "      <th>297</th>\n",
       "      <td>Antakalnis</td>\n",
       "      <td>Rudausių Sodų 4-oji g.</td>\n",
       "      <td>Vilnius</td>\n",
       "      <td>16</td>\n",
       "    </tr>\n",
       "    <tr>\n",
       "      <th>2350</th>\n",
       "      <td>Žirmūnai</td>\n",
       "      <td>Sporto g.</td>\n",
       "      <td>Vilnius</td>\n",
       "      <td>17</td>\n",
       "    </tr>\n",
       "    <tr>\n",
       "      <th>1736</th>\n",
       "      <td>Senamiestis</td>\n",
       "      <td>Šaltinių g.</td>\n",
       "      <td>Vilnius</td>\n",
       "      <td>19 iš 36*</td>\n",
       "    </tr>\n",
       "    <tr>\n",
       "      <th>1493</th>\n",
       "      <td>Pilaitė</td>\n",
       "      <td>Pervalkos g.</td>\n",
       "      <td>Vilnius</td>\n",
       "      <td>1</td>\n",
       "    </tr>\n",
       "    <tr>\n",
       "      <th>769</th>\n",
       "      <td>Naujininkai</td>\n",
       "      <td>Kelmijos Sodų 67-oji g.</td>\n",
       "      <td>Vilnius</td>\n",
       "      <td>13</td>\n",
       "    </tr>\n",
       "  </tbody>\n",
       "</table>\n",
       "</div>"
      ],
      "text/plain": [
       "     neighbourhood                    street municipality     houses\n",
       "297     Antakalnis   Rudausių Sodų 4-oji g.       Vilnius         16\n",
       "2350      Žirmūnai                Sporto g.       Vilnius         17\n",
       "1736   Senamiestis              Šaltinių g.       Vilnius  19 iš 36*\n",
       "1493       Pilaitė             Pervalkos g.       Vilnius          1\n",
       "769    Naujininkai  Kelmijos Sodų 67-oji g.       Vilnius         13"
      ]
     },
     "execution_count": 79,
     "metadata": {},
     "output_type": "execute_result"
    }
   ],
   "source": [
    "neigh['street'] = neigh['street'].str.split('(').str[0]\n",
    "neigh.sample(5)"
   ]
  },
  {
   "cell_type": "markdown",
   "metadata": {},
   "source": [
    "### 3. Add Indication for Overlaping Streets within Several Neighbourhoods"
   ]
  },
  {
   "cell_type": "markdown",
   "metadata": {},
   "source": [
    "#### Create New Column"
   ]
  },
  {
   "cell_type": "code",
   "execution_count": 69,
   "metadata": {},
   "outputs": [
    {
     "data": {
      "text/html": [
       "<div>\n",
       "<style scoped>\n",
       "    .dataframe tbody tr th:only-of-type {\n",
       "        vertical-align: middle;\n",
       "    }\n",
       "\n",
       "    .dataframe tbody tr th {\n",
       "        vertical-align: top;\n",
       "    }\n",
       "\n",
       "    .dataframe thead th {\n",
       "        text-align: right;\n",
       "    }\n",
       "</style>\n",
       "<table border=\"1\" class=\"dataframe\">\n",
       "  <thead>\n",
       "    <tr style=\"text-align: right;\">\n",
       "      <th></th>\n",
       "      <th>neighbourhood</th>\n",
       "      <th>street</th>\n",
       "      <th>municipality</th>\n",
       "      <th>houses</th>\n",
       "      <th>overlap</th>\n",
       "    </tr>\n",
       "  </thead>\n",
       "  <tbody>\n",
       "    <tr>\n",
       "      <th>2062</th>\n",
       "      <td>Verkiai</td>\n",
       "      <td>Krakiškių Sodų 7-oji g.</td>\n",
       "      <td>Vilnius</td>\n",
       "      <td>15</td>\n",
       "      <td>No</td>\n",
       "    </tr>\n",
       "    <tr>\n",
       "      <th>2121</th>\n",
       "      <td>Verkiai</td>\n",
       "      <td>Ozo g.</td>\n",
       "      <td>Vilnius</td>\n",
       "      <td>17 iš 38*</td>\n",
       "      <td>17 iš 38*</td>\n",
       "    </tr>\n",
       "    <tr>\n",
       "      <th>1972</th>\n",
       "      <td>Verkiai</td>\n",
       "      <td>Braškių g.</td>\n",
       "      <td>Vilnius</td>\n",
       "      <td>21</td>\n",
       "      <td>No</td>\n",
       "    </tr>\n",
       "    <tr>\n",
       "      <th>910</th>\n",
       "      <td>Naujininkai</td>\n",
       "      <td>Užusienio g.</td>\n",
       "      <td>Vilnius</td>\n",
       "      <td>127</td>\n",
       "      <td>No</td>\n",
       "    </tr>\n",
       "    <tr>\n",
       "      <th>1836</th>\n",
       "      <td>Šnipiškės</td>\n",
       "      <td>Utenos g.</td>\n",
       "      <td>Vilnius</td>\n",
       "      <td>21</td>\n",
       "      <td>No</td>\n",
       "    </tr>\n",
       "    <tr>\n",
       "      <th>2357</th>\n",
       "      <td>Žirmūnai</td>\n",
       "      <td>Žalgirio g.</td>\n",
       "      <td>Vilnius</td>\n",
       "      <td>6 iš 36*</td>\n",
       "      <td>6 iš 36*</td>\n",
       "    </tr>\n",
       "    <tr>\n",
       "      <th>2081</th>\n",
       "      <td>Verkiai</td>\n",
       "      <td>Kviečių g.</td>\n",
       "      <td>Vilnius</td>\n",
       "      <td>17</td>\n",
       "      <td>No</td>\n",
       "    </tr>\n",
       "    <tr>\n",
       "      <th>2248</th>\n",
       "      <td>Verkiai</td>\n",
       "      <td>Visorių Sodų 14-oji g.</td>\n",
       "      <td>Vilnius</td>\n",
       "      <td>16</td>\n",
       "      <td>No</td>\n",
       "    </tr>\n",
       "    <tr>\n",
       "      <th>1362</th>\n",
       "      <td>Pašilaičiai</td>\n",
       "      <td>Benykštaičių g.</td>\n",
       "      <td>Vilnius</td>\n",
       "      <td>12</td>\n",
       "      <td>No</td>\n",
       "    </tr>\n",
       "    <tr>\n",
       "      <th>1224</th>\n",
       "      <td>Paneriai</td>\n",
       "      <td>Granito g.</td>\n",
       "      <td>Vilnius</td>\n",
       "      <td>13</td>\n",
       "      <td>No</td>\n",
       "    </tr>\n",
       "  </tbody>\n",
       "</table>\n",
       "</div>"
      ],
      "text/plain": [
       "     neighbourhood                    street municipality     houses  \\\n",
       "2062       Verkiai  Krakiškių Sodų 7-oji g.       Vilnius         15   \n",
       "2121       Verkiai                   Ozo g.       Vilnius  17 iš 38*   \n",
       "1972       Verkiai               Braškių g.       Vilnius         21   \n",
       "910    Naujininkai             Užusienio g.       Vilnius        127   \n",
       "1836     Šnipiškės                Utenos g.       Vilnius         21   \n",
       "2357      Žirmūnai              Žalgirio g.       Vilnius   6 iš 36*   \n",
       "2081       Verkiai               Kviečių g.       Vilnius         17   \n",
       "2248       Verkiai   Visorių Sodų 14-oji g.       Vilnius         16   \n",
       "1362   Pašilaičiai          Benykštaičių g.       Vilnius         12   \n",
       "1224      Paneriai               Granito g.       Vilnius         13   \n",
       "\n",
       "        overlap  \n",
       "2062         No  \n",
       "2121  17 iš 38*  \n",
       "1972         No  \n",
       "910          No  \n",
       "1836         No  \n",
       "2357   6 iš 36*  \n",
       "2081         No  \n",
       "2248         No  \n",
       "1362         No  \n",
       "1224         No  "
      ]
     },
     "execution_count": 69,
     "metadata": {},
     "output_type": "execute_result"
    }
   ],
   "source": [
    "overlap = []\n",
    "\n",
    "for i in neigh['houses']:\n",
    "    if '*' in i: \n",
    "        overlap.append(i)\n",
    "    else:\n",
    "        overlap.append('No')\n",
    "        \n",
    "neigh['overlap'] = overlap\n",
    "\n",
    "neigh.sample(10)"
   ]
  },
  {
   "cell_type": "markdown",
   "metadata": {},
   "source": [
    "#### Clean House Column"
   ]
  },
  {
   "cell_type": "code",
   "execution_count": 70,
   "metadata": {},
   "outputs": [],
   "source": [
    "houses = []\n",
    "\n",
    "for i in neigh['houses']:\n",
    "    if 'iš' in i: \n",
    "        houses.append(i.split('iš')[0])\n",
    "    elif '*' in i:\n",
    "        houses.append(i.split('*')[0])\n",
    "    else:\n",
    "        houses.append(i)\n",
    "        \n",
    "neigh['houses'] = houses"
   ]
  },
  {
   "cell_type": "code",
   "execution_count": 71,
   "metadata": {},
   "outputs": [
    {
     "data": {
      "text/plain": [
       "array(['28', '17', '48', '147', '12', '22', '8', '6', '5', '3', '16',\n",
       "       '25', '40', '55', '39', '87', '43', 'nan', '10', '21', '19', '35',\n",
       "       '14', '29', '13', '9 ', '7', '61', '50', '27', '34', '15', '42',\n",
       "       '36', '26', '20', '101', '18', '77', '38', '24', '56', '11', '30',\n",
       "       '32', '51', '9', '1', '35 ', '1 ', '45', '91', '4', '2', '60',\n",
       "       '65', '70', '47', '57', '23', '49', '41', '37', '88', '160', '94',\n",
       "       '12 ', '69', '33', '124', '53 ', '31', '46', '73', '72', '67',\n",
       "       '42 ', '133', '54', '62 ', '11 ', '46 ', '282', '38 ', '99', '78 ',\n",
       "       '14 ', '63', '13 ', '126', '29 ', '32 ', '15 ', '5 ', '57 ', '45 ',\n",
       "       '21 ', '34 ', '70 ', '23 ', '74 ', '49 ', '8 ', '40 ', '27 ', '6 ',\n",
       "       '17 ', '66', '3 ', '64 ', '113', '62', '81 ', '104 ', '28 ', '37 ',\n",
       "       '59', '44', '81', '52', '71', '90', '64', '20 ', '96', '127',\n",
       "       '10 ', '80', '61 ', '24 ', '104', '142', '39 ', '53', '118', '2 ',\n",
       "       '107', '31 ', '95', '7 ', '66 ', '131', '86', '25 ', '85', '51 ',\n",
       "       '22 ', '58', '4 ', '168 ', '33 ', '65 ', '63 ', '76 ', '43 ',\n",
       "       '19 ', '47 ', '30 ', '83', '186 ', '36 ', '93', '78', '79', '82',\n",
       "       '92 ', '230', '111', '131 ', '257', '117', '420', '144', '135',\n",
       "       '120', '248', '123', '129', '115', '89', '94 ', '76', '52 ', '119',\n",
       "       '26 ', '157', '16 ', '198 ', '41 ', '18 ', '229'], dtype=object)"
      ]
     },
     "execution_count": 71,
     "metadata": {},
     "output_type": "execute_result"
    }
   ],
   "source": [
    "neigh.houses.unique()"
   ]
  },
  {
   "cell_type": "markdown",
   "metadata": {},
   "source": [
    "### 4. Add Street Type"
   ]
  },
  {
   "cell_type": "code",
   "execution_count": 72,
   "metadata": {},
   "outputs": [],
   "source": [
    "str_type = []\n",
    "\n",
    "for i in neigh['street']:\n",
    "    if 'Sodų' in i: \n",
    "        str_type.append('Sodas')\n",
    "    else:\n",
    "        str_type.append('Kitas')\n",
    "        \n",
    "neigh['str_type'] = str_type"
   ]
  },
  {
   "cell_type": "code",
   "execution_count": 73,
   "metadata": {},
   "outputs": [
    {
     "data": {
      "text/html": [
       "<div>\n",
       "<style scoped>\n",
       "    .dataframe tbody tr th:only-of-type {\n",
       "        vertical-align: middle;\n",
       "    }\n",
       "\n",
       "    .dataframe tbody tr th {\n",
       "        vertical-align: top;\n",
       "    }\n",
       "\n",
       "    .dataframe thead th {\n",
       "        text-align: right;\n",
       "    }\n",
       "</style>\n",
       "<table border=\"1\" class=\"dataframe\">\n",
       "  <thead>\n",
       "    <tr style=\"text-align: right;\">\n",
       "      <th></th>\n",
       "      <th>neighbourhood</th>\n",
       "      <th>street</th>\n",
       "      <th>municipality</th>\n",
       "      <th>houses</th>\n",
       "      <th>overlap</th>\n",
       "      <th>str_type</th>\n",
       "    </tr>\n",
       "  </thead>\n",
       "  <tbody>\n",
       "    <tr>\n",
       "      <th>1052</th>\n",
       "      <td>Naujoji Vilnia</td>\n",
       "      <td>Rimdžiūnų g.</td>\n",
       "      <td>Vilnius</td>\n",
       "      <td>10</td>\n",
       "      <td>No</td>\n",
       "      <td>Kitas</td>\n",
       "    </tr>\n",
       "    <tr>\n",
       "      <th>1397</th>\n",
       "      <td>Pašilaičiai</td>\n",
       "      <td>Pagrandos g.</td>\n",
       "      <td>Vilnius</td>\n",
       "      <td>15</td>\n",
       "      <td>No</td>\n",
       "      <td>Kitas</td>\n",
       "    </tr>\n",
       "    <tr>\n",
       "      <th>2237</th>\n",
       "      <td>Verkiai</td>\n",
       "      <td>Vilkynės g.</td>\n",
       "      <td>Vilnius</td>\n",
       "      <td>64</td>\n",
       "      <td>No</td>\n",
       "      <td>Kitas</td>\n",
       "    </tr>\n",
       "    <tr>\n",
       "      <th>229</th>\n",
       "      <td>Antakalnis</td>\n",
       "      <td>Pavasario g.</td>\n",
       "      <td>Vilnius</td>\n",
       "      <td>40</td>\n",
       "      <td>No</td>\n",
       "      <td>Kitas</td>\n",
       "    </tr>\n",
       "    <tr>\n",
       "      <th>439</th>\n",
       "      <td>Justiniškės</td>\n",
       "      <td>Laisvės pr.</td>\n",
       "      <td>Vilnius</td>\n",
       "      <td>11</td>\n",
       "      <td>11 iš 124*</td>\n",
       "      <td>Kitas</td>\n",
       "    </tr>\n",
       "  </tbody>\n",
       "</table>\n",
       "</div>"
      ],
      "text/plain": [
       "       neighbourhood         street municipality houses     overlap str_type\n",
       "1052  Naujoji Vilnia  Rimdžiūnų g.       Vilnius     10          No    Kitas\n",
       "1397     Pašilaičiai  Pagrandos g.       Vilnius     15          No    Kitas\n",
       "2237         Verkiai   Vilkynės g.       Vilnius     64          No    Kitas\n",
       "229       Antakalnis  Pavasario g.       Vilnius     40          No    Kitas\n",
       "439      Justiniškės   Laisvės pr.       Vilnius    11   11 iš 124*    Kitas"
      ]
     },
     "execution_count": 73,
     "metadata": {},
     "output_type": "execute_result"
    }
   ],
   "source": [
    "neigh.sample(5)"
   ]
  },
  {
   "cell_type": "markdown",
   "metadata": {},
   "source": [
    "## Save the File "
   ]
  },
  {
   "cell_type": "code",
   "execution_count": 74,
   "metadata": {},
   "outputs": [],
   "source": [
    "df.to_csv(neigh, '⁨neight.csv', sep=';', index=False)"
   ]
  },
  {
   "cell_type": "code",
   "execution_count": null,
   "metadata": {},
   "outputs": [],
   "source": []
  }
 ],
 "metadata": {
  "kernelspec": {
   "display_name": "Python 3",
   "language": "python",
   "name": "python3"
  },
  "language_info": {
   "codemirror_mode": {
    "name": "ipython",
    "version": 3
   },
   "file_extension": ".py",
   "mimetype": "text/x-python",
   "name": "python",
   "nbconvert_exporter": "python",
   "pygments_lexer": "ipython3",
   "version": "3.7.1"
  }
 },
 "nbformat": 4,
 "nbformat_minor": 2
}
