{
 "cells": [
  {
   "cell_type": "markdown",
   "metadata": {},
   "source": [
    "# Vilnius Appartments\n",
    "## By Svajune Klimasauskaite"
   ]
  },
  {
   "cell_type": "code",
   "execution_count": 1,
   "metadata": {},
   "outputs": [],
   "source": [
    "# import all packages and set plots to be embedded inline\n",
    "import numpy as np\n",
    "import pandas as pd\n",
    "import matplotlib.pyplot as plt\n",
    "import seaborn as sb\n",
    "from mpl_toolkits import mplot3d\n",
    "import datetime as dt\n",
    "from pandas import DataFrame as df\n",
    "\n",
    "%matplotlib inline"
   ]
  },
  {
   "cell_type": "markdown",
   "metadata": {},
   "source": [
    "## Load Data\n",
    "\n"
   ]
  },
  {
   "cell_type": "code",
   "execution_count": 2,
   "metadata": {},
   "outputs": [
    {
     "data": {
      "text/html": [
       "<div>\n",
       "<style scoped>\n",
       "    .dataframe tbody tr th:only-of-type {\n",
       "        vertical-align: middle;\n",
       "    }\n",
       "\n",
       "    .dataframe tbody tr th {\n",
       "        vertical-align: top;\n",
       "    }\n",
       "\n",
       "    .dataframe thead th {\n",
       "        text-align: right;\n",
       "    }\n",
       "</style>\n",
       "<table border=\"1\" class=\"dataframe\">\n",
       "  <thead>\n",
       "    <tr style=\"text-align: right;\">\n",
       "      <th></th>\n",
       "      <th>id</th>\n",
       "      <th>adresas</th>\n",
       "      <th>namo_valdytojas</th>\n",
       "      <th>valdymo_forma</th>\n",
       "      <th>paskyrimo_pagrindas</th>\n",
       "      <th>administratoriaus_pabaigos_Data</th>\n",
       "      <th>paskirtis</th>\n",
       "      <th>uni_nr</th>\n",
       "      <th>bendr_plotas</th>\n",
       "      <th>naud_plotas</th>\n",
       "      <th>build_year</th>\n",
       "      <th>renov_metai</th>\n",
       "      <th>renovacijos_statusas</th>\n",
       "      <th>energ_naudingumo_klase</th>\n",
       "      <th>butu_skaicius</th>\n",
       "      <th>negyvenamuju_palapu_skaicius</th>\n",
       "      <th>korpusas</th>\n",
       "      <th>sklypo_plotas</th>\n",
       "    </tr>\n",
       "  </thead>\n",
       "  <tbody>\n",
       "    <tr>\n",
       "      <th>0</th>\n",
       "      <td>1</td>\n",
       "      <td>A. Goštauto g. 2</td>\n",
       "      <td>286-oji gyvenamojo namo A.Goštauto g. 2/15 sav...</td>\n",
       "      <td>Bendrija</td>\n",
       "      <td>1995.02.02</td>\n",
       "      <td>NaN</td>\n",
       "      <td>Gyvenamoji (trys ir daugiau butų)</td>\n",
       "      <td>1096-0010-4010</td>\n",
       "      <td>6607.43</td>\n",
       "      <td>4360.68</td>\n",
       "      <td>1960.0</td>\n",
       "      <td>NaN</td>\n",
       "      <td>Nerenovuotas</td>\n",
       "      <td>NaN</td>\n",
       "      <td>53.0</td>\n",
       "      <td>4.0</td>\n",
       "      <td>1A7p</td>\n",
       "      <td>0.00</td>\n",
       "    </tr>\n",
       "    <tr>\n",
       "      <th>1</th>\n",
       "      <td>2</td>\n",
       "      <td>A. Goštauto g. 3</td>\n",
       "      <td>DNSB NERIES VINGIS</td>\n",
       "      <td>Bendrija</td>\n",
       "      <td>2009.04.10</td>\n",
       "      <td>NaN</td>\n",
       "      <td>Gyvenamoji (trys ir daugiau butų)</td>\n",
       "      <td>1095-7003-6016</td>\n",
       "      <td>4304.17</td>\n",
       "      <td>2771.57</td>\n",
       "      <td>1957.0</td>\n",
       "      <td>NaN</td>\n",
       "      <td>Nerenovuotas</td>\n",
       "      <td>NaN</td>\n",
       "      <td>38.0</td>\n",
       "      <td>14.0</td>\n",
       "      <td>1A5p</td>\n",
       "      <td>0.15</td>\n",
       "    </tr>\n",
       "  </tbody>\n",
       "</table>\n",
       "</div>"
      ],
      "text/plain": [
       "   id           adresas                                    namo_valdytojas  \\\n",
       "0   1  A. Goštauto g. 2  286-oji gyvenamojo namo A.Goštauto g. 2/15 sav...   \n",
       "1   2  A. Goštauto g. 3                                 DNSB NERIES VINGIS   \n",
       "\n",
       "  valdymo_forma paskyrimo_pagrindas administratoriaus_pabaigos_Data  \\\n",
       "0      Bendrija          1995.02.02                             NaN   \n",
       "1      Bendrija          2009.04.10                             NaN   \n",
       "\n",
       "                           paskirtis          uni_nr  bendr_plotas  \\\n",
       "0  Gyvenamoji (trys ir daugiau butų)  1096-0010-4010       6607.43   \n",
       "1  Gyvenamoji (trys ir daugiau butų)  1095-7003-6016       4304.17   \n",
       "\n",
       "   naud_plotas  build_year  renov_metai renovacijos_statusas  \\\n",
       "0      4360.68      1960.0          NaN         Nerenovuotas   \n",
       "1      2771.57      1957.0          NaN         Nerenovuotas   \n",
       "\n",
       "  energ_naudingumo_klase  butu_skaicius  negyvenamuju_palapu_skaicius  \\\n",
       "0                    NaN           53.0                           4.0   \n",
       "1                    NaN           38.0                          14.0   \n",
       "\n",
       "  korpusas  sklypo_plotas  \n",
       "0     1A7p           0.00  \n",
       "1     1A5p           0.15  "
      ]
     },
     "execution_count": 2,
     "metadata": {},
     "output_type": "execute_result"
    }
   ],
   "source": [
    "#Load flats\n",
    "flat=pd.read_csv(\"https://raw.githubusercontent.com/vilnius/apartment-buildings/master/apartment_buildings_2019.csv\", sep=';')\n",
    "flat.head(2)"
   ]
  },
  {
   "cell_type": "code",
   "execution_count": 3,
   "metadata": {},
   "outputs": [
    {
     "data": {
      "text/html": [
       "<div>\n",
       "<style scoped>\n",
       "    .dataframe tbody tr th:only-of-type {\n",
       "        vertical-align: middle;\n",
       "    }\n",
       "\n",
       "    .dataframe tbody tr th {\n",
       "        vertical-align: top;\n",
       "    }\n",
       "\n",
       "    .dataframe thead th {\n",
       "        text-align: right;\n",
       "    }\n",
       "</style>\n",
       "<table border=\"1\" class=\"dataframe\">\n",
       "  <thead>\n",
       "    <tr style=\"text-align: right;\">\n",
       "      <th></th>\n",
       "      <th>id</th>\n",
       "      <th>street</th>\n",
       "      <th>purpose</th>\n",
       "      <th>area</th>\n",
       "      <th>area_useful</th>\n",
       "      <th>year</th>\n",
       "      <th>year_renov</th>\n",
       "      <th>renov_status</th>\n",
       "      <th>efficiency</th>\n",
       "      <th>no_flats</th>\n",
       "      <th>not_living_flats</th>\n",
       "      <th>land</th>\n",
       "    </tr>\n",
       "  </thead>\n",
       "  <tbody>\n",
       "    <tr>\n",
       "      <th>1647</th>\n",
       "      <td>1648</td>\n",
       "      <td>Ribiškių Didžioji g. 7</td>\n",
       "      <td>Gyvenamoji (trys ir daugiau butų)</td>\n",
       "      <td>162.38</td>\n",
       "      <td>162.38</td>\n",
       "      <td>1936.0</td>\n",
       "      <td>NaN</td>\n",
       "      <td>Nerenovuotas</td>\n",
       "      <td>NaN</td>\n",
       "      <td>4.0</td>\n",
       "      <td>0.0</td>\n",
       "      <td>0.0</td>\n",
       "    </tr>\n",
       "    <tr>\n",
       "      <th>129</th>\n",
       "      <td>130</td>\n",
       "      <td>Gelvonų g. 11</td>\n",
       "      <td>Gyvenamoji (trys ir daugiau butų)</td>\n",
       "      <td>5493.08</td>\n",
       "      <td>4583.03</td>\n",
       "      <td>1982.0</td>\n",
       "      <td>NaN</td>\n",
       "      <td>Nerenovuotas</td>\n",
       "      <td>NaN</td>\n",
       "      <td>80.0</td>\n",
       "      <td>0.0</td>\n",
       "      <td>0.0</td>\n",
       "    </tr>\n",
       "    <tr>\n",
       "      <th>5238</th>\n",
       "      <td>5240</td>\n",
       "      <td>V. Pietario g. 2</td>\n",
       "      <td>Gyvenamoji (trys ir daugiau butų)</td>\n",
       "      <td>4358.48</td>\n",
       "      <td>3617.45</td>\n",
       "      <td>1963.0</td>\n",
       "      <td>NaN</td>\n",
       "      <td>Nerenovuotas</td>\n",
       "      <td>NaN</td>\n",
       "      <td>75.0</td>\n",
       "      <td>0.0</td>\n",
       "      <td>0.0</td>\n",
       "    </tr>\n",
       "    <tr>\n",
       "      <th>5436</th>\n",
       "      <td>5438</td>\n",
       "      <td>Dzūkų g. 17</td>\n",
       "      <td>Gyvenamoji (trys ir daugiau butų)</td>\n",
       "      <td>2877.97</td>\n",
       "      <td>2618.54</td>\n",
       "      <td>1968.0</td>\n",
       "      <td>NaN</td>\n",
       "      <td>Nerenovuotas</td>\n",
       "      <td>NaN</td>\n",
       "      <td>50.0</td>\n",
       "      <td>0.0</td>\n",
       "      <td>0.0</td>\n",
       "    </tr>\n",
       "    <tr>\n",
       "      <th>5074</th>\n",
       "      <td>5076</td>\n",
       "      <td>Baltupio g. 45</td>\n",
       "      <td>Gyvenamoji (trys ir daugiau butų)</td>\n",
       "      <td>2076.06</td>\n",
       "      <td>1727.70</td>\n",
       "      <td>1978.0</td>\n",
       "      <td>NaN</td>\n",
       "      <td>Galimai renovuotųsi</td>\n",
       "      <td>NaN</td>\n",
       "      <td>30.0</td>\n",
       "      <td>0.0</td>\n",
       "      <td>0.0</td>\n",
       "    </tr>\n",
       "  </tbody>\n",
       "</table>\n",
       "</div>"
      ],
      "text/plain": [
       "        id                  street                            purpose  \\\n",
       "1647  1648  Ribiškių Didžioji g. 7  Gyvenamoji (trys ir daugiau butų)   \n",
       "129    130           Gelvonų g. 11  Gyvenamoji (trys ir daugiau butų)   \n",
       "5238  5240        V. Pietario g. 2  Gyvenamoji (trys ir daugiau butų)   \n",
       "5436  5438             Dzūkų g. 17  Gyvenamoji (trys ir daugiau butų)   \n",
       "5074  5076          Baltupio g. 45  Gyvenamoji (trys ir daugiau butų)   \n",
       "\n",
       "         area  area_useful    year  year_renov         renov_status  \\\n",
       "1647   162.38       162.38  1936.0         NaN         Nerenovuotas   \n",
       "129   5493.08      4583.03  1982.0         NaN         Nerenovuotas   \n",
       "5238  4358.48      3617.45  1963.0         NaN         Nerenovuotas   \n",
       "5436  2877.97      2618.54  1968.0         NaN         Nerenovuotas   \n",
       "5074  2076.06      1727.70  1978.0         NaN  Galimai renovuotųsi   \n",
       "\n",
       "     efficiency  no_flats  not_living_flats  land  \n",
       "1647        NaN       4.0               0.0   0.0  \n",
       "129         NaN      80.0               0.0   0.0  \n",
       "5238        NaN      75.0               0.0   0.0  \n",
       "5436        NaN      50.0               0.0   0.0  \n",
       "5074        NaN      30.0               0.0   0.0  "
      ]
     },
     "execution_count": 3,
     "metadata": {},
     "output_type": "execute_result"
    }
   ],
   "source": [
    "# Get rid of unnecessary columns\n",
    "flat.drop(columns = ['namo_valdytojas', 'valdymo_forma', 'paskyrimo_pagrindas',\n",
    "                    'administratoriaus_pabaigos_Data', 'uni_nr', 'korpusas'], inplace = True)\n",
    "\n",
    "# Translate column names to english  \n",
    "flat.rename(columns={'adresas':'street', 'paskirtis':'purpose',\n",
    "                        'bendr_plotas':'area', 'naud_plotas':'area_useful',\n",
    "                       'build_year':'year', 'renov_metai':'year_renov', 'renovacijos_statusas':'renov_status',\n",
    "                       'energ_naudingumo_klase':'efficiency', 'butu_skaicius':'no_flats',\n",
    "                       'negyvenamuju_palapu_skaicius':'not_living_flats','sklypo_plotas':'land',\n",
    "                       }, inplace=True)\n",
    "flat.sample(5)"
   ]
  },
  {
   "cell_type": "markdown",
   "metadata": {},
   "source": [
    "### Load Hierarchy"
   ]
  },
  {
   "cell_type": "code",
   "execution_count": 4,
   "metadata": {},
   "outputs": [
    {
     "data": {
      "text/html": [
       "<div>\n",
       "<style scoped>\n",
       "    .dataframe tbody tr th:only-of-type {\n",
       "        vertical-align: middle;\n",
       "    }\n",
       "\n",
       "    .dataframe tbody tr th {\n",
       "        vertical-align: top;\n",
       "    }\n",
       "\n",
       "    .dataframe thead th {\n",
       "        text-align: right;\n",
       "    }\n",
       "</style>\n",
       "<table border=\"1\" class=\"dataframe\">\n",
       "  <thead>\n",
       "    <tr style=\"text-align: right;\">\n",
       "      <th></th>\n",
       "      <th>neighbourhood</th>\n",
       "      <th>street</th>\n",
       "      <th>municipality</th>\n",
       "      <th>houses</th>\n",
       "      <th>overlap</th>\n",
       "      <th>str_type</th>\n",
       "    </tr>\n",
       "  </thead>\n",
       "  <tbody>\n",
       "    <tr>\n",
       "      <th>0</th>\n",
       "      <td>Antakalnis</td>\n",
       "      <td>Ajerų g.</td>\n",
       "      <td>Vilnius</td>\n",
       "      <td>28.0</td>\n",
       "      <td>No</td>\n",
       "      <td>Kitas</td>\n",
       "    </tr>\n",
       "    <tr>\n",
       "      <th>1</th>\n",
       "      <td>Antakalnis</td>\n",
       "      <td>Algirdo Juliaus Greimo g.</td>\n",
       "      <td>Vilnius</td>\n",
       "      <td>17.0</td>\n",
       "      <td>No</td>\n",
       "      <td>Kitas</td>\n",
       "    </tr>\n",
       "  </tbody>\n",
       "</table>\n",
       "</div>"
      ],
      "text/plain": [
       "  neighbourhood                      street municipality  houses overlap  \\\n",
       "0    Antakalnis                   Ajerų g.       Vilnius    28.0      No   \n",
       "1    Antakalnis  Algirdo Juliaus Greimo g.       Vilnius    17.0      No   \n",
       "\n",
       "  str_type  \n",
       "0    Kitas  \n",
       "1    Kitas  "
      ]
     },
     "execution_count": 4,
     "metadata": {},
     "output_type": "execute_result"
    }
   ],
   "source": [
    "#Load flats\n",
    "hier=pd.read_csv(\"⁨neight.csv\", sep=';',encoding='utf-8')\n",
    "hier.head(2)"
   ]
  },
  {
   "cell_type": "markdown",
   "metadata": {},
   "source": [
    "## Data Check"
   ]
  },
  {
   "cell_type": "code",
   "execution_count": 5,
   "metadata": {},
   "outputs": [
    {
     "name": "stdout",
     "output_type": "stream",
     "text": [
      "<class 'pandas.core.frame.DataFrame'>\n",
      "RangeIndex: 6521 entries, 0 to 6520\n",
      "Data columns (total 12 columns):\n",
      "id                  6521 non-null int64\n",
      "street              6521 non-null object\n",
      "purpose             6518 non-null object\n",
      "area                6519 non-null float64\n",
      "area_useful         6519 non-null float64\n",
      "year                6510 non-null float64\n",
      "year_renov          289 non-null float64\n",
      "renov_status        6466 non-null object\n",
      "efficiency          1291 non-null object\n",
      "no_flats            6519 non-null float64\n",
      "not_living_flats    6510 non-null float64\n",
      "land                6513 non-null float64\n",
      "dtypes: float64(7), int64(1), object(4)\n",
      "memory usage: 611.4+ KB\n"
     ]
    }
   ],
   "source": [
    "flat.info()"
   ]
  },
  {
   "cell_type": "code",
   "execution_count": 6,
   "metadata": {},
   "outputs": [
    {
     "data": {
      "text/plain": [
       "(6521, 12)"
      ]
     },
     "execution_count": 6,
     "metadata": {},
     "output_type": "execute_result"
    }
   ],
   "source": [
    "flat.shape"
   ]
  },
  {
   "cell_type": "code",
   "execution_count": 7,
   "metadata": {},
   "outputs": [
    {
     "data": {
      "text/plain": [
       "id                     0\n",
       "street                 0\n",
       "purpose                3\n",
       "area                   2\n",
       "area_useful            2\n",
       "year                  11\n",
       "year_renov          6232\n",
       "renov_status          55\n",
       "efficiency          5230\n",
       "no_flats               2\n",
       "not_living_flats      11\n",
       "land                   8\n",
       "dtype: int64"
      ]
     },
     "execution_count": 7,
     "metadata": {},
     "output_type": "execute_result"
    }
   ],
   "source": [
    "# Count null records\n",
    "flat.isnull().sum()"
   ]
  },
  {
   "cell_type": "code",
   "execution_count": 8,
   "metadata": {},
   "outputs": [
    {
     "data": {
      "text/plain": [
       "id                  6521\n",
       "street              5993\n",
       "purpose               15\n",
       "area                6094\n",
       "area_useful         5840\n",
       "year                 106\n",
       "year_renov            13\n",
       "renov_status           6\n",
       "efficiency             8\n",
       "no_flats             170\n",
       "not_living_flats      98\n",
       "land                 132\n",
       "dtype: int64"
      ]
     },
     "execution_count": 8,
     "metadata": {},
     "output_type": "execute_result"
    }
   ],
   "source": [
    "# Count unique records\n",
    "flat.nunique()"
   ]
  },
  {
   "cell_type": "code",
   "execution_count": 9,
   "metadata": {},
   "outputs": [
    {
     "data": {
      "text/html": [
       "<div>\n",
       "<style scoped>\n",
       "    .dataframe tbody tr th:only-of-type {\n",
       "        vertical-align: middle;\n",
       "    }\n",
       "\n",
       "    .dataframe tbody tr th {\n",
       "        vertical-align: top;\n",
       "    }\n",
       "\n",
       "    .dataframe thead th {\n",
       "        text-align: right;\n",
       "    }\n",
       "</style>\n",
       "<table border=\"1\" class=\"dataframe\">\n",
       "  <thead>\n",
       "    <tr style=\"text-align: right;\">\n",
       "      <th></th>\n",
       "      <th>id</th>\n",
       "      <th>street</th>\n",
       "      <th>purpose</th>\n",
       "      <th>area</th>\n",
       "      <th>area_useful</th>\n",
       "      <th>year</th>\n",
       "      <th>year_renov</th>\n",
       "      <th>renov_status</th>\n",
       "      <th>efficiency</th>\n",
       "      <th>no_flats</th>\n",
       "      <th>not_living_flats</th>\n",
       "      <th>land</th>\n",
       "    </tr>\n",
       "  </thead>\n",
       "  <tbody>\n",
       "    <tr>\n",
       "      <th>1474</th>\n",
       "      <td>1475</td>\n",
       "      <td>P. Vileišio g. 14</td>\n",
       "      <td>Gyvenamoji (trys ir daugiau butų)</td>\n",
       "      <td>3450.17</td>\n",
       "      <td>2993.87</td>\n",
       "      <td>1969.0</td>\n",
       "      <td>NaN</td>\n",
       "      <td>Nerenovuotas</td>\n",
       "      <td>NaN</td>\n",
       "      <td>51.0</td>\n",
       "      <td>0.0</td>\n",
       "      <td>0.0</td>\n",
       "    </tr>\n",
       "    <tr>\n",
       "      <th>1751</th>\n",
       "      <td>1752</td>\n",
       "      <td>Sakalų g. 23</td>\n",
       "      <td>Gyvenamoji (trys ir daugiau butų)</td>\n",
       "      <td>1512.03</td>\n",
       "      <td>1492.17</td>\n",
       "      <td>1993.0</td>\n",
       "      <td>NaN</td>\n",
       "      <td>Nerenovuotas</td>\n",
       "      <td>NaN</td>\n",
       "      <td>28.0</td>\n",
       "      <td>0.0</td>\n",
       "      <td>0.4</td>\n",
       "    </tr>\n",
       "    <tr>\n",
       "      <th>6174</th>\n",
       "      <td>6178</td>\n",
       "      <td>Naugarduko g. 37</td>\n",
       "      <td>Gyvenamoji (trys ir daugiau butų)</td>\n",
       "      <td>264.31</td>\n",
       "      <td>225.77</td>\n",
       "      <td>1940.0</td>\n",
       "      <td>NaN</td>\n",
       "      <td>Nerenovuotas</td>\n",
       "      <td>D</td>\n",
       "      <td>4.0</td>\n",
       "      <td>0.0</td>\n",
       "      <td>0.0</td>\n",
       "    </tr>\n",
       "    <tr>\n",
       "      <th>5352</th>\n",
       "      <td>5354</td>\n",
       "      <td>A. Jaroševičiaus g. 10</td>\n",
       "      <td>Gyvenamoji (trys ir daugiau butų)</td>\n",
       "      <td>161.03</td>\n",
       "      <td>161.03</td>\n",
       "      <td>1940.0</td>\n",
       "      <td>NaN</td>\n",
       "      <td>Nerenovuotas</td>\n",
       "      <td>NaN</td>\n",
       "      <td>4.0</td>\n",
       "      <td>0.0</td>\n",
       "      <td>0.0</td>\n",
       "    </tr>\n",
       "    <tr>\n",
       "      <th>4531</th>\n",
       "      <td>4533</td>\n",
       "      <td>Gelvonų g. 28</td>\n",
       "      <td>Gyvenamoji (trys ir daugiau butų)</td>\n",
       "      <td>1371.94</td>\n",
       "      <td>1089.00</td>\n",
       "      <td>1982.0</td>\n",
       "      <td>NaN</td>\n",
       "      <td>Nerenovuotas</td>\n",
       "      <td>D</td>\n",
       "      <td>20.0</td>\n",
       "      <td>0.0</td>\n",
       "      <td>0.0</td>\n",
       "    </tr>\n",
       "  </tbody>\n",
       "</table>\n",
       "</div>"
      ],
      "text/plain": [
       "        id                  street                            purpose  \\\n",
       "1474  1475       P. Vileišio g. 14  Gyvenamoji (trys ir daugiau butų)   \n",
       "1751  1752            Sakalų g. 23  Gyvenamoji (trys ir daugiau butų)   \n",
       "6174  6178        Naugarduko g. 37  Gyvenamoji (trys ir daugiau butų)   \n",
       "5352  5354  A. Jaroševičiaus g. 10  Gyvenamoji (trys ir daugiau butų)   \n",
       "4531  4533           Gelvonų g. 28  Gyvenamoji (trys ir daugiau butų)   \n",
       "\n",
       "         area  area_useful    year  year_renov  renov_status efficiency  \\\n",
       "1474  3450.17      2993.87  1969.0         NaN  Nerenovuotas        NaN   \n",
       "1751  1512.03      1492.17  1993.0         NaN  Nerenovuotas        NaN   \n",
       "6174   264.31       225.77  1940.0         NaN  Nerenovuotas          D   \n",
       "5352   161.03       161.03  1940.0         NaN  Nerenovuotas        NaN   \n",
       "4531  1371.94      1089.00  1982.0         NaN  Nerenovuotas          D   \n",
       "\n",
       "      no_flats  not_living_flats  land  \n",
       "1474      51.0               0.0   0.0  \n",
       "1751      28.0               0.0   0.4  \n",
       "6174       4.0               0.0   0.0  \n",
       "5352       4.0               0.0   0.0  \n",
       "4531      20.0               0.0   0.0  "
      ]
     },
     "execution_count": 9,
     "metadata": {},
     "output_type": "execute_result"
    }
   ],
   "source": [
    "flat.sample(5)"
   ]
  },
  {
   "cell_type": "markdown",
   "metadata": {},
   "source": [
    "## Data Cleaning and Augmentation"
   ]
  },
  {
   "cell_type": "markdown",
   "metadata": {},
   "source": [
    "### Droping Empty Rows"
   ]
  },
  {
   "cell_type": "code",
   "execution_count": 10,
   "metadata": {},
   "outputs": [
    {
     "data": {
      "text/html": [
       "<div>\n",
       "<style scoped>\n",
       "    .dataframe tbody tr th:only-of-type {\n",
       "        vertical-align: middle;\n",
       "    }\n",
       "\n",
       "    .dataframe tbody tr th {\n",
       "        vertical-align: top;\n",
       "    }\n",
       "\n",
       "    .dataframe thead th {\n",
       "        text-align: right;\n",
       "    }\n",
       "</style>\n",
       "<table border=\"1\" class=\"dataframe\">\n",
       "  <thead>\n",
       "    <tr style=\"text-align: right;\">\n",
       "      <th></th>\n",
       "      <th>id</th>\n",
       "      <th>street</th>\n",
       "      <th>purpose</th>\n",
       "      <th>area</th>\n",
       "      <th>area_useful</th>\n",
       "      <th>year</th>\n",
       "      <th>year_renov</th>\n",
       "      <th>renov_status</th>\n",
       "      <th>efficiency</th>\n",
       "      <th>no_flats</th>\n",
       "      <th>not_living_flats</th>\n",
       "      <th>land</th>\n",
       "    </tr>\n",
       "  </thead>\n",
       "  <tbody>\n",
       "    <tr>\n",
       "      <th>6490</th>\n",
       "      <td>6497</td>\n",
       "      <td>Santariškių g. 117</td>\n",
       "      <td>Gyvenamoji (trys ir daugiau butų)</td>\n",
       "      <td>1833.48</td>\n",
       "      <td>1680.46</td>\n",
       "      <td>NaN</td>\n",
       "      <td>NaN</td>\n",
       "      <td>NaN</td>\n",
       "      <td>NaN</td>\n",
       "      <td>30.0</td>\n",
       "      <td>15.0</td>\n",
       "      <td>0.62</td>\n",
       "    </tr>\n",
       "    <tr>\n",
       "      <th>6491</th>\n",
       "      <td>6498</td>\n",
       "      <td>Santariškių g. 115</td>\n",
       "      <td>Gyvenamoji (trys ir daugiau butų)</td>\n",
       "      <td>2340.29</td>\n",
       "      <td>2073.73</td>\n",
       "      <td>NaN</td>\n",
       "      <td>NaN</td>\n",
       "      <td>NaN</td>\n",
       "      <td>NaN</td>\n",
       "      <td>35.0</td>\n",
       "      <td>29.0</td>\n",
       "      <td>0.62</td>\n",
       "    </tr>\n",
       "    <tr>\n",
       "      <th>6496</th>\n",
       "      <td>6505</td>\n",
       "      <td>Sparno g. 4</td>\n",
       "      <td>NaN</td>\n",
       "      <td>NaN</td>\n",
       "      <td>NaN</td>\n",
       "      <td>NaN</td>\n",
       "      <td>NaN</td>\n",
       "      <td>NaN</td>\n",
       "      <td>NaN</td>\n",
       "      <td>NaN</td>\n",
       "      <td>NaN</td>\n",
       "      <td>NaN</td>\n",
       "    </tr>\n",
       "    <tr>\n",
       "      <th>6497</th>\n",
       "      <td>6506</td>\n",
       "      <td>Naujininkų g. 2</td>\n",
       "      <td>NaN</td>\n",
       "      <td>NaN</td>\n",
       "      <td>NaN</td>\n",
       "      <td>NaN</td>\n",
       "      <td>NaN</td>\n",
       "      <td>NaN</td>\n",
       "      <td>NaN</td>\n",
       "      <td>NaN</td>\n",
       "      <td>NaN</td>\n",
       "      <td>NaN</td>\n",
       "    </tr>\n",
       "    <tr>\n",
       "      <th>6514</th>\n",
       "      <td>6523</td>\n",
       "      <td>Stirnų g. 23</td>\n",
       "      <td>Gyvenamoji (trys ir daugiau butų)</td>\n",
       "      <td>3479.44</td>\n",
       "      <td>2984.87</td>\n",
       "      <td>NaN</td>\n",
       "      <td>NaN</td>\n",
       "      <td>NaN</td>\n",
       "      <td>NaN</td>\n",
       "      <td>54.0</td>\n",
       "      <td>34.0</td>\n",
       "      <td>3479.44</td>\n",
       "    </tr>\n",
       "    <tr>\n",
       "      <th>6515</th>\n",
       "      <td>6524</td>\n",
       "      <td>Stumbrų g. 26B</td>\n",
       "      <td>Gyvenamoji (trys ir daugiau butų)</td>\n",
       "      <td>3229.87</td>\n",
       "      <td>2852.10</td>\n",
       "      <td>NaN</td>\n",
       "      <td>NaN</td>\n",
       "      <td>NaN</td>\n",
       "      <td>NaN</td>\n",
       "      <td>54.0</td>\n",
       "      <td>13.0</td>\n",
       "      <td>0.68</td>\n",
       "    </tr>\n",
       "    <tr>\n",
       "      <th>6516</th>\n",
       "      <td>6525</td>\n",
       "      <td>Stumbrų g. 26</td>\n",
       "      <td>Gyvenamoji (trys ir daugiau butų)</td>\n",
       "      <td>3991.43</td>\n",
       "      <td>3310.39</td>\n",
       "      <td>NaN</td>\n",
       "      <td>NaN</td>\n",
       "      <td>NaN</td>\n",
       "      <td>NaN</td>\n",
       "      <td>60.0</td>\n",
       "      <td>1.0</td>\n",
       "      <td>0.51</td>\n",
       "    </tr>\n",
       "    <tr>\n",
       "      <th>6517</th>\n",
       "      <td>6526</td>\n",
       "      <td>Stirnų g. 21</td>\n",
       "      <td>Gyvenamoji (trys ir daugiau butų)</td>\n",
       "      <td>3964.63</td>\n",
       "      <td>3327.61</td>\n",
       "      <td>NaN</td>\n",
       "      <td>NaN</td>\n",
       "      <td>NaN</td>\n",
       "      <td>NaN</td>\n",
       "      <td>60.0</td>\n",
       "      <td>1.0</td>\n",
       "      <td>0.51</td>\n",
       "    </tr>\n",
       "    <tr>\n",
       "      <th>6518</th>\n",
       "      <td>6527</td>\n",
       "      <td>Stumbrų g. 26A</td>\n",
       "      <td>Gyvenamoji (trys ir daugiau butų)</td>\n",
       "      <td>2855.18</td>\n",
       "      <td>2451.69</td>\n",
       "      <td>NaN</td>\n",
       "      <td>NaN</td>\n",
       "      <td>NaN</td>\n",
       "      <td>NaN</td>\n",
       "      <td>42.0</td>\n",
       "      <td>23.0</td>\n",
       "      <td>0.68</td>\n",
       "    </tr>\n",
       "    <tr>\n",
       "      <th>6519</th>\n",
       "      <td>6528</td>\n",
       "      <td>Linksmoji g. 139</td>\n",
       "      <td>NaN</td>\n",
       "      <td>5100.30</td>\n",
       "      <td>4422.15</td>\n",
       "      <td>NaN</td>\n",
       "      <td>NaN</td>\n",
       "      <td>NaN</td>\n",
       "      <td>NaN</td>\n",
       "      <td>79.0</td>\n",
       "      <td>67.0</td>\n",
       "      <td>0.31</td>\n",
       "    </tr>\n",
       "    <tr>\n",
       "      <th>6520</th>\n",
       "      <td>6529</td>\n",
       "      <td>M. K. Paco g. 19</td>\n",
       "      <td>Gyvenamoji (trys ir daugiau butų)</td>\n",
       "      <td>3645.90</td>\n",
       "      <td>2607.64</td>\n",
       "      <td>NaN</td>\n",
       "      <td>NaN</td>\n",
       "      <td>NaN</td>\n",
       "      <td>NaN</td>\n",
       "      <td>36.0</td>\n",
       "      <td>26.0</td>\n",
       "      <td>0.24</td>\n",
       "    </tr>\n",
       "  </tbody>\n",
       "</table>\n",
       "</div>"
      ],
      "text/plain": [
       "        id              street                            purpose     area  \\\n",
       "6490  6497  Santariškių g. 117  Gyvenamoji (trys ir daugiau butų)  1833.48   \n",
       "6491  6498  Santariškių g. 115  Gyvenamoji (trys ir daugiau butų)  2340.29   \n",
       "6496  6505         Sparno g. 4                                NaN      NaN   \n",
       "6497  6506     Naujininkų g. 2                                NaN      NaN   \n",
       "6514  6523        Stirnų g. 23  Gyvenamoji (trys ir daugiau butų)  3479.44   \n",
       "6515  6524      Stumbrų g. 26B  Gyvenamoji (trys ir daugiau butų)  3229.87   \n",
       "6516  6525       Stumbrų g. 26  Gyvenamoji (trys ir daugiau butų)  3991.43   \n",
       "6517  6526        Stirnų g. 21  Gyvenamoji (trys ir daugiau butų)  3964.63   \n",
       "6518  6527      Stumbrų g. 26A  Gyvenamoji (trys ir daugiau butų)  2855.18   \n",
       "6519  6528    Linksmoji g. 139                                NaN  5100.30   \n",
       "6520  6529    M. K. Paco g. 19  Gyvenamoji (trys ir daugiau butų)  3645.90   \n",
       "\n",
       "      area_useful  year  year_renov renov_status efficiency  no_flats  \\\n",
       "6490      1680.46   NaN         NaN          NaN        NaN      30.0   \n",
       "6491      2073.73   NaN         NaN          NaN        NaN      35.0   \n",
       "6496          NaN   NaN         NaN          NaN        NaN       NaN   \n",
       "6497          NaN   NaN         NaN          NaN        NaN       NaN   \n",
       "6514      2984.87   NaN         NaN          NaN        NaN      54.0   \n",
       "6515      2852.10   NaN         NaN          NaN        NaN      54.0   \n",
       "6516      3310.39   NaN         NaN          NaN        NaN      60.0   \n",
       "6517      3327.61   NaN         NaN          NaN        NaN      60.0   \n",
       "6518      2451.69   NaN         NaN          NaN        NaN      42.0   \n",
       "6519      4422.15   NaN         NaN          NaN        NaN      79.0   \n",
       "6520      2607.64   NaN         NaN          NaN        NaN      36.0   \n",
       "\n",
       "      not_living_flats     land  \n",
       "6490              15.0     0.62  \n",
       "6491              29.0     0.62  \n",
       "6496               NaN      NaN  \n",
       "6497               NaN      NaN  \n",
       "6514              34.0  3479.44  \n",
       "6515              13.0     0.68  \n",
       "6516               1.0     0.51  \n",
       "6517               1.0     0.51  \n",
       "6518              23.0     0.68  \n",
       "6519              67.0     0.31  \n",
       "6520              26.0     0.24  "
      ]
     },
     "execution_count": 10,
     "metadata": {},
     "output_type": "execute_result"
    }
   ],
   "source": [
    "flat[flat['year'].isnull() == True]"
   ]
  },
  {
   "cell_type": "code",
   "execution_count": 11,
   "metadata": {},
   "outputs": [
    {
     "data": {
      "text/html": [
       "<div>\n",
       "<style scoped>\n",
       "    .dataframe tbody tr th:only-of-type {\n",
       "        vertical-align: middle;\n",
       "    }\n",
       "\n",
       "    .dataframe tbody tr th {\n",
       "        vertical-align: top;\n",
       "    }\n",
       "\n",
       "    .dataframe thead th {\n",
       "        text-align: right;\n",
       "    }\n",
       "</style>\n",
       "<table border=\"1\" class=\"dataframe\">\n",
       "  <thead>\n",
       "    <tr style=\"text-align: right;\">\n",
       "      <th></th>\n",
       "      <th>id</th>\n",
       "      <th>street</th>\n",
       "      <th>purpose</th>\n",
       "      <th>area</th>\n",
       "      <th>area_useful</th>\n",
       "      <th>year</th>\n",
       "      <th>year_renov</th>\n",
       "      <th>renov_status</th>\n",
       "      <th>efficiency</th>\n",
       "      <th>no_flats</th>\n",
       "      <th>not_living_flats</th>\n",
       "      <th>land</th>\n",
       "    </tr>\n",
       "  </thead>\n",
       "  <tbody>\n",
       "    <tr>\n",
       "      <th>6490</th>\n",
       "      <td>6497</td>\n",
       "      <td>Santariškių g. 117</td>\n",
       "      <td>Gyvenamoji (trys ir daugiau butų)</td>\n",
       "      <td>1833.48</td>\n",
       "      <td>1680.46</td>\n",
       "      <td>NaN</td>\n",
       "      <td>NaN</td>\n",
       "      <td>NaN</td>\n",
       "      <td>NaN</td>\n",
       "      <td>30.0</td>\n",
       "      <td>15.0</td>\n",
       "      <td>0.62</td>\n",
       "    </tr>\n",
       "    <tr>\n",
       "      <th>6491</th>\n",
       "      <td>6498</td>\n",
       "      <td>Santariškių g. 115</td>\n",
       "      <td>Gyvenamoji (trys ir daugiau butų)</td>\n",
       "      <td>2340.29</td>\n",
       "      <td>2073.73</td>\n",
       "      <td>NaN</td>\n",
       "      <td>NaN</td>\n",
       "      <td>NaN</td>\n",
       "      <td>NaN</td>\n",
       "      <td>35.0</td>\n",
       "      <td>29.0</td>\n",
       "      <td>0.62</td>\n",
       "    </tr>\n",
       "    <tr>\n",
       "      <th>6514</th>\n",
       "      <td>6523</td>\n",
       "      <td>Stirnų g. 23</td>\n",
       "      <td>Gyvenamoji (trys ir daugiau butų)</td>\n",
       "      <td>3479.44</td>\n",
       "      <td>2984.87</td>\n",
       "      <td>NaN</td>\n",
       "      <td>NaN</td>\n",
       "      <td>NaN</td>\n",
       "      <td>NaN</td>\n",
       "      <td>54.0</td>\n",
       "      <td>34.0</td>\n",
       "      <td>3479.44</td>\n",
       "    </tr>\n",
       "    <tr>\n",
       "      <th>6515</th>\n",
       "      <td>6524</td>\n",
       "      <td>Stumbrų g. 26B</td>\n",
       "      <td>Gyvenamoji (trys ir daugiau butų)</td>\n",
       "      <td>3229.87</td>\n",
       "      <td>2852.10</td>\n",
       "      <td>NaN</td>\n",
       "      <td>NaN</td>\n",
       "      <td>NaN</td>\n",
       "      <td>NaN</td>\n",
       "      <td>54.0</td>\n",
       "      <td>13.0</td>\n",
       "      <td>0.68</td>\n",
       "    </tr>\n",
       "    <tr>\n",
       "      <th>6516</th>\n",
       "      <td>6525</td>\n",
       "      <td>Stumbrų g. 26</td>\n",
       "      <td>Gyvenamoji (trys ir daugiau butų)</td>\n",
       "      <td>3991.43</td>\n",
       "      <td>3310.39</td>\n",
       "      <td>NaN</td>\n",
       "      <td>NaN</td>\n",
       "      <td>NaN</td>\n",
       "      <td>NaN</td>\n",
       "      <td>60.0</td>\n",
       "      <td>1.0</td>\n",
       "      <td>0.51</td>\n",
       "    </tr>\n",
       "    <tr>\n",
       "      <th>6517</th>\n",
       "      <td>6526</td>\n",
       "      <td>Stirnų g. 21</td>\n",
       "      <td>Gyvenamoji (trys ir daugiau butų)</td>\n",
       "      <td>3964.63</td>\n",
       "      <td>3327.61</td>\n",
       "      <td>NaN</td>\n",
       "      <td>NaN</td>\n",
       "      <td>NaN</td>\n",
       "      <td>NaN</td>\n",
       "      <td>60.0</td>\n",
       "      <td>1.0</td>\n",
       "      <td>0.51</td>\n",
       "    </tr>\n",
       "    <tr>\n",
       "      <th>6518</th>\n",
       "      <td>6527</td>\n",
       "      <td>Stumbrų g. 26A</td>\n",
       "      <td>Gyvenamoji (trys ir daugiau butų)</td>\n",
       "      <td>2855.18</td>\n",
       "      <td>2451.69</td>\n",
       "      <td>NaN</td>\n",
       "      <td>NaN</td>\n",
       "      <td>NaN</td>\n",
       "      <td>NaN</td>\n",
       "      <td>42.0</td>\n",
       "      <td>23.0</td>\n",
       "      <td>0.68</td>\n",
       "    </tr>\n",
       "    <tr>\n",
       "      <th>6519</th>\n",
       "      <td>6528</td>\n",
       "      <td>Linksmoji g. 139</td>\n",
       "      <td>NaN</td>\n",
       "      <td>5100.30</td>\n",
       "      <td>4422.15</td>\n",
       "      <td>NaN</td>\n",
       "      <td>NaN</td>\n",
       "      <td>NaN</td>\n",
       "      <td>NaN</td>\n",
       "      <td>79.0</td>\n",
       "      <td>67.0</td>\n",
       "      <td>0.31</td>\n",
       "    </tr>\n",
       "    <tr>\n",
       "      <th>6520</th>\n",
       "      <td>6529</td>\n",
       "      <td>M. K. Paco g. 19</td>\n",
       "      <td>Gyvenamoji (trys ir daugiau butų)</td>\n",
       "      <td>3645.90</td>\n",
       "      <td>2607.64</td>\n",
       "      <td>NaN</td>\n",
       "      <td>NaN</td>\n",
       "      <td>NaN</td>\n",
       "      <td>NaN</td>\n",
       "      <td>36.0</td>\n",
       "      <td>26.0</td>\n",
       "      <td>0.24</td>\n",
       "    </tr>\n",
       "  </tbody>\n",
       "</table>\n",
       "</div>"
      ],
      "text/plain": [
       "        id              street                            purpose     area  \\\n",
       "6490  6497  Santariškių g. 117  Gyvenamoji (trys ir daugiau butų)  1833.48   \n",
       "6491  6498  Santariškių g. 115  Gyvenamoji (trys ir daugiau butų)  2340.29   \n",
       "6514  6523        Stirnų g. 23  Gyvenamoji (trys ir daugiau butų)  3479.44   \n",
       "6515  6524      Stumbrų g. 26B  Gyvenamoji (trys ir daugiau butų)  3229.87   \n",
       "6516  6525       Stumbrų g. 26  Gyvenamoji (trys ir daugiau butų)  3991.43   \n",
       "6517  6526        Stirnų g. 21  Gyvenamoji (trys ir daugiau butų)  3964.63   \n",
       "6518  6527      Stumbrų g. 26A  Gyvenamoji (trys ir daugiau butų)  2855.18   \n",
       "6519  6528    Linksmoji g. 139                                NaN  5100.30   \n",
       "6520  6529    M. K. Paco g. 19  Gyvenamoji (trys ir daugiau butų)  3645.90   \n",
       "\n",
       "      area_useful  year  year_renov renov_status efficiency  no_flats  \\\n",
       "6490      1680.46   NaN         NaN          NaN        NaN      30.0   \n",
       "6491      2073.73   NaN         NaN          NaN        NaN      35.0   \n",
       "6514      2984.87   NaN         NaN          NaN        NaN      54.0   \n",
       "6515      2852.10   NaN         NaN          NaN        NaN      54.0   \n",
       "6516      3310.39   NaN         NaN          NaN        NaN      60.0   \n",
       "6517      3327.61   NaN         NaN          NaN        NaN      60.0   \n",
       "6518      2451.69   NaN         NaN          NaN        NaN      42.0   \n",
       "6519      4422.15   NaN         NaN          NaN        NaN      79.0   \n",
       "6520      2607.64   NaN         NaN          NaN        NaN      36.0   \n",
       "\n",
       "      not_living_flats     land  \n",
       "6490              15.0     0.62  \n",
       "6491              29.0     0.62  \n",
       "6514              34.0  3479.44  \n",
       "6515              13.0     0.68  \n",
       "6516               1.0     0.51  \n",
       "6517               1.0     0.51  \n",
       "6518              23.0     0.68  \n",
       "6519              67.0     0.31  \n",
       "6520              26.0     0.24  "
      ]
     },
     "execution_count": 11,
     "metadata": {},
     "output_type": "execute_result"
    }
   ],
   "source": [
    "flat.drop(index = [6496, 6497], inplace=True)\n",
    "flat[flat['year'].isnull() == True]"
   ]
  },
  {
   "cell_type": "markdown",
   "metadata": {},
   "source": [
    "### Split Street and House info"
   ]
  },
  {
   "cell_type": "code",
   "execution_count": 12,
   "metadata": {},
   "outputs": [],
   "source": [
    "flat['street'] = flat['street'].str.replace('Grigiškių', 'Grigiškės')\n",
    "flat['street'] = flat['street'].str.replace('Pagiriai', 'Pagirio g.')\n",
    "flat['street'] = flat['street'].str.replace('Rygos', 'Rygos g.')\n",
    "flat['street'] = flat['street'].str.replace('Trinapolio', 'Trinapolio g.')\n",
    "flat['street'] = flat['street'].str.replace('Medeinos', 'Medeinos g.')\n",
    "flat['street'] = flat['street'].str.replace('Šopeno', 'V. Šopeno g.')\n",
    "flat['street'] = flat['street'].str.replace('šešuol', 'Šešuolių g.')\n",
    "flat['street'] = flat['street'].str.replace('Pavilnionių', 'Pavilnionių g.')\n",
    "flat['street'] = flat['street'].str.replace('Žalioji aikštė', 'Žalioji a.')\n",
    "flat['street'] = flat['street'].str.replace('Grigiškės', 'Afindevičių g.')\n",
    "flat['street'] = flat['street'].str.replace('Žemynos .', 'Žemynos g.')\n",
    "flat['street'] = flat['street'].str.replace('Gerovės g.', 'Gerosios Vilties g.')\n",
    "flat['street'] = flat['street'].str.replace('Kubiliaus g.', 'J. Kubiliaus g.')\n",
    "flat['street'] = flat['street'].str.replace('V. Šopenog . g.', 'V. Šopenog g.')\n",
    "flat['street'] = flat['street'].str.replace('V. Druskio g.', 'Virginijaus Druskio g.')\n",
    "flat['street'] = flat['street'].str.replace('A. J. Povilaičio g.', 'Apolinaro Juozo Povilaičio g.')\n",
    "flat['street'] = flat['street'].str.replace('I. Šimulionio g.', 'Igno Šimulionio g.')\n",
    "flat['street'] = flat['street'].str.replace('Rygos g. g.', 'Rygos g.')\n",
    "flat['street'] = flat['street'].str.replace('V. V. Šopeno g. g.', 'V. Šopenog g.')\n",
    "flat['street'] = flat['street'].str.replace('S. Nėries g.', 'Salomėjos Nėries g.')\n",
    "flat['street'] = flat['street'].str.replace('V. Tverečiaus g.', 'Tverečiaus g.')\n",
    "flat['street'] = flat['street'].str.replace('Ž. Liauksmino g.', 'Žygimanto Liauksmino g.')\n",
    "flat['street'] = flat['street'].str.replace('M. Marcinkevičiaus g.', 'Mykolo Marcinkevičiaus g.')\n",
    "flat['street'] = flat['street'].str.replace('Medeinos g. g.', 'Medeinos g.')\n",
    "flat['street'] = flat['street'].str.replace('I.Šimulionio g.', 'Igno Šimulionio g.')\n",
    "flat['street'] = flat['street'].str.replace('Smuglevičiaus g.', 'Pranciškaus Smuglevičiaus g.')\n",
    "flat['street'] = flat['street'].str.replace('Miškinių g.', 'Miškinių Sodų g.')\n",
    "flat['street'] = flat['street'].str.replace('Tiškevičiaus g.', 'J. Tiškevičiaus g.')\n",
    "flat['street'] = flat['street'].str.replace('J. Tiškevičiaus', 'J. Tiškevičiaus g.')\n",
    "flat['street'] = flat['street'].str.replace('Sausio 13osios g.', 'Sausio 13-osios g.')\n",
    "flat['street'] = flat['street'].str.replace('Žemynos', 'Žemynos g.')\n",
    "flat['street'] = flat['street'].str.replace('D. Gerbutavičiaus g. ', 'Dariaus Gerbutavičiaus g.')\n",
    "flat['street'] = flat['street'].str.replace('Žirmūnų', 'Žirmūnų g.')\n",
    "flat['street'] = flat['street'].str.replace('M.Marcinkevičiaus g.', 'Mykolo Marcinkevičiaus g.')\n",
    "flat['street'] = flat['street'].str.replace('Žirmūnų g. g.', 'Žirmūnų g.')\n",
    "flat['street'] = flat['street'].str.replace('Žemynos g. g. .', 'Žemynos g.')\n",
    "flat['street'] = flat['street'].str.replace('Dariaus Gerbutavičiaus', 'Dariaus Gerbutavičiaus g.')\n",
    "flat['street'] = flat['street'].str.replace('Krivių .g', 'Krivių g.')\n",
    "flat['street'] = flat['street'].str.replace('Krivių.g', 'Krivių g.')\n",
    "flat['street'] = flat['street'].str.replace('Bajorų kel.', 'Bajorų kelias')\n",
    "flat['street'] = flat['street'].str.replace('Vydūno g. 14', 'Vydūno g.')\n",
    "flat['street'] = flat['street'].str.replace('Ladygos g.', 'Kazimiero Ladygos g.')\n",
    "flat['street'] = flat['street'].str.replace('Bukčių g.', 'M. Bukšos g.')\n",
    "flat['street'] = flat['street'].str.replace('Musninkų', 'Musninkų g.')\n",
    "flat['street'] = flat['street'].str.replace('Pušyno kel.', 'Pušyno kelias')\n",
    "flat['street'] = flat['street'].str.replace('V.Šopeno gg.', 'V. Šopeno g.')\n",
    "flat['street'] = flat['street'].str.replace('Donelaičio g.', 'K. Donelaičio g.')\n",
    "flat['street'] = flat['street'].str.replace('Lazdynų g.', 'Lazdynų Pelėdos skv.')\n",
    "flat['street'] = flat['street'].str.replace('J. J. Tiškevičiaus g.', 'J. Tiškevičiaus g.')\n",
    "flat['street'] = flat['street'].str.replace('V. V. Šopeno g.', 'V. Šopeno g.')\n",
    "flat['street'] = flat['street'].str.replace('Krivių g..', 'Krivių g.')\n"
   ]
  },
  {
   "cell_type": "code",
   "execution_count": 13,
   "metadata": {},
   "outputs": [
    {
     "data": {
      "text/html": [
       "<div>\n",
       "<style scoped>\n",
       "    .dataframe tbody tr th:only-of-type {\n",
       "        vertical-align: middle;\n",
       "    }\n",
       "\n",
       "    .dataframe tbody tr th {\n",
       "        vertical-align: top;\n",
       "    }\n",
       "\n",
       "    .dataframe thead th {\n",
       "        text-align: right;\n",
       "    }\n",
       "</style>\n",
       "<table border=\"1\" class=\"dataframe\">\n",
       "  <thead>\n",
       "    <tr style=\"text-align: right;\">\n",
       "      <th></th>\n",
       "      <th>id</th>\n",
       "      <th>street</th>\n",
       "      <th>purpose</th>\n",
       "      <th>area</th>\n",
       "      <th>area_useful</th>\n",
       "      <th>year</th>\n",
       "      <th>year_renov</th>\n",
       "      <th>renov_status</th>\n",
       "      <th>efficiency</th>\n",
       "      <th>no_flats</th>\n",
       "      <th>not_living_flats</th>\n",
       "      <th>land</th>\n",
       "      <th>house</th>\n",
       "    </tr>\n",
       "  </thead>\n",
       "  <tbody>\n",
       "    <tr>\n",
       "      <th>0</th>\n",
       "      <td>1</td>\n",
       "      <td>A. Goštauto g. 2</td>\n",
       "      <td>Gyvenamoji (trys ir daugiau butų)</td>\n",
       "      <td>6607.43</td>\n",
       "      <td>4360.68</td>\n",
       "      <td>1960.0</td>\n",
       "      <td>NaN</td>\n",
       "      <td>Nerenovuotas</td>\n",
       "      <td>NaN</td>\n",
       "      <td>53.0</td>\n",
       "      <td>4.0</td>\n",
       "      <td>0.00</td>\n",
       "      <td>2</td>\n",
       "    </tr>\n",
       "    <tr>\n",
       "      <th>1</th>\n",
       "      <td>2</td>\n",
       "      <td>A. Goštauto g. 3</td>\n",
       "      <td>Gyvenamoji (trys ir daugiau butų)</td>\n",
       "      <td>4304.17</td>\n",
       "      <td>2771.57</td>\n",
       "      <td>1957.0</td>\n",
       "      <td>NaN</td>\n",
       "      <td>Nerenovuotas</td>\n",
       "      <td>NaN</td>\n",
       "      <td>38.0</td>\n",
       "      <td>14.0</td>\n",
       "      <td>0.15</td>\n",
       "      <td>3</td>\n",
       "    </tr>\n",
       "    <tr>\n",
       "      <th>2</th>\n",
       "      <td>3</td>\n",
       "      <td>A. Jakšto g. 11</td>\n",
       "      <td>Gyvenamoji (trys ir daugiau butų)</td>\n",
       "      <td>182.92</td>\n",
       "      <td>123.47</td>\n",
       "      <td>1940.0</td>\n",
       "      <td>NaN</td>\n",
       "      <td>Nerenovuotas</td>\n",
       "      <td>NaN</td>\n",
       "      <td>2.0</td>\n",
       "      <td>2.0</td>\n",
       "      <td>0.00</td>\n",
       "      <td>11</td>\n",
       "    </tr>\n",
       "    <tr>\n",
       "      <th>3</th>\n",
       "      <td>4</td>\n",
       "      <td>A. Jakšto g. 2</td>\n",
       "      <td>Gyvenamoji (trys ir daugiau butų)</td>\n",
       "      <td>600.71</td>\n",
       "      <td>0.00</td>\n",
       "      <td>1938.0</td>\n",
       "      <td>NaN</td>\n",
       "      <td>Nerenovuotas</td>\n",
       "      <td>NaN</td>\n",
       "      <td>4.0</td>\n",
       "      <td>3.0</td>\n",
       "      <td>0.00</td>\n",
       "      <td>2</td>\n",
       "    </tr>\n",
       "    <tr>\n",
       "      <th>4</th>\n",
       "      <td>5</td>\n",
       "      <td>A. Jakšto g. 6A</td>\n",
       "      <td>Gyvenamoji (trys ir daugiau butų)</td>\n",
       "      <td>0.00</td>\n",
       "      <td>3531.56</td>\n",
       "      <td>2006.0</td>\n",
       "      <td>NaN</td>\n",
       "      <td>Nerenovuotas</td>\n",
       "      <td>NaN</td>\n",
       "      <td>40.0</td>\n",
       "      <td>8.0</td>\n",
       "      <td>0.15</td>\n",
       "      <td>6A</td>\n",
       "    </tr>\n",
       "  </tbody>\n",
       "</table>\n",
       "</div>"
      ],
      "text/plain": [
       "   id            street                            purpose     area  \\\n",
       "0   1  A. Goštauto g. 2  Gyvenamoji (trys ir daugiau butų)  6607.43   \n",
       "1   2  A. Goštauto g. 3  Gyvenamoji (trys ir daugiau butų)  4304.17   \n",
       "2   3   A. Jakšto g. 11  Gyvenamoji (trys ir daugiau butų)   182.92   \n",
       "3   4    A. Jakšto g. 2  Gyvenamoji (trys ir daugiau butų)   600.71   \n",
       "4   5   A. Jakšto g. 6A  Gyvenamoji (trys ir daugiau butų)     0.00   \n",
       "\n",
       "   area_useful    year  year_renov  renov_status efficiency  no_flats  \\\n",
       "0      4360.68  1960.0         NaN  Nerenovuotas        NaN      53.0   \n",
       "1      2771.57  1957.0         NaN  Nerenovuotas        NaN      38.0   \n",
       "2       123.47  1940.0         NaN  Nerenovuotas        NaN       2.0   \n",
       "3         0.00  1938.0         NaN  Nerenovuotas        NaN       4.0   \n",
       "4      3531.56  2006.0         NaN  Nerenovuotas        NaN      40.0   \n",
       "\n",
       "   not_living_flats  land house  \n",
       "0               4.0  0.00     2  \n",
       "1              14.0  0.15     3  \n",
       "2               2.0  0.00    11  \n",
       "3               3.0  0.00     2  \n",
       "4               8.0  0.15    6A  "
      ]
     },
     "execution_count": 13,
     "metadata": {},
     "output_type": "execute_result"
    }
   ],
   "source": [
    "flat['house'] = flat['street'].str[::-1].str.split(' ').str[0].str[::-1]\n",
    "flat.head(5)"
   ]
  },
  {
   "cell_type": "code",
   "execution_count": 14,
   "metadata": {},
   "outputs": [
    {
     "data": {
      "text/html": [
       "<div>\n",
       "<style scoped>\n",
       "    .dataframe tbody tr th:only-of-type {\n",
       "        vertical-align: middle;\n",
       "    }\n",
       "\n",
       "    .dataframe tbody tr th {\n",
       "        vertical-align: top;\n",
       "    }\n",
       "\n",
       "    .dataframe thead th {\n",
       "        text-align: right;\n",
       "    }\n",
       "</style>\n",
       "<table border=\"1\" class=\"dataframe\">\n",
       "  <thead>\n",
       "    <tr style=\"text-align: right;\">\n",
       "      <th></th>\n",
       "      <th>id</th>\n",
       "      <th>street</th>\n",
       "      <th>purpose</th>\n",
       "      <th>area</th>\n",
       "      <th>area_useful</th>\n",
       "      <th>year</th>\n",
       "      <th>year_renov</th>\n",
       "      <th>renov_status</th>\n",
       "      <th>efficiency</th>\n",
       "      <th>no_flats</th>\n",
       "      <th>not_living_flats</th>\n",
       "      <th>land</th>\n",
       "      <th>house</th>\n",
       "    </tr>\n",
       "  </thead>\n",
       "  <tbody>\n",
       "    <tr>\n",
       "      <th>6510</th>\n",
       "      <td>6519</td>\n",
       "      <td>IgnoŠimulioniog.</td>\n",
       "      <td>Gyvenamoji (trys ir daugiau butų)</td>\n",
       "      <td>1870.21</td>\n",
       "      <td>1570.41</td>\n",
       "      <td>1974.0</td>\n",
       "      <td>NaN</td>\n",
       "      <td>Nerenovuotas</td>\n",
       "      <td>F</td>\n",
       "      <td>30.0</td>\n",
       "      <td>0.0</td>\n",
       "      <td>0.00</td>\n",
       "      <td>10</td>\n",
       "    </tr>\n",
       "    <tr>\n",
       "      <th>1491</th>\n",
       "      <td>1492</td>\n",
       "      <td>Pajautosg.</td>\n",
       "      <td>Gyvenamoji (trys ir daugiau butų)</td>\n",
       "      <td>1346.84</td>\n",
       "      <td>1067.20</td>\n",
       "      <td>1999.0</td>\n",
       "      <td>NaN</td>\n",
       "      <td>Nerenovuotas</td>\n",
       "      <td>NaN</td>\n",
       "      <td>20.0</td>\n",
       "      <td>0.0</td>\n",
       "      <td>0.00</td>\n",
       "      <td>9</td>\n",
       "    </tr>\n",
       "    <tr>\n",
       "      <th>3725</th>\n",
       "      <td>3727</td>\n",
       "      <td>Pergalėsg.</td>\n",
       "      <td>Gyvenamoji (trys ir daugiau butų)</td>\n",
       "      <td>136.64</td>\n",
       "      <td>135.48</td>\n",
       "      <td>1940.0</td>\n",
       "      <td>NaN</td>\n",
       "      <td>Nerenovuotas</td>\n",
       "      <td>NaN</td>\n",
       "      <td>4.0</td>\n",
       "      <td>0.0</td>\n",
       "      <td>0.19</td>\n",
       "      <td>19</td>\n",
       "    </tr>\n",
       "    <tr>\n",
       "      <th>3585</th>\n",
       "      <td>3587</td>\n",
       "      <td>Džiaugsmog.</td>\n",
       "      <td>Gyvenamoji (trys ir daugiau butų)</td>\n",
       "      <td>200.72</td>\n",
       "      <td>200.72</td>\n",
       "      <td>1940.0</td>\n",
       "      <td>NaN</td>\n",
       "      <td>Nerenovuotas</td>\n",
       "      <td>NaN</td>\n",
       "      <td>3.0</td>\n",
       "      <td>0.0</td>\n",
       "      <td>0.26</td>\n",
       "      <td>33</td>\n",
       "    </tr>\n",
       "    <tr>\n",
       "      <th>2234</th>\n",
       "      <td>2235</td>\n",
       "      <td>Viršuliškiųg.</td>\n",
       "      <td>Gyvenamoji (trys ir daugiau butų)</td>\n",
       "      <td>3607.04</td>\n",
       "      <td>3329.07</td>\n",
       "      <td>1977.0</td>\n",
       "      <td>NaN</td>\n",
       "      <td>Nerenovuotas</td>\n",
       "      <td>NaN</td>\n",
       "      <td>60.0</td>\n",
       "      <td>4.0</td>\n",
       "      <td>0.00</td>\n",
       "      <td>55</td>\n",
       "    </tr>\n",
       "  </tbody>\n",
       "</table>\n",
       "</div>"
      ],
      "text/plain": [
       "        id            street                            purpose     area  \\\n",
       "6510  6519  IgnoŠimulioniog.  Gyvenamoji (trys ir daugiau butų)  1870.21   \n",
       "1491  1492        Pajautosg.  Gyvenamoji (trys ir daugiau butų)  1346.84   \n",
       "3725  3727        Pergalėsg.  Gyvenamoji (trys ir daugiau butų)   136.64   \n",
       "3585  3587       Džiaugsmog.  Gyvenamoji (trys ir daugiau butų)   200.72   \n",
       "2234  2235     Viršuliškiųg.  Gyvenamoji (trys ir daugiau butų)  3607.04   \n",
       "\n",
       "      area_useful    year  year_renov  renov_status efficiency  no_flats  \\\n",
       "6510      1570.41  1974.0         NaN  Nerenovuotas          F      30.0   \n",
       "1491      1067.20  1999.0         NaN  Nerenovuotas        NaN      20.0   \n",
       "3725       135.48  1940.0         NaN  Nerenovuotas        NaN       4.0   \n",
       "3585       200.72  1940.0         NaN  Nerenovuotas        NaN       3.0   \n",
       "2234      3329.07  1977.0         NaN  Nerenovuotas        NaN      60.0   \n",
       "\n",
       "      not_living_flats  land house  \n",
       "6510               0.0  0.00    10  \n",
       "1491               0.0  0.00     9  \n",
       "3725               0.0  0.19    19  \n",
       "3585               0.0  0.26    33  \n",
       "2234               4.0  0.00    55  "
      ]
     },
     "execution_count": 14,
     "metadata": {},
     "output_type": "execute_result"
    }
   ],
   "source": [
    "flat['street'] = flat['street'].str[::-1].str.split(' ').str[1:]\n",
    "flat['street'] = flat['street'].str.join('')\n",
    "flat['street'] = flat['street'].str[::-1]\n",
    "flat.sample(5)"
   ]
  },
  {
   "cell_type": "code",
   "execution_count": null,
   "metadata": {},
   "outputs": [],
   "source": []
  },
  {
   "cell_type": "code",
   "execution_count": 15,
   "metadata": {},
   "outputs": [
    {
     "data": {
      "text/plain": [
       "726"
      ]
     },
     "execution_count": 15,
     "metadata": {},
     "output_type": "execute_result"
    }
   ],
   "source": [
    "flat['street'].nunique()"
   ]
  },
  {
   "cell_type": "code",
   "execution_count": 16,
   "metadata": {},
   "outputs": [
    {
     "data": {
      "text/plain": [
       "526"
      ]
     },
     "execution_count": 16,
     "metadata": {},
     "output_type": "execute_result"
    }
   ],
   "source": [
    "flat['house'].nunique()"
   ]
  },
  {
   "cell_type": "markdown",
   "metadata": {},
   "source": [
    "### Flat Purpose"
   ]
  },
  {
   "cell_type": "code",
   "execution_count": 17,
   "metadata": {},
   "outputs": [
    {
     "data": {
      "text/plain": [
       "array(['Gyvenamoji (trys ir daugiau butų)',\n",
       "       'Gyvenamoji (įvairioms socialinėms grupėms)',\n",
       "       'Gyvenamoji (vieno buto pastatai)', 'Prekybos\\r\\n',\n",
       "       'Administracinė', 'Gyvenamoji (dviejų butų pastatas)',\n",
       "       'Nenustatyta', 'Viešbučių', 'Sudegęs', 'Bendrabutis',\n",
       "       'Gyvenamasis su visuomeninėmis patalpomis',\n",
       "       'Prekybinis - administracinis pastatas su gyvenamomis patalpomis',\n",
       "       'Daugiabutis gyvenamas namas/komercinė',\n",
       "       'Gyvenamasis komercinis kompleksas', 'Dvibutis', nan], dtype=object)"
      ]
     },
     "execution_count": 17,
     "metadata": {},
     "output_type": "execute_result"
    }
   ],
   "source": [
    "flat.purpose.unique()"
   ]
  },
  {
   "cell_type": "code",
   "execution_count": 18,
   "metadata": {},
   "outputs": [
    {
     "data": {
      "image/png": "[encoded data removed]",
      "text/plain": [
       "<Figure size 432x288 with 1 Axes>"
      ]
     },
     "metadata": {
      "needs_background": "light"
     },
     "output_type": "display_data"
    }
   ],
   "source": [
    "base_color=sb.color_palette()[0]\n",
    "flat2 = flat[flat['purpose'] != 'Gyvenamoji (trys ir daugiau butų)']\n",
    "order_rule=flat2['purpose'].value_counts().index\n",
    "sb.countplot(data=flat2, y='purpose', color=base_color, order=order_rule);"
   ]
  },
  {
   "cell_type": "code",
   "execution_count": 19,
   "metadata": {},
   "outputs": [
    {
     "data": {
      "text/plain": [
       "6378"
      ]
     },
     "execution_count": 19,
     "metadata": {},
     "output_type": "execute_result"
    }
   ],
   "source": [
    "flat[flat['purpose'] == 'Gyvenamoji (trys ir daugiau butų)']['id'].count()"
   ]
  },
  {
   "cell_type": "code",
   "execution_count": 20,
   "metadata": {},
   "outputs": [
    {
     "data": {
      "text/plain": [
       "1"
      ]
     },
     "execution_count": 20,
     "metadata": {},
     "output_type": "execute_result"
    }
   ],
   "source": [
    "flat['purpose'].isnull().sum()"
   ]
  },
  {
   "cell_type": "markdown",
   "metadata": {},
   "source": [
    "### Year"
   ]
  },
  {
   "cell_type": "code",
   "execution_count": 21,
   "metadata": {},
   "outputs": [
    {
     "data": {
      "text/plain": [
       "array([1960., 1957., 1940., 1938., 2006., 1955., 1959., 1953., 1972.,\n",
       "       1996., 1995., 1994., 2008., 1901., 1961., 1958., 1974., 1968.,\n",
       "       1975., 1963., 1964., 2001., 2002., 1967., 1966., 2007., 1970.,\n",
       "       1971., 1969., 1980., 1984., 1986., 1985., 1981., 2013., 1997.,\n",
       "       2009., 2000., 1993., 1989., 1982., 1977., 1983., 1965., 2004.,\n",
       "       1973., 1979., 1952., 2012., 2015., 1987., 2003.,    0., 1962.,\n",
       "       2005., 1976., 1978., 1998., 1923., 1999., 1944., 1950., 1990.,\n",
       "       1988., 1991., 1954., 1903., 2014., 1951., 1992., 1956., 1912.,\n",
       "       1934., 2010., 1935., 2016., 1937., 1911., 1933., 1930., 1928.,\n",
       "       2011., 2017., 1931., 1932., 1916., 1947., 1939., 1936., 1913.,\n",
       "       1948., 1922., 1910., 1946., 1929., 1914., 1941., 1905., 1942.,\n",
       "       1920., 1949., 1924., 1927., 1915., 1908., 1926.,   nan])"
      ]
     },
     "execution_count": 21,
     "metadata": {},
     "output_type": "execute_result"
    }
   ],
   "source": [
    "flat['year'].unique()"
   ]
  },
  {
   "cell_type": "code",
   "execution_count": 22,
   "metadata": {},
   "outputs": [
    {
     "data": {
      "text/plain": [
       "array([1960., 1957., 1940., 1938., 2006., 1955., 1959., 1953., 1972.,\n",
       "       1996., 1995., 1994., 2008., 1901., 1961., 1958., 1974., 1968.,\n",
       "       1975., 1963., 1964., 2001., 2002., 1967., 1966., 2007., 1970.,\n",
       "       1971., 1969., 1980., 1984., 1986., 1985., 1981., 2013., 1997.,\n",
       "       2009., 2000., 1993., 1989., 1982., 1977., 1983., 1965., 2004.,\n",
       "       1973., 1979., 1952., 2012., 2015., 1987., 2003.,   nan, 1962.,\n",
       "       2005., 1976., 1978., 1998., 1923., 1999., 1944., 1950., 1990.,\n",
       "       1988., 1991., 1954., 1903., 2014., 1951., 1992., 1956., 1912.,\n",
       "       1934., 2010., 1935., 2016., 1937., 1911., 1933., 1930., 1928.,\n",
       "       2011., 2017., 1931., 1932., 1916., 1947., 1939., 1936., 1913.,\n",
       "       1948., 1922., 1910., 1946., 1929., 1914., 1941., 1905., 1942.,\n",
       "       1920., 1949., 1924., 1927., 1915., 1908., 1926.])"
      ]
     },
     "execution_count": 22,
     "metadata": {},
     "output_type": "execute_result"
    }
   ],
   "source": [
    "flat['year'] = flat['year'].replace(0, np.nan)\n",
    "flat['year'].unique()"
   ]
  },
  {
   "cell_type": "code",
   "execution_count": 23,
   "metadata": {},
   "outputs": [
    {
     "data": {
      "image/png": "[encoded data removed]",
      "text/plain": [
       "<Figure size 1080x360 with 1 Axes>"
      ]
     },
     "metadata": {
      "needs_background": "light"
     },
     "output_type": "display_data"
    }
   ],
   "source": [
    "plt.figure(figsize = [15, 5]) \n",
    "flat['year'].hist(bins=40);"
   ]
  },
  {
   "cell_type": "code",
   "execution_count": 24,
   "metadata": {},
   "outputs": [
    {
     "data": {
      "text/html": [
       "<div>\n",
       "<style scoped>\n",
       "    .dataframe tbody tr th:only-of-type {\n",
       "        vertical-align: middle;\n",
       "    }\n",
       "\n",
       "    .dataframe tbody tr th {\n",
       "        vertical-align: top;\n",
       "    }\n",
       "\n",
       "    .dataframe thead th {\n",
       "        text-align: right;\n",
       "    }\n",
       "</style>\n",
       "<table border=\"1\" class=\"dataframe\">\n",
       "  <thead>\n",
       "    <tr style=\"text-align: right;\">\n",
       "      <th></th>\n",
       "      <th>id</th>\n",
       "      <th>street</th>\n",
       "      <th>purpose</th>\n",
       "      <th>area</th>\n",
       "      <th>area_useful</th>\n",
       "      <th>year</th>\n",
       "      <th>year_renov</th>\n",
       "      <th>renov_status</th>\n",
       "      <th>efficiency</th>\n",
       "      <th>no_flats</th>\n",
       "      <th>not_living_flats</th>\n",
       "      <th>land</th>\n",
       "      <th>house</th>\n",
       "    </tr>\n",
       "  </thead>\n",
       "  <tbody>\n",
       "    <tr>\n",
       "      <th>2218</th>\n",
       "      <td>2219</td>\n",
       "      <td>Vilniausg.</td>\n",
       "      <td>Gyvenamoji (trys ir daugiau butų)</td>\n",
       "      <td>0.00</td>\n",
       "      <td>0.00</td>\n",
       "      <td>NaN</td>\n",
       "      <td>NaN</td>\n",
       "      <td>Nerenovuotas</td>\n",
       "      <td>NaN</td>\n",
       "      <td>0.0</td>\n",
       "      <td>0.0</td>\n",
       "      <td>0.00</td>\n",
       "      <td>6A</td>\n",
       "    </tr>\n",
       "    <tr>\n",
       "      <th>2212</th>\n",
       "      <td>2213</td>\n",
       "      <td>Vilniausg.</td>\n",
       "      <td>Gyvenamoji (įvairioms socialinėms grupėms)</td>\n",
       "      <td>0.00</td>\n",
       "      <td>0.00</td>\n",
       "      <td>NaN</td>\n",
       "      <td>NaN</td>\n",
       "      <td>Nerenovuotas</td>\n",
       "      <td>NaN</td>\n",
       "      <td>0.0</td>\n",
       "      <td>0.0</td>\n",
       "      <td>0.00</td>\n",
       "      <td>2</td>\n",
       "    </tr>\n",
       "    <tr>\n",
       "      <th>2613</th>\n",
       "      <td>2615</td>\n",
       "      <td>Rūtųg.</td>\n",
       "      <td>Gyvenamoji (trys ir daugiau butų)</td>\n",
       "      <td>122.36</td>\n",
       "      <td>90.37</td>\n",
       "      <td>NaN</td>\n",
       "      <td>NaN</td>\n",
       "      <td>Nerenovuotas</td>\n",
       "      <td>NaN</td>\n",
       "      <td>4.0</td>\n",
       "      <td>0.0</td>\n",
       "      <td>0.00</td>\n",
       "      <td>19</td>\n",
       "    </tr>\n",
       "    <tr>\n",
       "      <th>6518</th>\n",
       "      <td>6527</td>\n",
       "      <td>Stumbrųg.</td>\n",
       "      <td>Gyvenamoji (trys ir daugiau butų)</td>\n",
       "      <td>2855.18</td>\n",
       "      <td>2451.69</td>\n",
       "      <td>NaN</td>\n",
       "      <td>NaN</td>\n",
       "      <td>NaN</td>\n",
       "      <td>NaN</td>\n",
       "      <td>42.0</td>\n",
       "      <td>23.0</td>\n",
       "      <td>0.68</td>\n",
       "      <td>26A</td>\n",
       "    </tr>\n",
       "    <tr>\n",
       "      <th>1945</th>\n",
       "      <td>1946</td>\n",
       "      <td>Šviesosg.</td>\n",
       "      <td>Gyvenamoji (trys ir daugiau butų)</td>\n",
       "      <td>0.00</td>\n",
       "      <td>0.00</td>\n",
       "      <td>NaN</td>\n",
       "      <td>NaN</td>\n",
       "      <td>Nerenovuotas</td>\n",
       "      <td>NaN</td>\n",
       "      <td>0.0</td>\n",
       "      <td>0.0</td>\n",
       "      <td>0.00</td>\n",
       "      <td>3</td>\n",
       "    </tr>\n",
       "  </tbody>\n",
       "</table>\n",
       "</div>"
      ],
      "text/plain": [
       "        id      street                                     purpose     area  \\\n",
       "2218  2219  Vilniausg.           Gyvenamoji (trys ir daugiau butų)     0.00   \n",
       "2212  2213  Vilniausg.  Gyvenamoji (įvairioms socialinėms grupėms)     0.00   \n",
       "2613  2615      Rūtųg.           Gyvenamoji (trys ir daugiau butų)   122.36   \n",
       "6518  6527   Stumbrųg.           Gyvenamoji (trys ir daugiau butų)  2855.18   \n",
       "1945  1946   Šviesosg.           Gyvenamoji (trys ir daugiau butų)     0.00   \n",
       "\n",
       "      area_useful  year  year_renov  renov_status efficiency  no_flats  \\\n",
       "2218         0.00   NaN         NaN  Nerenovuotas        NaN       0.0   \n",
       "2212         0.00   NaN         NaN  Nerenovuotas        NaN       0.0   \n",
       "2613        90.37   NaN         NaN  Nerenovuotas        NaN       4.0   \n",
       "6518      2451.69   NaN         NaN           NaN        NaN      42.0   \n",
       "1945         0.00   NaN         NaN  Nerenovuotas        NaN       0.0   \n",
       "\n",
       "      not_living_flats  land house  \n",
       "2218               0.0  0.00    6A  \n",
       "2212               0.0  0.00     2  \n",
       "2613               0.0  0.00    19  \n",
       "6518              23.0  0.68   26A  \n",
       "1945               0.0  0.00     3  "
      ]
     },
     "execution_count": 24,
     "metadata": {},
     "output_type": "execute_result"
    }
   ],
   "source": [
    "flat[flat['year'].isnull() == True].sample(5)"
   ]
  },
  {
   "cell_type": "markdown",
   "metadata": {},
   "source": [
    "### Renovation Year"
   ]
  },
  {
   "cell_type": "code",
   "execution_count": 25,
   "metadata": {},
   "outputs": [
    {
     "data": {
      "text/plain": [
       "array([  nan, 2017., 2016., 2007., 2006., 2010., 2008., 2009., 2015.,\n",
       "       2005., 2000., 2011., 2014., 2013.])"
      ]
     },
     "execution_count": 25,
     "metadata": {},
     "output_type": "execute_result"
    }
   ],
   "source": [
    "flat['year_renov'].unique()"
   ]
  },
  {
   "cell_type": "code",
   "execution_count": 26,
   "metadata": {},
   "outputs": [
    {
     "data": {
      "text/plain": [
       "array([  nan, 2017., 2016., 2007., 2006., 2010., 2008., 2009., 2015.,\n",
       "       2005., 2000., 2011., 2014., 2013.])"
      ]
     },
     "execution_count": 26,
     "metadata": {},
     "output_type": "execute_result"
    }
   ],
   "source": [
    "flat['year_renov'] = flat['year_renov'].replace(0, np.nan)\n",
    "flat['year_renov'].unique()"
   ]
  },
  {
   "cell_type": "code",
   "execution_count": 27,
   "metadata": {},
   "outputs": [
    {
     "data": {
      "image/png": "[encoded data removed]",
      "text/plain": [
       "<Figure size 720x216 with 1 Axes>"
      ]
     },
     "metadata": {
      "needs_background": "light"
     },
     "output_type": "display_data"
    }
   ],
   "source": [
    "plt.figure(figsize = [10, 3]) \n",
    "flat['year_renov'].hist(bins = 30);"
   ]
  },
  {
   "cell_type": "markdown",
   "metadata": {},
   "source": [
    "### Renovation Status"
   ]
  },
  {
   "cell_type": "code",
   "execution_count": 28,
   "metadata": {},
   "outputs": [
    {
     "data": {
      "image/png": "[encoded data removed]",
      "text/plain": [
       "<Figure size 432x288 with 1 Axes>"
      ]
     },
     "metadata": {
      "needs_background": "light"
     },
     "output_type": "display_data"
    }
   ],
   "source": [
    "base_color=sb.color_palette()[0]\n",
    "order_rule=flat['renov_status'].value_counts().index\n",
    "sb.countplot(data=flat, y='renov_status', color=base_color, order=order_rule);"
   ]
  },
  {
   "cell_type": "code",
   "execution_count": 29,
   "metadata": {},
   "outputs": [
    {
     "data": {
      "text/plain": [
       "53"
      ]
     },
     "execution_count": 29,
     "metadata": {},
     "output_type": "execute_result"
    }
   ],
   "source": [
    "flat['renov_status'].isnull().sum()"
   ]
  },
  {
   "cell_type": "code",
   "execution_count": 30,
   "metadata": {},
   "outputs": [
    {
     "data": {
      "text/plain": [
       "0"
      ]
     },
     "execution_count": 30,
     "metadata": {},
     "output_type": "execute_result"
    }
   ],
   "source": [
    "flat['renov_status'].replace(np.nan, 'Nerenovuotas', inplace = True, regex = True)\n",
    "flat['renov_status'].isnull().sum()"
   ]
  },
  {
   "cell_type": "code",
   "execution_count": 31,
   "metadata": {},
   "outputs": [
    {
     "data": {
      "text/plain": [
       "array(['Nerenovuotas', 'Renovuotas', 'Renovuojamas', 'Dalinė renovacija',\n",
       "       'Galimai renovuotųsi', 'Planuojamas renovuoti'], dtype=object)"
      ]
     },
     "execution_count": 31,
     "metadata": {},
     "output_type": "execute_result"
    }
   ],
   "source": [
    "flat['renov_status'].unique()"
   ]
  },
  {
   "cell_type": "markdown",
   "metadata": {},
   "source": [
    "### House Efficiency"
   ]
  },
  {
   "cell_type": "code",
   "execution_count": 32,
   "metadata": {},
   "outputs": [
    {
     "data": {
      "image/png": "[encoded data removed]",
      "text/plain": [
       "<Figure size 432x288 with 1 Axes>"
      ]
     },
     "metadata": {
      "needs_background": "light"
     },
     "output_type": "display_data"
    }
   ],
   "source": [
    "base_color=sb.color_palette()[0]\n",
    "order_rule=flat['efficiency'].value_counts().index\n",
    "sb.countplot(data=flat, y='efficiency', color=base_color, order=order_rule);"
   ]
  },
  {
   "cell_type": "code",
   "execution_count": 33,
   "metadata": {},
   "outputs": [
    {
     "data": {
      "text/plain": [
       "0.8019634913330266"
      ]
     },
     "execution_count": 33,
     "metadata": {},
     "output_type": "execute_result"
    }
   ],
   "source": [
    "flat['efficiency'].isnull().mean()"
   ]
  },
  {
   "cell_type": "markdown",
   "metadata": {},
   "source": [
    "### Number of Flats in the Building"
   ]
  },
  {
   "cell_type": "code",
   "execution_count": 34,
   "metadata": {},
   "outputs": [
    {
     "name": "stdout",
     "output_type": "stream",
     "text": [
      "Number of records without information: 0\n",
      "Total number of appartments: 214450.0\n"
     ]
    }
   ],
   "source": [
    "print('Number of records without information: {}'.format(flat['no_flats'].isnull().sum()))\n",
    "print('Total number of appartments: {}'.format(flat['no_flats'].sum()))"
   ]
  },
  {
   "cell_type": "code",
   "execution_count": 35,
   "metadata": {},
   "outputs": [
    {
     "data": {
      "image/png": "[encoded data removed]",
      "text/plain": [
       "<Figure size 432x288 with 1 Axes>"
      ]
     },
     "metadata": {
      "needs_background": "light"
     },
     "output_type": "display_data"
    }
   ],
   "source": [
    "flat['no_flats'].hist(bins = 25);"
   ]
  },
  {
   "cell_type": "code",
   "execution_count": 36,
   "metadata": {},
   "outputs": [
    {
     "data": {
      "image/png": "[encoded data removed]",
      "text/plain": [
       "<Figure size 432x288 with 1 Axes>"
      ]
     },
     "metadata": {
      "needs_background": "light"
     },
     "output_type": "display_data"
    }
   ],
   "source": [
    "a = flat[flat['no_flats']==0]\n",
    "sb.countplot(data = a, y ='purpose');"
   ]
  },
  {
   "cell_type": "code",
   "execution_count": 37,
   "metadata": {},
   "outputs": [],
   "source": [
    "flat['no_flats'] = flat['no_flats'].replace(0, np.nan)"
   ]
  },
  {
   "cell_type": "markdown",
   "metadata": {},
   "source": [
    "### Number of Not Occupied Flats"
   ]
  },
  {
   "cell_type": "code",
   "execution_count": 38,
   "metadata": {},
   "outputs": [
    {
     "data": {
      "text/plain": [
       "9"
      ]
     },
     "execution_count": 38,
     "metadata": {},
     "output_type": "execute_result"
    }
   ],
   "source": [
    "flat['not_living_flats'].isnull().sum()"
   ]
  },
  {
   "cell_type": "code",
   "execution_count": 39,
   "metadata": {},
   "outputs": [
    {
     "data": {
      "text/plain": [
       "0"
      ]
     },
     "execution_count": 39,
     "metadata": {},
     "output_type": "execute_result"
    }
   ],
   "source": [
    "flat['not_living_flats'].replace(np.nan, 0, inplace = True, regex = True)\n",
    "flat['not_living_flats'].isnull().sum()"
   ]
  },
  {
   "cell_type": "code",
   "execution_count": 40,
   "metadata": {},
   "outputs": [
    {
     "data": {
      "image/png": "[encoded data removed]",
      "text/plain": [
       "<Figure size 432x288 with 1 Axes>"
      ]
     },
     "metadata": {
      "needs_background": "light"
     },
     "output_type": "display_data"
    }
   ],
   "source": [
    "flat[flat['not_living_flats'] != 0]['not_living_flats'].hist(bins = 25);"
   ]
  },
  {
   "cell_type": "markdown",
   "metadata": {},
   "source": [
    "### Land"
   ]
  },
  {
   "cell_type": "code",
   "execution_count": 41,
   "metadata": {},
   "outputs": [
    {
     "data": {
      "text/plain": [
       "6"
      ]
     },
     "execution_count": 41,
     "metadata": {},
     "output_type": "execute_result"
    }
   ],
   "source": [
    "flat['land'].isnull().sum()"
   ]
  },
  {
   "cell_type": "code",
   "execution_count": 42,
   "metadata": {},
   "outputs": [
    {
     "data": {
      "text/plain": [
       "0"
      ]
     },
     "execution_count": 42,
     "metadata": {},
     "output_type": "execute_result"
    }
   ],
   "source": [
    "flat['land'].replace(np.nan, 0, inplace = True)\n",
    "flat['land'].isnull().sum()"
   ]
  },
  {
   "cell_type": "code",
   "execution_count": 43,
   "metadata": {},
   "outputs": [
    {
     "data": {
      "text/plain": [
       "count     6519.000000\n",
       "mean        96.844699\n",
       "std       1939.744334\n",
       "min          0.000000\n",
       "25%          0.000000\n",
       "50%          0.000000\n",
       "75%          0.000000\n",
       "max      39190.000000\n",
       "Name: land, dtype: float64"
      ]
     },
     "execution_count": 43,
     "metadata": {},
     "output_type": "execute_result"
    }
   ],
   "source": [
    "flat['land'].describe()"
   ]
  },
  {
   "cell_type": "markdown",
   "metadata": {},
   "source": [
    "## Merge with Hierarchy"
   ]
  },
  {
   "cell_type": "code",
   "execution_count": 54,
   "metadata": {},
   "outputs": [
    {
     "data": {
      "text/html": [
       "<div>\n",
       "<style scoped>\n",
       "    .dataframe tbody tr th:only-of-type {\n",
       "        vertical-align: middle;\n",
       "    }\n",
       "\n",
       "    .dataframe tbody tr th {\n",
       "        vertical-align: top;\n",
       "    }\n",
       "\n",
       "    .dataframe thead th {\n",
       "        text-align: right;\n",
       "    }\n",
       "</style>\n",
       "<table border=\"1\" class=\"dataframe\">\n",
       "  <thead>\n",
       "    <tr style=\"text-align: right;\">\n",
       "      <th></th>\n",
       "      <th>neighbourhood</th>\n",
       "      <th>street</th>\n",
       "      <th>municipality</th>\n",
       "      <th>houses</th>\n",
       "      <th>overlap</th>\n",
       "      <th>str_type</th>\n",
       "    </tr>\n",
       "  </thead>\n",
       "  <tbody>\n",
       "    <tr>\n",
       "      <th>0</th>\n",
       "      <td>Antakalnis</td>\n",
       "      <td>Ajerųg.</td>\n",
       "      <td>Vilnius</td>\n",
       "      <td>28.0</td>\n",
       "      <td>No</td>\n",
       "      <td>Kitas</td>\n",
       "    </tr>\n",
       "    <tr>\n",
       "      <th>1</th>\n",
       "      <td>Antakalnis</td>\n",
       "      <td>AlgirdoJuliausGreimog.</td>\n",
       "      <td>Vilnius</td>\n",
       "      <td>17.0</td>\n",
       "      <td>No</td>\n",
       "      <td>Kitas</td>\n",
       "    </tr>\n",
       "    <tr>\n",
       "      <th>2</th>\n",
       "      <td>Antakalnis</td>\n",
       "      <td>Anapiliog.</td>\n",
       "      <td>Vilnius</td>\n",
       "      <td>48.0</td>\n",
       "      <td>No</td>\n",
       "      <td>Kitas</td>\n",
       "    </tr>\n",
       "    <tr>\n",
       "      <th>3</th>\n",
       "      <td>Antakalnis</td>\n",
       "      <td>Antakalniog.</td>\n",
       "      <td>Vilnius</td>\n",
       "      <td>147.0</td>\n",
       "      <td>No</td>\n",
       "      <td>Kitas</td>\n",
       "    </tr>\n",
       "    <tr>\n",
       "      <th>4</th>\n",
       "      <td>Antakalnis</td>\n",
       "      <td>AntanoŠkėmosg.</td>\n",
       "      <td>Vilnius</td>\n",
       "      <td>12.0</td>\n",
       "      <td>No</td>\n",
       "      <td>Kitas</td>\n",
       "    </tr>\n",
       "  </tbody>\n",
       "</table>\n",
       "</div>"
      ],
      "text/plain": [
       "  neighbourhood                  street municipality  houses overlap str_type\n",
       "0    Antakalnis                 Ajerųg.      Vilnius    28.0      No    Kitas\n",
       "1    Antakalnis  AlgirdoJuliausGreimog.      Vilnius    17.0      No    Kitas\n",
       "2    Antakalnis              Anapiliog.      Vilnius    48.0      No    Kitas\n",
       "3    Antakalnis            Antakalniog.      Vilnius   147.0      No    Kitas\n",
       "4    Antakalnis          AntanoŠkėmosg.      Vilnius    12.0      No    Kitas"
      ]
     },
     "execution_count": 54,
     "metadata": {},
     "output_type": "execute_result"
    }
   ],
   "source": [
    "hier['street'] = hier['street'].str.split(' ')\n",
    "hier['street'] = hier['street'].str.join('')\n",
    "hier.head()"
   ]
  },
  {
   "cell_type": "code",
   "execution_count": 56,
   "metadata": {},
   "outputs": [
    {
     "data": {
      "text/plain": [
       "array(['A.Goštautog.', 'A.Jakštog.', 'A.Juozapavičiausg.', ...,\n",
       "       'VokėsSodų8-ojig.', 'Zyliųg.', 'Žalvarniųg.'], dtype=object)"
      ]
     },
     "execution_count": 56,
     "metadata": {},
     "output_type": "execute_result"
    }
   ],
   "source": [
    "merged = flat.merge(hier, how='outer', left_on = 'street', right_on = 'street', \n",
    "                    left_index=False, right_index = False)\n",
    "merged.street.unique()"
   ]
  },
  {
   "cell_type": "code",
   "execution_count": null,
   "metadata": {},
   "outputs": [],
   "source": []
  },
  {
   "cell_type": "markdown",
   "metadata": {},
   "source": [
    "## Quality Check"
   ]
  },
  {
   "cell_type": "code",
   "execution_count": 57,
   "metadata": {},
   "outputs": [
    {
     "data": {
      "text/plain": [
       "id                   1760\n",
       "street                  0\n",
       "purpose              1761\n",
       "area                 1760\n",
       "area_useful          1760\n",
       "year                 1888\n",
       "year_renov          10016\n",
       "renov_status         1760\n",
       "efficiency           8648\n",
       "no_flats             1864\n",
       "not_living_flats     1760\n",
       "land                 1760\n",
       "house                1760\n",
       "neighbourhood         543\n",
       "municipality          543\n",
       "houses                698\n",
       "overlap               543\n",
       "str_type              543\n",
       "dtype: int64"
      ]
     },
     "execution_count": 57,
     "metadata": {},
     "output_type": "execute_result"
    }
   ],
   "source": [
    "merged.isnull().sum()"
   ]
  },
  {
   "cell_type": "markdown",
   "metadata": {},
   "source": [
    "## Save the File"
   ]
  },
  {
   "cell_type": "code",
   "execution_count": 58,
   "metadata": {},
   "outputs": [],
   "source": [
    "df.to_csv(flat, '⁨clean_vilnius_flats.csv', sep=';', encoding='utf-8', index=False)"
   ]
  },
  {
   "cell_type": "code",
   "execution_count": null,
   "metadata": {},
   "outputs": [],
   "source": []
  }
 ],
 "metadata": {
  "kernelspec": {
   "display_name": "Python 3",
   "language": "python",
   "name": "python3"
  },
  "language_info": {
   "codemirror_mode": {
    "name": "ipython",
    "version": 3
   },
   "file_extension": ".py",
   "mimetype": "text/x-python",
   "name": "python",
   "nbconvert_exporter": "python",
   "pygments_lexer": "ipython3",
   "version": "3.7.1"
  }
 },
 "nbformat": 4,
 "nbformat_minor": 2
}
